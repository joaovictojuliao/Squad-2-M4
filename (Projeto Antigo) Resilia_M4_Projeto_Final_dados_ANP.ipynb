{
  "cells": [
    {
      "cell_type": "markdown",
      "metadata": {
        "id": "view-in-github",
        "colab_type": "text"
      },
      "source": [
        "<a href=\"https://colab.research.google.com/github/joaovictojuliao/Squad-2-M4/blob/Dayane/(Projeto%20Antigo)%20Resilia_M4_Projeto_Final_dados_ANP.ipynb\" target=\"_parent\"><img src=\"https://colab.research.google.com/assets/colab-badge.svg\" alt=\"Open In Colab\"/></a>"
      ]
    },
    {
      "cell_type": "markdown",
      "source": [
        "# **Análise Exploratória dos Preços de Combustíveis no Brasil**"
      ],
      "metadata": {
        "id": "MghDbYU4_SdO"
      }
    },
    {
      "cell_type": "markdown",
      "source": [
        "# **1. Introdução**"
      ],
      "metadata": {
        "id": "dAOAPfpp-wol"
      }
    },
    {
      "cell_type": "markdown",
      "source": [
        "- Falar do objetivo e contexto da indústria dos combustíveis\n",
        "\n",
        "Explicando como o preço dos combustíveis é formado\n",
        "https://www.gov.br/anp/pt-br/assuntos/precos-e-defesa-da-concorrencia/precos/composicao-e-estruturas-de-formacao-dos-precos"
      ],
      "metadata": {
        "id": "rkBvWu5MTQol"
      }
    },
    {
      "cell_type": "markdown",
      "metadata": {
        "id": "azT5mrtIB5ar"
      },
      "source": [
        "# **2. Apresentando os dados iniciais**"
      ]
    },
    {
      "cell_type": "markdown",
      "source": [
        "### **2.1 - Importação dos dados** "
      ],
      "metadata": {
        "id": "1Qs3PjHvD2wa"
      }
    },
    {
      "cell_type": "code",
      "execution_count": null,
      "metadata": {
        "colab": {
          "base_uri": "https://localhost:8080/"
        },
        "id": "PEJfHjWto4gD",
        "outputId": "83faeb51-f1b3-48b9-f34f-a00e095e243a"
      },
      "outputs": [
        {
          "output_type": "stream",
          "name": "stdout",
          "text": [
            "Mounted at /content/drive\n"
          ]
        }
      ],
      "source": [
        "from google.colab import drive\n",
        "drive.mount('/content/drive')"
      ]
    },
    {
      "cell_type": "code",
      "execution_count": null,
      "metadata": {
        "id": "HrZ0zi05ANC6"
      },
      "outputs": [],
      "source": [
        "# Importando a biblioteca Pandas e Matplotlib:\n",
        "import pandas as pd\n",
        "import matplotlib.pyplot as plt\n"
      ]
    },
    {
      "cell_type": "code",
      "source": [
        "# Importando dados das regiões, estados e municípios\n",
        "brasil_micro = pd.read_csv(\"/content/drive/MyDrive/Resilia - Módulo 4 - Projeto Final /CSV/Região, Estados e Municípios - 2022 - POR MÊS.csv\")\n",
        "\n",
        "# Importando a planilha do Brasil como um todo:\n",
        "brasil_macro = pd.read_csv(\"/content/drive/MyDrive/Resilia - Módulo 4 - Projeto Final /CSV/Brasil - 2013 até 2022 - POR MÊS.csv\")\n"
      ],
      "metadata": {
        "id": "gI5H3WDu68Ul"
      },
      "execution_count": null,
      "outputs": []
    },
    {
      "cell_type": "code",
      "source": [
        "# Importando dados de regiões, estados e municípios com as informações dos postos de distribuição:\n",
        "\n",
        "# Do mês de julho:\n",
        "\n",
        "brasil_micro_postos_jul = pd.read_csv(\"/content/drive/MyDrive/Resilia - Módulo 4 - Projeto Final /CSV/precos-gasolina-etanol-07.csv\", sep=';')\n",
        "\n",
        "# Do mês de agosto:\n",
        "brasil_micro_postos_ago = pd.read_csv(\"/content/drive/MyDrive/Resilia - Módulo 4 - Projeto Final /CSV/precos-gasolina-etanol-08.csv\", sep=';')\n",
        "\n"
      ],
      "metadata": {
        "id": "iQ_MZbBcHk8y"
      },
      "execution_count": null,
      "outputs": []
    },
    {
      "cell_type": "markdown",
      "source": [],
      "metadata": {
        "id": "JAXjnNCZ-fNb"
      }
    },
    {
      "cell_type": "code",
      "source": [
        "# Criando um novo dataset com a junção das tabelas anteriores:\n",
        "brasil_micro_postos = pd.concat([brasil_micro_postos_jul, brasil_micro_postos_ago])\n"
      ],
      "metadata": {
        "id": "sWw40Tq4S4O8"
      },
      "execution_count": null,
      "outputs": []
    },
    {
      "cell_type": "markdown",
      "source": [
        "### **2.2 -  Conhencendo a estrutura geral dos dados iniciais**"
      ],
      "metadata": {
        "id": "wgkpxs54SSsq"
      }
    },
    {
      "cell_type": "code",
      "source": [
        "# Identificando o formato do dataset original brasil_micro:\n",
        "# O output retorna a quantidade de linhas e colunas, respectivamente:\n",
        "\n",
        "brasil_micro.shape\n"
      ],
      "metadata": {
        "colab": {
          "base_uri": "https://localhost:8080/"
        },
        "id": "4OFv-gT8HF_k",
        "outputId": "67b40de0-5729-48bf-e011-1560f86ea280"
      },
      "execution_count": null,
      "outputs": [
        {
          "output_type": "execute_result",
          "data": {
            "text/plain": [
              "(21991, 18)"
            ]
          },
          "metadata": {},
          "execution_count": 6
        }
      ]
    },
    {
      "cell_type": "code",
      "source": [
        "# Identificando o formato do dataset original brasil_macro:\n",
        "# O output retorna a quantidade de linhas e colunas, respectivamente:\n",
        "brasil_macro.shape"
      ],
      "metadata": {
        "colab": {
          "base_uri": "https://localhost:8080/"
        },
        "id": "QEPJ9xl2Ha7W",
        "outputId": "2d270869-d8dc-4fc0-d25d-f82924244d1e"
      },
      "execution_count": null,
      "outputs": [
        {
          "output_type": "execute_result",
          "data": {
            "text/plain": [
              "(84, 15)"
            ]
          },
          "metadata": {},
          "execution_count": 7
        }
      ]
    },
    {
      "cell_type": "code",
      "source": [
        "# Identificando o formato original do dataset brasil_micro_postos:\n",
        "# O output retorna a quantidade de linhas e colunas, respectivamente:\n",
        "brasil_micro_postos.shape"
      ],
      "metadata": {
        "colab": {
          "base_uri": "https://localhost:8080/"
        },
        "id": "2kIDhVJeRp85",
        "outputId": "5e3d9f3e-87e9-40c1-a829-38bed5ebfdd3"
      },
      "execution_count": null,
      "outputs": [
        {
          "output_type": "execute_result",
          "data": {
            "text/plain": [
              "(127176, 16)"
            ]
          },
          "metadata": {},
          "execution_count": 8
        }
      ]
    },
    {
      "cell_type": "code",
      "source": [
        "# Visualizando o dataset original brasil_micro como um dataframe:\n",
        "# O output retorna as 5 primeiras e 5 últimas linhas do dataframe.\n",
        "\n",
        "brasil_micro"
      ],
      "metadata": {
        "colab": {
          "base_uri": "https://localhost:8080/",
          "height": 713
        },
        "id": "BVhV61hKJ7Rn",
        "outputId": "3d48c430-441b-44e5-93e5-48d2b3406741"
      },
      "execution_count": null,
      "outputs": [
        {
          "output_type": "execute_result",
          "data": {
            "text/plain": [
              "           MÊS           PRODUTO        REGIÃO             ESTADO  \\\n",
              "0      jan.-22  ETANOL HIDRATADO         NORTE               PARA   \n",
              "1      jan.-22  ETANOL HIDRATADO       SUDESTE          SAO PAULO   \n",
              "2      jan.-22  ETANOL HIDRATADO  CENTRO OESTE              GOIAS   \n",
              "3      jan.-22  ETANOL HIDRATADO           SUL  RIO GRANDE DO SUL   \n",
              "4      jan.-22  ETANOL HIDRATADO         NORTE               PARA   \n",
              "...        ...               ...           ...                ...   \n",
              "21986  ago.-22   OLEO DIESEL S10       SUDESTE     RIO DE JANEIRO   \n",
              "21987  ago.-22   OLEO DIESEL S10       SUDESTE          SAO PAULO   \n",
              "21988  ago.-22   OLEO DIESEL S10       SUDESTE          SAO PAULO   \n",
              "21989  ago.-22   OLEO DIESEL S10           SUL     SANTA CATARINA   \n",
              "21990  ago.-22   OLEO DIESEL S10         NORTE               PARA   \n",
              "\n",
              "                   MUNICÍPIO  NÚMERO DE POSTOS PESQUISADOS UNIDADE DE MEDIDA  \\\n",
              "0                 ABAETETUBA                             3              R$/l   \n",
              "1                 ADAMANTINA                            28              R$/l   \n",
              "2      AGUAS LINDAS DE GOIAS                            24              R$/l   \n",
              "3                   ALEGRETE                            10              R$/l   \n",
              "4                   ALENQUER                             4              R$/l   \n",
              "...                      ...                           ...               ...   \n",
              "21986          VOLTA REDONDA                            50              R$/l   \n",
              "21987             VOTORANTIM                            37              R$/l   \n",
              "21988            VOTUPORANGA                            55              R$/l   \n",
              "21989                XANXERE                            16              R$/l   \n",
              "21990               XINGUARA                            37              R$/l   \n",
              "\n",
              "      PREÇO MÉDIO REVENDA DESVIO PADRÃO REVENDA PREÇO MÍNIMO REVENDA  \\\n",
              "0                   5,969                 0,000                5,969   \n",
              "1                   4,537                 0,088                4,390   \n",
              "2                   5,198                 0,116                4,979   \n",
              "3                   6,654                 0,488                5,999   \n",
              "4                   7,120                 0,000                7,120   \n",
              "...                   ...                   ...                  ...   \n",
              "21986                7,43                 0,269                 6,84   \n",
              "21987                7,03                 0,296                 6,55   \n",
              "21988                7,21                 0,279                 6,65   \n",
              "21989                7,09                 0,190                 6,73   \n",
              "21990                7,42                 0,657                 6,61   \n",
              "\n",
              "      PREÇO MÁXIMO REVENDA MARGEM MÉDIA REVENDA COEF DE VARIAÇÃO REVENDA  \\\n",
              "0                    5,969                    -                    0,000   \n",
              "1                    4,790                    -                    0,019   \n",
              "2                    5,299                    -                    0,022   \n",
              "3                    7,299                    -                    0,073   \n",
              "4                    7,120                    -                    0,000   \n",
              "...                    ...                  ...                      ...   \n",
              "21986                 7,99                    -                    0,036   \n",
              "21987                 7,69                    -                    0,042   \n",
              "21988                 7,69                    -                    0,039   \n",
              "21989                 7,41                    -                    0,027   \n",
              "21990                 8,85                    -                    0,088   \n",
              "\n",
              "      PREÇO MÉDIO DISTRIBUIÇÃO DESVIO PADRÃO DISTRIBUIÇÃO  \\\n",
              "0                            -                          -   \n",
              "1                            -                          -   \n",
              "2                            -                          -   \n",
              "3                            -                          -   \n",
              "4                            -                          -   \n",
              "...                        ...                        ...   \n",
              "21986                        -                          -   \n",
              "21987                        -                          -   \n",
              "21988                        -                          -   \n",
              "21989                        -                          -   \n",
              "21990                        -                          -   \n",
              "\n",
              "      PREÇO MÍNIMO DISTRIBUIÇÃO PREÇO MÁXIMO DISTRIBUIÇÃO  \\\n",
              "0                             -                         -   \n",
              "1                             -                         -   \n",
              "2                             -                         -   \n",
              "3                             -                         -   \n",
              "4                             -                         -   \n",
              "...                         ...                       ...   \n",
              "21986                         -                         -   \n",
              "21987                         -                         -   \n",
              "21988                         -                         -   \n",
              "21989                         -                         -   \n",
              "21990                         -                         -   \n",
              "\n",
              "      COEF DE VARIAÇÃO DISTRIBUIÇÃO  \n",
              "0                                 -  \n",
              "1                                 -  \n",
              "2                                 -  \n",
              "3                                 -  \n",
              "4                                 -  \n",
              "...                             ...  \n",
              "21986                             -  \n",
              "21987                             -  \n",
              "21988                             -  \n",
              "21989                             -  \n",
              "21990                             -  \n",
              "\n",
              "[21991 rows x 18 columns]"
            ],
            "text/html": [
              "\n",
              "  <div id=\"df-07854096-845d-4153-9135-26dff8e7cc08\">\n",
              "    <div class=\"colab-df-container\">\n",
              "      <div>\n",
              "<style scoped>\n",
              "    .dataframe tbody tr th:only-of-type {\n",
              "        vertical-align: middle;\n",
              "    }\n",
              "\n",
              "    .dataframe tbody tr th {\n",
              "        vertical-align: top;\n",
              "    }\n",
              "\n",
              "    .dataframe thead th {\n",
              "        text-align: right;\n",
              "    }\n",
              "</style>\n",
              "<table border=\"1\" class=\"dataframe\">\n",
              "  <thead>\n",
              "    <tr style=\"text-align: right;\">\n",
              "      <th></th>\n",
              "      <th>MÊS</th>\n",
              "      <th>PRODUTO</th>\n",
              "      <th>REGIÃO</th>\n",
              "      <th>ESTADO</th>\n",
              "      <th>MUNICÍPIO</th>\n",
              "      <th>NÚMERO DE POSTOS PESQUISADOS</th>\n",
              "      <th>UNIDADE DE MEDIDA</th>\n",
              "      <th>PREÇO MÉDIO REVENDA</th>\n",
              "      <th>DESVIO PADRÃO REVENDA</th>\n",
              "      <th>PREÇO MÍNIMO REVENDA</th>\n",
              "      <th>PREÇO MÁXIMO REVENDA</th>\n",
              "      <th>MARGEM MÉDIA REVENDA</th>\n",
              "      <th>COEF DE VARIAÇÃO REVENDA</th>\n",
              "      <th>PREÇO MÉDIO DISTRIBUIÇÃO</th>\n",
              "      <th>DESVIO PADRÃO DISTRIBUIÇÃO</th>\n",
              "      <th>PREÇO MÍNIMO DISTRIBUIÇÃO</th>\n",
              "      <th>PREÇO MÁXIMO DISTRIBUIÇÃO</th>\n",
              "      <th>COEF DE VARIAÇÃO DISTRIBUIÇÃO</th>\n",
              "    </tr>\n",
              "  </thead>\n",
              "  <tbody>\n",
              "    <tr>\n",
              "      <th>0</th>\n",
              "      <td>jan.-22</td>\n",
              "      <td>ETANOL HIDRATADO</td>\n",
              "      <td>NORTE</td>\n",
              "      <td>PARA</td>\n",
              "      <td>ABAETETUBA</td>\n",
              "      <td>3</td>\n",
              "      <td>R$/l</td>\n",
              "      <td>5,969</td>\n",
              "      <td>0,000</td>\n",
              "      <td>5,969</td>\n",
              "      <td>5,969</td>\n",
              "      <td>-</td>\n",
              "      <td>0,000</td>\n",
              "      <td>-</td>\n",
              "      <td>-</td>\n",
              "      <td>-</td>\n",
              "      <td>-</td>\n",
              "      <td>-</td>\n",
              "    </tr>\n",
              "    <tr>\n",
              "      <th>1</th>\n",
              "      <td>jan.-22</td>\n",
              "      <td>ETANOL HIDRATADO</td>\n",
              "      <td>SUDESTE</td>\n",
              "      <td>SAO PAULO</td>\n",
              "      <td>ADAMANTINA</td>\n",
              "      <td>28</td>\n",
              "      <td>R$/l</td>\n",
              "      <td>4,537</td>\n",
              "      <td>0,088</td>\n",
              "      <td>4,390</td>\n",
              "      <td>4,790</td>\n",
              "      <td>-</td>\n",
              "      <td>0,019</td>\n",
              "      <td>-</td>\n",
              "      <td>-</td>\n",
              "      <td>-</td>\n",
              "      <td>-</td>\n",
              "      <td>-</td>\n",
              "    </tr>\n",
              "    <tr>\n",
              "      <th>2</th>\n",
              "      <td>jan.-22</td>\n",
              "      <td>ETANOL HIDRATADO</td>\n",
              "      <td>CENTRO OESTE</td>\n",
              "      <td>GOIAS</td>\n",
              "      <td>AGUAS LINDAS DE GOIAS</td>\n",
              "      <td>24</td>\n",
              "      <td>R$/l</td>\n",
              "      <td>5,198</td>\n",
              "      <td>0,116</td>\n",
              "      <td>4,979</td>\n",
              "      <td>5,299</td>\n",
              "      <td>-</td>\n",
              "      <td>0,022</td>\n",
              "      <td>-</td>\n",
              "      <td>-</td>\n",
              "      <td>-</td>\n",
              "      <td>-</td>\n",
              "      <td>-</td>\n",
              "    </tr>\n",
              "    <tr>\n",
              "      <th>3</th>\n",
              "      <td>jan.-22</td>\n",
              "      <td>ETANOL HIDRATADO</td>\n",
              "      <td>SUL</td>\n",
              "      <td>RIO GRANDE DO SUL</td>\n",
              "      <td>ALEGRETE</td>\n",
              "      <td>10</td>\n",
              "      <td>R$/l</td>\n",
              "      <td>6,654</td>\n",
              "      <td>0,488</td>\n",
              "      <td>5,999</td>\n",
              "      <td>7,299</td>\n",
              "      <td>-</td>\n",
              "      <td>0,073</td>\n",
              "      <td>-</td>\n",
              "      <td>-</td>\n",
              "      <td>-</td>\n",
              "      <td>-</td>\n",
              "      <td>-</td>\n",
              "    </tr>\n",
              "    <tr>\n",
              "      <th>4</th>\n",
              "      <td>jan.-22</td>\n",
              "      <td>ETANOL HIDRATADO</td>\n",
              "      <td>NORTE</td>\n",
              "      <td>PARA</td>\n",
              "      <td>ALENQUER</td>\n",
              "      <td>4</td>\n",
              "      <td>R$/l</td>\n",
              "      <td>7,120</td>\n",
              "      <td>0,000</td>\n",
              "      <td>7,120</td>\n",
              "      <td>7,120</td>\n",
              "      <td>-</td>\n",
              "      <td>0,000</td>\n",
              "      <td>-</td>\n",
              "      <td>-</td>\n",
              "      <td>-</td>\n",
              "      <td>-</td>\n",
              "      <td>-</td>\n",
              "    </tr>\n",
              "    <tr>\n",
              "      <th>...</th>\n",
              "      <td>...</td>\n",
              "      <td>...</td>\n",
              "      <td>...</td>\n",
              "      <td>...</td>\n",
              "      <td>...</td>\n",
              "      <td>...</td>\n",
              "      <td>...</td>\n",
              "      <td>...</td>\n",
              "      <td>...</td>\n",
              "      <td>...</td>\n",
              "      <td>...</td>\n",
              "      <td>...</td>\n",
              "      <td>...</td>\n",
              "      <td>...</td>\n",
              "      <td>...</td>\n",
              "      <td>...</td>\n",
              "      <td>...</td>\n",
              "      <td>...</td>\n",
              "    </tr>\n",
              "    <tr>\n",
              "      <th>21986</th>\n",
              "      <td>ago.-22</td>\n",
              "      <td>OLEO DIESEL S10</td>\n",
              "      <td>SUDESTE</td>\n",
              "      <td>RIO DE JANEIRO</td>\n",
              "      <td>VOLTA REDONDA</td>\n",
              "      <td>50</td>\n",
              "      <td>R$/l</td>\n",
              "      <td>7,43</td>\n",
              "      <td>0,269</td>\n",
              "      <td>6,84</td>\n",
              "      <td>7,99</td>\n",
              "      <td>-</td>\n",
              "      <td>0,036</td>\n",
              "      <td>-</td>\n",
              "      <td>-</td>\n",
              "      <td>-</td>\n",
              "      <td>-</td>\n",
              "      <td>-</td>\n",
              "    </tr>\n",
              "    <tr>\n",
              "      <th>21987</th>\n",
              "      <td>ago.-22</td>\n",
              "      <td>OLEO DIESEL S10</td>\n",
              "      <td>SUDESTE</td>\n",
              "      <td>SAO PAULO</td>\n",
              "      <td>VOTORANTIM</td>\n",
              "      <td>37</td>\n",
              "      <td>R$/l</td>\n",
              "      <td>7,03</td>\n",
              "      <td>0,296</td>\n",
              "      <td>6,55</td>\n",
              "      <td>7,69</td>\n",
              "      <td>-</td>\n",
              "      <td>0,042</td>\n",
              "      <td>-</td>\n",
              "      <td>-</td>\n",
              "      <td>-</td>\n",
              "      <td>-</td>\n",
              "      <td>-</td>\n",
              "    </tr>\n",
              "    <tr>\n",
              "      <th>21988</th>\n",
              "      <td>ago.-22</td>\n",
              "      <td>OLEO DIESEL S10</td>\n",
              "      <td>SUDESTE</td>\n",
              "      <td>SAO PAULO</td>\n",
              "      <td>VOTUPORANGA</td>\n",
              "      <td>55</td>\n",
              "      <td>R$/l</td>\n",
              "      <td>7,21</td>\n",
              "      <td>0,279</td>\n",
              "      <td>6,65</td>\n",
              "      <td>7,69</td>\n",
              "      <td>-</td>\n",
              "      <td>0,039</td>\n",
              "      <td>-</td>\n",
              "      <td>-</td>\n",
              "      <td>-</td>\n",
              "      <td>-</td>\n",
              "      <td>-</td>\n",
              "    </tr>\n",
              "    <tr>\n",
              "      <th>21989</th>\n",
              "      <td>ago.-22</td>\n",
              "      <td>OLEO DIESEL S10</td>\n",
              "      <td>SUL</td>\n",
              "      <td>SANTA CATARINA</td>\n",
              "      <td>XANXERE</td>\n",
              "      <td>16</td>\n",
              "      <td>R$/l</td>\n",
              "      <td>7,09</td>\n",
              "      <td>0,190</td>\n",
              "      <td>6,73</td>\n",
              "      <td>7,41</td>\n",
              "      <td>-</td>\n",
              "      <td>0,027</td>\n",
              "      <td>-</td>\n",
              "      <td>-</td>\n",
              "      <td>-</td>\n",
              "      <td>-</td>\n",
              "      <td>-</td>\n",
              "    </tr>\n",
              "    <tr>\n",
              "      <th>21990</th>\n",
              "      <td>ago.-22</td>\n",
              "      <td>OLEO DIESEL S10</td>\n",
              "      <td>NORTE</td>\n",
              "      <td>PARA</td>\n",
              "      <td>XINGUARA</td>\n",
              "      <td>37</td>\n",
              "      <td>R$/l</td>\n",
              "      <td>7,42</td>\n",
              "      <td>0,657</td>\n",
              "      <td>6,61</td>\n",
              "      <td>8,85</td>\n",
              "      <td>-</td>\n",
              "      <td>0,088</td>\n",
              "      <td>-</td>\n",
              "      <td>-</td>\n",
              "      <td>-</td>\n",
              "      <td>-</td>\n",
              "      <td>-</td>\n",
              "    </tr>\n",
              "  </tbody>\n",
              "</table>\n",
              "<p>21991 rows × 18 columns</p>\n",
              "</div>\n",
              "      <button class=\"colab-df-convert\" onclick=\"convertToInteractive('df-07854096-845d-4153-9135-26dff8e7cc08')\"\n",
              "              title=\"Convert this dataframe to an interactive table.\"\n",
              "              style=\"display:none;\">\n",
              "        \n",
              "  <svg xmlns=\"http://www.w3.org/2000/svg\" height=\"24px\"viewBox=\"0 0 24 24\"\n",
              "       width=\"24px\">\n",
              "    <path d=\"M0 0h24v24H0V0z\" fill=\"none\"/>\n",
              "    <path d=\"M18.56 5.44l.94 2.06.94-2.06 2.06-.94-2.06-.94-.94-2.06-.94 2.06-2.06.94zm-11 1L8.5 8.5l.94-2.06 2.06-.94-2.06-.94L8.5 2.5l-.94 2.06-2.06.94zm10 10l.94 2.06.94-2.06 2.06-.94-2.06-.94-.94-2.06-.94 2.06-2.06.94z\"/><path d=\"M17.41 7.96l-1.37-1.37c-.4-.4-.92-.59-1.43-.59-.52 0-1.04.2-1.43.59L10.3 9.45l-7.72 7.72c-.78.78-.78 2.05 0 2.83L4 21.41c.39.39.9.59 1.41.59.51 0 1.02-.2 1.41-.59l7.78-7.78 2.81-2.81c.8-.78.8-2.07 0-2.86zM5.41 20L4 18.59l7.72-7.72 1.47 1.35L5.41 20z\"/>\n",
              "  </svg>\n",
              "      </button>\n",
              "      \n",
              "  <style>\n",
              "    .colab-df-container {\n",
              "      display:flex;\n",
              "      flex-wrap:wrap;\n",
              "      gap: 12px;\n",
              "    }\n",
              "\n",
              "    .colab-df-convert {\n",
              "      background-color: #E8F0FE;\n",
              "      border: none;\n",
              "      border-radius: 50%;\n",
              "      cursor: pointer;\n",
              "      display: none;\n",
              "      fill: #1967D2;\n",
              "      height: 32px;\n",
              "      padding: 0 0 0 0;\n",
              "      width: 32px;\n",
              "    }\n",
              "\n",
              "    .colab-df-convert:hover {\n",
              "      background-color: #E2EBFA;\n",
              "      box-shadow: 0px 1px 2px rgba(60, 64, 67, 0.3), 0px 1px 3px 1px rgba(60, 64, 67, 0.15);\n",
              "      fill: #174EA6;\n",
              "    }\n",
              "\n",
              "    [theme=dark] .colab-df-convert {\n",
              "      background-color: #3B4455;\n",
              "      fill: #D2E3FC;\n",
              "    }\n",
              "\n",
              "    [theme=dark] .colab-df-convert:hover {\n",
              "      background-color: #434B5C;\n",
              "      box-shadow: 0px 1px 3px 1px rgba(0, 0, 0, 0.15);\n",
              "      filter: drop-shadow(0px 1px 2px rgba(0, 0, 0, 0.3));\n",
              "      fill: #FFFFFF;\n",
              "    }\n",
              "  </style>\n",
              "\n",
              "      <script>\n",
              "        const buttonEl =\n",
              "          document.querySelector('#df-07854096-845d-4153-9135-26dff8e7cc08 button.colab-df-convert');\n",
              "        buttonEl.style.display =\n",
              "          google.colab.kernel.accessAllowed ? 'block' : 'none';\n",
              "\n",
              "        async function convertToInteractive(key) {\n",
              "          const element = document.querySelector('#df-07854096-845d-4153-9135-26dff8e7cc08');\n",
              "          const dataTable =\n",
              "            await google.colab.kernel.invokeFunction('convertToInteractive',\n",
              "                                                     [key], {});\n",
              "          if (!dataTable) return;\n",
              "\n",
              "          const docLinkHtml = 'Like what you see? Visit the ' +\n",
              "            '<a target=\"_blank\" href=https://colab.research.google.com/notebooks/data_table.ipynb>data table notebook</a>'\n",
              "            + ' to learn more about interactive tables.';\n",
              "          element.innerHTML = '';\n",
              "          dataTable['output_type'] = 'display_data';\n",
              "          await google.colab.output.renderOutput(dataTable, element);\n",
              "          const docLink = document.createElement('div');\n",
              "          docLink.innerHTML = docLinkHtml;\n",
              "          element.appendChild(docLink);\n",
              "        }\n",
              "      </script>\n",
              "    </div>\n",
              "  </div>\n",
              "  "
            ]
          },
          "metadata": {},
          "execution_count": 9
        }
      ]
    },
    {
      "cell_type": "code",
      "source": [
        "# Visualizando o dataset original brasil_micro como um dataframe:\n",
        "# O output retorna as 5 primeiras e 5 últimas linhas do dataframe.\n",
        "\n",
        "brasil_macro"
      ],
      "metadata": {
        "colab": {
          "base_uri": "https://localhost:8080/",
          "height": 627
        },
        "outputId": "f2598eba-a280-49a8-a723-c8d055988a41",
        "id": "eY0XG91sKNU7"
      },
      "execution_count": null,
      "outputs": [
        {
          "output_type": "execute_result",
          "data": {
            "text/plain": [
              "        MÊS             PRODUTO  NÚMERO DE POSTOS PESQUISADOS  \\\n",
              "0   set.-21    ETANOL HIDRATADO                         17403   \n",
              "1   set.-21  GASOLINA ADITIVADA                         14482   \n",
              "2   set.-21      GASOLINA COMUM                         19641   \n",
              "3   set.-21                 GLP                         14906   \n",
              "4   set.-21                 GNV                          1319   \n",
              "..      ...                 ...                           ...   \n",
              "79  ago.-22      GASOLINA COMUM                         26424   \n",
              "80  ago.-22                 GLP                         19487   \n",
              "81  ago.-22                 GNV                          1889   \n",
              "82  ago.-22         OLEO DIESEL                         11965   \n",
              "83  ago.-22     OLEO DIESEL S10                         22090   \n",
              "\n",
              "   UNIDADE DE MEDIDA PREÇO MÉDIO REVENDA DESVIO PADRÃO REVENDA  \\\n",
              "0               R$/l               4,698                 0,502   \n",
              "1               R$/l               6,216                 0,349   \n",
              "2               R$/l               6,078                 0,349   \n",
              "3            R$/13kg              97,736                 8,523   \n",
              "4              R$/m³               4,136                 0,431   \n",
              "..               ...                 ...                   ...   \n",
              "79              R$/l                5,39                 0,356   \n",
              "80           R$/13kg              111,62                10,381   \n",
              "81             R$/m³                5,05                 0,595   \n",
              "82              R$/l                7,10                 0,379   \n",
              "83              R$/l                7,19                 0,376   \n",
              "\n",
              "   PREÇO MÍNIMO REVENDA PREÇO MÁXIMO REVENDA MARGEM MÉDIA REVENDA  \\\n",
              "0                 3,799                7,199                    -   \n",
              "1                 5,099                7,987                    -   \n",
              "2                 5,049                7,236                    -   \n",
              "3                70,000              135,000                    -   \n",
              "4                 2,849                5,799                    -   \n",
              "..                  ...                  ...                  ...   \n",
              "79                 4,13                 8,75                    -   \n",
              "80                81,99               160,00                    -   \n",
              "81                 3,18                 6,89                    -   \n",
              "82                 6,24                 8,99                    -   \n",
              "83                 5,46                 9,00                    -   \n",
              "\n",
              "   COEF DE VARIAÇÃO REVENDA PREÇO MÉDIO DISTRIBUIÇÃO  \\\n",
              "0                     0,107                        -   \n",
              "1                     0,056                        -   \n",
              "2                     0,057                        -   \n",
              "3                     0,087                        -   \n",
              "4                     0,104                        -   \n",
              "..                      ...                      ...   \n",
              "79                    0,066                        -   \n",
              "80                    0,093                        -   \n",
              "81                    0,118                        -   \n",
              "82                    0,053                        -   \n",
              "83                    0,052                        -   \n",
              "\n",
              "   DESVIO PADRÃO DISTRIBUIÇÃO PREÇO MÍNIMO DISTRIBUIÇÃO  \\\n",
              "0                           -                         -   \n",
              "1                           -                         -   \n",
              "2                           -                         -   \n",
              "3                           -                         -   \n",
              "4                           -                         -   \n",
              "..                        ...                       ...   \n",
              "79                          -                         -   \n",
              "80                          -                         -   \n",
              "81                          -                         -   \n",
              "82                          -                         -   \n",
              "83                          -                         -   \n",
              "\n",
              "   PREÇO MÁXIMO DISTRIBUIÇÃO COEF DE VARIAÇÃO DISTRIBUIÇÃO  \n",
              "0                          -                             -  \n",
              "1                          -                             -  \n",
              "2                          -                             -  \n",
              "3                          -                             -  \n",
              "4                          -                             -  \n",
              "..                       ...                           ...  \n",
              "79                         -                             -  \n",
              "80                         -                             -  \n",
              "81                         -                             -  \n",
              "82                         -                             -  \n",
              "83                         -                             -  \n",
              "\n",
              "[84 rows x 15 columns]"
            ],
            "text/html": [
              "\n",
              "  <div id=\"df-9def17d0-031e-4a26-be0a-27fc071bd7f1\">\n",
              "    <div class=\"colab-df-container\">\n",
              "      <div>\n",
              "<style scoped>\n",
              "    .dataframe tbody tr th:only-of-type {\n",
              "        vertical-align: middle;\n",
              "    }\n",
              "\n",
              "    .dataframe tbody tr th {\n",
              "        vertical-align: top;\n",
              "    }\n",
              "\n",
              "    .dataframe thead th {\n",
              "        text-align: right;\n",
              "    }\n",
              "</style>\n",
              "<table border=\"1\" class=\"dataframe\">\n",
              "  <thead>\n",
              "    <tr style=\"text-align: right;\">\n",
              "      <th></th>\n",
              "      <th>MÊS</th>\n",
              "      <th>PRODUTO</th>\n",
              "      <th>NÚMERO DE POSTOS PESQUISADOS</th>\n",
              "      <th>UNIDADE DE MEDIDA</th>\n",
              "      <th>PREÇO MÉDIO REVENDA</th>\n",
              "      <th>DESVIO PADRÃO REVENDA</th>\n",
              "      <th>PREÇO MÍNIMO REVENDA</th>\n",
              "      <th>PREÇO MÁXIMO REVENDA</th>\n",
              "      <th>MARGEM MÉDIA REVENDA</th>\n",
              "      <th>COEF DE VARIAÇÃO REVENDA</th>\n",
              "      <th>PREÇO MÉDIO DISTRIBUIÇÃO</th>\n",
              "      <th>DESVIO PADRÃO DISTRIBUIÇÃO</th>\n",
              "      <th>PREÇO MÍNIMO DISTRIBUIÇÃO</th>\n",
              "      <th>PREÇO MÁXIMO DISTRIBUIÇÃO</th>\n",
              "      <th>COEF DE VARIAÇÃO DISTRIBUIÇÃO</th>\n",
              "    </tr>\n",
              "  </thead>\n",
              "  <tbody>\n",
              "    <tr>\n",
              "      <th>0</th>\n",
              "      <td>set.-21</td>\n",
              "      <td>ETANOL HIDRATADO</td>\n",
              "      <td>17403</td>\n",
              "      <td>R$/l</td>\n",
              "      <td>4,698</td>\n",
              "      <td>0,502</td>\n",
              "      <td>3,799</td>\n",
              "      <td>7,199</td>\n",
              "      <td>-</td>\n",
              "      <td>0,107</td>\n",
              "      <td>-</td>\n",
              "      <td>-</td>\n",
              "      <td>-</td>\n",
              "      <td>-</td>\n",
              "      <td>-</td>\n",
              "    </tr>\n",
              "    <tr>\n",
              "      <th>1</th>\n",
              "      <td>set.-21</td>\n",
              "      <td>GASOLINA ADITIVADA</td>\n",
              "      <td>14482</td>\n",
              "      <td>R$/l</td>\n",
              "      <td>6,216</td>\n",
              "      <td>0,349</td>\n",
              "      <td>5,099</td>\n",
              "      <td>7,987</td>\n",
              "      <td>-</td>\n",
              "      <td>0,056</td>\n",
              "      <td>-</td>\n",
              "      <td>-</td>\n",
              "      <td>-</td>\n",
              "      <td>-</td>\n",
              "      <td>-</td>\n",
              "    </tr>\n",
              "    <tr>\n",
              "      <th>2</th>\n",
              "      <td>set.-21</td>\n",
              "      <td>GASOLINA COMUM</td>\n",
              "      <td>19641</td>\n",
              "      <td>R$/l</td>\n",
              "      <td>6,078</td>\n",
              "      <td>0,349</td>\n",
              "      <td>5,049</td>\n",
              "      <td>7,236</td>\n",
              "      <td>-</td>\n",
              "      <td>0,057</td>\n",
              "      <td>-</td>\n",
              "      <td>-</td>\n",
              "      <td>-</td>\n",
              "      <td>-</td>\n",
              "      <td>-</td>\n",
              "    </tr>\n",
              "    <tr>\n",
              "      <th>3</th>\n",
              "      <td>set.-21</td>\n",
              "      <td>GLP</td>\n",
              "      <td>14906</td>\n",
              "      <td>R$/13kg</td>\n",
              "      <td>97,736</td>\n",
              "      <td>8,523</td>\n",
              "      <td>70,000</td>\n",
              "      <td>135,000</td>\n",
              "      <td>-</td>\n",
              "      <td>0,087</td>\n",
              "      <td>-</td>\n",
              "      <td>-</td>\n",
              "      <td>-</td>\n",
              "      <td>-</td>\n",
              "      <td>-</td>\n",
              "    </tr>\n",
              "    <tr>\n",
              "      <th>4</th>\n",
              "      <td>set.-21</td>\n",
              "      <td>GNV</td>\n",
              "      <td>1319</td>\n",
              "      <td>R$/m³</td>\n",
              "      <td>4,136</td>\n",
              "      <td>0,431</td>\n",
              "      <td>2,849</td>\n",
              "      <td>5,799</td>\n",
              "      <td>-</td>\n",
              "      <td>0,104</td>\n",
              "      <td>-</td>\n",
              "      <td>-</td>\n",
              "      <td>-</td>\n",
              "      <td>-</td>\n",
              "      <td>-</td>\n",
              "    </tr>\n",
              "    <tr>\n",
              "      <th>...</th>\n",
              "      <td>...</td>\n",
              "      <td>...</td>\n",
              "      <td>...</td>\n",
              "      <td>...</td>\n",
              "      <td>...</td>\n",
              "      <td>...</td>\n",
              "      <td>...</td>\n",
              "      <td>...</td>\n",
              "      <td>...</td>\n",
              "      <td>...</td>\n",
              "      <td>...</td>\n",
              "      <td>...</td>\n",
              "      <td>...</td>\n",
              "      <td>...</td>\n",
              "      <td>...</td>\n",
              "    </tr>\n",
              "    <tr>\n",
              "      <th>79</th>\n",
              "      <td>ago.-22</td>\n",
              "      <td>GASOLINA COMUM</td>\n",
              "      <td>26424</td>\n",
              "      <td>R$/l</td>\n",
              "      <td>5,39</td>\n",
              "      <td>0,356</td>\n",
              "      <td>4,13</td>\n",
              "      <td>8,75</td>\n",
              "      <td>-</td>\n",
              "      <td>0,066</td>\n",
              "      <td>-</td>\n",
              "      <td>-</td>\n",
              "      <td>-</td>\n",
              "      <td>-</td>\n",
              "      <td>-</td>\n",
              "    </tr>\n",
              "    <tr>\n",
              "      <th>80</th>\n",
              "      <td>ago.-22</td>\n",
              "      <td>GLP</td>\n",
              "      <td>19487</td>\n",
              "      <td>R$/13kg</td>\n",
              "      <td>111,62</td>\n",
              "      <td>10,381</td>\n",
              "      <td>81,99</td>\n",
              "      <td>160,00</td>\n",
              "      <td>-</td>\n",
              "      <td>0,093</td>\n",
              "      <td>-</td>\n",
              "      <td>-</td>\n",
              "      <td>-</td>\n",
              "      <td>-</td>\n",
              "      <td>-</td>\n",
              "    </tr>\n",
              "    <tr>\n",
              "      <th>81</th>\n",
              "      <td>ago.-22</td>\n",
              "      <td>GNV</td>\n",
              "      <td>1889</td>\n",
              "      <td>R$/m³</td>\n",
              "      <td>5,05</td>\n",
              "      <td>0,595</td>\n",
              "      <td>3,18</td>\n",
              "      <td>6,89</td>\n",
              "      <td>-</td>\n",
              "      <td>0,118</td>\n",
              "      <td>-</td>\n",
              "      <td>-</td>\n",
              "      <td>-</td>\n",
              "      <td>-</td>\n",
              "      <td>-</td>\n",
              "    </tr>\n",
              "    <tr>\n",
              "      <th>82</th>\n",
              "      <td>ago.-22</td>\n",
              "      <td>OLEO DIESEL</td>\n",
              "      <td>11965</td>\n",
              "      <td>R$/l</td>\n",
              "      <td>7,10</td>\n",
              "      <td>0,379</td>\n",
              "      <td>6,24</td>\n",
              "      <td>8,99</td>\n",
              "      <td>-</td>\n",
              "      <td>0,053</td>\n",
              "      <td>-</td>\n",
              "      <td>-</td>\n",
              "      <td>-</td>\n",
              "      <td>-</td>\n",
              "      <td>-</td>\n",
              "    </tr>\n",
              "    <tr>\n",
              "      <th>83</th>\n",
              "      <td>ago.-22</td>\n",
              "      <td>OLEO DIESEL S10</td>\n",
              "      <td>22090</td>\n",
              "      <td>R$/l</td>\n",
              "      <td>7,19</td>\n",
              "      <td>0,376</td>\n",
              "      <td>5,46</td>\n",
              "      <td>9,00</td>\n",
              "      <td>-</td>\n",
              "      <td>0,052</td>\n",
              "      <td>-</td>\n",
              "      <td>-</td>\n",
              "      <td>-</td>\n",
              "      <td>-</td>\n",
              "      <td>-</td>\n",
              "    </tr>\n",
              "  </tbody>\n",
              "</table>\n",
              "<p>84 rows × 15 columns</p>\n",
              "</div>\n",
              "      <button class=\"colab-df-convert\" onclick=\"convertToInteractive('df-9def17d0-031e-4a26-be0a-27fc071bd7f1')\"\n",
              "              title=\"Convert this dataframe to an interactive table.\"\n",
              "              style=\"display:none;\">\n",
              "        \n",
              "  <svg xmlns=\"http://www.w3.org/2000/svg\" height=\"24px\"viewBox=\"0 0 24 24\"\n",
              "       width=\"24px\">\n",
              "    <path d=\"M0 0h24v24H0V0z\" fill=\"none\"/>\n",
              "    <path d=\"M18.56 5.44l.94 2.06.94-2.06 2.06-.94-2.06-.94-.94-2.06-.94 2.06-2.06.94zm-11 1L8.5 8.5l.94-2.06 2.06-.94-2.06-.94L8.5 2.5l-.94 2.06-2.06.94zm10 10l.94 2.06.94-2.06 2.06-.94-2.06-.94-.94-2.06-.94 2.06-2.06.94z\"/><path d=\"M17.41 7.96l-1.37-1.37c-.4-.4-.92-.59-1.43-.59-.52 0-1.04.2-1.43.59L10.3 9.45l-7.72 7.72c-.78.78-.78 2.05 0 2.83L4 21.41c.39.39.9.59 1.41.59.51 0 1.02-.2 1.41-.59l7.78-7.78 2.81-2.81c.8-.78.8-2.07 0-2.86zM5.41 20L4 18.59l7.72-7.72 1.47 1.35L5.41 20z\"/>\n",
              "  </svg>\n",
              "      </button>\n",
              "      \n",
              "  <style>\n",
              "    .colab-df-container {\n",
              "      display:flex;\n",
              "      flex-wrap:wrap;\n",
              "      gap: 12px;\n",
              "    }\n",
              "\n",
              "    .colab-df-convert {\n",
              "      background-color: #E8F0FE;\n",
              "      border: none;\n",
              "      border-radius: 50%;\n",
              "      cursor: pointer;\n",
              "      display: none;\n",
              "      fill: #1967D2;\n",
              "      height: 32px;\n",
              "      padding: 0 0 0 0;\n",
              "      width: 32px;\n",
              "    }\n",
              "\n",
              "    .colab-df-convert:hover {\n",
              "      background-color: #E2EBFA;\n",
              "      box-shadow: 0px 1px 2px rgba(60, 64, 67, 0.3), 0px 1px 3px 1px rgba(60, 64, 67, 0.15);\n",
              "      fill: #174EA6;\n",
              "    }\n",
              "\n",
              "    [theme=dark] .colab-df-convert {\n",
              "      background-color: #3B4455;\n",
              "      fill: #D2E3FC;\n",
              "    }\n",
              "\n",
              "    [theme=dark] .colab-df-convert:hover {\n",
              "      background-color: #434B5C;\n",
              "      box-shadow: 0px 1px 3px 1px rgba(0, 0, 0, 0.15);\n",
              "      filter: drop-shadow(0px 1px 2px rgba(0, 0, 0, 0.3));\n",
              "      fill: #FFFFFF;\n",
              "    }\n",
              "  </style>\n",
              "\n",
              "      <script>\n",
              "        const buttonEl =\n",
              "          document.querySelector('#df-9def17d0-031e-4a26-be0a-27fc071bd7f1 button.colab-df-convert');\n",
              "        buttonEl.style.display =\n",
              "          google.colab.kernel.accessAllowed ? 'block' : 'none';\n",
              "\n",
              "        async function convertToInteractive(key) {\n",
              "          const element = document.querySelector('#df-9def17d0-031e-4a26-be0a-27fc071bd7f1');\n",
              "          const dataTable =\n",
              "            await google.colab.kernel.invokeFunction('convertToInteractive',\n",
              "                                                     [key], {});\n",
              "          if (!dataTable) return;\n",
              "\n",
              "          const docLinkHtml = 'Like what you see? Visit the ' +\n",
              "            '<a target=\"_blank\" href=https://colab.research.google.com/notebooks/data_table.ipynb>data table notebook</a>'\n",
              "            + ' to learn more about interactive tables.';\n",
              "          element.innerHTML = '';\n",
              "          dataTable['output_type'] = 'display_data';\n",
              "          await google.colab.output.renderOutput(dataTable, element);\n",
              "          const docLink = document.createElement('div');\n",
              "          docLink.innerHTML = docLinkHtml;\n",
              "          element.appendChild(docLink);\n",
              "        }\n",
              "      </script>\n",
              "    </div>\n",
              "  </div>\n",
              "  "
            ]
          },
          "metadata": {},
          "execution_count": 10
        }
      ]
    },
    {
      "cell_type": "code",
      "source": [
        "# Visualizando o dataset original brasil_micro_postos:\n",
        "\n",
        "brasil_micro_postos"
      ],
      "metadata": {
        "colab": {
          "base_uri": "https://localhost:8080/",
          "height": 1000
        },
        "id": "VOEFlGaRR0Iv",
        "outputId": "a5375d55-fd78-4b50-c044-bbea48fe5476"
      },
      "execution_count": null,
      "outputs": [
        {
          "output_type": "execute_result",
          "data": {
            "text/plain": [
              "      Regiao - Sigla Estado - Sigla Municipio  \\\n",
              "0                 SE             ES  COLATINA   \n",
              "1                 SE             ES  COLATINA   \n",
              "2                 SE             ES  COLATINA   \n",
              "3                 SE             ES  COLATINA   \n",
              "4                 CO             GO   GOIANIA   \n",
              "...              ...            ...       ...   \n",
              "69539             CO             DF  BRASILIA   \n",
              "69540             CO             DF  BRASILIA   \n",
              "69541             CO             DF  BRASILIA   \n",
              "69542             SE             MG   JANAUBA   \n",
              "69543             SE             MG   JANAUBA   \n",
              "\n",
              "                                                 Revenda      CNPJ da Revenda  \\\n",
              "0      SAO FRANCISCO DE ASSIS COMERCIO DE COMBUSTIVEI...   08.519.545/0001-10   \n",
              "1      SAO FRANCISCO DE ASSIS COMERCIO DE COMBUSTIVEI...   08.519.545/0001-10   \n",
              "2                                     POSTO MOTOCAP LTDA   04.814.652/0001-10   \n",
              "3                                     POSTO MOTOCAP LTDA   04.814.652/0001-10   \n",
              "4                           JUSTINIANO & JUSTINIANO LTDA   04.489.287/0001-16   \n",
              "...                                                  ...                  ...   \n",
              "69539  POSTO TOP TAGUATINGA COMERCIO DE COMBUSTIVEIS ...   37.189.518/0001-25   \n",
              "69540  POSTO TOP TAGUATINGA COMERCIO DE COMBUSTIVEIS ...   37.189.518/0001-25   \n",
              "69541  POSTO TOP TAGUATINGA COMERCIO DE COMBUSTIVEIS ...   37.189.518/0001-25   \n",
              "69542         AUTO POSTO COMBUSTIVEIS VERAS SANTANA LTDA   33.063.482/0001-88   \n",
              "69543         AUTO POSTO COMBUSTIVEIS VERAS SANTANA LTDA   33.063.482/0001-88   \n",
              "\n",
              "                        Nome da Rua Numero Rua           Complemento  \\\n",
              "0             PRACA FIDELIS FERRARI         35                   NaN   \n",
              "1             PRACA FIDELIS FERRARI         35                   NaN   \n",
              "2           PRACA ALMIRANTE BARROSO         52               LETRA A   \n",
              "3           PRACA ALMIRANTE BARROSO         52               LETRA A   \n",
              "4      AVENIDA JOSE LEANDRO DA CRUZ       2,36    QUADRA 18, LOTE 01   \n",
              "...                             ...        ...                   ...   \n",
              "69539      QUADRA QI 23 LOTES 40/41         42  POSTO DE GASOLINA 01   \n",
              "69540      QUADRA QI 23 LOTES 40/41         42  POSTO DE GASOLINA 01   \n",
              "69541      QUADRA QI 23 LOTES 40/41         42  POSTO DE GASOLINA 01   \n",
              "69542            AVENIDA DA SAUDADE        656                   NaN   \n",
              "69543            AVENIDA DA SAUDADE        656                   NaN   \n",
              "\n",
              "                              Bairro        Cep             Produto  \\\n",
              "0                               LACE  29703-030  GASOLINA ADITIVADA   \n",
              "1                               LACE  29703-030            GASOLINA   \n",
              "2                               LACE  29703-055              ETANOL   \n",
              "3                               LACE  29703-055            GASOLINA   \n",
              "4                    PARQUE AMAZONIA  74840-390  GASOLINA ADITIVADA   \n",
              "...                              ...        ...                 ...   \n",
              "69539  SETOR INDUSTRIAL (TAGUATINGA)  72135-230              ETANOL   \n",
              "69540  SETOR INDUSTRIAL (TAGUATINGA)  72135-230            GASOLINA   \n",
              "69541  SETOR INDUSTRIAL (TAGUATINGA)  72135-230  GASOLINA ADITIVADA   \n",
              "69542                  SANTO ANTONIO  39447-190            GASOLINA   \n",
              "69543                  SANTO ANTONIO  39447-190              ETANOL   \n",
              "\n",
              "      Data da Coleta Valor de Venda  Valor de Compra Unidade de Medida  \\\n",
              "0         01/07/2022           7,48              NaN        R$ / litro   \n",
              "1         01/07/2022           7,38              NaN        R$ / litro   \n",
              "2         01/07/2022           5,99              NaN        R$ / litro   \n",
              "3         01/07/2022           7,39              NaN        R$ / litro   \n",
              "4         01/07/2022           6,49              NaN        R$ / litro   \n",
              "...              ...            ...              ...               ...   \n",
              "69539     31/08/2022           3,99              NaN        R$ / litro   \n",
              "69540     31/08/2022           5,19              NaN        R$ / litro   \n",
              "69541     31/08/2022           5,19              NaN        R$ / litro   \n",
              "69542     31/08/2022           5,27              NaN        R$ / litro   \n",
              "69543     31/08/2022           3,67              NaN        R$ / litro   \n",
              "\n",
              "            Bandeira  \n",
              "0      VIBRA ENERGIA  \n",
              "1      VIBRA ENERGIA  \n",
              "2      VIBRA ENERGIA  \n",
              "3      VIBRA ENERGIA  \n",
              "4           IPIRANGA  \n",
              "...              ...  \n",
              "69539       IPIRANGA  \n",
              "69540       IPIRANGA  \n",
              "69541       IPIRANGA  \n",
              "69542         BRANCA  \n",
              "69543         BRANCA  \n",
              "\n",
              "[127176 rows x 16 columns]"
            ],
            "text/html": [
              "\n",
              "  <div id=\"df-5912e0dc-7e79-4bd1-9c5d-3658123e95f7\">\n",
              "    <div class=\"colab-df-container\">\n",
              "      <div>\n",
              "<style scoped>\n",
              "    .dataframe tbody tr th:only-of-type {\n",
              "        vertical-align: middle;\n",
              "    }\n",
              "\n",
              "    .dataframe tbody tr th {\n",
              "        vertical-align: top;\n",
              "    }\n",
              "\n",
              "    .dataframe thead th {\n",
              "        text-align: right;\n",
              "    }\n",
              "</style>\n",
              "<table border=\"1\" class=\"dataframe\">\n",
              "  <thead>\n",
              "    <tr style=\"text-align: right;\">\n",
              "      <th></th>\n",
              "      <th>Regiao - Sigla</th>\n",
              "      <th>Estado - Sigla</th>\n",
              "      <th>Municipio</th>\n",
              "      <th>Revenda</th>\n",
              "      <th>CNPJ da Revenda</th>\n",
              "      <th>Nome da Rua</th>\n",
              "      <th>Numero Rua</th>\n",
              "      <th>Complemento</th>\n",
              "      <th>Bairro</th>\n",
              "      <th>Cep</th>\n",
              "      <th>Produto</th>\n",
              "      <th>Data da Coleta</th>\n",
              "      <th>Valor de Venda</th>\n",
              "      <th>Valor de Compra</th>\n",
              "      <th>Unidade de Medida</th>\n",
              "      <th>Bandeira</th>\n",
              "    </tr>\n",
              "  </thead>\n",
              "  <tbody>\n",
              "    <tr>\n",
              "      <th>0</th>\n",
              "      <td>SE</td>\n",
              "      <td>ES</td>\n",
              "      <td>COLATINA</td>\n",
              "      <td>SAO FRANCISCO DE ASSIS COMERCIO DE COMBUSTIVEI...</td>\n",
              "      <td>08.519.545/0001-10</td>\n",
              "      <td>PRACA FIDELIS FERRARI</td>\n",
              "      <td>35</td>\n",
              "      <td>NaN</td>\n",
              "      <td>LACE</td>\n",
              "      <td>29703-030</td>\n",
              "      <td>GASOLINA ADITIVADA</td>\n",
              "      <td>01/07/2022</td>\n",
              "      <td>7,48</td>\n",
              "      <td>NaN</td>\n",
              "      <td>R$ / litro</td>\n",
              "      <td>VIBRA ENERGIA</td>\n",
              "    </tr>\n",
              "    <tr>\n",
              "      <th>1</th>\n",
              "      <td>SE</td>\n",
              "      <td>ES</td>\n",
              "      <td>COLATINA</td>\n",
              "      <td>SAO FRANCISCO DE ASSIS COMERCIO DE COMBUSTIVEI...</td>\n",
              "      <td>08.519.545/0001-10</td>\n",
              "      <td>PRACA FIDELIS FERRARI</td>\n",
              "      <td>35</td>\n",
              "      <td>NaN</td>\n",
              "      <td>LACE</td>\n",
              "      <td>29703-030</td>\n",
              "      <td>GASOLINA</td>\n",
              "      <td>01/07/2022</td>\n",
              "      <td>7,38</td>\n",
              "      <td>NaN</td>\n",
              "      <td>R$ / litro</td>\n",
              "      <td>VIBRA ENERGIA</td>\n",
              "    </tr>\n",
              "    <tr>\n",
              "      <th>2</th>\n",
              "      <td>SE</td>\n",
              "      <td>ES</td>\n",
              "      <td>COLATINA</td>\n",
              "      <td>POSTO MOTOCAP LTDA</td>\n",
              "      <td>04.814.652/0001-10</td>\n",
              "      <td>PRACA ALMIRANTE BARROSO</td>\n",
              "      <td>52</td>\n",
              "      <td>LETRA A</td>\n",
              "      <td>LACE</td>\n",
              "      <td>29703-055</td>\n",
              "      <td>ETANOL</td>\n",
              "      <td>01/07/2022</td>\n",
              "      <td>5,99</td>\n",
              "      <td>NaN</td>\n",
              "      <td>R$ / litro</td>\n",
              "      <td>VIBRA ENERGIA</td>\n",
              "    </tr>\n",
              "    <tr>\n",
              "      <th>3</th>\n",
              "      <td>SE</td>\n",
              "      <td>ES</td>\n",
              "      <td>COLATINA</td>\n",
              "      <td>POSTO MOTOCAP LTDA</td>\n",
              "      <td>04.814.652/0001-10</td>\n",
              "      <td>PRACA ALMIRANTE BARROSO</td>\n",
              "      <td>52</td>\n",
              "      <td>LETRA A</td>\n",
              "      <td>LACE</td>\n",
              "      <td>29703-055</td>\n",
              "      <td>GASOLINA</td>\n",
              "      <td>01/07/2022</td>\n",
              "      <td>7,39</td>\n",
              "      <td>NaN</td>\n",
              "      <td>R$ / litro</td>\n",
              "      <td>VIBRA ENERGIA</td>\n",
              "    </tr>\n",
              "    <tr>\n",
              "      <th>4</th>\n",
              "      <td>CO</td>\n",
              "      <td>GO</td>\n",
              "      <td>GOIANIA</td>\n",
              "      <td>JUSTINIANO &amp; JUSTINIANO LTDA</td>\n",
              "      <td>04.489.287/0001-16</td>\n",
              "      <td>AVENIDA JOSE LEANDRO DA CRUZ</td>\n",
              "      <td>2,36</td>\n",
              "      <td>QUADRA 18, LOTE 01</td>\n",
              "      <td>PARQUE AMAZONIA</td>\n",
              "      <td>74840-390</td>\n",
              "      <td>GASOLINA ADITIVADA</td>\n",
              "      <td>01/07/2022</td>\n",
              "      <td>6,49</td>\n",
              "      <td>NaN</td>\n",
              "      <td>R$ / litro</td>\n",
              "      <td>IPIRANGA</td>\n",
              "    </tr>\n",
              "    <tr>\n",
              "      <th>...</th>\n",
              "      <td>...</td>\n",
              "      <td>...</td>\n",
              "      <td>...</td>\n",
              "      <td>...</td>\n",
              "      <td>...</td>\n",
              "      <td>...</td>\n",
              "      <td>...</td>\n",
              "      <td>...</td>\n",
              "      <td>...</td>\n",
              "      <td>...</td>\n",
              "      <td>...</td>\n",
              "      <td>...</td>\n",
              "      <td>...</td>\n",
              "      <td>...</td>\n",
              "      <td>...</td>\n",
              "      <td>...</td>\n",
              "    </tr>\n",
              "    <tr>\n",
              "      <th>69539</th>\n",
              "      <td>CO</td>\n",
              "      <td>DF</td>\n",
              "      <td>BRASILIA</td>\n",
              "      <td>POSTO TOP TAGUATINGA COMERCIO DE COMBUSTIVEIS ...</td>\n",
              "      <td>37.189.518/0001-25</td>\n",
              "      <td>QUADRA QI 23 LOTES 40/41</td>\n",
              "      <td>42</td>\n",
              "      <td>POSTO DE GASOLINA 01</td>\n",
              "      <td>SETOR INDUSTRIAL (TAGUATINGA)</td>\n",
              "      <td>72135-230</td>\n",
              "      <td>ETANOL</td>\n",
              "      <td>31/08/2022</td>\n",
              "      <td>3,99</td>\n",
              "      <td>NaN</td>\n",
              "      <td>R$ / litro</td>\n",
              "      <td>IPIRANGA</td>\n",
              "    </tr>\n",
              "    <tr>\n",
              "      <th>69540</th>\n",
              "      <td>CO</td>\n",
              "      <td>DF</td>\n",
              "      <td>BRASILIA</td>\n",
              "      <td>POSTO TOP TAGUATINGA COMERCIO DE COMBUSTIVEIS ...</td>\n",
              "      <td>37.189.518/0001-25</td>\n",
              "      <td>QUADRA QI 23 LOTES 40/41</td>\n",
              "      <td>42</td>\n",
              "      <td>POSTO DE GASOLINA 01</td>\n",
              "      <td>SETOR INDUSTRIAL (TAGUATINGA)</td>\n",
              "      <td>72135-230</td>\n",
              "      <td>GASOLINA</td>\n",
              "      <td>31/08/2022</td>\n",
              "      <td>5,19</td>\n",
              "      <td>NaN</td>\n",
              "      <td>R$ / litro</td>\n",
              "      <td>IPIRANGA</td>\n",
              "    </tr>\n",
              "    <tr>\n",
              "      <th>69541</th>\n",
              "      <td>CO</td>\n",
              "      <td>DF</td>\n",
              "      <td>BRASILIA</td>\n",
              "      <td>POSTO TOP TAGUATINGA COMERCIO DE COMBUSTIVEIS ...</td>\n",
              "      <td>37.189.518/0001-25</td>\n",
              "      <td>QUADRA QI 23 LOTES 40/41</td>\n",
              "      <td>42</td>\n",
              "      <td>POSTO DE GASOLINA 01</td>\n",
              "      <td>SETOR INDUSTRIAL (TAGUATINGA)</td>\n",
              "      <td>72135-230</td>\n",
              "      <td>GASOLINA ADITIVADA</td>\n",
              "      <td>31/08/2022</td>\n",
              "      <td>5,19</td>\n",
              "      <td>NaN</td>\n",
              "      <td>R$ / litro</td>\n",
              "      <td>IPIRANGA</td>\n",
              "    </tr>\n",
              "    <tr>\n",
              "      <th>69542</th>\n",
              "      <td>SE</td>\n",
              "      <td>MG</td>\n",
              "      <td>JANAUBA</td>\n",
              "      <td>AUTO POSTO COMBUSTIVEIS VERAS SANTANA LTDA</td>\n",
              "      <td>33.063.482/0001-88</td>\n",
              "      <td>AVENIDA DA SAUDADE</td>\n",
              "      <td>656</td>\n",
              "      <td>NaN</td>\n",
              "      <td>SANTO ANTONIO</td>\n",
              "      <td>39447-190</td>\n",
              "      <td>GASOLINA</td>\n",
              "      <td>31/08/2022</td>\n",
              "      <td>5,27</td>\n",
              "      <td>NaN</td>\n",
              "      <td>R$ / litro</td>\n",
              "      <td>BRANCA</td>\n",
              "    </tr>\n",
              "    <tr>\n",
              "      <th>69543</th>\n",
              "      <td>SE</td>\n",
              "      <td>MG</td>\n",
              "      <td>JANAUBA</td>\n",
              "      <td>AUTO POSTO COMBUSTIVEIS VERAS SANTANA LTDA</td>\n",
              "      <td>33.063.482/0001-88</td>\n",
              "      <td>AVENIDA DA SAUDADE</td>\n",
              "      <td>656</td>\n",
              "      <td>NaN</td>\n",
              "      <td>SANTO ANTONIO</td>\n",
              "      <td>39447-190</td>\n",
              "      <td>ETANOL</td>\n",
              "      <td>31/08/2022</td>\n",
              "      <td>3,67</td>\n",
              "      <td>NaN</td>\n",
              "      <td>R$ / litro</td>\n",
              "      <td>BRANCA</td>\n",
              "    </tr>\n",
              "  </tbody>\n",
              "</table>\n",
              "<p>127176 rows × 16 columns</p>\n",
              "</div>\n",
              "      <button class=\"colab-df-convert\" onclick=\"convertToInteractive('df-5912e0dc-7e79-4bd1-9c5d-3658123e95f7')\"\n",
              "              title=\"Convert this dataframe to an interactive table.\"\n",
              "              style=\"display:none;\">\n",
              "        \n",
              "  <svg xmlns=\"http://www.w3.org/2000/svg\" height=\"24px\"viewBox=\"0 0 24 24\"\n",
              "       width=\"24px\">\n",
              "    <path d=\"M0 0h24v24H0V0z\" fill=\"none\"/>\n",
              "    <path d=\"M18.56 5.44l.94 2.06.94-2.06 2.06-.94-2.06-.94-.94-2.06-.94 2.06-2.06.94zm-11 1L8.5 8.5l.94-2.06 2.06-.94-2.06-.94L8.5 2.5l-.94 2.06-2.06.94zm10 10l.94 2.06.94-2.06 2.06-.94-2.06-.94-.94-2.06-.94 2.06-2.06.94z\"/><path d=\"M17.41 7.96l-1.37-1.37c-.4-.4-.92-.59-1.43-.59-.52 0-1.04.2-1.43.59L10.3 9.45l-7.72 7.72c-.78.78-.78 2.05 0 2.83L4 21.41c.39.39.9.59 1.41.59.51 0 1.02-.2 1.41-.59l7.78-7.78 2.81-2.81c.8-.78.8-2.07 0-2.86zM5.41 20L4 18.59l7.72-7.72 1.47 1.35L5.41 20z\"/>\n",
              "  </svg>\n",
              "      </button>\n",
              "      \n",
              "  <style>\n",
              "    .colab-df-container {\n",
              "      display:flex;\n",
              "      flex-wrap:wrap;\n",
              "      gap: 12px;\n",
              "    }\n",
              "\n",
              "    .colab-df-convert {\n",
              "      background-color: #E8F0FE;\n",
              "      border: none;\n",
              "      border-radius: 50%;\n",
              "      cursor: pointer;\n",
              "      display: none;\n",
              "      fill: #1967D2;\n",
              "      height: 32px;\n",
              "      padding: 0 0 0 0;\n",
              "      width: 32px;\n",
              "    }\n",
              "\n",
              "    .colab-df-convert:hover {\n",
              "      background-color: #E2EBFA;\n",
              "      box-shadow: 0px 1px 2px rgba(60, 64, 67, 0.3), 0px 1px 3px 1px rgba(60, 64, 67, 0.15);\n",
              "      fill: #174EA6;\n",
              "    }\n",
              "\n",
              "    [theme=dark] .colab-df-convert {\n",
              "      background-color: #3B4455;\n",
              "      fill: #D2E3FC;\n",
              "    }\n",
              "\n",
              "    [theme=dark] .colab-df-convert:hover {\n",
              "      background-color: #434B5C;\n",
              "      box-shadow: 0px 1px 3px 1px rgba(0, 0, 0, 0.15);\n",
              "      filter: drop-shadow(0px 1px 2px rgba(0, 0, 0, 0.3));\n",
              "      fill: #FFFFFF;\n",
              "    }\n",
              "  </style>\n",
              "\n",
              "      <script>\n",
              "        const buttonEl =\n",
              "          document.querySelector('#df-5912e0dc-7e79-4bd1-9c5d-3658123e95f7 button.colab-df-convert');\n",
              "        buttonEl.style.display =\n",
              "          google.colab.kernel.accessAllowed ? 'block' : 'none';\n",
              "\n",
              "        async function convertToInteractive(key) {\n",
              "          const element = document.querySelector('#df-5912e0dc-7e79-4bd1-9c5d-3658123e95f7');\n",
              "          const dataTable =\n",
              "            await google.colab.kernel.invokeFunction('convertToInteractive',\n",
              "                                                     [key], {});\n",
              "          if (!dataTable) return;\n",
              "\n",
              "          const docLinkHtml = 'Like what you see? Visit the ' +\n",
              "            '<a target=\"_blank\" href=https://colab.research.google.com/notebooks/data_table.ipynb>data table notebook</a>'\n",
              "            + ' to learn more about interactive tables.';\n",
              "          element.innerHTML = '';\n",
              "          dataTable['output_type'] = 'display_data';\n",
              "          await google.colab.output.renderOutput(dataTable, element);\n",
              "          const docLink = document.createElement('div');\n",
              "          docLink.innerHTML = docLinkHtml;\n",
              "          element.appendChild(docLink);\n",
              "        }\n",
              "      </script>\n",
              "    </div>\n",
              "  </div>\n",
              "  "
            ]
          },
          "metadata": {},
          "execution_count": 11
        }
      ]
    },
    {
      "cell_type": "code",
      "source": [
        "# Conferindo os tipos de dados do dataset brasil_micro:\n",
        "display(brasil_micro.dtypes)\n"
      ],
      "metadata": {
        "colab": {
          "base_uri": "https://localhost:8080/",
          "height": 347
        },
        "id": "iwQ2YY2aIS43",
        "outputId": "9355880f-bebf-43d0-ea52-0d978db14e4d"
      },
      "execution_count": null,
      "outputs": [
        {
          "output_type": "display_data",
          "data": {
            "text/plain": [
              "MÊS                              object\n",
              "PRODUTO                          object\n",
              "REGIÃO                           object\n",
              "ESTADO                           object\n",
              "MUNICÍPIO                        object\n",
              "NÚMERO DE POSTOS PESQUISADOS      int64\n",
              "UNIDADE DE MEDIDA                object\n",
              "PREÇO MÉDIO REVENDA              object\n",
              "DESVIO PADRÃO REVENDA            object\n",
              "PREÇO MÍNIMO REVENDA             object\n",
              "PREÇO MÁXIMO REVENDA             object\n",
              "MARGEM MÉDIA REVENDA             object\n",
              "COEF DE VARIAÇÃO REVENDA         object\n",
              "PREÇO MÉDIO DISTRIBUIÇÃO         object\n",
              "DESVIO PADRÃO DISTRIBUIÇÃO       object\n",
              "PREÇO MÍNIMO DISTRIBUIÇÃO        object\n",
              "PREÇO MÁXIMO DISTRIBUIÇÃO        object\n",
              "COEF DE VARIAÇÃO DISTRIBUIÇÃO    object\n",
              "dtype: object"
            ]
          },
          "metadata": {}
        }
      ]
    },
    {
      "cell_type": "code",
      "source": [
        "# Conferindo os tipos de dados do dataset brasil_macro:\n",
        "display(brasil_macro.dtypes)"
      ],
      "metadata": {
        "colab": {
          "base_uri": "https://localhost:8080/",
          "height": 295
        },
        "id": "fPGk8rlUSGNN",
        "outputId": "dd932250-a50c-4b49-d390-e9a8a0d5904b"
      },
      "execution_count": null,
      "outputs": [
        {
          "output_type": "display_data",
          "data": {
            "text/plain": [
              "MÊS                              object\n",
              "PRODUTO                          object\n",
              "NÚMERO DE POSTOS PESQUISADOS      int64\n",
              "UNIDADE DE MEDIDA                object\n",
              "PREÇO MÉDIO REVENDA              object\n",
              "DESVIO PADRÃO REVENDA            object\n",
              "PREÇO MÍNIMO REVENDA             object\n",
              "PREÇO MÁXIMO REVENDA             object\n",
              "MARGEM MÉDIA REVENDA             object\n",
              "COEF DE VARIAÇÃO REVENDA         object\n",
              "PREÇO MÉDIO DISTRIBUIÇÃO         object\n",
              "DESVIO PADRÃO DISTRIBUIÇÃO       object\n",
              "PREÇO MÍNIMO DISTRIBUIÇÃO        object\n",
              "PREÇO MÁXIMO DISTRIBUIÇÃO        object\n",
              "COEF DE VARIAÇÃO DISTRIBUIÇÃO    object\n",
              "dtype: object"
            ]
          },
          "metadata": {}
        }
      ]
    },
    {
      "cell_type": "code",
      "source": [
        "# Conferindo os tipos de dados do dataset brasil_micro_postos:\n",
        "\n",
        "display(brasil_micro_postos.dtypes)"
      ],
      "metadata": {
        "colab": {
          "base_uri": "https://localhost:8080/",
          "height": 312
        },
        "id": "rEOvha8iR-nl",
        "outputId": "42731109-31c7-4b6b-f7bc-39778594c7a4"
      },
      "execution_count": null,
      "outputs": [
        {
          "output_type": "display_data",
          "data": {
            "text/plain": [
              "Regiao - Sigla        object\n",
              "Estado - Sigla        object\n",
              "Municipio             object\n",
              "Revenda               object\n",
              "CNPJ da Revenda       object\n",
              "Nome da Rua           object\n",
              "Numero Rua            object\n",
              "Complemento           object\n",
              "Bairro                object\n",
              "Cep                   object\n",
              "Produto               object\n",
              "Data da Coleta        object\n",
              "Valor de Venda        object\n",
              "Valor de Compra      float64\n",
              "Unidade de Medida     object\n",
              "Bandeira              object\n",
              "dtype: object"
            ]
          },
          "metadata": {}
        }
      ]
    },
    {
      "cell_type": "markdown",
      "source": [
        "### **2.2 Conclusões:**\n",
        "\n",
        "\n",
        "\n",
        "* O maior dataset é o **'brasil_micro'** com um total de **21.991 linhas**, o que já era esperado, uma vez que abrange dados de 459 municípios nacionais. \n",
        "\n",
        "* O dataset **'brasil_macro'**, apresenta **713 linhas**, tal quantidade se explica devido ao período considerado: de 2013 a 2022.\n",
        "\n",
        "* Ambos os datasets apresentam **15 colunas** em comum. Porém no 'brasil_micro' encontraremos 3 colunas adicionais: `REGIÕES`,`ESTADOS` e `MUNICÍPIOS`, totalizando assim **18 colunas**.\n",
        "\n",
        "* Apenas a coluna `NÚMERO DE POSTOS PESQUISADOS` está em formato numérico (int), as demais estão como tipo 'objeto'. Isso indica que precisaremos fazer conversões para que seja possível fazer cálculos com os dados.\n",
        "\n",
        "* No dataset 'brasil_micro, nota-se que há colunas com dados nulos referentes aos preços de distribuição dos combustíves (de `PREÇO MÉDIO DISTRIBUIÇÃO ` a `COEF DE VARIAÇÃO DISTRIBUIÇÃO`, que serão removidas na etada de tratamento dos dados.\n",
        "\n",
        "* A coluna `MARGEM MÉDIA REVENDA` também encontra-se vazia para o período de julho e agosto de 2022 em ambos os datasets, e portanto, deverá ser removida.\n",
        "\n",
        "* Por outro lado, no dataset 'brasil_macro' as colunas com preços de distribução dos combustíveis estão completas, porém, como o foco dessa análise é nos preços de revenda para consumidores finais, tais colunas também serão removidas.\n",
        "\n",
        "* Nota-se também que há disponíveis informações de combustíveis que não fazem parte do escopo dessa análise, como '**GLP, 'GNV', 'OLEO DIESEL' e 'OLEO DIESEL S10**'. Dessa forma, também será necessário remover esses dados desnecessários.\n",
        "\n",
        "* A coluna `UNIDADE DE MEDIDA` dos combustíveis também será removida uma vez que já sabemso que os preços da gasolina e etanol são sempre dados como R$/litro.\n",
        "\n",
        "* Com relação ao período dos dados:\n",
        "\n",
        "\n",
        "\n",
        "1.  Para o dataset brasil_micro será filtrado apenas o período compreendido entre os meses de julho e agosto de 2022;\n",
        "2.  Para o dataset brasil_macro será filtrado dois períodos diferentes: a) todo o ano de 2022 disponível e b) os meses de julho e agosto de 2022.\n",
        "\n",
        "\n",
        "\n",
        "\n",
        "\n",
        "\n"
      ],
      "metadata": {
        "id": "duvH4EqMKXP9"
      }
    },
    {
      "cell_type": "markdown",
      "source": [
        "# **3. Tratamento dos dados**"
      ],
      "metadata": {
        "id": "vQOlSM2DG3V0"
      }
    },
    {
      "cell_type": "code",
      "source": [
        "# Convertendo para tipo float e alterando o separador decimal para ponto:\n",
        "\n",
        "# Dataframe brasil_micro: \n",
        "brasil_micro['PREÇO MÉDIO REVENDA'] = brasil_micro['PREÇO MÉDIO REVENDA'].str.replace(',','.').astype(float)\n",
        "brasil_micro['DESVIO PADRÃO REVENDA'] = brasil_micro['DESVIO PADRÃO REVENDA'].str.replace(',','.').astype(float)\n",
        "brasil_micro['PREÇO MÍNIMO REVENDA'] = brasil_micro['PREÇO MÍNIMO REVENDA'].str.replace(',','.').astype(float)\n",
        "brasil_micro['PREÇO MÁXIMO REVENDA'] = brasil_micro['PREÇO MÁXIMO REVENDA'].str.replace(',','.').astype(float)\n",
        "brasil_micro['COEF DE VARIAÇÃO REVENDA'] = brasil_micro['COEF DE VARIAÇÃO REVENDA'].str.replace(',','.').astype(float)\n",
        "\n",
        "\n",
        "\n",
        "# Dataframe brasil_macro: \n",
        "brasil_macro['PREÇO MÉDIO REVENDA'] = brasil_macro['PREÇO MÉDIO REVENDA'].str.replace(',','.').astype(float)\n",
        "brasil_macro['DESVIO PADRÃO REVENDA'] = brasil_macro['DESVIO PADRÃO REVENDA'].str.replace(',','.').astype(float)\n",
        "brasil_macro['PREÇO MÍNIMO REVENDA'] = brasil_macro['PREÇO MÍNIMO REVENDA'].str.replace(',','.').astype(float)\n",
        "brasil_macro['PREÇO MÁXIMO REVENDA'] = brasil_macro['PREÇO MÁXIMO REVENDA'].str.replace(',','.').astype(float)\n",
        "brasil_macro['COEF DE VARIAÇÃO REVENDA'] = brasil_macro['COEF DE VARIAÇÃO REVENDA'].str.replace(',','.').astype(float)\n",
        "\n",
        "\n",
        "#Dataframe brasil_micro_postos:\n",
        "brasil_micro_postos['Valor de Venda'] = brasil_micro_postos['Valor de Venda'].str.replace(',','.').astype(float)\n"
      ],
      "metadata": {
        "id": "8geYDUrQ6jRp"
      },
      "execution_count": null,
      "outputs": []
    },
    {
      "cell_type": "code",
      "source": [
        "# Definindo a coluna 'PRODUTO' como novo índex para o dataset brasil_micro:\n",
        "brasil_micro = brasil_micro.set_index('PRODUTO')\n",
        "\n",
        "## Definindo a coluna 'PRODUTO' como novo índex para o dataset brasil_macro:\n",
        "brasil_macro = brasil_macro.set_index('PRODUTO')\n",
        "\n",
        "# Definindo a coluna 'Produto' como novo índex para o dataset brasil_micro_postos:\n",
        "brasil_micro_postos = brasil_micro_postos.set_index('Produto')\n",
        "\n"
      ],
      "metadata": {
        "id": "a9TaBksgB35T"
      },
      "execution_count": null,
      "outputs": []
    },
    {
      "cell_type": "code",
      "execution_count": null,
      "metadata": {
        "id": "Mj-YNR0lmgKF"
      },
      "outputs": [],
      "source": [
        "# Eliminando as linhas com combustíveis desnecessários para a análise:\n",
        "\n",
        "brasil_micro.drop([\"GLP\", \"GNV\", \"OLEO DIESEL\", \"OLEO DIESEL S10\"], inplace=True)\n",
        "\n",
        "\n",
        "brasil_macro.drop([\"GLP\", \"GNV\", \"OLEO DIESEL\", \"OLEO DIESEL S10\"], inplace=True)\n",
        "\n"
      ]
    },
    {
      "cell_type": "code",
      "execution_count": null,
      "metadata": {
        "id": "QGuVu_61s6oI"
      },
      "outputs": [],
      "source": [
        "# Eliminando as colunas desnecessárias para a análise do dataset brasil_micro:\n",
        "brasil_micro.drop([\"UNIDADE DE MEDIDA\", \"MARGEM MÉDIA REVENDA\", \"PREÇO MÉDIO DISTRIBUIÇÃO\", \"DESVIO PADRÃO DISTRIBUIÇÃO\", \"PREÇO MÍNIMO DISTRIBUIÇÃO\", \"PREÇO MÁXIMO DISTRIBUIÇÃO\", \"COEF DE VARIAÇÃO DISTRIBUIÇÃO\"], axis=1, inplace=True)\n",
        "\n",
        "# # Eliminando as colunas desnecessárias para a análise do dataset brasil_macro:\n",
        "brasil_macro.drop([\"UNIDADE DE MEDIDA\", \"MARGEM MÉDIA REVENDA\", \"PREÇO MÉDIO DISTRIBUIÇÃO\", \"DESVIO PADRÃO DISTRIBUIÇÃO\", \"PREÇO MÍNIMO DISTRIBUIÇÃO\", \"PREÇO MÁXIMO DISTRIBUIÇÃO\", \"COEF DE VARIAÇÃO DISTRIBUIÇÃO\"], axis=1, inplace=True)\n",
        "\n",
        "# brasil_micro_postos\n",
        "brasil_micro_postos.drop([\"CNPJ da Revenda\", \"Nome da Rua\", \"Numero Rua\", \"Complemento\", \"Bairro\", \"Cep\", \"Valor de Compra\", \"Unidade de Medida\"], axis=1, inplace=True)"
      ]
    },
    {
      "cell_type": "code",
      "source": [
        "# Para o dataset 'brasil_micro' filtraremos apenas o período que queremos: julho a agosto de 2022\n",
        "\n",
        "#Filtrando julho de 2022\n",
        "brasil_micro_julho = brasil_micro[brasil_micro['MÊS'] == 'jul.-22']\n",
        "\n",
        "#Filtrando agosto de 2022\n",
        "brasil_micro_ago = brasil_micro[brasil_micro['MÊS'] == 'ago.-22']\n",
        "\n",
        "#Fazendo a junção dos dois períodos (julho + agosto) em um único dataframe:\n",
        "brasil_micro = pd.concat([brasil_micro_julho, brasil_micro_ago])\n"
      ],
      "metadata": {
        "id": "hlrSCw3pAmtU"
      },
      "execution_count": null,
      "outputs": []
    },
    {
      "cell_type": "code",
      "execution_count": null,
      "metadata": {
        "id": "5bUVLZuY65dc"
      },
      "outputs": [],
      "source": [
        "# Para o dataset 'brasil_macro' filtraremos:\n",
        "\n",
        "# a) Todo o ano de 2022:\n",
        "\n",
        "brasil_macro_jan = brasil_macro[brasil_macro['MÊS'] == 'jan.-22']\n",
        "brasil_macro_fev = brasil_macro[brasil_macro['MÊS'] == 'fev.-22']\n",
        "brasil_macro_mar = brasil_macro[brasil_macro['MÊS'] == 'mar.-22']\n",
        "brasil_macro_abr = brasil_macro[brasil_macro['MÊS'] == 'abr.-22']\n",
        "brasil_macro_mai = brasil_macro[brasil_macro['MÊS'] == 'mai.-22']\n",
        "brasil_macro_jun = brasil_macro[brasil_macro['MÊS'] == 'jun.-22']\n",
        "brasil_macro_jul = brasil_macro[brasil_macro['MÊS'] == 'jul.-22']\n",
        "brasil_macro_ago = brasil_macro[brasil_macro['MÊS'] == 'ago.-22']\n",
        "\n",
        "brasil_macro_completo = pd.concat([brasil_macro_jan, brasil_macro_fev, brasil_macro_mar, brasil_macro_abr, brasil_macro_mai, brasil_macro_jun, brasil_macro_jul, brasil_macro_ago])\n",
        "\n",
        "\n",
        "\n",
        "# b) Os meses de julho a agosto de 2022:\n",
        "\n",
        "#Fazendo a junção de julho e agosto  em um único dataframe:\n",
        "brasil_macro = pd.concat([brasil_macro_jul, brasil_macro_ago])\n",
        "\n"
      ]
    },
    {
      "cell_type": "markdown",
      "source": [
        "# **4. Apresentando os dados que serão usados na análise:**\n",
        "\n"
      ],
      "metadata": {
        "id": "57s9LRc02Kk2"
      }
    },
    {
      "cell_type": "code",
      "source": [
        "brasil_micro"
      ],
      "metadata": {
        "id": "dj-xFvon2Yd3",
        "colab": {
          "base_uri": "https://localhost:8080/",
          "height": 707
        },
        "outputId": "7cd0e0cf-3f2e-4b17-80f3-cae6086a4f75"
      },
      "execution_count": null,
      "outputs": [
        {
          "output_type": "execute_result",
          "data": {
            "text/plain": [
              "                      MÊS        REGIÃO          ESTADO  \\\n",
              "PRODUTO                                                   \n",
              "ETANOL HIDRATADO  jul.-22         NORTE            PARA   \n",
              "ETANOL HIDRATADO  jul.-22      NORDESTE        MARANHAO   \n",
              "ETANOL HIDRATADO  jul.-22       SUDESTE       SAO PAULO   \n",
              "ETANOL HIDRATADO  jul.-22  CENTRO OESTE           GOIAS   \n",
              "ETANOL HIDRATADO  jul.-22      NORDESTE           BAHIA   \n",
              "...                   ...           ...             ...   \n",
              "GASOLINA COMUM    ago.-22       SUDESTE  RIO DE JANEIRO   \n",
              "GASOLINA COMUM    ago.-22       SUDESTE       SAO PAULO   \n",
              "GASOLINA COMUM    ago.-22       SUDESTE       SAO PAULO   \n",
              "GASOLINA COMUM    ago.-22           SUL  SANTA CATARINA   \n",
              "GASOLINA COMUM    ago.-22         NORTE            PARA   \n",
              "\n",
              "                              MUNICÍPIO  NÚMERO DE POSTOS PESQUISADOS  \\\n",
              "PRODUTO                                                                 \n",
              "ETANOL HIDRATADO             ABAETETUBA                             4   \n",
              "ETANOL HIDRATADO             ACAILANDIA                            17   \n",
              "ETANOL HIDRATADO             ADAMANTINA                            24   \n",
              "ETANOL HIDRATADO  AGUAS LINDAS DE GOIAS                            18   \n",
              "ETANOL HIDRATADO             ALAGOINHAS                            36   \n",
              "...                                 ...                           ...   \n",
              "GASOLINA COMUM            VOLTA REDONDA                            55   \n",
              "GASOLINA COMUM               VOTORANTIM                            49   \n",
              "GASOLINA COMUM              VOTUPORANGA                            54   \n",
              "GASOLINA COMUM                  XANXERE                            16   \n",
              "GASOLINA COMUM                 XINGUARA                            40   \n",
              "\n",
              "                  PREÇO MÉDIO REVENDA  DESVIO PADRÃO REVENDA  \\\n",
              "PRODUTO                                                        \n",
              "ETANOL HIDRATADO                 5.84                  0.266   \n",
              "ETANOL HIDRATADO                 5.87                  0.379   \n",
              "ETANOL HIDRATADO                 3.97                  0.214   \n",
              "ETANOL HIDRATADO                 4.36                  0.235   \n",
              "ETANOL HIDRATADO                 5.38                  0.369   \n",
              "...                               ...                    ...   \n",
              "GASOLINA COMUM                   5.71                  0.148   \n",
              "GASOLINA COMUM                   5.13                  0.276   \n",
              "GASOLINA COMUM                   5.14                  0.273   \n",
              "GASOLINA COMUM                   5.41                  0.152   \n",
              "GASOLINA COMUM                   6.36                  0.141   \n",
              "\n",
              "                  PREÇO MÍNIMO REVENDA  PREÇO MÁXIMO REVENDA  \\\n",
              "PRODUTO                                                        \n",
              "ETANOL HIDRATADO                  5.49                  6.09   \n",
              "ETANOL HIDRATADO                  4.99                  6.30   \n",
              "ETANOL HIDRATADO                  3.71                  4.39   \n",
              "ETANOL HIDRATADO                  3.99                  4.59   \n",
              "ETANOL HIDRATADO                  4.89                  5.99   \n",
              "...                                ...                   ...   \n",
              "GASOLINA COMUM                    5.44                  5.99   \n",
              "GASOLINA COMUM                    4.67                  5.79   \n",
              "GASOLINA COMUM                    4.61                  5.69   \n",
              "GASOLINA COMUM                    5.25                  5.69   \n",
              "GASOLINA COMUM                    6.13                  6.57   \n",
              "\n",
              "                  COEF DE VARIAÇÃO REVENDA  \n",
              "PRODUTO                                     \n",
              "ETANOL HIDRATADO                     0.046  \n",
              "ETANOL HIDRATADO                     0.065  \n",
              "ETANOL HIDRATADO                     0.054  \n",
              "ETANOL HIDRATADO                     0.054  \n",
              "ETANOL HIDRATADO                     0.069  \n",
              "...                                    ...  \n",
              "GASOLINA COMUM                       0.026  \n",
              "GASOLINA COMUM                       0.054  \n",
              "GASOLINA COMUM                       0.053  \n",
              "GASOLINA COMUM                       0.028  \n",
              "GASOLINA COMUM                       0.022  \n",
              "\n",
              "[2737 rows x 10 columns]"
            ],
            "text/html": [
              "\n",
              "  <div id=\"df-381199b0-653f-4830-9fc0-dd56e8c37563\">\n",
              "    <div class=\"colab-df-container\">\n",
              "      <div>\n",
              "<style scoped>\n",
              "    .dataframe tbody tr th:only-of-type {\n",
              "        vertical-align: middle;\n",
              "    }\n",
              "\n",
              "    .dataframe tbody tr th {\n",
              "        vertical-align: top;\n",
              "    }\n",
              "\n",
              "    .dataframe thead th {\n",
              "        text-align: right;\n",
              "    }\n",
              "</style>\n",
              "<table border=\"1\" class=\"dataframe\">\n",
              "  <thead>\n",
              "    <tr style=\"text-align: right;\">\n",
              "      <th></th>\n",
              "      <th>MÊS</th>\n",
              "      <th>REGIÃO</th>\n",
              "      <th>ESTADO</th>\n",
              "      <th>MUNICÍPIO</th>\n",
              "      <th>NÚMERO DE POSTOS PESQUISADOS</th>\n",
              "      <th>PREÇO MÉDIO REVENDA</th>\n",
              "      <th>DESVIO PADRÃO REVENDA</th>\n",
              "      <th>PREÇO MÍNIMO REVENDA</th>\n",
              "      <th>PREÇO MÁXIMO REVENDA</th>\n",
              "      <th>COEF DE VARIAÇÃO REVENDA</th>\n",
              "    </tr>\n",
              "    <tr>\n",
              "      <th>PRODUTO</th>\n",
              "      <th></th>\n",
              "      <th></th>\n",
              "      <th></th>\n",
              "      <th></th>\n",
              "      <th></th>\n",
              "      <th></th>\n",
              "      <th></th>\n",
              "      <th></th>\n",
              "      <th></th>\n",
              "      <th></th>\n",
              "    </tr>\n",
              "  </thead>\n",
              "  <tbody>\n",
              "    <tr>\n",
              "      <th>ETANOL HIDRATADO</th>\n",
              "      <td>jul.-22</td>\n",
              "      <td>NORTE</td>\n",
              "      <td>PARA</td>\n",
              "      <td>ABAETETUBA</td>\n",
              "      <td>4</td>\n",
              "      <td>5.84</td>\n",
              "      <td>0.266</td>\n",
              "      <td>5.49</td>\n",
              "      <td>6.09</td>\n",
              "      <td>0.046</td>\n",
              "    </tr>\n",
              "    <tr>\n",
              "      <th>ETANOL HIDRATADO</th>\n",
              "      <td>jul.-22</td>\n",
              "      <td>NORDESTE</td>\n",
              "      <td>MARANHAO</td>\n",
              "      <td>ACAILANDIA</td>\n",
              "      <td>17</td>\n",
              "      <td>5.87</td>\n",
              "      <td>0.379</td>\n",
              "      <td>4.99</td>\n",
              "      <td>6.30</td>\n",
              "      <td>0.065</td>\n",
              "    </tr>\n",
              "    <tr>\n",
              "      <th>ETANOL HIDRATADO</th>\n",
              "      <td>jul.-22</td>\n",
              "      <td>SUDESTE</td>\n",
              "      <td>SAO PAULO</td>\n",
              "      <td>ADAMANTINA</td>\n",
              "      <td>24</td>\n",
              "      <td>3.97</td>\n",
              "      <td>0.214</td>\n",
              "      <td>3.71</td>\n",
              "      <td>4.39</td>\n",
              "      <td>0.054</td>\n",
              "    </tr>\n",
              "    <tr>\n",
              "      <th>ETANOL HIDRATADO</th>\n",
              "      <td>jul.-22</td>\n",
              "      <td>CENTRO OESTE</td>\n",
              "      <td>GOIAS</td>\n",
              "      <td>AGUAS LINDAS DE GOIAS</td>\n",
              "      <td>18</td>\n",
              "      <td>4.36</td>\n",
              "      <td>0.235</td>\n",
              "      <td>3.99</td>\n",
              "      <td>4.59</td>\n",
              "      <td>0.054</td>\n",
              "    </tr>\n",
              "    <tr>\n",
              "      <th>ETANOL HIDRATADO</th>\n",
              "      <td>jul.-22</td>\n",
              "      <td>NORDESTE</td>\n",
              "      <td>BAHIA</td>\n",
              "      <td>ALAGOINHAS</td>\n",
              "      <td>36</td>\n",
              "      <td>5.38</td>\n",
              "      <td>0.369</td>\n",
              "      <td>4.89</td>\n",
              "      <td>5.99</td>\n",
              "      <td>0.069</td>\n",
              "    </tr>\n",
              "    <tr>\n",
              "      <th>...</th>\n",
              "      <td>...</td>\n",
              "      <td>...</td>\n",
              "      <td>...</td>\n",
              "      <td>...</td>\n",
              "      <td>...</td>\n",
              "      <td>...</td>\n",
              "      <td>...</td>\n",
              "      <td>...</td>\n",
              "      <td>...</td>\n",
              "      <td>...</td>\n",
              "    </tr>\n",
              "    <tr>\n",
              "      <th>GASOLINA COMUM</th>\n",
              "      <td>ago.-22</td>\n",
              "      <td>SUDESTE</td>\n",
              "      <td>RIO DE JANEIRO</td>\n",
              "      <td>VOLTA REDONDA</td>\n",
              "      <td>55</td>\n",
              "      <td>5.71</td>\n",
              "      <td>0.148</td>\n",
              "      <td>5.44</td>\n",
              "      <td>5.99</td>\n",
              "      <td>0.026</td>\n",
              "    </tr>\n",
              "    <tr>\n",
              "      <th>GASOLINA COMUM</th>\n",
              "      <td>ago.-22</td>\n",
              "      <td>SUDESTE</td>\n",
              "      <td>SAO PAULO</td>\n",
              "      <td>VOTORANTIM</td>\n",
              "      <td>49</td>\n",
              "      <td>5.13</td>\n",
              "      <td>0.276</td>\n",
              "      <td>4.67</td>\n",
              "      <td>5.79</td>\n",
              "      <td>0.054</td>\n",
              "    </tr>\n",
              "    <tr>\n",
              "      <th>GASOLINA COMUM</th>\n",
              "      <td>ago.-22</td>\n",
              "      <td>SUDESTE</td>\n",
              "      <td>SAO PAULO</td>\n",
              "      <td>VOTUPORANGA</td>\n",
              "      <td>54</td>\n",
              "      <td>5.14</td>\n",
              "      <td>0.273</td>\n",
              "      <td>4.61</td>\n",
              "      <td>5.69</td>\n",
              "      <td>0.053</td>\n",
              "    </tr>\n",
              "    <tr>\n",
              "      <th>GASOLINA COMUM</th>\n",
              "      <td>ago.-22</td>\n",
              "      <td>SUL</td>\n",
              "      <td>SANTA CATARINA</td>\n",
              "      <td>XANXERE</td>\n",
              "      <td>16</td>\n",
              "      <td>5.41</td>\n",
              "      <td>0.152</td>\n",
              "      <td>5.25</td>\n",
              "      <td>5.69</td>\n",
              "      <td>0.028</td>\n",
              "    </tr>\n",
              "    <tr>\n",
              "      <th>GASOLINA COMUM</th>\n",
              "      <td>ago.-22</td>\n",
              "      <td>NORTE</td>\n",
              "      <td>PARA</td>\n",
              "      <td>XINGUARA</td>\n",
              "      <td>40</td>\n",
              "      <td>6.36</td>\n",
              "      <td>0.141</td>\n",
              "      <td>6.13</td>\n",
              "      <td>6.57</td>\n",
              "      <td>0.022</td>\n",
              "    </tr>\n",
              "  </tbody>\n",
              "</table>\n",
              "<p>2737 rows × 10 columns</p>\n",
              "</div>\n",
              "      <button class=\"colab-df-convert\" onclick=\"convertToInteractive('df-381199b0-653f-4830-9fc0-dd56e8c37563')\"\n",
              "              title=\"Convert this dataframe to an interactive table.\"\n",
              "              style=\"display:none;\">\n",
              "        \n",
              "  <svg xmlns=\"http://www.w3.org/2000/svg\" height=\"24px\"viewBox=\"0 0 24 24\"\n",
              "       width=\"24px\">\n",
              "    <path d=\"M0 0h24v24H0V0z\" fill=\"none\"/>\n",
              "    <path d=\"M18.56 5.44l.94 2.06.94-2.06 2.06-.94-2.06-.94-.94-2.06-.94 2.06-2.06.94zm-11 1L8.5 8.5l.94-2.06 2.06-.94-2.06-.94L8.5 2.5l-.94 2.06-2.06.94zm10 10l.94 2.06.94-2.06 2.06-.94-2.06-.94-.94-2.06-.94 2.06-2.06.94z\"/><path d=\"M17.41 7.96l-1.37-1.37c-.4-.4-.92-.59-1.43-.59-.52 0-1.04.2-1.43.59L10.3 9.45l-7.72 7.72c-.78.78-.78 2.05 0 2.83L4 21.41c.39.39.9.59 1.41.59.51 0 1.02-.2 1.41-.59l7.78-7.78 2.81-2.81c.8-.78.8-2.07 0-2.86zM5.41 20L4 18.59l7.72-7.72 1.47 1.35L5.41 20z\"/>\n",
              "  </svg>\n",
              "      </button>\n",
              "      \n",
              "  <style>\n",
              "    .colab-df-container {\n",
              "      display:flex;\n",
              "      flex-wrap:wrap;\n",
              "      gap: 12px;\n",
              "    }\n",
              "\n",
              "    .colab-df-convert {\n",
              "      background-color: #E8F0FE;\n",
              "      border: none;\n",
              "      border-radius: 50%;\n",
              "      cursor: pointer;\n",
              "      display: none;\n",
              "      fill: #1967D2;\n",
              "      height: 32px;\n",
              "      padding: 0 0 0 0;\n",
              "      width: 32px;\n",
              "    }\n",
              "\n",
              "    .colab-df-convert:hover {\n",
              "      background-color: #E2EBFA;\n",
              "      box-shadow: 0px 1px 2px rgba(60, 64, 67, 0.3), 0px 1px 3px 1px rgba(60, 64, 67, 0.15);\n",
              "      fill: #174EA6;\n",
              "    }\n",
              "\n",
              "    [theme=dark] .colab-df-convert {\n",
              "      background-color: #3B4455;\n",
              "      fill: #D2E3FC;\n",
              "    }\n",
              "\n",
              "    [theme=dark] .colab-df-convert:hover {\n",
              "      background-color: #434B5C;\n",
              "      box-shadow: 0px 1px 3px 1px rgba(0, 0, 0, 0.15);\n",
              "      filter: drop-shadow(0px 1px 2px rgba(0, 0, 0, 0.3));\n",
              "      fill: #FFFFFF;\n",
              "    }\n",
              "  </style>\n",
              "\n",
              "      <script>\n",
              "        const buttonEl =\n",
              "          document.querySelector('#df-381199b0-653f-4830-9fc0-dd56e8c37563 button.colab-df-convert');\n",
              "        buttonEl.style.display =\n",
              "          google.colab.kernel.accessAllowed ? 'block' : 'none';\n",
              "\n",
              "        async function convertToInteractive(key) {\n",
              "          const element = document.querySelector('#df-381199b0-653f-4830-9fc0-dd56e8c37563');\n",
              "          const dataTable =\n",
              "            await google.colab.kernel.invokeFunction('convertToInteractive',\n",
              "                                                     [key], {});\n",
              "          if (!dataTable) return;\n",
              "\n",
              "          const docLinkHtml = 'Like what you see? Visit the ' +\n",
              "            '<a target=\"_blank\" href=https://colab.research.google.com/notebooks/data_table.ipynb>data table notebook</a>'\n",
              "            + ' to learn more about interactive tables.';\n",
              "          element.innerHTML = '';\n",
              "          dataTable['output_type'] = 'display_data';\n",
              "          await google.colab.output.renderOutput(dataTable, element);\n",
              "          const docLink = document.createElement('div');\n",
              "          docLink.innerHTML = docLinkHtml;\n",
              "          element.appendChild(docLink);\n",
              "        }\n",
              "      </script>\n",
              "    </div>\n",
              "  </div>\n",
              "  "
            ]
          },
          "metadata": {},
          "execution_count": 21
        }
      ]
    },
    {
      "cell_type": "code",
      "source": [
        "brasil_micro_postos"
      ],
      "metadata": {
        "colab": {
          "base_uri": "https://localhost:8080/",
          "height": 690
        },
        "id": "jDJ_81bfZUWj",
        "outputId": "ae934c20-b572-4a47-9c26-9cd8f7645903"
      },
      "execution_count": null,
      "outputs": [
        {
          "output_type": "execute_result",
          "data": {
            "text/plain": [
              "                   Regiao - Sigla Estado - Sigla Municipio  \\\n",
              "Produto                                                      \n",
              "GASOLINA ADITIVADA             SE             ES  COLATINA   \n",
              "GASOLINA                       SE             ES  COLATINA   \n",
              "ETANOL                         SE             ES  COLATINA   \n",
              "GASOLINA                       SE             ES  COLATINA   \n",
              "GASOLINA ADITIVADA             CO             GO   GOIANIA   \n",
              "...                           ...            ...       ...   \n",
              "ETANOL                         CO             DF  BRASILIA   \n",
              "GASOLINA                       CO             DF  BRASILIA   \n",
              "GASOLINA ADITIVADA             CO             DF  BRASILIA   \n",
              "GASOLINA                       SE             MG   JANAUBA   \n",
              "ETANOL                         SE             MG   JANAUBA   \n",
              "\n",
              "                                                              Revenda  \\\n",
              "Produto                                                                 \n",
              "GASOLINA ADITIVADA  SAO FRANCISCO DE ASSIS COMERCIO DE COMBUSTIVEI...   \n",
              "GASOLINA            SAO FRANCISCO DE ASSIS COMERCIO DE COMBUSTIVEI...   \n",
              "ETANOL                                             POSTO MOTOCAP LTDA   \n",
              "GASOLINA                                           POSTO MOTOCAP LTDA   \n",
              "GASOLINA ADITIVADA                       JUSTINIANO & JUSTINIANO LTDA   \n",
              "...                                                               ...   \n",
              "ETANOL              POSTO TOP TAGUATINGA COMERCIO DE COMBUSTIVEIS ...   \n",
              "GASOLINA            POSTO TOP TAGUATINGA COMERCIO DE COMBUSTIVEIS ...   \n",
              "GASOLINA ADITIVADA  POSTO TOP TAGUATINGA COMERCIO DE COMBUSTIVEIS ...   \n",
              "GASOLINA                   AUTO POSTO COMBUSTIVEIS VERAS SANTANA LTDA   \n",
              "ETANOL                     AUTO POSTO COMBUSTIVEIS VERAS SANTANA LTDA   \n",
              "\n",
              "                   Data da Coleta  Valor de Venda       Bandeira  \n",
              "Produto                                                           \n",
              "GASOLINA ADITIVADA     01/07/2022            7.48  VIBRA ENERGIA  \n",
              "GASOLINA               01/07/2022            7.38  VIBRA ENERGIA  \n",
              "ETANOL                 01/07/2022            5.99  VIBRA ENERGIA  \n",
              "GASOLINA               01/07/2022            7.39  VIBRA ENERGIA  \n",
              "GASOLINA ADITIVADA     01/07/2022            6.49       IPIRANGA  \n",
              "...                           ...             ...            ...  \n",
              "ETANOL                 31/08/2022            3.99       IPIRANGA  \n",
              "GASOLINA               31/08/2022            5.19       IPIRANGA  \n",
              "GASOLINA ADITIVADA     31/08/2022            5.19       IPIRANGA  \n",
              "GASOLINA               31/08/2022            5.27         BRANCA  \n",
              "ETANOL                 31/08/2022            3.67         BRANCA  \n",
              "\n",
              "[127176 rows x 7 columns]"
            ],
            "text/html": [
              "\n",
              "  <div id=\"df-859a3fe4-0e0e-429c-ad84-5bc39fbe57f0\">\n",
              "    <div class=\"colab-df-container\">\n",
              "      <div>\n",
              "<style scoped>\n",
              "    .dataframe tbody tr th:only-of-type {\n",
              "        vertical-align: middle;\n",
              "    }\n",
              "\n",
              "    .dataframe tbody tr th {\n",
              "        vertical-align: top;\n",
              "    }\n",
              "\n",
              "    .dataframe thead th {\n",
              "        text-align: right;\n",
              "    }\n",
              "</style>\n",
              "<table border=\"1\" class=\"dataframe\">\n",
              "  <thead>\n",
              "    <tr style=\"text-align: right;\">\n",
              "      <th></th>\n",
              "      <th>Regiao - Sigla</th>\n",
              "      <th>Estado - Sigla</th>\n",
              "      <th>Municipio</th>\n",
              "      <th>Revenda</th>\n",
              "      <th>Data da Coleta</th>\n",
              "      <th>Valor de Venda</th>\n",
              "      <th>Bandeira</th>\n",
              "    </tr>\n",
              "    <tr>\n",
              "      <th>Produto</th>\n",
              "      <th></th>\n",
              "      <th></th>\n",
              "      <th></th>\n",
              "      <th></th>\n",
              "      <th></th>\n",
              "      <th></th>\n",
              "      <th></th>\n",
              "    </tr>\n",
              "  </thead>\n",
              "  <tbody>\n",
              "    <tr>\n",
              "      <th>GASOLINA ADITIVADA</th>\n",
              "      <td>SE</td>\n",
              "      <td>ES</td>\n",
              "      <td>COLATINA</td>\n",
              "      <td>SAO FRANCISCO DE ASSIS COMERCIO DE COMBUSTIVEI...</td>\n",
              "      <td>01/07/2022</td>\n",
              "      <td>7.48</td>\n",
              "      <td>VIBRA ENERGIA</td>\n",
              "    </tr>\n",
              "    <tr>\n",
              "      <th>GASOLINA</th>\n",
              "      <td>SE</td>\n",
              "      <td>ES</td>\n",
              "      <td>COLATINA</td>\n",
              "      <td>SAO FRANCISCO DE ASSIS COMERCIO DE COMBUSTIVEI...</td>\n",
              "      <td>01/07/2022</td>\n",
              "      <td>7.38</td>\n",
              "      <td>VIBRA ENERGIA</td>\n",
              "    </tr>\n",
              "    <tr>\n",
              "      <th>ETANOL</th>\n",
              "      <td>SE</td>\n",
              "      <td>ES</td>\n",
              "      <td>COLATINA</td>\n",
              "      <td>POSTO MOTOCAP LTDA</td>\n",
              "      <td>01/07/2022</td>\n",
              "      <td>5.99</td>\n",
              "      <td>VIBRA ENERGIA</td>\n",
              "    </tr>\n",
              "    <tr>\n",
              "      <th>GASOLINA</th>\n",
              "      <td>SE</td>\n",
              "      <td>ES</td>\n",
              "      <td>COLATINA</td>\n",
              "      <td>POSTO MOTOCAP LTDA</td>\n",
              "      <td>01/07/2022</td>\n",
              "      <td>7.39</td>\n",
              "      <td>VIBRA ENERGIA</td>\n",
              "    </tr>\n",
              "    <tr>\n",
              "      <th>GASOLINA ADITIVADA</th>\n",
              "      <td>CO</td>\n",
              "      <td>GO</td>\n",
              "      <td>GOIANIA</td>\n",
              "      <td>JUSTINIANO &amp; JUSTINIANO LTDA</td>\n",
              "      <td>01/07/2022</td>\n",
              "      <td>6.49</td>\n",
              "      <td>IPIRANGA</td>\n",
              "    </tr>\n",
              "    <tr>\n",
              "      <th>...</th>\n",
              "      <td>...</td>\n",
              "      <td>...</td>\n",
              "      <td>...</td>\n",
              "      <td>...</td>\n",
              "      <td>...</td>\n",
              "      <td>...</td>\n",
              "      <td>...</td>\n",
              "    </tr>\n",
              "    <tr>\n",
              "      <th>ETANOL</th>\n",
              "      <td>CO</td>\n",
              "      <td>DF</td>\n",
              "      <td>BRASILIA</td>\n",
              "      <td>POSTO TOP TAGUATINGA COMERCIO DE COMBUSTIVEIS ...</td>\n",
              "      <td>31/08/2022</td>\n",
              "      <td>3.99</td>\n",
              "      <td>IPIRANGA</td>\n",
              "    </tr>\n",
              "    <tr>\n",
              "      <th>GASOLINA</th>\n",
              "      <td>CO</td>\n",
              "      <td>DF</td>\n",
              "      <td>BRASILIA</td>\n",
              "      <td>POSTO TOP TAGUATINGA COMERCIO DE COMBUSTIVEIS ...</td>\n",
              "      <td>31/08/2022</td>\n",
              "      <td>5.19</td>\n",
              "      <td>IPIRANGA</td>\n",
              "    </tr>\n",
              "    <tr>\n",
              "      <th>GASOLINA ADITIVADA</th>\n",
              "      <td>CO</td>\n",
              "      <td>DF</td>\n",
              "      <td>BRASILIA</td>\n",
              "      <td>POSTO TOP TAGUATINGA COMERCIO DE COMBUSTIVEIS ...</td>\n",
              "      <td>31/08/2022</td>\n",
              "      <td>5.19</td>\n",
              "      <td>IPIRANGA</td>\n",
              "    </tr>\n",
              "    <tr>\n",
              "      <th>GASOLINA</th>\n",
              "      <td>SE</td>\n",
              "      <td>MG</td>\n",
              "      <td>JANAUBA</td>\n",
              "      <td>AUTO POSTO COMBUSTIVEIS VERAS SANTANA LTDA</td>\n",
              "      <td>31/08/2022</td>\n",
              "      <td>5.27</td>\n",
              "      <td>BRANCA</td>\n",
              "    </tr>\n",
              "    <tr>\n",
              "      <th>ETANOL</th>\n",
              "      <td>SE</td>\n",
              "      <td>MG</td>\n",
              "      <td>JANAUBA</td>\n",
              "      <td>AUTO POSTO COMBUSTIVEIS VERAS SANTANA LTDA</td>\n",
              "      <td>31/08/2022</td>\n",
              "      <td>3.67</td>\n",
              "      <td>BRANCA</td>\n",
              "    </tr>\n",
              "  </tbody>\n",
              "</table>\n",
              "<p>127176 rows × 7 columns</p>\n",
              "</div>\n",
              "      <button class=\"colab-df-convert\" onclick=\"convertToInteractive('df-859a3fe4-0e0e-429c-ad84-5bc39fbe57f0')\"\n",
              "              title=\"Convert this dataframe to an interactive table.\"\n",
              "              style=\"display:none;\">\n",
              "        \n",
              "  <svg xmlns=\"http://www.w3.org/2000/svg\" height=\"24px\"viewBox=\"0 0 24 24\"\n",
              "       width=\"24px\">\n",
              "    <path d=\"M0 0h24v24H0V0z\" fill=\"none\"/>\n",
              "    <path d=\"M18.56 5.44l.94 2.06.94-2.06 2.06-.94-2.06-.94-.94-2.06-.94 2.06-2.06.94zm-11 1L8.5 8.5l.94-2.06 2.06-.94-2.06-.94L8.5 2.5l-.94 2.06-2.06.94zm10 10l.94 2.06.94-2.06 2.06-.94-2.06-.94-.94-2.06-.94 2.06-2.06.94z\"/><path d=\"M17.41 7.96l-1.37-1.37c-.4-.4-.92-.59-1.43-.59-.52 0-1.04.2-1.43.59L10.3 9.45l-7.72 7.72c-.78.78-.78 2.05 0 2.83L4 21.41c.39.39.9.59 1.41.59.51 0 1.02-.2 1.41-.59l7.78-7.78 2.81-2.81c.8-.78.8-2.07 0-2.86zM5.41 20L4 18.59l7.72-7.72 1.47 1.35L5.41 20z\"/>\n",
              "  </svg>\n",
              "      </button>\n",
              "      \n",
              "  <style>\n",
              "    .colab-df-container {\n",
              "      display:flex;\n",
              "      flex-wrap:wrap;\n",
              "      gap: 12px;\n",
              "    }\n",
              "\n",
              "    .colab-df-convert {\n",
              "      background-color: #E8F0FE;\n",
              "      border: none;\n",
              "      border-radius: 50%;\n",
              "      cursor: pointer;\n",
              "      display: none;\n",
              "      fill: #1967D2;\n",
              "      height: 32px;\n",
              "      padding: 0 0 0 0;\n",
              "      width: 32px;\n",
              "    }\n",
              "\n",
              "    .colab-df-convert:hover {\n",
              "      background-color: #E2EBFA;\n",
              "      box-shadow: 0px 1px 2px rgba(60, 64, 67, 0.3), 0px 1px 3px 1px rgba(60, 64, 67, 0.15);\n",
              "      fill: #174EA6;\n",
              "    }\n",
              "\n",
              "    [theme=dark] .colab-df-convert {\n",
              "      background-color: #3B4455;\n",
              "      fill: #D2E3FC;\n",
              "    }\n",
              "\n",
              "    [theme=dark] .colab-df-convert:hover {\n",
              "      background-color: #434B5C;\n",
              "      box-shadow: 0px 1px 3px 1px rgba(0, 0, 0, 0.15);\n",
              "      filter: drop-shadow(0px 1px 2px rgba(0, 0, 0, 0.3));\n",
              "      fill: #FFFFFF;\n",
              "    }\n",
              "  </style>\n",
              "\n",
              "      <script>\n",
              "        const buttonEl =\n",
              "          document.querySelector('#df-859a3fe4-0e0e-429c-ad84-5bc39fbe57f0 button.colab-df-convert');\n",
              "        buttonEl.style.display =\n",
              "          google.colab.kernel.accessAllowed ? 'block' : 'none';\n",
              "\n",
              "        async function convertToInteractive(key) {\n",
              "          const element = document.querySelector('#df-859a3fe4-0e0e-429c-ad84-5bc39fbe57f0');\n",
              "          const dataTable =\n",
              "            await google.colab.kernel.invokeFunction('convertToInteractive',\n",
              "                                                     [key], {});\n",
              "          if (!dataTable) return;\n",
              "\n",
              "          const docLinkHtml = 'Like what you see? Visit the ' +\n",
              "            '<a target=\"_blank\" href=https://colab.research.google.com/notebooks/data_table.ipynb>data table notebook</a>'\n",
              "            + ' to learn more about interactive tables.';\n",
              "          element.innerHTML = '';\n",
              "          dataTable['output_type'] = 'display_data';\n",
              "          await google.colab.output.renderOutput(dataTable, element);\n",
              "          const docLink = document.createElement('div');\n",
              "          docLink.innerHTML = docLinkHtml;\n",
              "          element.appendChild(docLink);\n",
              "        }\n",
              "      </script>\n",
              "    </div>\n",
              "  </div>\n",
              "  "
            ]
          },
          "metadata": {},
          "execution_count": 22
        }
      ]
    },
    {
      "cell_type": "code",
      "source": [
        "brasil_micro_postos.corr"
      ],
      "metadata": {
        "id": "kxeI7SrVu5m1",
        "colab": {
          "base_uri": "https://localhost:8080/"
        },
        "outputId": "51f4f443-d44e-48fc-ff5c-94245a60b395"
      },
      "execution_count": null,
      "outputs": [
        {
          "output_type": "execute_result",
          "data": {
            "text/plain": [
              "<bound method DataFrame.corr of                    Regiao - Sigla Estado - Sigla Municipio  \\\n",
              "Produto                                                      \n",
              "GASOLINA ADITIVADA             SE             ES  COLATINA   \n",
              "GASOLINA                       SE             ES  COLATINA   \n",
              "ETANOL                         SE             ES  COLATINA   \n",
              "GASOLINA                       SE             ES  COLATINA   \n",
              "GASOLINA ADITIVADA             CO             GO   GOIANIA   \n",
              "...                           ...            ...       ...   \n",
              "ETANOL                         CO             DF  BRASILIA   \n",
              "GASOLINA                       CO             DF  BRASILIA   \n",
              "GASOLINA ADITIVADA             CO             DF  BRASILIA   \n",
              "GASOLINA                       SE             MG   JANAUBA   \n",
              "ETANOL                         SE             MG   JANAUBA   \n",
              "\n",
              "                                                              Revenda  \\\n",
              "Produto                                                                 \n",
              "GASOLINA ADITIVADA  SAO FRANCISCO DE ASSIS COMERCIO DE COMBUSTIVEI...   \n",
              "GASOLINA            SAO FRANCISCO DE ASSIS COMERCIO DE COMBUSTIVEI...   \n",
              "ETANOL                                             POSTO MOTOCAP LTDA   \n",
              "GASOLINA                                           POSTO MOTOCAP LTDA   \n",
              "GASOLINA ADITIVADA                       JUSTINIANO & JUSTINIANO LTDA   \n",
              "...                                                               ...   \n",
              "ETANOL              POSTO TOP TAGUATINGA COMERCIO DE COMBUSTIVEIS ...   \n",
              "GASOLINA            POSTO TOP TAGUATINGA COMERCIO DE COMBUSTIVEIS ...   \n",
              "GASOLINA ADITIVADA  POSTO TOP TAGUATINGA COMERCIO DE COMBUSTIVEIS ...   \n",
              "GASOLINA                   AUTO POSTO COMBUSTIVEIS VERAS SANTANA LTDA   \n",
              "ETANOL                     AUTO POSTO COMBUSTIVEIS VERAS SANTANA LTDA   \n",
              "\n",
              "                   Data da Coleta  Valor de Venda       Bandeira  \n",
              "Produto                                                           \n",
              "GASOLINA ADITIVADA     01/07/2022            7.48  VIBRA ENERGIA  \n",
              "GASOLINA               01/07/2022            7.38  VIBRA ENERGIA  \n",
              "ETANOL                 01/07/2022            5.99  VIBRA ENERGIA  \n",
              "GASOLINA               01/07/2022            7.39  VIBRA ENERGIA  \n",
              "GASOLINA ADITIVADA     01/07/2022            6.49       IPIRANGA  \n",
              "...                           ...             ...            ...  \n",
              "ETANOL                 31/08/2022            3.99       IPIRANGA  \n",
              "GASOLINA               31/08/2022            5.19       IPIRANGA  \n",
              "GASOLINA ADITIVADA     31/08/2022            5.19       IPIRANGA  \n",
              "GASOLINA               31/08/2022            5.27         BRANCA  \n",
              "ETANOL                 31/08/2022            3.67         BRANCA  \n",
              "\n",
              "[127176 rows x 7 columns]>"
            ]
          },
          "metadata": {},
          "execution_count": 23
        }
      ]
    },
    {
      "cell_type": "code",
      "source": [
        "brasil_macro_completo"
      ],
      "metadata": {
        "id": "_EE28Nnj2b98",
        "colab": {
          "base_uri": "https://localhost:8080/",
          "height": 1000
        },
        "outputId": "11a3433b-197a-46c0-bc85-b7b966aaf1c9"
      },
      "execution_count": null,
      "outputs": [
        {
          "output_type": "execute_result",
          "data": {
            "text/plain": [
              "                        MÊS  NÚMERO DE POSTOS PESQUISADOS  \\\n",
              "PRODUTO                                                     \n",
              "ETANOL HIDRATADO    jan.-22                         17662   \n",
              "GASOLINA ADITIVADA  jan.-22                         14967   \n",
              "GASOLINA COMUM      jan.-22                         19920   \n",
              "ETANOL HIDRATADO    fev.-22                         17522   \n",
              "GASOLINA ADITIVADA  fev.-22                         15151   \n",
              "GASOLINA COMUM      fev.-22                         20006   \n",
              "ETANOL HIDRATADO    mar.-22                         20371   \n",
              "GASOLINA ADITIVADA  mar.-22                         17316   \n",
              "GASOLINA COMUM      mar.-22                         23030   \n",
              "ETANOL HIDRATADO    abr.-22                         18369   \n",
              "GASOLINA ADITIVADA  abr.-22                         15728   \n",
              "GASOLINA COMUM      abr.-22                         20863   \n",
              "ETANOL HIDRATADO    mai.-22                         21399   \n",
              "GASOLINA ADITIVADA  mai.-22                         18289   \n",
              "GASOLINA COMUM      mai.-22                         24261   \n",
              "ETANOL HIDRATADO    jun.-22                         21499   \n",
              "GASOLINA ADITIVADA  jun.-22                         18336   \n",
              "GASOLINA COMUM      jun.-22                         24407   \n",
              "ETANOL HIDRATADO    jul.-22                         19372   \n",
              "GASOLINA ADITIVADA  jul.-22                         16343   \n",
              "GASOLINA COMUM      jul.-22                         21917   \n",
              "ETANOL HIDRATADO    ago.-22                         23455   \n",
              "GASOLINA ADITIVADA  ago.-22                         19665   \n",
              "GASOLINA COMUM      ago.-22                         26424   \n",
              "\n",
              "                    PREÇO MÉDIO REVENDA  DESVIO PADRÃO REVENDA  \\\n",
              "PRODUTO                                                          \n",
              "ETANOL HIDRATADO                  5.038                  0.543   \n",
              "GASOLINA ADITIVADA                6.767                  0.367   \n",
              "GASOLINA COMUM                    6.635                  0.368   \n",
              "ETANOL HIDRATADO                  4.744                  0.632   \n",
              "GASOLINA ADITIVADA                6.727                  0.385   \n",
              "GASOLINA COMUM                    6.600                  0.383   \n",
              "ETANOL HIDRATADO                  4.842                  0.616   \n",
              "GASOLINA ADITIVADA                7.122                  0.505   \n",
              "GASOLINA COMUM                    7.012                  0.505   \n",
              "ETANOL HIDRATADO                  5.326                  0.547   \n",
              "GASOLINA ADITIVADA                7.344                  0.411   \n",
              "GASOLINA COMUM                    7.245                  0.407   \n",
              "ETANOL HIDRATADO                  5.270                  0.657   \n",
              "GASOLINA ADITIVADA                7.390                  0.421   \n",
              "GASOLINA COMUM                    7.280                  0.426   \n",
              "ETANOL HIDRATADO                  4.900                  0.766   \n",
              "GASOLINA ADITIVADA                7.350                  0.465   \n",
              "GASOLINA COMUM                    7.250                  0.474   \n",
              "ETANOL HIDRATADO                  4.360                  0.737   \n",
              "GASOLINA ADITIVADA                6.190                  0.509   \n",
              "GASOLINA COMUM                    6.050                  0.491   \n",
              "ETANOL HIDRATADO                  3.950                  0.648   \n",
              "GASOLINA ADITIVADA                5.550                  0.381   \n",
              "GASOLINA COMUM                    5.390                  0.356   \n",
              "\n",
              "                    PREÇO MÍNIMO REVENDA  PREÇO MÁXIMO REVENDA  \\\n",
              "PRODUTO                                                          \n",
              "ETANOL HIDRATADO                   4.099                 7.797   \n",
              "GASOLINA ADITIVADA                 5.699                 8.699   \n",
              "GASOLINA COMUM                     5.489                 8.029   \n",
              "ETANOL HIDRATADO                   3.770                 7.699   \n",
              "GASOLINA ADITIVADA                 5.699                 8.699   \n",
              "GASOLINA COMUM                     5.579                 7.999   \n",
              "ETANOL HIDRATADO                   3.770                 7.989   \n",
              "GASOLINA ADITIVADA                 5.789                 9.099   \n",
              "GASOLINA COMUM                     5.190                 8.949   \n",
              "ETANOL HIDRATADO                   4.099                 7.900   \n",
              "GASOLINA ADITIVADA                 6.379                 8.999   \n",
              "GASOLINA COMUM                     6.099                 8.599   \n",
              "ETANOL HIDRATADO                   4.170                 7.900   \n",
              "GASOLINA ADITIVADA                 6.290                 9.000   \n",
              "GASOLINA COMUM                     6.180                 8.990   \n",
              "ETANOL HIDRATADO                   3.690                 7.900   \n",
              "GASOLINA ADITIVADA                 5.590                 9.280   \n",
              "GASOLINA COMUM                     5.580                 8.990   \n",
              "ETANOL HIDRATADO                   3.390                 7.890   \n",
              "GASOLINA ADITIVADA                 4.990                 9.280   \n",
              "GASOLINA COMUM                     4.920                 8.520   \n",
              "ETANOL HIDRATADO                   2.890                 7.190   \n",
              "GASOLINA ADITIVADA                 4.130                 8.820   \n",
              "GASOLINA COMUM                     4.130                 8.750   \n",
              "\n",
              "                    COEF DE VARIAÇÃO REVENDA  \n",
              "PRODUTO                                       \n",
              "ETANOL HIDRATADO                       0.108  \n",
              "GASOLINA ADITIVADA                     0.054  \n",
              "GASOLINA COMUM                         0.055  \n",
              "ETANOL HIDRATADO                       0.133  \n",
              "GASOLINA ADITIVADA                     0.057  \n",
              "GASOLINA COMUM                         0.058  \n",
              "ETANOL HIDRATADO                       0.127  \n",
              "GASOLINA ADITIVADA                     0.071  \n",
              "GASOLINA COMUM                         0.072  \n",
              "ETANOL HIDRATADO                       0.103  \n",
              "GASOLINA ADITIVADA                     0.056  \n",
              "GASOLINA COMUM                         0.056  \n",
              "ETANOL HIDRATADO                       0.125  \n",
              "GASOLINA ADITIVADA                     0.057  \n",
              "GASOLINA COMUM                         0.059  \n",
              "ETANOL HIDRATADO                       0.156  \n",
              "GASOLINA ADITIVADA                     0.063  \n",
              "GASOLINA COMUM                         0.065  \n",
              "ETANOL HIDRATADO                       0.169  \n",
              "GASOLINA ADITIVADA                     0.082  \n",
              "GASOLINA COMUM                         0.081  \n",
              "ETANOL HIDRATADO                       0.164  \n",
              "GASOLINA ADITIVADA                     0.069  \n",
              "GASOLINA COMUM                         0.066  "
            ],
            "text/html": [
              "\n",
              "  <div id=\"df-9668bbd4-dc95-465b-b869-627c4b9d199a\">\n",
              "    <div class=\"colab-df-container\">\n",
              "      <div>\n",
              "<style scoped>\n",
              "    .dataframe tbody tr th:only-of-type {\n",
              "        vertical-align: middle;\n",
              "    }\n",
              "\n",
              "    .dataframe tbody tr th {\n",
              "        vertical-align: top;\n",
              "    }\n",
              "\n",
              "    .dataframe thead th {\n",
              "        text-align: right;\n",
              "    }\n",
              "</style>\n",
              "<table border=\"1\" class=\"dataframe\">\n",
              "  <thead>\n",
              "    <tr style=\"text-align: right;\">\n",
              "      <th></th>\n",
              "      <th>MÊS</th>\n",
              "      <th>NÚMERO DE POSTOS PESQUISADOS</th>\n",
              "      <th>PREÇO MÉDIO REVENDA</th>\n",
              "      <th>DESVIO PADRÃO REVENDA</th>\n",
              "      <th>PREÇO MÍNIMO REVENDA</th>\n",
              "      <th>PREÇO MÁXIMO REVENDA</th>\n",
              "      <th>COEF DE VARIAÇÃO REVENDA</th>\n",
              "    </tr>\n",
              "    <tr>\n",
              "      <th>PRODUTO</th>\n",
              "      <th></th>\n",
              "      <th></th>\n",
              "      <th></th>\n",
              "      <th></th>\n",
              "      <th></th>\n",
              "      <th></th>\n",
              "      <th></th>\n",
              "    </tr>\n",
              "  </thead>\n",
              "  <tbody>\n",
              "    <tr>\n",
              "      <th>ETANOL HIDRATADO</th>\n",
              "      <td>jan.-22</td>\n",
              "      <td>17662</td>\n",
              "      <td>5.038</td>\n",
              "      <td>0.543</td>\n",
              "      <td>4.099</td>\n",
              "      <td>7.797</td>\n",
              "      <td>0.108</td>\n",
              "    </tr>\n",
              "    <tr>\n",
              "      <th>GASOLINA ADITIVADA</th>\n",
              "      <td>jan.-22</td>\n",
              "      <td>14967</td>\n",
              "      <td>6.767</td>\n",
              "      <td>0.367</td>\n",
              "      <td>5.699</td>\n",
              "      <td>8.699</td>\n",
              "      <td>0.054</td>\n",
              "    </tr>\n",
              "    <tr>\n",
              "      <th>GASOLINA COMUM</th>\n",
              "      <td>jan.-22</td>\n",
              "      <td>19920</td>\n",
              "      <td>6.635</td>\n",
              "      <td>0.368</td>\n",
              "      <td>5.489</td>\n",
              "      <td>8.029</td>\n",
              "      <td>0.055</td>\n",
              "    </tr>\n",
              "    <tr>\n",
              "      <th>ETANOL HIDRATADO</th>\n",
              "      <td>fev.-22</td>\n",
              "      <td>17522</td>\n",
              "      <td>4.744</td>\n",
              "      <td>0.632</td>\n",
              "      <td>3.770</td>\n",
              "      <td>7.699</td>\n",
              "      <td>0.133</td>\n",
              "    </tr>\n",
              "    <tr>\n",
              "      <th>GASOLINA ADITIVADA</th>\n",
              "      <td>fev.-22</td>\n",
              "      <td>15151</td>\n",
              "      <td>6.727</td>\n",
              "      <td>0.385</td>\n",
              "      <td>5.699</td>\n",
              "      <td>8.699</td>\n",
              "      <td>0.057</td>\n",
              "    </tr>\n",
              "    <tr>\n",
              "      <th>GASOLINA COMUM</th>\n",
              "      <td>fev.-22</td>\n",
              "      <td>20006</td>\n",
              "      <td>6.600</td>\n",
              "      <td>0.383</td>\n",
              "      <td>5.579</td>\n",
              "      <td>7.999</td>\n",
              "      <td>0.058</td>\n",
              "    </tr>\n",
              "    <tr>\n",
              "      <th>ETANOL HIDRATADO</th>\n",
              "      <td>mar.-22</td>\n",
              "      <td>20371</td>\n",
              "      <td>4.842</td>\n",
              "      <td>0.616</td>\n",
              "      <td>3.770</td>\n",
              "      <td>7.989</td>\n",
              "      <td>0.127</td>\n",
              "    </tr>\n",
              "    <tr>\n",
              "      <th>GASOLINA ADITIVADA</th>\n",
              "      <td>mar.-22</td>\n",
              "      <td>17316</td>\n",
              "      <td>7.122</td>\n",
              "      <td>0.505</td>\n",
              "      <td>5.789</td>\n",
              "      <td>9.099</td>\n",
              "      <td>0.071</td>\n",
              "    </tr>\n",
              "    <tr>\n",
              "      <th>GASOLINA COMUM</th>\n",
              "      <td>mar.-22</td>\n",
              "      <td>23030</td>\n",
              "      <td>7.012</td>\n",
              "      <td>0.505</td>\n",
              "      <td>5.190</td>\n",
              "      <td>8.949</td>\n",
              "      <td>0.072</td>\n",
              "    </tr>\n",
              "    <tr>\n",
              "      <th>ETANOL HIDRATADO</th>\n",
              "      <td>abr.-22</td>\n",
              "      <td>18369</td>\n",
              "      <td>5.326</td>\n",
              "      <td>0.547</td>\n",
              "      <td>4.099</td>\n",
              "      <td>7.900</td>\n",
              "      <td>0.103</td>\n",
              "    </tr>\n",
              "    <tr>\n",
              "      <th>GASOLINA ADITIVADA</th>\n",
              "      <td>abr.-22</td>\n",
              "      <td>15728</td>\n",
              "      <td>7.344</td>\n",
              "      <td>0.411</td>\n",
              "      <td>6.379</td>\n",
              "      <td>8.999</td>\n",
              "      <td>0.056</td>\n",
              "    </tr>\n",
              "    <tr>\n",
              "      <th>GASOLINA COMUM</th>\n",
              "      <td>abr.-22</td>\n",
              "      <td>20863</td>\n",
              "      <td>7.245</td>\n",
              "      <td>0.407</td>\n",
              "      <td>6.099</td>\n",
              "      <td>8.599</td>\n",
              "      <td>0.056</td>\n",
              "    </tr>\n",
              "    <tr>\n",
              "      <th>ETANOL HIDRATADO</th>\n",
              "      <td>mai.-22</td>\n",
              "      <td>21399</td>\n",
              "      <td>5.270</td>\n",
              "      <td>0.657</td>\n",
              "      <td>4.170</td>\n",
              "      <td>7.900</td>\n",
              "      <td>0.125</td>\n",
              "    </tr>\n",
              "    <tr>\n",
              "      <th>GASOLINA ADITIVADA</th>\n",
              "      <td>mai.-22</td>\n",
              "      <td>18289</td>\n",
              "      <td>7.390</td>\n",
              "      <td>0.421</td>\n",
              "      <td>6.290</td>\n",
              "      <td>9.000</td>\n",
              "      <td>0.057</td>\n",
              "    </tr>\n",
              "    <tr>\n",
              "      <th>GASOLINA COMUM</th>\n",
              "      <td>mai.-22</td>\n",
              "      <td>24261</td>\n",
              "      <td>7.280</td>\n",
              "      <td>0.426</td>\n",
              "      <td>6.180</td>\n",
              "      <td>8.990</td>\n",
              "      <td>0.059</td>\n",
              "    </tr>\n",
              "    <tr>\n",
              "      <th>ETANOL HIDRATADO</th>\n",
              "      <td>jun.-22</td>\n",
              "      <td>21499</td>\n",
              "      <td>4.900</td>\n",
              "      <td>0.766</td>\n",
              "      <td>3.690</td>\n",
              "      <td>7.900</td>\n",
              "      <td>0.156</td>\n",
              "    </tr>\n",
              "    <tr>\n",
              "      <th>GASOLINA ADITIVADA</th>\n",
              "      <td>jun.-22</td>\n",
              "      <td>18336</td>\n",
              "      <td>7.350</td>\n",
              "      <td>0.465</td>\n",
              "      <td>5.590</td>\n",
              "      <td>9.280</td>\n",
              "      <td>0.063</td>\n",
              "    </tr>\n",
              "    <tr>\n",
              "      <th>GASOLINA COMUM</th>\n",
              "      <td>jun.-22</td>\n",
              "      <td>24407</td>\n",
              "      <td>7.250</td>\n",
              "      <td>0.474</td>\n",
              "      <td>5.580</td>\n",
              "      <td>8.990</td>\n",
              "      <td>0.065</td>\n",
              "    </tr>\n",
              "    <tr>\n",
              "      <th>ETANOL HIDRATADO</th>\n",
              "      <td>jul.-22</td>\n",
              "      <td>19372</td>\n",
              "      <td>4.360</td>\n",
              "      <td>0.737</td>\n",
              "      <td>3.390</td>\n",
              "      <td>7.890</td>\n",
              "      <td>0.169</td>\n",
              "    </tr>\n",
              "    <tr>\n",
              "      <th>GASOLINA ADITIVADA</th>\n",
              "      <td>jul.-22</td>\n",
              "      <td>16343</td>\n",
              "      <td>6.190</td>\n",
              "      <td>0.509</td>\n",
              "      <td>4.990</td>\n",
              "      <td>9.280</td>\n",
              "      <td>0.082</td>\n",
              "    </tr>\n",
              "    <tr>\n",
              "      <th>GASOLINA COMUM</th>\n",
              "      <td>jul.-22</td>\n",
              "      <td>21917</td>\n",
              "      <td>6.050</td>\n",
              "      <td>0.491</td>\n",
              "      <td>4.920</td>\n",
              "      <td>8.520</td>\n",
              "      <td>0.081</td>\n",
              "    </tr>\n",
              "    <tr>\n",
              "      <th>ETANOL HIDRATADO</th>\n",
              "      <td>ago.-22</td>\n",
              "      <td>23455</td>\n",
              "      <td>3.950</td>\n",
              "      <td>0.648</td>\n",
              "      <td>2.890</td>\n",
              "      <td>7.190</td>\n",
              "      <td>0.164</td>\n",
              "    </tr>\n",
              "    <tr>\n",
              "      <th>GASOLINA ADITIVADA</th>\n",
              "      <td>ago.-22</td>\n",
              "      <td>19665</td>\n",
              "      <td>5.550</td>\n",
              "      <td>0.381</td>\n",
              "      <td>4.130</td>\n",
              "      <td>8.820</td>\n",
              "      <td>0.069</td>\n",
              "    </tr>\n",
              "    <tr>\n",
              "      <th>GASOLINA COMUM</th>\n",
              "      <td>ago.-22</td>\n",
              "      <td>26424</td>\n",
              "      <td>5.390</td>\n",
              "      <td>0.356</td>\n",
              "      <td>4.130</td>\n",
              "      <td>8.750</td>\n",
              "      <td>0.066</td>\n",
              "    </tr>\n",
              "  </tbody>\n",
              "</table>\n",
              "</div>\n",
              "      <button class=\"colab-df-convert\" onclick=\"convertToInteractive('df-9668bbd4-dc95-465b-b869-627c4b9d199a')\"\n",
              "              title=\"Convert this dataframe to an interactive table.\"\n",
              "              style=\"display:none;\">\n",
              "        \n",
              "  <svg xmlns=\"http://www.w3.org/2000/svg\" height=\"24px\"viewBox=\"0 0 24 24\"\n",
              "       width=\"24px\">\n",
              "    <path d=\"M0 0h24v24H0V0z\" fill=\"none\"/>\n",
              "    <path d=\"M18.56 5.44l.94 2.06.94-2.06 2.06-.94-2.06-.94-.94-2.06-.94 2.06-2.06.94zm-11 1L8.5 8.5l.94-2.06 2.06-.94-2.06-.94L8.5 2.5l-.94 2.06-2.06.94zm10 10l.94 2.06.94-2.06 2.06-.94-2.06-.94-.94-2.06-.94 2.06-2.06.94z\"/><path d=\"M17.41 7.96l-1.37-1.37c-.4-.4-.92-.59-1.43-.59-.52 0-1.04.2-1.43.59L10.3 9.45l-7.72 7.72c-.78.78-.78 2.05 0 2.83L4 21.41c.39.39.9.59 1.41.59.51 0 1.02-.2 1.41-.59l7.78-7.78 2.81-2.81c.8-.78.8-2.07 0-2.86zM5.41 20L4 18.59l7.72-7.72 1.47 1.35L5.41 20z\"/>\n",
              "  </svg>\n",
              "      </button>\n",
              "      \n",
              "  <style>\n",
              "    .colab-df-container {\n",
              "      display:flex;\n",
              "      flex-wrap:wrap;\n",
              "      gap: 12px;\n",
              "    }\n",
              "\n",
              "    .colab-df-convert {\n",
              "      background-color: #E8F0FE;\n",
              "      border: none;\n",
              "      border-radius: 50%;\n",
              "      cursor: pointer;\n",
              "      display: none;\n",
              "      fill: #1967D2;\n",
              "      height: 32px;\n",
              "      padding: 0 0 0 0;\n",
              "      width: 32px;\n",
              "    }\n",
              "\n",
              "    .colab-df-convert:hover {\n",
              "      background-color: #E2EBFA;\n",
              "      box-shadow: 0px 1px 2px rgba(60, 64, 67, 0.3), 0px 1px 3px 1px rgba(60, 64, 67, 0.15);\n",
              "      fill: #174EA6;\n",
              "    }\n",
              "\n",
              "    [theme=dark] .colab-df-convert {\n",
              "      background-color: #3B4455;\n",
              "      fill: #D2E3FC;\n",
              "    }\n",
              "\n",
              "    [theme=dark] .colab-df-convert:hover {\n",
              "      background-color: #434B5C;\n",
              "      box-shadow: 0px 1px 3px 1px rgba(0, 0, 0, 0.15);\n",
              "      filter: drop-shadow(0px 1px 2px rgba(0, 0, 0, 0.3));\n",
              "      fill: #FFFFFF;\n",
              "    }\n",
              "  </style>\n",
              "\n",
              "      <script>\n",
              "        const buttonEl =\n",
              "          document.querySelector('#df-9668bbd4-dc95-465b-b869-627c4b9d199a button.colab-df-convert');\n",
              "        buttonEl.style.display =\n",
              "          google.colab.kernel.accessAllowed ? 'block' : 'none';\n",
              "\n",
              "        async function convertToInteractive(key) {\n",
              "          const element = document.querySelector('#df-9668bbd4-dc95-465b-b869-627c4b9d199a');\n",
              "          const dataTable =\n",
              "            await google.colab.kernel.invokeFunction('convertToInteractive',\n",
              "                                                     [key], {});\n",
              "          if (!dataTable) return;\n",
              "\n",
              "          const docLinkHtml = 'Like what you see? Visit the ' +\n",
              "            '<a target=\"_blank\" href=https://colab.research.google.com/notebooks/data_table.ipynb>data table notebook</a>'\n",
              "            + ' to learn more about interactive tables.';\n",
              "          element.innerHTML = '';\n",
              "          dataTable['output_type'] = 'display_data';\n",
              "          await google.colab.output.renderOutput(dataTable, element);\n",
              "          const docLink = document.createElement('div');\n",
              "          docLink.innerHTML = docLinkHtml;\n",
              "          element.appendChild(docLink);\n",
              "        }\n",
              "      </script>\n",
              "    </div>\n",
              "  </div>\n",
              "  "
            ]
          },
          "metadata": {},
          "execution_count": 24
        }
      ]
    },
    {
      "cell_type": "code",
      "source": [
        "brasil_macro"
      ],
      "metadata": {
        "id": "rcH-qC2a2iZh",
        "colab": {
          "base_uri": "https://localhost:8080/",
          "height": 452
        },
        "outputId": "e91cd30b-680c-4280-945e-50b7736310bf"
      },
      "execution_count": null,
      "outputs": [
        {
          "output_type": "execute_result",
          "data": {
            "text/plain": [
              "                        MÊS  NÚMERO DE POSTOS PESQUISADOS  \\\n",
              "PRODUTO                                                     \n",
              "ETANOL HIDRATADO    jul.-22                         19372   \n",
              "GASOLINA ADITIVADA  jul.-22                         16343   \n",
              "GASOLINA COMUM      jul.-22                         21917   \n",
              "ETANOL HIDRATADO    ago.-22                         23455   \n",
              "GASOLINA ADITIVADA  ago.-22                         19665   \n",
              "GASOLINA COMUM      ago.-22                         26424   \n",
              "\n",
              "                    PREÇO MÉDIO REVENDA  DESVIO PADRÃO REVENDA  \\\n",
              "PRODUTO                                                          \n",
              "ETANOL HIDRATADO                   4.36                  0.737   \n",
              "GASOLINA ADITIVADA                 6.19                  0.509   \n",
              "GASOLINA COMUM                     6.05                  0.491   \n",
              "ETANOL HIDRATADO                   3.95                  0.648   \n",
              "GASOLINA ADITIVADA                 5.55                  0.381   \n",
              "GASOLINA COMUM                     5.39                  0.356   \n",
              "\n",
              "                    PREÇO MÍNIMO REVENDA  PREÇO MÁXIMO REVENDA  \\\n",
              "PRODUTO                                                          \n",
              "ETANOL HIDRATADO                    3.39                  7.89   \n",
              "GASOLINA ADITIVADA                  4.99                  9.28   \n",
              "GASOLINA COMUM                      4.92                  8.52   \n",
              "ETANOL HIDRATADO                    2.89                  7.19   \n",
              "GASOLINA ADITIVADA                  4.13                  8.82   \n",
              "GASOLINA COMUM                      4.13                  8.75   \n",
              "\n",
              "                    COEF DE VARIAÇÃO REVENDA  \n",
              "PRODUTO                                       \n",
              "ETANOL HIDRATADO                       0.169  \n",
              "GASOLINA ADITIVADA                     0.082  \n",
              "GASOLINA COMUM                         0.081  \n",
              "ETANOL HIDRATADO                       0.164  \n",
              "GASOLINA ADITIVADA                     0.069  \n",
              "GASOLINA COMUM                         0.066  "
            ],
            "text/html": [
              "\n",
              "  <div id=\"df-6ed019f6-9115-4fd6-b29d-693636397796\">\n",
              "    <div class=\"colab-df-container\">\n",
              "      <div>\n",
              "<style scoped>\n",
              "    .dataframe tbody tr th:only-of-type {\n",
              "        vertical-align: middle;\n",
              "    }\n",
              "\n",
              "    .dataframe tbody tr th {\n",
              "        vertical-align: top;\n",
              "    }\n",
              "\n",
              "    .dataframe thead th {\n",
              "        text-align: right;\n",
              "    }\n",
              "</style>\n",
              "<table border=\"1\" class=\"dataframe\">\n",
              "  <thead>\n",
              "    <tr style=\"text-align: right;\">\n",
              "      <th></th>\n",
              "      <th>MÊS</th>\n",
              "      <th>NÚMERO DE POSTOS PESQUISADOS</th>\n",
              "      <th>PREÇO MÉDIO REVENDA</th>\n",
              "      <th>DESVIO PADRÃO REVENDA</th>\n",
              "      <th>PREÇO MÍNIMO REVENDA</th>\n",
              "      <th>PREÇO MÁXIMO REVENDA</th>\n",
              "      <th>COEF DE VARIAÇÃO REVENDA</th>\n",
              "    </tr>\n",
              "    <tr>\n",
              "      <th>PRODUTO</th>\n",
              "      <th></th>\n",
              "      <th></th>\n",
              "      <th></th>\n",
              "      <th></th>\n",
              "      <th></th>\n",
              "      <th></th>\n",
              "      <th></th>\n",
              "    </tr>\n",
              "  </thead>\n",
              "  <tbody>\n",
              "    <tr>\n",
              "      <th>ETANOL HIDRATADO</th>\n",
              "      <td>jul.-22</td>\n",
              "      <td>19372</td>\n",
              "      <td>4.36</td>\n",
              "      <td>0.737</td>\n",
              "      <td>3.39</td>\n",
              "      <td>7.89</td>\n",
              "      <td>0.169</td>\n",
              "    </tr>\n",
              "    <tr>\n",
              "      <th>GASOLINA ADITIVADA</th>\n",
              "      <td>jul.-22</td>\n",
              "      <td>16343</td>\n",
              "      <td>6.19</td>\n",
              "      <td>0.509</td>\n",
              "      <td>4.99</td>\n",
              "      <td>9.28</td>\n",
              "      <td>0.082</td>\n",
              "    </tr>\n",
              "    <tr>\n",
              "      <th>GASOLINA COMUM</th>\n",
              "      <td>jul.-22</td>\n",
              "      <td>21917</td>\n",
              "      <td>6.05</td>\n",
              "      <td>0.491</td>\n",
              "      <td>4.92</td>\n",
              "      <td>8.52</td>\n",
              "      <td>0.081</td>\n",
              "    </tr>\n",
              "    <tr>\n",
              "      <th>ETANOL HIDRATADO</th>\n",
              "      <td>ago.-22</td>\n",
              "      <td>23455</td>\n",
              "      <td>3.95</td>\n",
              "      <td>0.648</td>\n",
              "      <td>2.89</td>\n",
              "      <td>7.19</td>\n",
              "      <td>0.164</td>\n",
              "    </tr>\n",
              "    <tr>\n",
              "      <th>GASOLINA ADITIVADA</th>\n",
              "      <td>ago.-22</td>\n",
              "      <td>19665</td>\n",
              "      <td>5.55</td>\n",
              "      <td>0.381</td>\n",
              "      <td>4.13</td>\n",
              "      <td>8.82</td>\n",
              "      <td>0.069</td>\n",
              "    </tr>\n",
              "    <tr>\n",
              "      <th>GASOLINA COMUM</th>\n",
              "      <td>ago.-22</td>\n",
              "      <td>26424</td>\n",
              "      <td>5.39</td>\n",
              "      <td>0.356</td>\n",
              "      <td>4.13</td>\n",
              "      <td>8.75</td>\n",
              "      <td>0.066</td>\n",
              "    </tr>\n",
              "  </tbody>\n",
              "</table>\n",
              "</div>\n",
              "      <button class=\"colab-df-convert\" onclick=\"convertToInteractive('df-6ed019f6-9115-4fd6-b29d-693636397796')\"\n",
              "              title=\"Convert this dataframe to an interactive table.\"\n",
              "              style=\"display:none;\">\n",
              "        \n",
              "  <svg xmlns=\"http://www.w3.org/2000/svg\" height=\"24px\"viewBox=\"0 0 24 24\"\n",
              "       width=\"24px\">\n",
              "    <path d=\"M0 0h24v24H0V0z\" fill=\"none\"/>\n",
              "    <path d=\"M18.56 5.44l.94 2.06.94-2.06 2.06-.94-2.06-.94-.94-2.06-.94 2.06-2.06.94zm-11 1L8.5 8.5l.94-2.06 2.06-.94-2.06-.94L8.5 2.5l-.94 2.06-2.06.94zm10 10l.94 2.06.94-2.06 2.06-.94-2.06-.94-.94-2.06-.94 2.06-2.06.94z\"/><path d=\"M17.41 7.96l-1.37-1.37c-.4-.4-.92-.59-1.43-.59-.52 0-1.04.2-1.43.59L10.3 9.45l-7.72 7.72c-.78.78-.78 2.05 0 2.83L4 21.41c.39.39.9.59 1.41.59.51 0 1.02-.2 1.41-.59l7.78-7.78 2.81-2.81c.8-.78.8-2.07 0-2.86zM5.41 20L4 18.59l7.72-7.72 1.47 1.35L5.41 20z\"/>\n",
              "  </svg>\n",
              "      </button>\n",
              "      \n",
              "  <style>\n",
              "    .colab-df-container {\n",
              "      display:flex;\n",
              "      flex-wrap:wrap;\n",
              "      gap: 12px;\n",
              "    }\n",
              "\n",
              "    .colab-df-convert {\n",
              "      background-color: #E8F0FE;\n",
              "      border: none;\n",
              "      border-radius: 50%;\n",
              "      cursor: pointer;\n",
              "      display: none;\n",
              "      fill: #1967D2;\n",
              "      height: 32px;\n",
              "      padding: 0 0 0 0;\n",
              "      width: 32px;\n",
              "    }\n",
              "\n",
              "    .colab-df-convert:hover {\n",
              "      background-color: #E2EBFA;\n",
              "      box-shadow: 0px 1px 2px rgba(60, 64, 67, 0.3), 0px 1px 3px 1px rgba(60, 64, 67, 0.15);\n",
              "      fill: #174EA6;\n",
              "    }\n",
              "\n",
              "    [theme=dark] .colab-df-convert {\n",
              "      background-color: #3B4455;\n",
              "      fill: #D2E3FC;\n",
              "    }\n",
              "\n",
              "    [theme=dark] .colab-df-convert:hover {\n",
              "      background-color: #434B5C;\n",
              "      box-shadow: 0px 1px 3px 1px rgba(0, 0, 0, 0.15);\n",
              "      filter: drop-shadow(0px 1px 2px rgba(0, 0, 0, 0.3));\n",
              "      fill: #FFFFFF;\n",
              "    }\n",
              "  </style>\n",
              "\n",
              "      <script>\n",
              "        const buttonEl =\n",
              "          document.querySelector('#df-6ed019f6-9115-4fd6-b29d-693636397796 button.colab-df-convert');\n",
              "        buttonEl.style.display =\n",
              "          google.colab.kernel.accessAllowed ? 'block' : 'none';\n",
              "\n",
              "        async function convertToInteractive(key) {\n",
              "          const element = document.querySelector('#df-6ed019f6-9115-4fd6-b29d-693636397796');\n",
              "          const dataTable =\n",
              "            await google.colab.kernel.invokeFunction('convertToInteractive',\n",
              "                                                     [key], {});\n",
              "          if (!dataTable) return;\n",
              "\n",
              "          const docLinkHtml = 'Like what you see? Visit the ' +\n",
              "            '<a target=\"_blank\" href=https://colab.research.google.com/notebooks/data_table.ipynb>data table notebook</a>'\n",
              "            + ' to learn more about interactive tables.';\n",
              "          element.innerHTML = '';\n",
              "          dataTable['output_type'] = 'display_data';\n",
              "          await google.colab.output.renderOutput(dataTable, element);\n",
              "          const docLink = document.createElement('div');\n",
              "          docLink.innerHTML = docLinkHtml;\n",
              "          element.appendChild(docLink);\n",
              "        }\n",
              "      </script>\n",
              "    </div>\n",
              "  </div>\n",
              "  "
            ]
          },
          "metadata": {},
          "execution_count": 25
        }
      ]
    },
    {
      "cell_type": "markdown",
      "source": [
        "# **5. Qualidade dos dados**\n",
        "\n",
        "Será verificado a presença de:\n",
        "\n",
        "\n",
        "*  dados nulos;\n",
        "*  dados duplicados;\n",
        "*  outliers"
      ],
      "metadata": {
        "id": "v4a9k4B82oY2"
      }
    },
    {
      "cell_type": "markdown",
      "source": [
        "### 5.1 Verificando se há dados nulos:"
      ],
      "metadata": {
        "id": "LzzLav1X7Dcj"
      }
    },
    {
      "cell_type": "code",
      "source": [
        "#Conferindo nova quantidade de linhas, colunas e tipo de dados:\n",
        "brasil_micro.info()"
      ],
      "metadata": {
        "id": "ZtG8k_5NzQW_",
        "colab": {
          "base_uri": "https://localhost:8080/"
        },
        "outputId": "eeaf8cb2-f31f-41a3-d0a2-a17355d5ff3c"
      },
      "execution_count": null,
      "outputs": [
        {
          "output_type": "stream",
          "name": "stdout",
          "text": [
            "<class 'pandas.core.frame.DataFrame'>\n",
            "Index: 2737 entries, ETANOL HIDRATADO to GASOLINA COMUM\n",
            "Data columns (total 10 columns):\n",
            " #   Column                        Non-Null Count  Dtype  \n",
            "---  ------                        --------------  -----  \n",
            " 0   MÊS                           2737 non-null   object \n",
            " 1   REGIÃO                        2737 non-null   object \n",
            " 2   ESTADO                        2737 non-null   object \n",
            " 3   MUNICÍPIO                     2737 non-null   object \n",
            " 4   NÚMERO DE POSTOS PESQUISADOS  2737 non-null   int64  \n",
            " 5   PREÇO MÉDIO REVENDA           2737 non-null   float64\n",
            " 6   DESVIO PADRÃO REVENDA         2737 non-null   float64\n",
            " 7   PREÇO MÍNIMO REVENDA          2737 non-null   float64\n",
            " 8   PREÇO MÁXIMO REVENDA          2737 non-null   float64\n",
            " 9   COEF DE VARIAÇÃO REVENDA      2737 non-null   float64\n",
            "dtypes: float64(5), int64(1), object(4)\n",
            "memory usage: 235.2+ KB\n"
          ]
        }
      ]
    },
    {
      "cell_type": "code",
      "execution_count": null,
      "metadata": {
        "id": "9MhSqpJX8Ymd",
        "colab": {
          "base_uri": "https://localhost:8080/"
        },
        "outputId": "e416276a-5a41-4375-957f-6fa76bbb32f6"
      },
      "outputs": [
        {
          "output_type": "stream",
          "name": "stdout",
          "text": [
            "<class 'pandas.core.frame.DataFrame'>\n",
            "Index: 6 entries, ETANOL HIDRATADO to GASOLINA COMUM\n",
            "Data columns (total 7 columns):\n",
            " #   Column                        Non-Null Count  Dtype  \n",
            "---  ------                        --------------  -----  \n",
            " 0   MÊS                           6 non-null      object \n",
            " 1   NÚMERO DE POSTOS PESQUISADOS  6 non-null      int64  \n",
            " 2   PREÇO MÉDIO REVENDA           6 non-null      float64\n",
            " 3   DESVIO PADRÃO REVENDA         6 non-null      float64\n",
            " 4   PREÇO MÍNIMO REVENDA          6 non-null      float64\n",
            " 5   PREÇO MÁXIMO REVENDA          6 non-null      float64\n",
            " 6   COEF DE VARIAÇÃO REVENDA      6 non-null      float64\n",
            "dtypes: float64(5), int64(1), object(1)\n",
            "memory usage: 384.0+ bytes\n"
          ]
        }
      ],
      "source": [
        "#Conferindo nova quantidade de linhas, colunas e tipo de dados:\n",
        "brasil_macro.info()"
      ]
    },
    {
      "cell_type": "code",
      "source": [
        "brasil_macro_completo.info()"
      ],
      "metadata": {
        "id": "SV0KpY-0yHOg",
        "colab": {
          "base_uri": "https://localhost:8080/"
        },
        "outputId": "dde3f9f2-4973-4f02-cb2c-f7e83f1e4c33"
      },
      "execution_count": null,
      "outputs": [
        {
          "output_type": "stream",
          "name": "stdout",
          "text": [
            "<class 'pandas.core.frame.DataFrame'>\n",
            "Index: 24 entries, ETANOL HIDRATADO to GASOLINA COMUM\n",
            "Data columns (total 7 columns):\n",
            " #   Column                        Non-Null Count  Dtype  \n",
            "---  ------                        --------------  -----  \n",
            " 0   MÊS                           24 non-null     object \n",
            " 1   NÚMERO DE POSTOS PESQUISADOS  24 non-null     int64  \n",
            " 2   PREÇO MÉDIO REVENDA           24 non-null     float64\n",
            " 3   DESVIO PADRÃO REVENDA         24 non-null     float64\n",
            " 4   PREÇO MÍNIMO REVENDA          24 non-null     float64\n",
            " 5   PREÇO MÁXIMO REVENDA          24 non-null     float64\n",
            " 6   COEF DE VARIAÇÃO REVENDA      24 non-null     float64\n",
            "dtypes: float64(5), int64(1), object(1)\n",
            "memory usage: 1.5+ KB\n"
          ]
        }
      ]
    },
    {
      "cell_type": "code",
      "source": [
        "brasil_micro_postos.info()"
      ],
      "metadata": {
        "colab": {
          "base_uri": "https://localhost:8080/"
        },
        "id": "RfDN4YEQrjo6",
        "outputId": "c72f1d8f-f256-41c7-f63a-bea97502619e"
      },
      "execution_count": null,
      "outputs": [
        {
          "output_type": "stream",
          "name": "stdout",
          "text": [
            "<class 'pandas.core.frame.DataFrame'>\n",
            "Index: 127176 entries, GASOLINA ADITIVADA to ETANOL\n",
            "Data columns (total 7 columns):\n",
            " #   Column          Non-Null Count   Dtype  \n",
            "---  ------          --------------   -----  \n",
            " 0   Regiao - Sigla  127176 non-null  object \n",
            " 1   Estado - Sigla  127176 non-null  object \n",
            " 2   Municipio       127176 non-null  object \n",
            " 3   Revenda         127176 non-null  object \n",
            " 4   Data da Coleta  127176 non-null  object \n",
            " 5   Valor de Venda  127176 non-null  float64\n",
            " 6   Bandeira        127176 non-null  object \n",
            "dtypes: float64(1), object(6)\n",
            "memory usage: 7.8+ MB\n"
          ]
        }
      ]
    },
    {
      "cell_type": "markdown",
      "source": [
        "### 5.2 Verificando se há dados duplicados: "
      ],
      "metadata": {
        "id": "l9wgF_PO7MMh"
      }
    },
    {
      "cell_type": "code",
      "source": [],
      "metadata": {
        "id": "Rv8Q3QjE68Cc"
      },
      "execution_count": null,
      "outputs": []
    },
    {
      "cell_type": "markdown",
      "source": [
        "### 5.3 - Histogramas - verificando outliers"
      ],
      "metadata": {
        "id": "hOsTPTGn7U74"
      }
    },
    {
      "cell_type": "code",
      "source": [
        "#Histograma para verificar distribuição dos dados e se há presença de outliers para regiões, estados e municípios\n",
        "brasil_micro.hist(bins=15, figsize=(15,15));"
      ],
      "metadata": {
        "id": "zbFy1ZM05yOR",
        "colab": {
          "base_uri": "https://localhost:8080/",
          "height": 881
        },
        "outputId": "eca17a0e-97ab-4759-c8ac-f3de5055b3ce"
      },
      "execution_count": null,
      "outputs": [
        {
          "output_type": "display_data",
          "data": {
            "text/plain": [
              "<Figure size 1080x1080 with 6 Axes>"
            ],
            "image/png": "[encoded data removed]"
          },
          "metadata": {
            "needs_background": "light"
          }
        }
      ]
    },
    {
      "cell_type": "code",
      "source": [
        "#Histograma para verificar distribuição dos dados e se há presença de outliers para regiões, estados e municípios/postos de distribuição\n",
        "brasil_micro_postos.hist(bins=15, figsize=(15,15));"
      ],
      "metadata": {
        "colab": {
          "base_uri": "https://localhost:8080/",
          "height": 879
        },
        "id": "G6LzzHEFa-tN",
        "outputId": "ee16a100-3f25-4619-9794-4037cb5d48b0"
      },
      "execution_count": null,
      "outputs": [
        {
          "output_type": "display_data",
          "data": {
            "text/plain": [
              "<Figure size 1080x1080 with 1 Axes>"
            ],
            "image/png": "[encoded data removed]"
          },
          "metadata": {
            "needs_background": "light"
          }
        }
      ]
    },
    {
      "cell_type": "code",
      "source": [
        "#Histograma para verificar distribuição dos dados e se há presença de outliers para o Brasil\n",
        "brasil_macro.hist(bins=15, figsize=(15,15));"
      ],
      "metadata": {
        "id": "hUgNogfe6jiI",
        "colab": {
          "base_uri": "https://localhost:8080/",
          "height": 881
        },
        "outputId": "c9ba2bf5-1de7-4a27-e4ca-6b9f4700ca75"
      },
      "execution_count": null,
      "outputs": [
        {
          "output_type": "display_data",
          "data": {
            "text/plain": [
              "<Figure size 1080x1080 with 6 Axes>"
            ],
            "image/png": "[encoded data removed]"
          },
          "metadata": {
            "needs_background": "light"
          }
        }
      ]
    },
    {
      "cell_type": "code",
      "source": [
        "#Histograma para verificar distribuição dos dados e se há presença de outliers para o Brasil\n",
        "brasil_macro_completo.hist(bins=15, figsize=(15,15));"
      ],
      "metadata": {
        "id": "yuCx_q1FDRw3",
        "colab": {
          "base_uri": "https://localhost:8080/",
          "height": 881
        },
        "outputId": "bbb1d293-80b2-43e4-a8c0-47174f6f71d3"
      },
      "execution_count": null,
      "outputs": [
        {
          "output_type": "display_data",
          "data": {
            "text/plain": [
              "<Figure size 1080x1080 with 6 Axes>"
            ],
            "image/png": "[encoded data removed]"
          },
          "metadata": {
            "needs_background": "light"
          }
        }
      ]
    },
    {
      "cell_type": "markdown",
      "source": [
        "### **Conclusão dos histogramas:**"
      ],
      "metadata": {
        "id": "Ga0VI6csDt0X"
      }
    },
    {
      "cell_type": "markdown",
      "source": [
        "### **5.4 - Estatísticas descritivas - verificando outliers**"
      ],
      "metadata": {
        "id": "iz8hpHnAeNMz"
      }
    },
    {
      "cell_type": "code",
      "source": [
        "#Principais estatísticas usando a função describe\n",
        "brasil_micro.describe()"
      ],
      "metadata": {
        "id": "AnTrBxZ22U0I",
        "colab": {
          "base_uri": "https://localhost:8080/",
          "height": 362
        },
        "outputId": "43b249e2-c7a3-4d23-cdf0-3a9588c45075"
      },
      "execution_count": null,
      "outputs": [
        {
          "output_type": "execute_result",
          "data": {
            "text/plain": [
              "       NÚMERO DE POSTOS PESQUISADOS  PREÇO MÉDIO REVENDA  \\\n",
              "count                   2737.000000          2737.000000   \n",
              "mean                      46.465473             5.496756   \n",
              "std                       51.134987             0.782302   \n",
              "min                        1.000000             3.360000   \n",
              "25%                       24.000000             5.140000   \n",
              "50%                       36.000000             5.620000   \n",
              "75%                       52.000000             6.030000   \n",
              "max                      752.000000             7.730000   \n",
              "\n",
              "       DESVIO PADRÃO REVENDA  PREÇO MÍNIMO REVENDA  PREÇO MÁXIMO REVENDA  \\\n",
              "count            2737.000000           2737.000000           2737.000000   \n",
              "mean                0.283299              5.057318              6.123935   \n",
              "std                 0.136961              0.761368              0.963853   \n",
              "min                 0.000000              2.890000              3.690000   \n",
              "25%                 0.186000              4.690000              5.590000   \n",
              "50%                 0.252000              5.190000              6.090000   \n",
              "75%                 0.359000              5.590000              6.840000   \n",
              "max                 1.548000              7.690000              9.280000   \n",
              "\n",
              "       COEF DE VARIAÇÃO REVENDA  \n",
              "count               2737.000000  \n",
              "mean                   0.051088  \n",
              "std                    0.021501  \n",
              "min                    0.000000  \n",
              "25%                    0.035000  \n",
              "50%                    0.048000  \n",
              "75%                    0.064000  \n",
              "max                    0.230000  "
            ],
            "text/html": [
              "\n",
              "  <div id=\"df-c093f1af-fef6-415c-8ddb-2070b1bb52ac\">\n",
              "    <div class=\"colab-df-container\">\n",
              "      <div>\n",
              "<style scoped>\n",
              "    .dataframe tbody tr th:only-of-type {\n",
              "        vertical-align: middle;\n",
              "    }\n",
              "\n",
              "    .dataframe tbody tr th {\n",
              "        vertical-align: top;\n",
              "    }\n",
              "\n",
              "    .dataframe thead th {\n",
              "        text-align: right;\n",
              "    }\n",
              "</style>\n",
              "<table border=\"1\" class=\"dataframe\">\n",
              "  <thead>\n",
              "    <tr style=\"text-align: right;\">\n",
              "      <th></th>\n",
              "      <th>NÚMERO DE POSTOS PESQUISADOS</th>\n",
              "      <th>PREÇO MÉDIO REVENDA</th>\n",
              "      <th>DESVIO PADRÃO REVENDA</th>\n",
              "      <th>PREÇO MÍNIMO REVENDA</th>\n",
              "      <th>PREÇO MÁXIMO REVENDA</th>\n",
              "      <th>COEF DE VARIAÇÃO REVENDA</th>\n",
              "    </tr>\n",
              "  </thead>\n",
              "  <tbody>\n",
              "    <tr>\n",
              "      <th>count</th>\n",
              "      <td>2737.000000</td>\n",
              "      <td>2737.000000</td>\n",
              "      <td>2737.000000</td>\n",
              "      <td>2737.000000</td>\n",
              "      <td>2737.000000</td>\n",
              "      <td>2737.000000</td>\n",
              "    </tr>\n",
              "    <tr>\n",
              "      <th>mean</th>\n",
              "      <td>46.465473</td>\n",
              "      <td>5.496756</td>\n",
              "      <td>0.283299</td>\n",
              "      <td>5.057318</td>\n",
              "      <td>6.123935</td>\n",
              "      <td>0.051088</td>\n",
              "    </tr>\n",
              "    <tr>\n",
              "      <th>std</th>\n",
              "      <td>51.134987</td>\n",
              "      <td>0.782302</td>\n",
              "      <td>0.136961</td>\n",
              "      <td>0.761368</td>\n",
              "      <td>0.963853</td>\n",
              "      <td>0.021501</td>\n",
              "    </tr>\n",
              "    <tr>\n",
              "      <th>min</th>\n",
              "      <td>1.000000</td>\n",
              "      <td>3.360000</td>\n",
              "      <td>0.000000</td>\n",
              "      <td>2.890000</td>\n",
              "      <td>3.690000</td>\n",
              "      <td>0.000000</td>\n",
              "    </tr>\n",
              "    <tr>\n",
              "      <th>25%</th>\n",
              "      <td>24.000000</td>\n",
              "      <td>5.140000</td>\n",
              "      <td>0.186000</td>\n",
              "      <td>4.690000</td>\n",
              "      <td>5.590000</td>\n",
              "      <td>0.035000</td>\n",
              "    </tr>\n",
              "    <tr>\n",
              "      <th>50%</th>\n",
              "      <td>36.000000</td>\n",
              "      <td>5.620000</td>\n",
              "      <td>0.252000</td>\n",
              "      <td>5.190000</td>\n",
              "      <td>6.090000</td>\n",
              "      <td>0.048000</td>\n",
              "    </tr>\n",
              "    <tr>\n",
              "      <th>75%</th>\n",
              "      <td>52.000000</td>\n",
              "      <td>6.030000</td>\n",
              "      <td>0.359000</td>\n",
              "      <td>5.590000</td>\n",
              "      <td>6.840000</td>\n",
              "      <td>0.064000</td>\n",
              "    </tr>\n",
              "    <tr>\n",
              "      <th>max</th>\n",
              "      <td>752.000000</td>\n",
              "      <td>7.730000</td>\n",
              "      <td>1.548000</td>\n",
              "      <td>7.690000</td>\n",
              "      <td>9.280000</td>\n",
              "      <td>0.230000</td>\n",
              "    </tr>\n",
              "  </tbody>\n",
              "</table>\n",
              "</div>\n",
              "      <button class=\"colab-df-convert\" onclick=\"convertToInteractive('df-c093f1af-fef6-415c-8ddb-2070b1bb52ac')\"\n",
              "              title=\"Convert this dataframe to an interactive table.\"\n",
              "              style=\"display:none;\">\n",
              "        \n",
              "  <svg xmlns=\"http://www.w3.org/2000/svg\" height=\"24px\"viewBox=\"0 0 24 24\"\n",
              "       width=\"24px\">\n",
              "    <path d=\"M0 0h24v24H0V0z\" fill=\"none\"/>\n",
              "    <path d=\"M18.56 5.44l.94 2.06.94-2.06 2.06-.94-2.06-.94-.94-2.06-.94 2.06-2.06.94zm-11 1L8.5 8.5l.94-2.06 2.06-.94-2.06-.94L8.5 2.5l-.94 2.06-2.06.94zm10 10l.94 2.06.94-2.06 2.06-.94-2.06-.94-.94-2.06-.94 2.06-2.06.94z\"/><path d=\"M17.41 7.96l-1.37-1.37c-.4-.4-.92-.59-1.43-.59-.52 0-1.04.2-1.43.59L10.3 9.45l-7.72 7.72c-.78.78-.78 2.05 0 2.83L4 21.41c.39.39.9.59 1.41.59.51 0 1.02-.2 1.41-.59l7.78-7.78 2.81-2.81c.8-.78.8-2.07 0-2.86zM5.41 20L4 18.59l7.72-7.72 1.47 1.35L5.41 20z\"/>\n",
              "  </svg>\n",
              "      </button>\n",
              "      \n",
              "  <style>\n",
              "    .colab-df-container {\n",
              "      display:flex;\n",
              "      flex-wrap:wrap;\n",
              "      gap: 12px;\n",
              "    }\n",
              "\n",
              "    .colab-df-convert {\n",
              "      background-color: #E8F0FE;\n",
              "      border: none;\n",
              "      border-radius: 50%;\n",
              "      cursor: pointer;\n",
              "      display: none;\n",
              "      fill: #1967D2;\n",
              "      height: 32px;\n",
              "      padding: 0 0 0 0;\n",
              "      width: 32px;\n",
              "    }\n",
              "\n",
              "    .colab-df-convert:hover {\n",
              "      background-color: #E2EBFA;\n",
              "      box-shadow: 0px 1px 2px rgba(60, 64, 67, 0.3), 0px 1px 3px 1px rgba(60, 64, 67, 0.15);\n",
              "      fill: #174EA6;\n",
              "    }\n",
              "\n",
              "    [theme=dark] .colab-df-convert {\n",
              "      background-color: #3B4455;\n",
              "      fill: #D2E3FC;\n",
              "    }\n",
              "\n",
              "    [theme=dark] .colab-df-convert:hover {\n",
              "      background-color: #434B5C;\n",
              "      box-shadow: 0px 1px 3px 1px rgba(0, 0, 0, 0.15);\n",
              "      filter: drop-shadow(0px 1px 2px rgba(0, 0, 0, 0.3));\n",
              "      fill: #FFFFFF;\n",
              "    }\n",
              "  </style>\n",
              "\n",
              "      <script>\n",
              "        const buttonEl =\n",
              "          document.querySelector('#df-c093f1af-fef6-415c-8ddb-2070b1bb52ac button.colab-df-convert');\n",
              "        buttonEl.style.display =\n",
              "          google.colab.kernel.accessAllowed ? 'block' : 'none';\n",
              "\n",
              "        async function convertToInteractive(key) {\n",
              "          const element = document.querySelector('#df-c093f1af-fef6-415c-8ddb-2070b1bb52ac');\n",
              "          const dataTable =\n",
              "            await google.colab.kernel.invokeFunction('convertToInteractive',\n",
              "                                                     [key], {});\n",
              "          if (!dataTable) return;\n",
              "\n",
              "          const docLinkHtml = 'Like what you see? Visit the ' +\n",
              "            '<a target=\"_blank\" href=https://colab.research.google.com/notebooks/data_table.ipynb>data table notebook</a>'\n",
              "            + ' to learn more about interactive tables.';\n",
              "          element.innerHTML = '';\n",
              "          dataTable['output_type'] = 'display_data';\n",
              "          await google.colab.output.renderOutput(dataTable, element);\n",
              "          const docLink = document.createElement('div');\n",
              "          docLink.innerHTML = docLinkHtml;\n",
              "          element.appendChild(docLink);\n",
              "        }\n",
              "      </script>\n",
              "    </div>\n",
              "  </div>\n",
              "  "
            ]
          },
          "metadata": {},
          "execution_count": 34
        }
      ]
    },
    {
      "cell_type": "code",
      "source": [
        "brasil_micro_postos.describe()"
      ],
      "metadata": {
        "colab": {
          "base_uri": "https://localhost:8080/",
          "height": 300
        },
        "id": "YwybeGRWayiK",
        "outputId": "f10eb1f0-1ba9-4f9f-a0df-2467ce194f47"
      },
      "execution_count": null,
      "outputs": [
        {
          "output_type": "execute_result",
          "data": {
            "text/plain": [
              "       Valor de Venda\n",
              "count   127176.000000\n",
              "mean         5.355503\n",
              "std          0.860449\n",
              "min          2.890000\n",
              "25%          4.880000\n",
              "50%          5.490000\n",
              "75%          5.890000\n",
              "max          9.270000"
            ],
            "text/html": [
              "\n",
              "  <div id=\"df-9eb39136-5219-4c49-ade3-e5368ea4821f\">\n",
              "    <div class=\"colab-df-container\">\n",
              "      <div>\n",
              "<style scoped>\n",
              "    .dataframe tbody tr th:only-of-type {\n",
              "        vertical-align: middle;\n",
              "    }\n",
              "\n",
              "    .dataframe tbody tr th {\n",
              "        vertical-align: top;\n",
              "    }\n",
              "\n",
              "    .dataframe thead th {\n",
              "        text-align: right;\n",
              "    }\n",
              "</style>\n",
              "<table border=\"1\" class=\"dataframe\">\n",
              "  <thead>\n",
              "    <tr style=\"text-align: right;\">\n",
              "      <th></th>\n",
              "      <th>Valor de Venda</th>\n",
              "    </tr>\n",
              "  </thead>\n",
              "  <tbody>\n",
              "    <tr>\n",
              "      <th>count</th>\n",
              "      <td>127176.000000</td>\n",
              "    </tr>\n",
              "    <tr>\n",
              "      <th>mean</th>\n",
              "      <td>5.355503</td>\n",
              "    </tr>\n",
              "    <tr>\n",
              "      <th>std</th>\n",
              "      <td>0.860449</td>\n",
              "    </tr>\n",
              "    <tr>\n",
              "      <th>min</th>\n",
              "      <td>2.890000</td>\n",
              "    </tr>\n",
              "    <tr>\n",
              "      <th>25%</th>\n",
              "      <td>4.880000</td>\n",
              "    </tr>\n",
              "    <tr>\n",
              "      <th>50%</th>\n",
              "      <td>5.490000</td>\n",
              "    </tr>\n",
              "    <tr>\n",
              "      <th>75%</th>\n",
              "      <td>5.890000</td>\n",
              "    </tr>\n",
              "    <tr>\n",
              "      <th>max</th>\n",
              "      <td>9.270000</td>\n",
              "    </tr>\n",
              "  </tbody>\n",
              "</table>\n",
              "</div>\n",
              "      <button class=\"colab-df-convert\" onclick=\"convertToInteractive('df-9eb39136-5219-4c49-ade3-e5368ea4821f')\"\n",
              "              title=\"Convert this dataframe to an interactive table.\"\n",
              "              style=\"display:none;\">\n",
              "        \n",
              "  <svg xmlns=\"http://www.w3.org/2000/svg\" height=\"24px\"viewBox=\"0 0 24 24\"\n",
              "       width=\"24px\">\n",
              "    <path d=\"M0 0h24v24H0V0z\" fill=\"none\"/>\n",
              "    <path d=\"M18.56 5.44l.94 2.06.94-2.06 2.06-.94-2.06-.94-.94-2.06-.94 2.06-2.06.94zm-11 1L8.5 8.5l.94-2.06 2.06-.94-2.06-.94L8.5 2.5l-.94 2.06-2.06.94zm10 10l.94 2.06.94-2.06 2.06-.94-2.06-.94-.94-2.06-.94 2.06-2.06.94z\"/><path d=\"M17.41 7.96l-1.37-1.37c-.4-.4-.92-.59-1.43-.59-.52 0-1.04.2-1.43.59L10.3 9.45l-7.72 7.72c-.78.78-.78 2.05 0 2.83L4 21.41c.39.39.9.59 1.41.59.51 0 1.02-.2 1.41-.59l7.78-7.78 2.81-2.81c.8-.78.8-2.07 0-2.86zM5.41 20L4 18.59l7.72-7.72 1.47 1.35L5.41 20z\"/>\n",
              "  </svg>\n",
              "      </button>\n",
              "      \n",
              "  <style>\n",
              "    .colab-df-container {\n",
              "      display:flex;\n",
              "      flex-wrap:wrap;\n",
              "      gap: 12px;\n",
              "    }\n",
              "\n",
              "    .colab-df-convert {\n",
              "      background-color: #E8F0FE;\n",
              "      border: none;\n",
              "      border-radius: 50%;\n",
              "      cursor: pointer;\n",
              "      display: none;\n",
              "      fill: #1967D2;\n",
              "      height: 32px;\n",
              "      padding: 0 0 0 0;\n",
              "      width: 32px;\n",
              "    }\n",
              "\n",
              "    .colab-df-convert:hover {\n",
              "      background-color: #E2EBFA;\n",
              "      box-shadow: 0px 1px 2px rgba(60, 64, 67, 0.3), 0px 1px 3px 1px rgba(60, 64, 67, 0.15);\n",
              "      fill: #174EA6;\n",
              "    }\n",
              "\n",
              "    [theme=dark] .colab-df-convert {\n",
              "      background-color: #3B4455;\n",
              "      fill: #D2E3FC;\n",
              "    }\n",
              "\n",
              "    [theme=dark] .colab-df-convert:hover {\n",
              "      background-color: #434B5C;\n",
              "      box-shadow: 0px 1px 3px 1px rgba(0, 0, 0, 0.15);\n",
              "      filter: drop-shadow(0px 1px 2px rgba(0, 0, 0, 0.3));\n",
              "      fill: #FFFFFF;\n",
              "    }\n",
              "  </style>\n",
              "\n",
              "      <script>\n",
              "        const buttonEl =\n",
              "          document.querySelector('#df-9eb39136-5219-4c49-ade3-e5368ea4821f button.colab-df-convert');\n",
              "        buttonEl.style.display =\n",
              "          google.colab.kernel.accessAllowed ? 'block' : 'none';\n",
              "\n",
              "        async function convertToInteractive(key) {\n",
              "          const element = document.querySelector('#df-9eb39136-5219-4c49-ade3-e5368ea4821f');\n",
              "          const dataTable =\n",
              "            await google.colab.kernel.invokeFunction('convertToInteractive',\n",
              "                                                     [key], {});\n",
              "          if (!dataTable) return;\n",
              "\n",
              "          const docLinkHtml = 'Like what you see? Visit the ' +\n",
              "            '<a target=\"_blank\" href=https://colab.research.google.com/notebooks/data_table.ipynb>data table notebook</a>'\n",
              "            + ' to learn more about interactive tables.';\n",
              "          element.innerHTML = '';\n",
              "          dataTable['output_type'] = 'display_data';\n",
              "          await google.colab.output.renderOutput(dataTable, element);\n",
              "          const docLink = document.createElement('div');\n",
              "          docLink.innerHTML = docLinkHtml;\n",
              "          element.appendChild(docLink);\n",
              "        }\n",
              "      </script>\n",
              "    </div>\n",
              "  </div>\n",
              "  "
            ]
          },
          "metadata": {},
          "execution_count": 35
        }
      ]
    },
    {
      "cell_type": "code",
      "source": [
        "#Principais estatísticas usando a função describe\n",
        "brasil_macro.describe()"
      ],
      "metadata": {
        "id": "j-43SJM42b0W",
        "colab": {
          "base_uri": "https://localhost:8080/",
          "height": 362
        },
        "outputId": "6db2f274-a5b6-4815-f024-d2678cb36b72"
      },
      "execution_count": null,
      "outputs": [
        {
          "output_type": "execute_result",
          "data": {
            "text/plain": [
              "       NÚMERO DE POSTOS PESQUISADOS  PREÇO MÉDIO REVENDA  \\\n",
              "count                       6.00000             6.000000   \n",
              "mean                    21196.00000             5.248333   \n",
              "std                      3526.39907             0.907225   \n",
              "min                     16343.00000             3.950000   \n",
              "25%                     19445.25000             4.617500   \n",
              "50%                     20791.00000             5.470000   \n",
              "75%                     23070.50000             5.925000   \n",
              "max                     26424.00000             6.190000   \n",
              "\n",
              "       DESVIO PADRÃO REVENDA  PREÇO MÍNIMO REVENDA  PREÇO MÁXIMO REVENDA  \\\n",
              "count               6.000000              6.000000              6.000000   \n",
              "mean                0.520333              4.075000              8.408333   \n",
              "std                 0.148762              0.828342              0.749864   \n",
              "min                 0.356000              2.890000              7.190000   \n",
              "25%                 0.408500              3.575000              8.047500   \n",
              "50%                 0.500000              4.130000              8.635000   \n",
              "75%                 0.613250              4.722500              8.802500   \n",
              "max                 0.737000              4.990000              9.280000   \n",
              "\n",
              "       COEF DE VARIAÇÃO REVENDA  \n",
              "count                  6.000000  \n",
              "mean                   0.105167  \n",
              "std                    0.047956  \n",
              "min                    0.066000  \n",
              "25%                    0.072000  \n",
              "50%                    0.081500  \n",
              "75%                    0.143500  \n",
              "max                    0.169000  "
            ],
            "text/html": [
              "\n",
              "  <div id=\"df-614552bf-1f17-4ff8-a10f-80862a08077e\">\n",
              "    <div class=\"colab-df-container\">\n",
              "      <div>\n",
              "<style scoped>\n",
              "    .dataframe tbody tr th:only-of-type {\n",
              "        vertical-align: middle;\n",
              "    }\n",
              "\n",
              "    .dataframe tbody tr th {\n",
              "        vertical-align: top;\n",
              "    }\n",
              "\n",
              "    .dataframe thead th {\n",
              "        text-align: right;\n",
              "    }\n",
              "</style>\n",
              "<table border=\"1\" class=\"dataframe\">\n",
              "  <thead>\n",
              "    <tr style=\"text-align: right;\">\n",
              "      <th></th>\n",
              "      <th>NÚMERO DE POSTOS PESQUISADOS</th>\n",
              "      <th>PREÇO MÉDIO REVENDA</th>\n",
              "      <th>DESVIO PADRÃO REVENDA</th>\n",
              "      <th>PREÇO MÍNIMO REVENDA</th>\n",
              "      <th>PREÇO MÁXIMO REVENDA</th>\n",
              "      <th>COEF DE VARIAÇÃO REVENDA</th>\n",
              "    </tr>\n",
              "  </thead>\n",
              "  <tbody>\n",
              "    <tr>\n",
              "      <th>count</th>\n",
              "      <td>6.00000</td>\n",
              "      <td>6.000000</td>\n",
              "      <td>6.000000</td>\n",
              "      <td>6.000000</td>\n",
              "      <td>6.000000</td>\n",
              "      <td>6.000000</td>\n",
              "    </tr>\n",
              "    <tr>\n",
              "      <th>mean</th>\n",
              "      <td>21196.00000</td>\n",
              "      <td>5.248333</td>\n",
              "      <td>0.520333</td>\n",
              "      <td>4.075000</td>\n",
              "      <td>8.408333</td>\n",
              "      <td>0.105167</td>\n",
              "    </tr>\n",
              "    <tr>\n",
              "      <th>std</th>\n",
              "      <td>3526.39907</td>\n",
              "      <td>0.907225</td>\n",
              "      <td>0.148762</td>\n",
              "      <td>0.828342</td>\n",
              "      <td>0.749864</td>\n",
              "      <td>0.047956</td>\n",
              "    </tr>\n",
              "    <tr>\n",
              "      <th>min</th>\n",
              "      <td>16343.00000</td>\n",
              "      <td>3.950000</td>\n",
              "      <td>0.356000</td>\n",
              "      <td>2.890000</td>\n",
              "      <td>7.190000</td>\n",
              "      <td>0.066000</td>\n",
              "    </tr>\n",
              "    <tr>\n",
              "      <th>25%</th>\n",
              "      <td>19445.25000</td>\n",
              "      <td>4.617500</td>\n",
              "      <td>0.408500</td>\n",
              "      <td>3.575000</td>\n",
              "      <td>8.047500</td>\n",
              "      <td>0.072000</td>\n",
              "    </tr>\n",
              "    <tr>\n",
              "      <th>50%</th>\n",
              "      <td>20791.00000</td>\n",
              "      <td>5.470000</td>\n",
              "      <td>0.500000</td>\n",
              "      <td>4.130000</td>\n",
              "      <td>8.635000</td>\n",
              "      <td>0.081500</td>\n",
              "    </tr>\n",
              "    <tr>\n",
              "      <th>75%</th>\n",
              "      <td>23070.50000</td>\n",
              "      <td>5.925000</td>\n",
              "      <td>0.613250</td>\n",
              "      <td>4.722500</td>\n",
              "      <td>8.802500</td>\n",
              "      <td>0.143500</td>\n",
              "    </tr>\n",
              "    <tr>\n",
              "      <th>max</th>\n",
              "      <td>26424.00000</td>\n",
              "      <td>6.190000</td>\n",
              "      <td>0.737000</td>\n",
              "      <td>4.990000</td>\n",
              "      <td>9.280000</td>\n",
              "      <td>0.169000</td>\n",
              "    </tr>\n",
              "  </tbody>\n",
              "</table>\n",
              "</div>\n",
              "      <button class=\"colab-df-convert\" onclick=\"convertToInteractive('df-614552bf-1f17-4ff8-a10f-80862a08077e')\"\n",
              "              title=\"Convert this dataframe to an interactive table.\"\n",
              "              style=\"display:none;\">\n",
              "        \n",
              "  <svg xmlns=\"http://www.w3.org/2000/svg\" height=\"24px\"viewBox=\"0 0 24 24\"\n",
              "       width=\"24px\">\n",
              "    <path d=\"M0 0h24v24H0V0z\" fill=\"none\"/>\n",
              "    <path d=\"M18.56 5.44l.94 2.06.94-2.06 2.06-.94-2.06-.94-.94-2.06-.94 2.06-2.06.94zm-11 1L8.5 8.5l.94-2.06 2.06-.94-2.06-.94L8.5 2.5l-.94 2.06-2.06.94zm10 10l.94 2.06.94-2.06 2.06-.94-2.06-.94-.94-2.06-.94 2.06-2.06.94z\"/><path d=\"M17.41 7.96l-1.37-1.37c-.4-.4-.92-.59-1.43-.59-.52 0-1.04.2-1.43.59L10.3 9.45l-7.72 7.72c-.78.78-.78 2.05 0 2.83L4 21.41c.39.39.9.59 1.41.59.51 0 1.02-.2 1.41-.59l7.78-7.78 2.81-2.81c.8-.78.8-2.07 0-2.86zM5.41 20L4 18.59l7.72-7.72 1.47 1.35L5.41 20z\"/>\n",
              "  </svg>\n",
              "      </button>\n",
              "      \n",
              "  <style>\n",
              "    .colab-df-container {\n",
              "      display:flex;\n",
              "      flex-wrap:wrap;\n",
              "      gap: 12px;\n",
              "    }\n",
              "\n",
              "    .colab-df-convert {\n",
              "      background-color: #E8F0FE;\n",
              "      border: none;\n",
              "      border-radius: 50%;\n",
              "      cursor: pointer;\n",
              "      display: none;\n",
              "      fill: #1967D2;\n",
              "      height: 32px;\n",
              "      padding: 0 0 0 0;\n",
              "      width: 32px;\n",
              "    }\n",
              "\n",
              "    .colab-df-convert:hover {\n",
              "      background-color: #E2EBFA;\n",
              "      box-shadow: 0px 1px 2px rgba(60, 64, 67, 0.3), 0px 1px 3px 1px rgba(60, 64, 67, 0.15);\n",
              "      fill: #174EA6;\n",
              "    }\n",
              "\n",
              "    [theme=dark] .colab-df-convert {\n",
              "      background-color: #3B4455;\n",
              "      fill: #D2E3FC;\n",
              "    }\n",
              "\n",
              "    [theme=dark] .colab-df-convert:hover {\n",
              "      background-color: #434B5C;\n",
              "      box-shadow: 0px 1px 3px 1px rgba(0, 0, 0, 0.15);\n",
              "      filter: drop-shadow(0px 1px 2px rgba(0, 0, 0, 0.3));\n",
              "      fill: #FFFFFF;\n",
              "    }\n",
              "  </style>\n",
              "\n",
              "      <script>\n",
              "        const buttonEl =\n",
              "          document.querySelector('#df-614552bf-1f17-4ff8-a10f-80862a08077e button.colab-df-convert');\n",
              "        buttonEl.style.display =\n",
              "          google.colab.kernel.accessAllowed ? 'block' : 'none';\n",
              "\n",
              "        async function convertToInteractive(key) {\n",
              "          const element = document.querySelector('#df-614552bf-1f17-4ff8-a10f-80862a08077e');\n",
              "          const dataTable =\n",
              "            await google.colab.kernel.invokeFunction('convertToInteractive',\n",
              "                                                     [key], {});\n",
              "          if (!dataTable) return;\n",
              "\n",
              "          const docLinkHtml = 'Like what you see? Visit the ' +\n",
              "            '<a target=\"_blank\" href=https://colab.research.google.com/notebooks/data_table.ipynb>data table notebook</a>'\n",
              "            + ' to learn more about interactive tables.';\n",
              "          element.innerHTML = '';\n",
              "          dataTable['output_type'] = 'display_data';\n",
              "          await google.colab.output.renderOutput(dataTable, element);\n",
              "          const docLink = document.createElement('div');\n",
              "          docLink.innerHTML = docLinkHtml;\n",
              "          element.appendChild(docLink);\n",
              "        }\n",
              "      </script>\n",
              "    </div>\n",
              "  </div>\n",
              "  "
            ]
          },
          "metadata": {},
          "execution_count": 36
        }
      ]
    },
    {
      "cell_type": "code",
      "source": [
        "brasil_macro_completo.describe()"
      ],
      "metadata": {
        "id": "WUV2GXBkDAqF",
        "colab": {
          "base_uri": "https://localhost:8080/",
          "height": 362
        },
        "outputId": "9f021c7b-23bd-4058-9da3-feb438a79060"
      },
      "execution_count": null,
      "outputs": [
        {
          "output_type": "execute_result",
          "data": {
            "text/plain": [
              "       NÚMERO DE POSTOS PESQUISADOS  PREÇO MÉDIO REVENDA  \\\n",
              "count                     24.000000            24.000000   \n",
              "mean                   19844.666667             6.097167   \n",
              "std                     3066.605681             1.099303   \n",
              "min                    14967.000000             3.950000   \n",
              "25%                    17627.000000             5.212000   \n",
              "50%                    19792.500000             6.395000   \n",
              "75%                    21603.500000             7.152750   \n",
              "max                    26424.000000             7.390000   \n",
              "\n",
              "       DESVIO PADRÃO REVENDA  PREÇO MÍNIMO REVENDA  PREÇO MÁXIMO REVENDA  \\\n",
              "count               24.00000             24.000000             24.000000   \n",
              "mean                 0.50000              4.900458              8.456958   \n",
              "std                  0.12082              1.030865              0.589923   \n",
              "min                  0.35600              2.890000              7.190000   \n",
              "25%                  0.40150              4.099000              7.900000   \n",
              "50%                  0.48250              5.090000              8.649000   \n",
              "75%                  0.56425              5.699000              8.990000   \n",
              "max                  0.76600              6.379000              9.280000   \n",
              "\n",
              "       COEF DE VARIAÇÃO REVENDA  \n",
              "count                 24.000000  \n",
              "mean                   0.087750  \n",
              "std                    0.037927  \n",
              "min                    0.054000  \n",
              "25%                    0.057750  \n",
              "50%                    0.070000  \n",
              "75%                    0.112250  \n",
              "max                    0.169000  "
            ],
            "text/html": [
              "\n",
              "  <div id=\"df-d7f70635-f447-45d7-99e0-180de3781754\">\n",
              "    <div class=\"colab-df-container\">\n",
              "      <div>\n",
              "<style scoped>\n",
              "    .dataframe tbody tr th:only-of-type {\n",
              "        vertical-align: middle;\n",
              "    }\n",
              "\n",
              "    .dataframe tbody tr th {\n",
              "        vertical-align: top;\n",
              "    }\n",
              "\n",
              "    .dataframe thead th {\n",
              "        text-align: right;\n",
              "    }\n",
              "</style>\n",
              "<table border=\"1\" class=\"dataframe\">\n",
              "  <thead>\n",
              "    <tr style=\"text-align: right;\">\n",
              "      <th></th>\n",
              "      <th>NÚMERO DE POSTOS PESQUISADOS</th>\n",
              "      <th>PREÇO MÉDIO REVENDA</th>\n",
              "      <th>DESVIO PADRÃO REVENDA</th>\n",
              "      <th>PREÇO MÍNIMO REVENDA</th>\n",
              "      <th>PREÇO MÁXIMO REVENDA</th>\n",
              "      <th>COEF DE VARIAÇÃO REVENDA</th>\n",
              "    </tr>\n",
              "  </thead>\n",
              "  <tbody>\n",
              "    <tr>\n",
              "      <th>count</th>\n",
              "      <td>24.000000</td>\n",
              "      <td>24.000000</td>\n",
              "      <td>24.00000</td>\n",
              "      <td>24.000000</td>\n",
              "      <td>24.000000</td>\n",
              "      <td>24.000000</td>\n",
              "    </tr>\n",
              "    <tr>\n",
              "      <th>mean</th>\n",
              "      <td>19844.666667</td>\n",
              "      <td>6.097167</td>\n",
              "      <td>0.50000</td>\n",
              "      <td>4.900458</td>\n",
              "      <td>8.456958</td>\n",
              "      <td>0.087750</td>\n",
              "    </tr>\n",
              "    <tr>\n",
              "      <th>std</th>\n",
              "      <td>3066.605681</td>\n",
              "      <td>1.099303</td>\n",
              "      <td>0.12082</td>\n",
              "      <td>1.030865</td>\n",
              "      <td>0.589923</td>\n",
              "      <td>0.037927</td>\n",
              "    </tr>\n",
              "    <tr>\n",
              "      <th>min</th>\n",
              "      <td>14967.000000</td>\n",
              "      <td>3.950000</td>\n",
              "      <td>0.35600</td>\n",
              "      <td>2.890000</td>\n",
              "      <td>7.190000</td>\n",
              "      <td>0.054000</td>\n",
              "    </tr>\n",
              "    <tr>\n",
              "      <th>25%</th>\n",
              "      <td>17627.000000</td>\n",
              "      <td>5.212000</td>\n",
              "      <td>0.40150</td>\n",
              "      <td>4.099000</td>\n",
              "      <td>7.900000</td>\n",
              "      <td>0.057750</td>\n",
              "    </tr>\n",
              "    <tr>\n",
              "      <th>50%</th>\n",
              "      <td>19792.500000</td>\n",
              "      <td>6.395000</td>\n",
              "      <td>0.48250</td>\n",
              "      <td>5.090000</td>\n",
              "      <td>8.649000</td>\n",
              "      <td>0.070000</td>\n",
              "    </tr>\n",
              "    <tr>\n",
              "      <th>75%</th>\n",
              "      <td>21603.500000</td>\n",
              "      <td>7.152750</td>\n",
              "      <td>0.56425</td>\n",
              "      <td>5.699000</td>\n",
              "      <td>8.990000</td>\n",
              "      <td>0.112250</td>\n",
              "    </tr>\n",
              "    <tr>\n",
              "      <th>max</th>\n",
              "      <td>26424.000000</td>\n",
              "      <td>7.390000</td>\n",
              "      <td>0.76600</td>\n",
              "      <td>6.379000</td>\n",
              "      <td>9.280000</td>\n",
              "      <td>0.169000</td>\n",
              "    </tr>\n",
              "  </tbody>\n",
              "</table>\n",
              "</div>\n",
              "      <button class=\"colab-df-convert\" onclick=\"convertToInteractive('df-d7f70635-f447-45d7-99e0-180de3781754')\"\n",
              "              title=\"Convert this dataframe to an interactive table.\"\n",
              "              style=\"display:none;\">\n",
              "        \n",
              "  <svg xmlns=\"http://www.w3.org/2000/svg\" height=\"24px\"viewBox=\"0 0 24 24\"\n",
              "       width=\"24px\">\n",
              "    <path d=\"M0 0h24v24H0V0z\" fill=\"none\"/>\n",
              "    <path d=\"M18.56 5.44l.94 2.06.94-2.06 2.06-.94-2.06-.94-.94-2.06-.94 2.06-2.06.94zm-11 1L8.5 8.5l.94-2.06 2.06-.94-2.06-.94L8.5 2.5l-.94 2.06-2.06.94zm10 10l.94 2.06.94-2.06 2.06-.94-2.06-.94-.94-2.06-.94 2.06-2.06.94z\"/><path d=\"M17.41 7.96l-1.37-1.37c-.4-.4-.92-.59-1.43-.59-.52 0-1.04.2-1.43.59L10.3 9.45l-7.72 7.72c-.78.78-.78 2.05 0 2.83L4 21.41c.39.39.9.59 1.41.59.51 0 1.02-.2 1.41-.59l7.78-7.78 2.81-2.81c.8-.78.8-2.07 0-2.86zM5.41 20L4 18.59l7.72-7.72 1.47 1.35L5.41 20z\"/>\n",
              "  </svg>\n",
              "      </button>\n",
              "      \n",
              "  <style>\n",
              "    .colab-df-container {\n",
              "      display:flex;\n",
              "      flex-wrap:wrap;\n",
              "      gap: 12px;\n",
              "    }\n",
              "\n",
              "    .colab-df-convert {\n",
              "      background-color: #E8F0FE;\n",
              "      border: none;\n",
              "      border-radius: 50%;\n",
              "      cursor: pointer;\n",
              "      display: none;\n",
              "      fill: #1967D2;\n",
              "      height: 32px;\n",
              "      padding: 0 0 0 0;\n",
              "      width: 32px;\n",
              "    }\n",
              "\n",
              "    .colab-df-convert:hover {\n",
              "      background-color: #E2EBFA;\n",
              "      box-shadow: 0px 1px 2px rgba(60, 64, 67, 0.3), 0px 1px 3px 1px rgba(60, 64, 67, 0.15);\n",
              "      fill: #174EA6;\n",
              "    }\n",
              "\n",
              "    [theme=dark] .colab-df-convert {\n",
              "      background-color: #3B4455;\n",
              "      fill: #D2E3FC;\n",
              "    }\n",
              "\n",
              "    [theme=dark] .colab-df-convert:hover {\n",
              "      background-color: #434B5C;\n",
              "      box-shadow: 0px 1px 3px 1px rgba(0, 0, 0, 0.15);\n",
              "      filter: drop-shadow(0px 1px 2px rgba(0, 0, 0, 0.3));\n",
              "      fill: #FFFFFF;\n",
              "    }\n",
              "  </style>\n",
              "\n",
              "      <script>\n",
              "        const buttonEl =\n",
              "          document.querySelector('#df-d7f70635-f447-45d7-99e0-180de3781754 button.colab-df-convert');\n",
              "        buttonEl.style.display =\n",
              "          google.colab.kernel.accessAllowed ? 'block' : 'none';\n",
              "\n",
              "        async function convertToInteractive(key) {\n",
              "          const element = document.querySelector('#df-d7f70635-f447-45d7-99e0-180de3781754');\n",
              "          const dataTable =\n",
              "            await google.colab.kernel.invokeFunction('convertToInteractive',\n",
              "                                                     [key], {});\n",
              "          if (!dataTable) return;\n",
              "\n",
              "          const docLinkHtml = 'Like what you see? Visit the ' +\n",
              "            '<a target=\"_blank\" href=https://colab.research.google.com/notebooks/data_table.ipynb>data table notebook</a>'\n",
              "            + ' to learn more about interactive tables.';\n",
              "          element.innerHTML = '';\n",
              "          dataTable['output_type'] = 'display_data';\n",
              "          await google.colab.output.renderOutput(dataTable, element);\n",
              "          const docLink = document.createElement('div');\n",
              "          docLink.innerHTML = docLinkHtml;\n",
              "          element.appendChild(docLink);\n",
              "        }\n",
              "      </script>\n",
              "    </div>\n",
              "  </div>\n",
              "  "
            ]
          },
          "metadata": {},
          "execution_count": 37
        }
      ]
    },
    {
      "cell_type": "markdown",
      "source": [
        "### **Conclusão das medidas descritivas:**"
      ],
      "metadata": {
        "id": "4-C-QH3_DmXM"
      }
    },
    {
      "cell_type": "markdown",
      "source": [
        "### **5.5 -Boxplots - verificando outliers**"
      ],
      "metadata": {
        "id": "zvEjQQ5-eVUQ"
      }
    },
    {
      "cell_type": "code",
      "source": [
        "#Boxplot para a brasil_micro\n",
        "#Número de postos pesquisados\n",
        "\n",
        "bp1 = pd.DataFrame(brasil_micro, columns=[\"NÚMERO DE POSTOS PESQUISADOS\"])\n",
        "bp1.plot.box(vert=False);\n",
        "\n"
      ],
      "metadata": {
        "id": "mGDZxjbJD9vk",
        "colab": {
          "base_uri": "https://localhost:8080/",
          "height": 265
        },
        "outputId": "9d1fd106-1b1d-4a55-e6f1-b9cf719508fc"
      },
      "execution_count": null,
      "outputs": [
        {
          "output_type": "display_data",
          "data": {
            "text/plain": [
              "<Figure size 432x288 with 1 Axes>"
            ],
            "image/png": "[encoded data removed]"
          },
          "metadata": {
            "needs_background": "light"
          }
        }
      ]
    },
    {
      "cell_type": "code",
      "source": [
        "#Boxplot para a brasil_micro\n",
        "#Todos os combustíveis\n",
        "\n",
        "bp2 = pd.DataFrame(brasil_micro, columns=[\"PREÇO MÉDIO REVENDA\", \"PREÇO MÍNIMO REVENDA\", \"PREÇO MÁXIMO REVENDA\"])\n",
        "bp2.plot.box(vert=False);"
      ],
      "metadata": {
        "id": "ftbIJusZLM-f",
        "colab": {
          "base_uri": "https://localhost:8080/",
          "height": 265
        },
        "outputId": "03ec9866-730f-4655-859d-390239406425"
      },
      "execution_count": null,
      "outputs": [
        {
          "output_type": "display_data",
          "data": {
            "text/plain": [
              "<Figure size 432x288 with 1 Axes>"
            ],
            "image/png": "[encoded data removed]"
          },
          "metadata": {
            "needs_background": "light"
          }
        }
      ]
    },
    {
      "cell_type": "code",
      "source": [
        "#Boxplot para brasil_micro_postos\n",
        "#Todos os combustíveis\n",
        "bp8 = pd.DataFrame(brasil_micro_postos, columns=[\"Valor de Venda\"])\n",
        "bp8.plot.box(vert=False);\n"
      ],
      "metadata": {
        "colab": {
          "base_uri": "https://localhost:8080/",
          "height": 265
        },
        "id": "blJWZenscBbU",
        "outputId": "18351476-ea2a-46e4-bfa6-596e67c07576"
      },
      "execution_count": null,
      "outputs": [
        {
          "output_type": "display_data",
          "data": {
            "text/plain": [
              "<Figure size 432x288 with 1 Axes>"
            ],
            "image/png": "[encoded data removed]"
          },
          "metadata": {
            "needs_background": "light"
          }
        }
      ]
    },
    {
      "cell_type": "code",
      "source": [
        "#Boxplot para a brasil_micro\n",
        "#Gasolina comum\n",
        "\n",
        "gasolina_comum = brasil_micro.loc['GASOLINA COMUM'] \n",
        "bp3 = pd.DataFrame(gasolina_comum, columns=[\"PREÇO MÉDIO REVENDA\", \"PREÇO MÍNIMO REVENDA\", \"PREÇO MÁXIMO REVENDA\"])\n",
        "bp3.plot.box(vert=False);"
      ],
      "metadata": {
        "id": "hyzxcA7qPaYA",
        "colab": {
          "base_uri": "https://localhost:8080/",
          "height": 265
        },
        "outputId": "f717fdbe-463d-4dd2-d386-545e132a97cd"
      },
      "execution_count": null,
      "outputs": [
        {
          "output_type": "display_data",
          "data": {
            "text/plain": [
              "<Figure size 432x288 with 1 Axes>"
            ],
            "image/png": "[encoded data removed]"
          },
          "metadata": {
            "needs_background": "light"
          }
        }
      ]
    },
    {
      "cell_type": "code",
      "source": [
        "#Boxplot para a brasil_micro\n",
        "#Gasolina aditivada\n",
        "\n",
        "gasolina_aditivada = brasil_micro.loc['GASOLINA ADITIVADA'] \n",
        "bp4 = pd.DataFrame(gasolina_aditivada, columns=[\"PREÇO MÉDIO REVENDA\", \"PREÇO MÍNIMO REVENDA\", \"PREÇO MÁXIMO REVENDA\"])\n",
        "bp4.plot.box(vert=False);"
      ],
      "metadata": {
        "id": "LHpUzSUpP7hy",
        "colab": {
          "base_uri": "https://localhost:8080/",
          "height": 265
        },
        "outputId": "cc750c86-970b-49c7-8b15-20b659944d73"
      },
      "execution_count": null,
      "outputs": [
        {
          "output_type": "display_data",
          "data": {
            "text/plain": [
              "<Figure size 432x288 with 1 Axes>"
            ],
            "image/png": "[encoded data removed]"
          },
          "metadata": {
            "needs_background": "light"
          }
        }
      ]
    },
    {
      "cell_type": "code",
      "source": [
        "#Boxplot para a brasil_micro\n",
        "#Etanol\n",
        "etanol = brasil_micro.loc['ETANOL HIDRATADO']\n",
        "bp5 = pd.DataFrame(etanol, columns=[\"PREÇO MÉDIO REVENDA\", \"PREÇO MÍNIMO REVENDA\", \"PREÇO MÁXIMO REVENDA\"])\n",
        "bp5.plot.box(vert=False);"
      ],
      "metadata": {
        "id": "tz9iIoL1QaSS",
        "colab": {
          "base_uri": "https://localhost:8080/",
          "height": 265
        },
        "outputId": "a1be44ca-64b6-4a3c-f437-c7332030b73a"
      },
      "execution_count": null,
      "outputs": [
        {
          "output_type": "display_data",
          "data": {
            "text/plain": [
              "<Figure size 432x288 with 1 Axes>"
            ],
            "image/png": "[encoded data removed]"
          },
          "metadata": {
            "needs_background": "light"
          }
        }
      ]
    },
    {
      "cell_type": "code",
      "source": [
        "#Brasil_micro_postos\n",
        "# Gasolina comum\n",
        "\n",
        "gasolina_comum_2 = brasil_micro_postos.loc['GASOLINA']\n",
        "bp9 = pd.DataFrame(gasolina_comum_2, columns=[\"Valor de Venda\"])\n",
        "bp9.plot.box(vert=False); \n",
        "\n"
      ],
      "metadata": {
        "colab": {
          "base_uri": "https://localhost:8080/",
          "height": 265
        },
        "id": "jmk2IRkxcZ2F",
        "outputId": "21c6478e-8e79-4cb8-ab6b-80225433cc29"
      },
      "execution_count": null,
      "outputs": [
        {
          "output_type": "display_data",
          "data": {
            "text/plain": [
              "<Figure size 432x288 with 1 Axes>"
            ],
            "image/png": "[encoded data removed]"
          },
          "metadata": {
            "needs_background": "light"
          }
        }
      ]
    },
    {
      "cell_type": "code",
      "source": [
        "#Brasil_micro_postos\n",
        "# Gasolina aditivada\n",
        "\n",
        "gasolina_aditivada_2 = brasil_micro_postos.loc['GASOLINA ADITIVADA'] \n",
        "bp10 = pd.DataFrame(gasolina_aditivada_2, columns=[\"Valor de Venda\"])\n",
        "bp10.plot.box(vert=False);"
      ],
      "metadata": {
        "colab": {
          "base_uri": "https://localhost:8080/",
          "height": 265
        },
        "outputId": "30ffaa9f-1f27-4f9e-a4db-039e17d74c90",
        "id": "rjvEbdkdc8_X"
      },
      "execution_count": null,
      "outputs": [
        {
          "output_type": "display_data",
          "data": {
            "text/plain": [
              "<Figure size 432x288 with 1 Axes>"
            ],
            "image/png": "[encoded data removed]"
          },
          "metadata": {
            "needs_background": "light"
          }
        }
      ]
    },
    {
      "cell_type": "code",
      "source": [
        "#Brasil_micro_postos\n",
        "# Etanol\n",
        "\n",
        "etanol_2 = brasil_micro_postos.loc['ETANOL']\n",
        "bp10 = pd.DataFrame(etanol_2, columns=[\"Valor de Venda\"])\n",
        "bp10.plot.box(vert=False);\n"
      ],
      "metadata": {
        "colab": {
          "base_uri": "https://localhost:8080/",
          "height": 265
        },
        "id": "d5xp8-s_dqfr",
        "outputId": "ec35311b-9fca-471f-8511-fd04a108b40e"
      },
      "execution_count": null,
      "outputs": [
        {
          "output_type": "display_data",
          "data": {
            "text/plain": [
              "<Figure size 432x288 with 1 Axes>"
            ],
            "image/png": "[encoded data removed]"
          },
          "metadata": {
            "needs_background": "light"
          }
        }
      ]
    },
    {
      "cell_type": "code",
      "source": [
        "#Boxplot para brasil_macro\n",
        "#Número de postos pesquisados\n",
        "bp6 = pd.DataFrame(brasil_macro, columns=[\"NÚMERO DE POSTOS PESQUISADOS\"])\n",
        "bp6.plot.box(vert=False);"
      ],
      "metadata": {
        "id": "bTFE2GqYMVCL",
        "colab": {
          "base_uri": "https://localhost:8080/",
          "height": 265
        },
        "outputId": "1dad86a1-6dce-4368-d600-1c7b96aef34b"
      },
      "execution_count": null,
      "outputs": [
        {
          "output_type": "display_data",
          "data": {
            "text/plain": [
              "<Figure size 432x288 with 1 Axes>"
            ],
            "image/png": "[encoded data removed]"
          },
          "metadata": {
            "needs_background": "light"
          }
        }
      ]
    },
    {
      "cell_type": "code",
      "source": [
        "#Boxplot para brasil_macro\n",
        "#Todos os combustíveis\n",
        "bp7 = pd.DataFrame(brasil_macro, columns=[\"PREÇO MÉDIO REVENDA\", \"PREÇO MÍNIMO REVENDA\", \"PREÇO MÁXIMO REVENDA\"])\n",
        "bp7.plot.box(vert=False);"
      ],
      "metadata": {
        "id": "KWGr6mJqMkKz",
        "colab": {
          "base_uri": "https://localhost:8080/",
          "height": 265
        },
        "outputId": "af56bea5-f158-4bae-e432-e80da8df2273"
      },
      "execution_count": null,
      "outputs": [
        {
          "output_type": "display_data",
          "data": {
            "text/plain": [
              "<Figure size 432x288 with 1 Axes>"
            ],
            "image/png": "[encoded data removed]"
          },
          "metadata": {
            "needs_background": "light"
          }
        }
      ]
    },
    {
      "cell_type": "markdown",
      "source": [
        "### **Conclusão dos boxplots**"
      ],
      "metadata": {
        "id": "Cz3FwYMg8YbN"
      }
    },
    {
      "cell_type": "markdown",
      "source": [
        "# **5. Análise Exploratória**"
      ],
      "metadata": {
        "id": "hiI02uOd64LL"
      }
    },
    {
      "cell_type": "markdown",
      "source": [
        "### **[FALTA TRANSFORMAR EM DATETIME] 1ª Pergunta Extra: Como se comportaram o preço médio dos combustíveis ao longo de 2022 (jan-ago) no país? Qual a tendência observada?**"
      ],
      "metadata": {
        "id": "YkRzBrP93Jiv"
      }
    },
    {
      "cell_type": "code",
      "source": [
        "brasil_gasolina_comum_22 = brasil_macro_completo.loc['GASOLINA COMUM']\n",
        "brasil_gasolina_aditivada_22 = brasil_macro_completo.loc['GASOLINA ADITIVADA']\n",
        "brasil_etanol_22 = brasil_macro_completo.loc['ETANOL HIDRATADO']"
      ],
      "metadata": {
        "id": "AFmyAxrI3IOf"
      },
      "execution_count": null,
      "outputs": []
    },
    {
      "cell_type": "code",
      "source": [
        "#TODOS OS COMBUSTÍVES\n",
        "\n",
        "brasil_macro_completo.groupby('MÊS')[['PREÇO MÉDIO REVENDA']].mean().sort_values(by='MÊS')"
      ],
      "metadata": {
        "id": "VGWiMRhVKAUi",
        "colab": {
          "base_uri": "https://localhost:8080/",
          "height": 332
        },
        "outputId": "c49cbe78-1cf4-4651-dc41-62515431f726"
      },
      "execution_count": null,
      "outputs": [
        {
          "output_type": "execute_result",
          "data": {
            "text/plain": [
              "         PREÇO MÉDIO REVENDA\n",
              "MÊS                         \n",
              "abr.-22             6.638333\n",
              "ago.-22             4.963333\n",
              "fev.-22             6.023667\n",
              "jan.-22             6.146667\n",
              "jul.-22             5.533333\n",
              "jun.-22             6.500000\n",
              "mai.-22             6.646667\n",
              "mar.-22             6.325333"
            ],
            "text/html": [
              "\n",
              "  <div id=\"df-848bd26d-b194-4c82-9b11-2eb7e10b5400\">\n",
              "    <div class=\"colab-df-container\">\n",
              "      <div>\n",
              "<style scoped>\n",
              "    .dataframe tbody tr th:only-of-type {\n",
              "        vertical-align: middle;\n",
              "    }\n",
              "\n",
              "    .dataframe tbody tr th {\n",
              "        vertical-align: top;\n",
              "    }\n",
              "\n",
              "    .dataframe thead th {\n",
              "        text-align: right;\n",
              "    }\n",
              "</style>\n",
              "<table border=\"1\" class=\"dataframe\">\n",
              "  <thead>\n",
              "    <tr style=\"text-align: right;\">\n",
              "      <th></th>\n",
              "      <th>PREÇO MÉDIO REVENDA</th>\n",
              "    </tr>\n",
              "    <tr>\n",
              "      <th>MÊS</th>\n",
              "      <th></th>\n",
              "    </tr>\n",
              "  </thead>\n",
              "  <tbody>\n",
              "    <tr>\n",
              "      <th>abr.-22</th>\n",
              "      <td>6.638333</td>\n",
              "    </tr>\n",
              "    <tr>\n",
              "      <th>ago.-22</th>\n",
              "      <td>4.963333</td>\n",
              "    </tr>\n",
              "    <tr>\n",
              "      <th>fev.-22</th>\n",
              "      <td>6.023667</td>\n",
              "    </tr>\n",
              "    <tr>\n",
              "      <th>jan.-22</th>\n",
              "      <td>6.146667</td>\n",
              "    </tr>\n",
              "    <tr>\n",
              "      <th>jul.-22</th>\n",
              "      <td>5.533333</td>\n",
              "    </tr>\n",
              "    <tr>\n",
              "      <th>jun.-22</th>\n",
              "      <td>6.500000</td>\n",
              "    </tr>\n",
              "    <tr>\n",
              "      <th>mai.-22</th>\n",
              "      <td>6.646667</td>\n",
              "    </tr>\n",
              "    <tr>\n",
              "      <th>mar.-22</th>\n",
              "      <td>6.325333</td>\n",
              "    </tr>\n",
              "  </tbody>\n",
              "</table>\n",
              "</div>\n",
              "      <button class=\"colab-df-convert\" onclick=\"convertToInteractive('df-848bd26d-b194-4c82-9b11-2eb7e10b5400')\"\n",
              "              title=\"Convert this dataframe to an interactive table.\"\n",
              "              style=\"display:none;\">\n",
              "        \n",
              "  <svg xmlns=\"http://www.w3.org/2000/svg\" height=\"24px\"viewBox=\"0 0 24 24\"\n",
              "       width=\"24px\">\n",
              "    <path d=\"M0 0h24v24H0V0z\" fill=\"none\"/>\n",
              "    <path d=\"M18.56 5.44l.94 2.06.94-2.06 2.06-.94-2.06-.94-.94-2.06-.94 2.06-2.06.94zm-11 1L8.5 8.5l.94-2.06 2.06-.94-2.06-.94L8.5 2.5l-.94 2.06-2.06.94zm10 10l.94 2.06.94-2.06 2.06-.94-2.06-.94-.94-2.06-.94 2.06-2.06.94z\"/><path d=\"M17.41 7.96l-1.37-1.37c-.4-.4-.92-.59-1.43-.59-.52 0-1.04.2-1.43.59L10.3 9.45l-7.72 7.72c-.78.78-.78 2.05 0 2.83L4 21.41c.39.39.9.59 1.41.59.51 0 1.02-.2 1.41-.59l7.78-7.78 2.81-2.81c.8-.78.8-2.07 0-2.86zM5.41 20L4 18.59l7.72-7.72 1.47 1.35L5.41 20z\"/>\n",
              "  </svg>\n",
              "      </button>\n",
              "      \n",
              "  <style>\n",
              "    .colab-df-container {\n",
              "      display:flex;\n",
              "      flex-wrap:wrap;\n",
              "      gap: 12px;\n",
              "    }\n",
              "\n",
              "    .colab-df-convert {\n",
              "      background-color: #E8F0FE;\n",
              "      border: none;\n",
              "      border-radius: 50%;\n",
              "      cursor: pointer;\n",
              "      display: none;\n",
              "      fill: #1967D2;\n",
              "      height: 32px;\n",
              "      padding: 0 0 0 0;\n",
              "      width: 32px;\n",
              "    }\n",
              "\n",
              "    .colab-df-convert:hover {\n",
              "      background-color: #E2EBFA;\n",
              "      box-shadow: 0px 1px 2px rgba(60, 64, 67, 0.3), 0px 1px 3px 1px rgba(60, 64, 67, 0.15);\n",
              "      fill: #174EA6;\n",
              "    }\n",
              "\n",
              "    [theme=dark] .colab-df-convert {\n",
              "      background-color: #3B4455;\n",
              "      fill: #D2E3FC;\n",
              "    }\n",
              "\n",
              "    [theme=dark] .colab-df-convert:hover {\n",
              "      background-color: #434B5C;\n",
              "      box-shadow: 0px 1px 3px 1px rgba(0, 0, 0, 0.15);\n",
              "      filter: drop-shadow(0px 1px 2px rgba(0, 0, 0, 0.3));\n",
              "      fill: #FFFFFF;\n",
              "    }\n",
              "  </style>\n",
              "\n",
              "      <script>\n",
              "        const buttonEl =\n",
              "          document.querySelector('#df-848bd26d-b194-4c82-9b11-2eb7e10b5400 button.colab-df-convert');\n",
              "        buttonEl.style.display =\n",
              "          google.colab.kernel.accessAllowed ? 'block' : 'none';\n",
              "\n",
              "        async function convertToInteractive(key) {\n",
              "          const element = document.querySelector('#df-848bd26d-b194-4c82-9b11-2eb7e10b5400');\n",
              "          const dataTable =\n",
              "            await google.colab.kernel.invokeFunction('convertToInteractive',\n",
              "                                                     [key], {});\n",
              "          if (!dataTable) return;\n",
              "\n",
              "          const docLinkHtml = 'Like what you see? Visit the ' +\n",
              "            '<a target=\"_blank\" href=https://colab.research.google.com/notebooks/data_table.ipynb>data table notebook</a>'\n",
              "            + ' to learn more about interactive tables.';\n",
              "          element.innerHTML = '';\n",
              "          dataTable['output_type'] = 'display_data';\n",
              "          await google.colab.output.renderOutput(dataTable, element);\n",
              "          const docLink = document.createElement('div');\n",
              "          docLink.innerHTML = docLinkHtml;\n",
              "          element.appendChild(docLink);\n",
              "        }\n",
              "      </script>\n",
              "    </div>\n",
              "  </div>\n",
              "  "
            ]
          },
          "metadata": {},
          "execution_count": 50
        }
      ]
    },
    {
      "cell_type": "code",
      "source": [
        "tu=brasil_macro_completo.head()\n",
        "tu\n",
        "plt.plot(tu['PRODUTO'],tu['PREÇO MÉDIO REVENDA'], marker='o',mfc='r')"
      ],
      "metadata": {
        "colab": {
          "base_uri": "https://localhost:8080/",
          "height": 502
        },
        "id": "2z-ICtTL3EAO",
        "outputId": "8633b7c5-ad2f-4990-9a09-9f4587decd0b"
      },
      "execution_count": null,
      "outputs": [
        {
          "output_type": "error",
          "ename": "KeyError",
          "evalue": "ignored",
          "traceback": [
            "\u001b[0;31m---------------------------------------------------------------------------\u001b[0m",
            "\u001b[0;31mKeyError\u001b[0m                                  Traceback (most recent call last)",
            "\u001b[0;32m/usr/local/lib/python3.7/dist-packages/pandas/core/indexes/base.py\u001b[0m in \u001b[0;36mget_loc\u001b[0;34m(self, key, method, tolerance)\u001b[0m\n\u001b[1;32m   3360\u001b[0m             \u001b[0;32mtry\u001b[0m\u001b[0;34m:\u001b[0m\u001b[0;34m\u001b[0m\u001b[0;34m\u001b[0m\u001b[0m\n\u001b[0;32m-> 3361\u001b[0;31m                 \u001b[0;32mreturn\u001b[0m \u001b[0mself\u001b[0m\u001b[0;34m.\u001b[0m\u001b[0m_engine\u001b[0m\u001b[0;34m.\u001b[0m\u001b[0mget_loc\u001b[0m\u001b[0;34m(\u001b[0m\u001b[0mcasted_key\u001b[0m\u001b[0;34m)\u001b[0m\u001b[0;34m\u001b[0m\u001b[0;34m\u001b[0m\u001b[0m\n\u001b[0m\u001b[1;32m   3362\u001b[0m             \u001b[0;32mexcept\u001b[0m \u001b[0mKeyError\u001b[0m \u001b[0;32mas\u001b[0m \u001b[0merr\u001b[0m\u001b[0;34m:\u001b[0m\u001b[0;34m\u001b[0m\u001b[0;34m\u001b[0m\u001b[0m\n",
            "\u001b[0;32m/usr/local/lib/python3.7/dist-packages/pandas/_libs/index.pyx\u001b[0m in \u001b[0;36mpandas._libs.index.IndexEngine.get_loc\u001b[0;34m()\u001b[0m\n",
            "\u001b[0;32m/usr/local/lib/python3.7/dist-packages/pandas/_libs/index.pyx\u001b[0m in \u001b[0;36mpandas._libs.index.IndexEngine.get_loc\u001b[0;34m()\u001b[0m\n",
            "\u001b[0;32mpandas/_libs/hashtable_class_helper.pxi\u001b[0m in \u001b[0;36mpandas._libs.hashtable.PyObjectHashTable.get_item\u001b[0;34m()\u001b[0m\n",
            "\u001b[0;32mpandas/_libs/hashtable_class_helper.pxi\u001b[0m in \u001b[0;36mpandas._libs.hashtable.PyObjectHashTable.get_item\u001b[0;34m()\u001b[0m\n",
            "\u001b[0;31mKeyError\u001b[0m: 'PRODUTO'",
            "\nThe above exception was the direct cause of the following exception:\n",
            "\u001b[0;31mKeyError\u001b[0m                                  Traceback (most recent call last)",
            "\u001b[0;32m<ipython-input-85-5b9ca2769c5b>\u001b[0m in \u001b[0;36m<module>\u001b[0;34m\u001b[0m\n\u001b[1;32m      1\u001b[0m \u001b[0mtu\u001b[0m\u001b[0;34m=\u001b[0m\u001b[0mbrasil_macro_completo\u001b[0m\u001b[0;34m.\u001b[0m\u001b[0mhead\u001b[0m\u001b[0;34m(\u001b[0m\u001b[0;34m)\u001b[0m\u001b[0;34m\u001b[0m\u001b[0;34m\u001b[0m\u001b[0m\n\u001b[1;32m      2\u001b[0m \u001b[0mtu\u001b[0m\u001b[0;34m\u001b[0m\u001b[0;34m\u001b[0m\u001b[0m\n\u001b[0;32m----> 3\u001b[0;31m \u001b[0mplt\u001b[0m\u001b[0;34m.\u001b[0m\u001b[0mplot\u001b[0m\u001b[0;34m(\u001b[0m\u001b[0mtu\u001b[0m\u001b[0;34m[\u001b[0m\u001b[0;34m'PRODUTO'\u001b[0m\u001b[0;34m]\u001b[0m\u001b[0;34m,\u001b[0m\u001b[0mtu\u001b[0m\u001b[0;34m[\u001b[0m\u001b[0;34m'PREÇO MÉDIO REVENDA'\u001b[0m\u001b[0;34m]\u001b[0m\u001b[0;34m,\u001b[0m \u001b[0mmarker\u001b[0m\u001b[0;34m=\u001b[0m\u001b[0;34m'o'\u001b[0m\u001b[0;34m,\u001b[0m\u001b[0mmfc\u001b[0m\u001b[0;34m=\u001b[0m\u001b[0;34m'r'\u001b[0m\u001b[0;34m)\u001b[0m\u001b[0;34m\u001b[0m\u001b[0;34m\u001b[0m\u001b[0m\n\u001b[0m",
            "\u001b[0;32m/usr/local/lib/python3.7/dist-packages/pandas/core/frame.py\u001b[0m in \u001b[0;36m__getitem__\u001b[0;34m(self, key)\u001b[0m\n\u001b[1;32m   3456\u001b[0m             \u001b[0;32mif\u001b[0m \u001b[0mself\u001b[0m\u001b[0;34m.\u001b[0m\u001b[0mcolumns\u001b[0m\u001b[0;34m.\u001b[0m\u001b[0mnlevels\u001b[0m \u001b[0;34m>\u001b[0m \u001b[0;36m1\u001b[0m\u001b[0;34m:\u001b[0m\u001b[0;34m\u001b[0m\u001b[0;34m\u001b[0m\u001b[0m\n\u001b[1;32m   3457\u001b[0m                 \u001b[0;32mreturn\u001b[0m \u001b[0mself\u001b[0m\u001b[0;34m.\u001b[0m\u001b[0m_getitem_multilevel\u001b[0m\u001b[0;34m(\u001b[0m\u001b[0mkey\u001b[0m\u001b[0;34m)\u001b[0m\u001b[0;34m\u001b[0m\u001b[0;34m\u001b[0m\u001b[0m\n\u001b[0;32m-> 3458\u001b[0;31m             \u001b[0mindexer\u001b[0m \u001b[0;34m=\u001b[0m \u001b[0mself\u001b[0m\u001b[0;34m.\u001b[0m\u001b[0mcolumns\u001b[0m\u001b[0;34m.\u001b[0m\u001b[0mget_loc\u001b[0m\u001b[0;34m(\u001b[0m\u001b[0mkey\u001b[0m\u001b[0;34m)\u001b[0m\u001b[0;34m\u001b[0m\u001b[0;34m\u001b[0m\u001b[0m\n\u001b[0m\u001b[1;32m   3459\u001b[0m             \u001b[0;32mif\u001b[0m \u001b[0mis_integer\u001b[0m\u001b[0;34m(\u001b[0m\u001b[0mindexer\u001b[0m\u001b[0;34m)\u001b[0m\u001b[0;34m:\u001b[0m\u001b[0;34m\u001b[0m\u001b[0;34m\u001b[0m\u001b[0m\n\u001b[1;32m   3460\u001b[0m                 \u001b[0mindexer\u001b[0m \u001b[0;34m=\u001b[0m \u001b[0;34m[\u001b[0m\u001b[0mindexer\u001b[0m\u001b[0;34m]\u001b[0m\u001b[0;34m\u001b[0m\u001b[0;34m\u001b[0m\u001b[0m\n",
            "\u001b[0;32m/usr/local/lib/python3.7/dist-packages/pandas/core/indexes/base.py\u001b[0m in \u001b[0;36mget_loc\u001b[0;34m(self, key, method, tolerance)\u001b[0m\n\u001b[1;32m   3361\u001b[0m                 \u001b[0;32mreturn\u001b[0m \u001b[0mself\u001b[0m\u001b[0;34m.\u001b[0m\u001b[0m_engine\u001b[0m\u001b[0;34m.\u001b[0m\u001b[0mget_loc\u001b[0m\u001b[0;34m(\u001b[0m\u001b[0mcasted_key\u001b[0m\u001b[0;34m)\u001b[0m\u001b[0;34m\u001b[0m\u001b[0;34m\u001b[0m\u001b[0m\n\u001b[1;32m   3362\u001b[0m             \u001b[0;32mexcept\u001b[0m \u001b[0mKeyError\u001b[0m \u001b[0;32mas\u001b[0m \u001b[0merr\u001b[0m\u001b[0;34m:\u001b[0m\u001b[0;34m\u001b[0m\u001b[0;34m\u001b[0m\u001b[0m\n\u001b[0;32m-> 3363\u001b[0;31m                 \u001b[0;32mraise\u001b[0m \u001b[0mKeyError\u001b[0m\u001b[0;34m(\u001b[0m\u001b[0mkey\u001b[0m\u001b[0;34m)\u001b[0m \u001b[0;32mfrom\u001b[0m \u001b[0merr\u001b[0m\u001b[0;34m\u001b[0m\u001b[0;34m\u001b[0m\u001b[0m\n\u001b[0m\u001b[1;32m   3364\u001b[0m \u001b[0;34m\u001b[0m\u001b[0m\n\u001b[1;32m   3365\u001b[0m         \u001b[0;32mif\u001b[0m \u001b[0mis_scalar\u001b[0m\u001b[0;34m(\u001b[0m\u001b[0mkey\u001b[0m\u001b[0;34m)\u001b[0m \u001b[0;32mand\u001b[0m \u001b[0misna\u001b[0m\u001b[0;34m(\u001b[0m\u001b[0mkey\u001b[0m\u001b[0;34m)\u001b[0m \u001b[0;32mand\u001b[0m \u001b[0;32mnot\u001b[0m \u001b[0mself\u001b[0m\u001b[0;34m.\u001b[0m\u001b[0mhasnans\u001b[0m\u001b[0;34m:\u001b[0m\u001b[0;34m\u001b[0m\u001b[0;34m\u001b[0m\u001b[0m\n",
            "\u001b[0;31mKeyError\u001b[0m: 'PRODUTO'"
          ]
        }
      ]
    },
    {
      "cell_type": "code",
      "source": [
        "#GASOLINA COMUM\n",
        "\n",
        "brasil_gasolina_comum_22.groupby('MÊS')[['PREÇO MÉDIO REVENDA']].mean().sort_values(by='MÊS')"
      ],
      "metadata": {
        "id": "o4jhbC2x4FH-",
        "colab": {
          "base_uri": "https://localhost:8080/",
          "height": 332
        },
        "outputId": "49623318-d0bb-4b76-dcff-e85a3ba861e3"
      },
      "execution_count": null,
      "outputs": [
        {
          "output_type": "execute_result",
          "data": {
            "text/plain": [
              "         PREÇO MÉDIO REVENDA\n",
              "MÊS                         \n",
              "abr.-22                7.245\n",
              "ago.-22                5.390\n",
              "fev.-22                6.600\n",
              "jan.-22                6.635\n",
              "jul.-22                6.050\n",
              "jun.-22                7.250\n",
              "mai.-22                7.280\n",
              "mar.-22                7.012"
            ],
            "text/html": [
              "\n",
              "  <div id=\"df-ad584521-86ca-4944-bc77-d9651237fa92\">\n",
              "    <div class=\"colab-df-container\">\n",
              "      <div>\n",
              "<style scoped>\n",
              "    .dataframe tbody tr th:only-of-type {\n",
              "        vertical-align: middle;\n",
              "    }\n",
              "\n",
              "    .dataframe tbody tr th {\n",
              "        vertical-align: top;\n",
              "    }\n",
              "\n",
              "    .dataframe thead th {\n",
              "        text-align: right;\n",
              "    }\n",
              "</style>\n",
              "<table border=\"1\" class=\"dataframe\">\n",
              "  <thead>\n",
              "    <tr style=\"text-align: right;\">\n",
              "      <th></th>\n",
              "      <th>PREÇO MÉDIO REVENDA</th>\n",
              "    </tr>\n",
              "    <tr>\n",
              "      <th>MÊS</th>\n",
              "      <th></th>\n",
              "    </tr>\n",
              "  </thead>\n",
              "  <tbody>\n",
              "    <tr>\n",
              "      <th>abr.-22</th>\n",
              "      <td>7.245</td>\n",
              "    </tr>\n",
              "    <tr>\n",
              "      <th>ago.-22</th>\n",
              "      <td>5.390</td>\n",
              "    </tr>\n",
              "    <tr>\n",
              "      <th>fev.-22</th>\n",
              "      <td>6.600</td>\n",
              "    </tr>\n",
              "    <tr>\n",
              "      <th>jan.-22</th>\n",
              "      <td>6.635</td>\n",
              "    </tr>\n",
              "    <tr>\n",
              "      <th>jul.-22</th>\n",
              "      <td>6.050</td>\n",
              "    </tr>\n",
              "    <tr>\n",
              "      <th>jun.-22</th>\n",
              "      <td>7.250</td>\n",
              "    </tr>\n",
              "    <tr>\n",
              "      <th>mai.-22</th>\n",
              "      <td>7.280</td>\n",
              "    </tr>\n",
              "    <tr>\n",
              "      <th>mar.-22</th>\n",
              "      <td>7.012</td>\n",
              "    </tr>\n",
              "  </tbody>\n",
              "</table>\n",
              "</div>\n",
              "      <button class=\"colab-df-convert\" onclick=\"convertToInteractive('df-ad584521-86ca-4944-bc77-d9651237fa92')\"\n",
              "              title=\"Convert this dataframe to an interactive table.\"\n",
              "              style=\"display:none;\">\n",
              "        \n",
              "  <svg xmlns=\"http://www.w3.org/2000/svg\" height=\"24px\"viewBox=\"0 0 24 24\"\n",
              "       width=\"24px\">\n",
              "    <path d=\"M0 0h24v24H0V0z\" fill=\"none\"/>\n",
              "    <path d=\"M18.56 5.44l.94 2.06.94-2.06 2.06-.94-2.06-.94-.94-2.06-.94 2.06-2.06.94zm-11 1L8.5 8.5l.94-2.06 2.06-.94-2.06-.94L8.5 2.5l-.94 2.06-2.06.94zm10 10l.94 2.06.94-2.06 2.06-.94-2.06-.94-.94-2.06-.94 2.06-2.06.94z\"/><path d=\"M17.41 7.96l-1.37-1.37c-.4-.4-.92-.59-1.43-.59-.52 0-1.04.2-1.43.59L10.3 9.45l-7.72 7.72c-.78.78-.78 2.05 0 2.83L4 21.41c.39.39.9.59 1.41.59.51 0 1.02-.2 1.41-.59l7.78-7.78 2.81-2.81c.8-.78.8-2.07 0-2.86zM5.41 20L4 18.59l7.72-7.72 1.47 1.35L5.41 20z\"/>\n",
              "  </svg>\n",
              "      </button>\n",
              "      \n",
              "  <style>\n",
              "    .colab-df-container {\n",
              "      display:flex;\n",
              "      flex-wrap:wrap;\n",
              "      gap: 12px;\n",
              "    }\n",
              "\n",
              "    .colab-df-convert {\n",
              "      background-color: #E8F0FE;\n",
              "      border: none;\n",
              "      border-radius: 50%;\n",
              "      cursor: pointer;\n",
              "      display: none;\n",
              "      fill: #1967D2;\n",
              "      height: 32px;\n",
              "      padding: 0 0 0 0;\n",
              "      width: 32px;\n",
              "    }\n",
              "\n",
              "    .colab-df-convert:hover {\n",
              "      background-color: #E2EBFA;\n",
              "      box-shadow: 0px 1px 2px rgba(60, 64, 67, 0.3), 0px 1px 3px 1px rgba(60, 64, 67, 0.15);\n",
              "      fill: #174EA6;\n",
              "    }\n",
              "\n",
              "    [theme=dark] .colab-df-convert {\n",
              "      background-color: #3B4455;\n",
              "      fill: #D2E3FC;\n",
              "    }\n",
              "\n",
              "    [theme=dark] .colab-df-convert:hover {\n",
              "      background-color: #434B5C;\n",
              "      box-shadow: 0px 1px 3px 1px rgba(0, 0, 0, 0.15);\n",
              "      filter: drop-shadow(0px 1px 2px rgba(0, 0, 0, 0.3));\n",
              "      fill: #FFFFFF;\n",
              "    }\n",
              "  </style>\n",
              "\n",
              "      <script>\n",
              "        const buttonEl =\n",
              "          document.querySelector('#df-ad584521-86ca-4944-bc77-d9651237fa92 button.colab-df-convert');\n",
              "        buttonEl.style.display =\n",
              "          google.colab.kernel.accessAllowed ? 'block' : 'none';\n",
              "\n",
              "        async function convertToInteractive(key) {\n",
              "          const element = document.querySelector('#df-ad584521-86ca-4944-bc77-d9651237fa92');\n",
              "          const dataTable =\n",
              "            await google.colab.kernel.invokeFunction('convertToInteractive',\n",
              "                                                     [key], {});\n",
              "          if (!dataTable) return;\n",
              "\n",
              "          const docLinkHtml = 'Like what you see? Visit the ' +\n",
              "            '<a target=\"_blank\" href=https://colab.research.google.com/notebooks/data_table.ipynb>data table notebook</a>'\n",
              "            + ' to learn more about interactive tables.';\n",
              "          element.innerHTML = '';\n",
              "          dataTable['output_type'] = 'display_data';\n",
              "          await google.colab.output.renderOutput(dataTable, element);\n",
              "          const docLink = document.createElement('div');\n",
              "          docLink.innerHTML = docLinkHtml;\n",
              "          element.appendChild(docLink);\n",
              "        }\n",
              "      </script>\n",
              "    </div>\n",
              "  </div>\n",
              "  "
            ]
          },
          "metadata": {},
          "execution_count": 52
        }
      ]
    },
    {
      "cell_type": "code",
      "source": [
        "#GASOLINA ADITIVADA\n",
        "\n",
        "brasil_gasolina_aditivada_22.groupby('MÊS')[['PREÇO MÉDIO REVENDA']].mean().sort_values(['MÊS'], ascending=True)"
      ],
      "metadata": {
        "id": "ounD2e9cCal-",
        "colab": {
          "base_uri": "https://localhost:8080/",
          "height": 332
        },
        "outputId": "48e81381-d89d-4279-fb9f-771a5d229e66"
      },
      "execution_count": null,
      "outputs": [
        {
          "output_type": "execute_result",
          "data": {
            "text/plain": [
              "         PREÇO MÉDIO REVENDA\n",
              "MÊS                         \n",
              "abr.-22                7.344\n",
              "ago.-22                5.550\n",
              "fev.-22                6.727\n",
              "jan.-22                6.767\n",
              "jul.-22                6.190\n",
              "jun.-22                7.350\n",
              "mai.-22                7.390\n",
              "mar.-22                7.122"
            ],
            "text/html": [
              "\n",
              "  <div id=\"df-6bfa042c-b28f-404e-9a35-e85654431d5d\">\n",
              "    <div class=\"colab-df-container\">\n",
              "      <div>\n",
              "<style scoped>\n",
              "    .dataframe tbody tr th:only-of-type {\n",
              "        vertical-align: middle;\n",
              "    }\n",
              "\n",
              "    .dataframe tbody tr th {\n",
              "        vertical-align: top;\n",
              "    }\n",
              "\n",
              "    .dataframe thead th {\n",
              "        text-align: right;\n",
              "    }\n",
              "</style>\n",
              "<table border=\"1\" class=\"dataframe\">\n",
              "  <thead>\n",
              "    <tr style=\"text-align: right;\">\n",
              "      <th></th>\n",
              "      <th>PREÇO MÉDIO REVENDA</th>\n",
              "    </tr>\n",
              "    <tr>\n",
              "      <th>MÊS</th>\n",
              "      <th></th>\n",
              "    </tr>\n",
              "  </thead>\n",
              "  <tbody>\n",
              "    <tr>\n",
              "      <th>abr.-22</th>\n",
              "      <td>7.344</td>\n",
              "    </tr>\n",
              "    <tr>\n",
              "      <th>ago.-22</th>\n",
              "      <td>5.550</td>\n",
              "    </tr>\n",
              "    <tr>\n",
              "      <th>fev.-22</th>\n",
              "      <td>6.727</td>\n",
              "    </tr>\n",
              "    <tr>\n",
              "      <th>jan.-22</th>\n",
              "      <td>6.767</td>\n",
              "    </tr>\n",
              "    <tr>\n",
              "      <th>jul.-22</th>\n",
              "      <td>6.190</td>\n",
              "    </tr>\n",
              "    <tr>\n",
              "      <th>jun.-22</th>\n",
              "      <td>7.350</td>\n",
              "    </tr>\n",
              "    <tr>\n",
              "      <th>mai.-22</th>\n",
              "      <td>7.390</td>\n",
              "    </tr>\n",
              "    <tr>\n",
              "      <th>mar.-22</th>\n",
              "      <td>7.122</td>\n",
              "    </tr>\n",
              "  </tbody>\n",
              "</table>\n",
              "</div>\n",
              "      <button class=\"colab-df-convert\" onclick=\"convertToInteractive('df-6bfa042c-b28f-404e-9a35-e85654431d5d')\"\n",
              "              title=\"Convert this dataframe to an interactive table.\"\n",
              "              style=\"display:none;\">\n",
              "        \n",
              "  <svg xmlns=\"http://www.w3.org/2000/svg\" height=\"24px\"viewBox=\"0 0 24 24\"\n",
              "       width=\"24px\">\n",
              "    <path d=\"M0 0h24v24H0V0z\" fill=\"none\"/>\n",
              "    <path d=\"M18.56 5.44l.94 2.06.94-2.06 2.06-.94-2.06-.94-.94-2.06-.94 2.06-2.06.94zm-11 1L8.5 8.5l.94-2.06 2.06-.94-2.06-.94L8.5 2.5l-.94 2.06-2.06.94zm10 10l.94 2.06.94-2.06 2.06-.94-2.06-.94-.94-2.06-.94 2.06-2.06.94z\"/><path d=\"M17.41 7.96l-1.37-1.37c-.4-.4-.92-.59-1.43-.59-.52 0-1.04.2-1.43.59L10.3 9.45l-7.72 7.72c-.78.78-.78 2.05 0 2.83L4 21.41c.39.39.9.59 1.41.59.51 0 1.02-.2 1.41-.59l7.78-7.78 2.81-2.81c.8-.78.8-2.07 0-2.86zM5.41 20L4 18.59l7.72-7.72 1.47 1.35L5.41 20z\"/>\n",
              "  </svg>\n",
              "      </button>\n",
              "      \n",
              "  <style>\n",
              "    .colab-df-container {\n",
              "      display:flex;\n",
              "      flex-wrap:wrap;\n",
              "      gap: 12px;\n",
              "    }\n",
              "\n",
              "    .colab-df-convert {\n",
              "      background-color: #E8F0FE;\n",
              "      border: none;\n",
              "      border-radius: 50%;\n",
              "      cursor: pointer;\n",
              "      display: none;\n",
              "      fill: #1967D2;\n",
              "      height: 32px;\n",
              "      padding: 0 0 0 0;\n",
              "      width: 32px;\n",
              "    }\n",
              "\n",
              "    .colab-df-convert:hover {\n",
              "      background-color: #E2EBFA;\n",
              "      box-shadow: 0px 1px 2px rgba(60, 64, 67, 0.3), 0px 1px 3px 1px rgba(60, 64, 67, 0.15);\n",
              "      fill: #174EA6;\n",
              "    }\n",
              "\n",
              "    [theme=dark] .colab-df-convert {\n",
              "      background-color: #3B4455;\n",
              "      fill: #D2E3FC;\n",
              "    }\n",
              "\n",
              "    [theme=dark] .colab-df-convert:hover {\n",
              "      background-color: #434B5C;\n",
              "      box-shadow: 0px 1px 3px 1px rgba(0, 0, 0, 0.15);\n",
              "      filter: drop-shadow(0px 1px 2px rgba(0, 0, 0, 0.3));\n",
              "      fill: #FFFFFF;\n",
              "    }\n",
              "  </style>\n",
              "\n",
              "      <script>\n",
              "        const buttonEl =\n",
              "          document.querySelector('#df-6bfa042c-b28f-404e-9a35-e85654431d5d button.colab-df-convert');\n",
              "        buttonEl.style.display =\n",
              "          google.colab.kernel.accessAllowed ? 'block' : 'none';\n",
              "\n",
              "        async function convertToInteractive(key) {\n",
              "          const element = document.querySelector('#df-6bfa042c-b28f-404e-9a35-e85654431d5d');\n",
              "          const dataTable =\n",
              "            await google.colab.kernel.invokeFunction('convertToInteractive',\n",
              "                                                     [key], {});\n",
              "          if (!dataTable) return;\n",
              "\n",
              "          const docLinkHtml = 'Like what you see? Visit the ' +\n",
              "            '<a target=\"_blank\" href=https://colab.research.google.com/notebooks/data_table.ipynb>data table notebook</a>'\n",
              "            + ' to learn more about interactive tables.';\n",
              "          element.innerHTML = '';\n",
              "          dataTable['output_type'] = 'display_data';\n",
              "          await google.colab.output.renderOutput(dataTable, element);\n",
              "          const docLink = document.createElement('div');\n",
              "          docLink.innerHTML = docLinkHtml;\n",
              "          element.appendChild(docLink);\n",
              "        }\n",
              "      </script>\n",
              "    </div>\n",
              "  </div>\n",
              "  "
            ]
          },
          "metadata": {},
          "execution_count": 53
        }
      ]
    },
    {
      "cell_type": "code",
      "source": [
        "#ETANOL\n",
        "brasil_etanol_22.groupby('MÊS')[['PREÇO MÉDIO REVENDA']].mean().sort_values(['MÊS'], ascending=True)\n"
      ],
      "metadata": {
        "id": "8qVpg4BqCf0d",
        "colab": {
          "base_uri": "https://localhost:8080/",
          "height": 332
        },
        "outputId": "4cd3d37a-356b-4a9c-cfd8-07d1c05a36bf"
      },
      "execution_count": null,
      "outputs": [
        {
          "output_type": "execute_result",
          "data": {
            "text/plain": [
              "         PREÇO MÉDIO REVENDA\n",
              "MÊS                         \n",
              "abr.-22                5.326\n",
              "ago.-22                3.950\n",
              "fev.-22                4.744\n",
              "jan.-22                5.038\n",
              "jul.-22                4.360\n",
              "jun.-22                4.900\n",
              "mai.-22                5.270\n",
              "mar.-22                4.842"
            ],
            "text/html": [
              "\n",
              "  <div id=\"df-343082d9-a55b-4946-81e1-d1bedd2e74f9\">\n",
              "    <div class=\"colab-df-container\">\n",
              "      <div>\n",
              "<style scoped>\n",
              "    .dataframe tbody tr th:only-of-type {\n",
              "        vertical-align: middle;\n",
              "    }\n",
              "\n",
              "    .dataframe tbody tr th {\n",
              "        vertical-align: top;\n",
              "    }\n",
              "\n",
              "    .dataframe thead th {\n",
              "        text-align: right;\n",
              "    }\n",
              "</style>\n",
              "<table border=\"1\" class=\"dataframe\">\n",
              "  <thead>\n",
              "    <tr style=\"text-align: right;\">\n",
              "      <th></th>\n",
              "      <th>PREÇO MÉDIO REVENDA</th>\n",
              "    </tr>\n",
              "    <tr>\n",
              "      <th>MÊS</th>\n",
              "      <th></th>\n",
              "    </tr>\n",
              "  </thead>\n",
              "  <tbody>\n",
              "    <tr>\n",
              "      <th>abr.-22</th>\n",
              "      <td>5.326</td>\n",
              "    </tr>\n",
              "    <tr>\n",
              "      <th>ago.-22</th>\n",
              "      <td>3.950</td>\n",
              "    </tr>\n",
              "    <tr>\n",
              "      <th>fev.-22</th>\n",
              "      <td>4.744</td>\n",
              "    </tr>\n",
              "    <tr>\n",
              "      <th>jan.-22</th>\n",
              "      <td>5.038</td>\n",
              "    </tr>\n",
              "    <tr>\n",
              "      <th>jul.-22</th>\n",
              "      <td>4.360</td>\n",
              "    </tr>\n",
              "    <tr>\n",
              "      <th>jun.-22</th>\n",
              "      <td>4.900</td>\n",
              "    </tr>\n",
              "    <tr>\n",
              "      <th>mai.-22</th>\n",
              "      <td>5.270</td>\n",
              "    </tr>\n",
              "    <tr>\n",
              "      <th>mar.-22</th>\n",
              "      <td>4.842</td>\n",
              "    </tr>\n",
              "  </tbody>\n",
              "</table>\n",
              "</div>\n",
              "      <button class=\"colab-df-convert\" onclick=\"convertToInteractive('df-343082d9-a55b-4946-81e1-d1bedd2e74f9')\"\n",
              "              title=\"Convert this dataframe to an interactive table.\"\n",
              "              style=\"display:none;\">\n",
              "        \n",
              "  <svg xmlns=\"http://www.w3.org/2000/svg\" height=\"24px\"viewBox=\"0 0 24 24\"\n",
              "       width=\"24px\">\n",
              "    <path d=\"M0 0h24v24H0V0z\" fill=\"none\"/>\n",
              "    <path d=\"M18.56 5.44l.94 2.06.94-2.06 2.06-.94-2.06-.94-.94-2.06-.94 2.06-2.06.94zm-11 1L8.5 8.5l.94-2.06 2.06-.94-2.06-.94L8.5 2.5l-.94 2.06-2.06.94zm10 10l.94 2.06.94-2.06 2.06-.94-2.06-.94-.94-2.06-.94 2.06-2.06.94z\"/><path d=\"M17.41 7.96l-1.37-1.37c-.4-.4-.92-.59-1.43-.59-.52 0-1.04.2-1.43.59L10.3 9.45l-7.72 7.72c-.78.78-.78 2.05 0 2.83L4 21.41c.39.39.9.59 1.41.59.51 0 1.02-.2 1.41-.59l7.78-7.78 2.81-2.81c.8-.78.8-2.07 0-2.86zM5.41 20L4 18.59l7.72-7.72 1.47 1.35L5.41 20z\"/>\n",
              "  </svg>\n",
              "      </button>\n",
              "      \n",
              "  <style>\n",
              "    .colab-df-container {\n",
              "      display:flex;\n",
              "      flex-wrap:wrap;\n",
              "      gap: 12px;\n",
              "    }\n",
              "\n",
              "    .colab-df-convert {\n",
              "      background-color: #E8F0FE;\n",
              "      border: none;\n",
              "      border-radius: 50%;\n",
              "      cursor: pointer;\n",
              "      display: none;\n",
              "      fill: #1967D2;\n",
              "      height: 32px;\n",
              "      padding: 0 0 0 0;\n",
              "      width: 32px;\n",
              "    }\n",
              "\n",
              "    .colab-df-convert:hover {\n",
              "      background-color: #E2EBFA;\n",
              "      box-shadow: 0px 1px 2px rgba(60, 64, 67, 0.3), 0px 1px 3px 1px rgba(60, 64, 67, 0.15);\n",
              "      fill: #174EA6;\n",
              "    }\n",
              "\n",
              "    [theme=dark] .colab-df-convert {\n",
              "      background-color: #3B4455;\n",
              "      fill: #D2E3FC;\n",
              "    }\n",
              "\n",
              "    [theme=dark] .colab-df-convert:hover {\n",
              "      background-color: #434B5C;\n",
              "      box-shadow: 0px 1px 3px 1px rgba(0, 0, 0, 0.15);\n",
              "      filter: drop-shadow(0px 1px 2px rgba(0, 0, 0, 0.3));\n",
              "      fill: #FFFFFF;\n",
              "    }\n",
              "  </style>\n",
              "\n",
              "      <script>\n",
              "        const buttonEl =\n",
              "          document.querySelector('#df-343082d9-a55b-4946-81e1-d1bedd2e74f9 button.colab-df-convert');\n",
              "        buttonEl.style.display =\n",
              "          google.colab.kernel.accessAllowed ? 'block' : 'none';\n",
              "\n",
              "        async function convertToInteractive(key) {\n",
              "          const element = document.querySelector('#df-343082d9-a55b-4946-81e1-d1bedd2e74f9');\n",
              "          const dataTable =\n",
              "            await google.colab.kernel.invokeFunction('convertToInteractive',\n",
              "                                                     [key], {});\n",
              "          if (!dataTable) return;\n",
              "\n",
              "          const docLinkHtml = 'Like what you see? Visit the ' +\n",
              "            '<a target=\"_blank\" href=https://colab.research.google.com/notebooks/data_table.ipynb>data table notebook</a>'\n",
              "            + ' to learn more about interactive tables.';\n",
              "          element.innerHTML = '';\n",
              "          dataTable['output_type'] = 'display_data';\n",
              "          await google.colab.output.renderOutput(dataTable, element);\n",
              "          const docLink = document.createElement('div');\n",
              "          docLink.innerHTML = docLinkHtml;\n",
              "          element.appendChild(docLink);\n",
              "        }\n",
              "      </script>\n",
              "    </div>\n",
              "  </div>\n",
              "  "
            ]
          },
          "metadata": {},
          "execution_count": 54
        }
      ]
    },
    {
      "cell_type": "markdown",
      "source": [
        "### **[OK] Pergunta 1: Como se comportaram o preço dos combustíveis durante os dois meses citados? Os valores do etanol e da gasolina tiveram um aumento ou diminuição?**"
      ],
      "metadata": {
        "id": "gOVZDgHDHzFL"
      }
    },
    {
      "cell_type": "code",
      "source": [
        "gasolina_comum_micro = brasil_micro.loc['GASOLINA COMUM']\n",
        "gasolina_aditivada_micro = brasil_micro.loc['GASOLINA ADITIVADA']\n",
        "etanol_micro = brasil_micro.loc['ETANOL HIDRATADO']"
      ],
      "metadata": {
        "id": "EtjhkFLlH_VJ"
      },
      "execution_count": null,
      "outputs": []
    },
    {
      "cell_type": "code",
      "source": [
        "#Filtrar por regiões - GASOLINA COMUM\n",
        "teste=gasolina_comum_micro.groupby(['MÊS', 'REGIÃO'])[['PREÇO MÉDIO REVENDA']].mean().sort_values(['MÊS', 'PREÇO MÉDIO REVENDA'], ascending=False)\n"
      ],
      "metadata": {
        "id": "igUwNww7P4U1",
        "colab": {
          "base_uri": "https://localhost:8080/",
          "height": 394
        },
        "outputId": "d81a19b3-aa45-489c-858e-6c80ca7560e1"
      },
      "execution_count": null,
      "outputs": [
        {
          "output_type": "execute_result",
          "data": {
            "text/plain": [
              "                      PREÇO MÉDIO REVENDA\n",
              "MÊS     REGIÃO                           \n",
              "jul.-22 NORDESTE                 6.516875\n",
              "        NORTE                    6.419189\n",
              "        CENTRO OESTE             5.975313\n",
              "        SUL                      5.960116\n",
              "        SUDESTE                  5.955385\n",
              "ago.-22 NORTE                    5.796757\n",
              "        NORDESTE                 5.601667\n",
              "        CENTRO OESTE             5.420937\n",
              "        SUDESTE                  5.387596\n",
              "        SUL                      5.386512"
            ],
            "text/html": [
              "\n",
              "  <div id=\"df-283db3e7-fc46-494c-8541-160990edf3c1\">\n",
              "    <div class=\"colab-df-container\">\n",
              "      <div>\n",
              "<style scoped>\n",
              "    .dataframe tbody tr th:only-of-type {\n",
              "        vertical-align: middle;\n",
              "    }\n",
              "\n",
              "    .dataframe tbody tr th {\n",
              "        vertical-align: top;\n",
              "    }\n",
              "\n",
              "    .dataframe thead th {\n",
              "        text-align: right;\n",
              "    }\n",
              "</style>\n",
              "<table border=\"1\" class=\"dataframe\">\n",
              "  <thead>\n",
              "    <tr style=\"text-align: right;\">\n",
              "      <th></th>\n",
              "      <th></th>\n",
              "      <th>PREÇO MÉDIO REVENDA</th>\n",
              "    </tr>\n",
              "    <tr>\n",
              "      <th>MÊS</th>\n",
              "      <th>REGIÃO</th>\n",
              "      <th></th>\n",
              "    </tr>\n",
              "  </thead>\n",
              "  <tbody>\n",
              "    <tr>\n",
              "      <th rowspan=\"5\" valign=\"top\">jul.-22</th>\n",
              "      <th>NORDESTE</th>\n",
              "      <td>6.516875</td>\n",
              "    </tr>\n",
              "    <tr>\n",
              "      <th>NORTE</th>\n",
              "      <td>6.419189</td>\n",
              "    </tr>\n",
              "    <tr>\n",
              "      <th>CENTRO OESTE</th>\n",
              "      <td>5.975313</td>\n",
              "    </tr>\n",
              "    <tr>\n",
              "      <th>SUL</th>\n",
              "      <td>5.960116</td>\n",
              "    </tr>\n",
              "    <tr>\n",
              "      <th>SUDESTE</th>\n",
              "      <td>5.955385</td>\n",
              "    </tr>\n",
              "    <tr>\n",
              "      <th rowspan=\"5\" valign=\"top\">ago.-22</th>\n",
              "      <th>NORTE</th>\n",
              "      <td>5.796757</td>\n",
              "    </tr>\n",
              "    <tr>\n",
              "      <th>NORDESTE</th>\n",
              "      <td>5.601667</td>\n",
              "    </tr>\n",
              "    <tr>\n",
              "      <th>CENTRO OESTE</th>\n",
              "      <td>5.420937</td>\n",
              "    </tr>\n",
              "    <tr>\n",
              "      <th>SUDESTE</th>\n",
              "      <td>5.387596</td>\n",
              "    </tr>\n",
              "    <tr>\n",
              "      <th>SUL</th>\n",
              "      <td>5.386512</td>\n",
              "    </tr>\n",
              "  </tbody>\n",
              "</table>\n",
              "</div>\n",
              "      <button class=\"colab-df-convert\" onclick=\"convertToInteractive('df-283db3e7-fc46-494c-8541-160990edf3c1')\"\n",
              "              title=\"Convert this dataframe to an interactive table.\"\n",
              "              style=\"display:none;\">\n",
              "        \n",
              "  <svg xmlns=\"http://www.w3.org/2000/svg\" height=\"24px\"viewBox=\"0 0 24 24\"\n",
              "       width=\"24px\">\n",
              "    <path d=\"M0 0h24v24H0V0z\" fill=\"none\"/>\n",
              "    <path d=\"M18.56 5.44l.94 2.06.94-2.06 2.06-.94-2.06-.94-.94-2.06-.94 2.06-2.06.94zm-11 1L8.5 8.5l.94-2.06 2.06-.94-2.06-.94L8.5 2.5l-.94 2.06-2.06.94zm10 10l.94 2.06.94-2.06 2.06-.94-2.06-.94-.94-2.06-.94 2.06-2.06.94z\"/><path d=\"M17.41 7.96l-1.37-1.37c-.4-.4-.92-.59-1.43-.59-.52 0-1.04.2-1.43.59L10.3 9.45l-7.72 7.72c-.78.78-.78 2.05 0 2.83L4 21.41c.39.39.9.59 1.41.59.51 0 1.02-.2 1.41-.59l7.78-7.78 2.81-2.81c.8-.78.8-2.07 0-2.86zM5.41 20L4 18.59l7.72-7.72 1.47 1.35L5.41 20z\"/>\n",
              "  </svg>\n",
              "      </button>\n",
              "      \n",
              "  <style>\n",
              "    .colab-df-container {\n",
              "      display:flex;\n",
              "      flex-wrap:wrap;\n",
              "      gap: 12px;\n",
              "    }\n",
              "\n",
              "    .colab-df-convert {\n",
              "      background-color: #E8F0FE;\n",
              "      border: none;\n",
              "      border-radius: 50%;\n",
              "      cursor: pointer;\n",
              "      display: none;\n",
              "      fill: #1967D2;\n",
              "      height: 32px;\n",
              "      padding: 0 0 0 0;\n",
              "      width: 32px;\n",
              "    }\n",
              "\n",
              "    .colab-df-convert:hover {\n",
              "      background-color: #E2EBFA;\n",
              "      box-shadow: 0px 1px 2px rgba(60, 64, 67, 0.3), 0px 1px 3px 1px rgba(60, 64, 67, 0.15);\n",
              "      fill: #174EA6;\n",
              "    }\n",
              "\n",
              "    [theme=dark] .colab-df-convert {\n",
              "      background-color: #3B4455;\n",
              "      fill: #D2E3FC;\n",
              "    }\n",
              "\n",
              "    [theme=dark] .colab-df-convert:hover {\n",
              "      background-color: #434B5C;\n",
              "      box-shadow: 0px 1px 3px 1px rgba(0, 0, 0, 0.15);\n",
              "      filter: drop-shadow(0px 1px 2px rgba(0, 0, 0, 0.3));\n",
              "      fill: #FFFFFF;\n",
              "    }\n",
              "  </style>\n",
              "\n",
              "      <script>\n",
              "        const buttonEl =\n",
              "          document.querySelector('#df-283db3e7-fc46-494c-8541-160990edf3c1 button.colab-df-convert');\n",
              "        buttonEl.style.display =\n",
              "          google.colab.kernel.accessAllowed ? 'block' : 'none';\n",
              "\n",
              "        async function convertToInteractive(key) {\n",
              "          const element = document.querySelector('#df-283db3e7-fc46-494c-8541-160990edf3c1');\n",
              "          const dataTable =\n",
              "            await google.colab.kernel.invokeFunction('convertToInteractive',\n",
              "                                                     [key], {});\n",
              "          if (!dataTable) return;\n",
              "\n",
              "          const docLinkHtml = 'Like what you see? Visit the ' +\n",
              "            '<a target=\"_blank\" href=https://colab.research.google.com/notebooks/data_table.ipynb>data table notebook</a>'\n",
              "            + ' to learn more about interactive tables.';\n",
              "          element.innerHTML = '';\n",
              "          dataTable['output_type'] = 'display_data';\n",
              "          await google.colab.output.renderOutput(dataTable, element);\n",
              "          const docLink = document.createElement('div');\n",
              "          docLink.innerHTML = docLinkHtml;\n",
              "          element.appendChild(docLink);\n",
              "        }\n",
              "      </script>\n",
              "    </div>\n",
              "  </div>\n",
              "  "
            ]
          },
          "metadata": {},
          "execution_count": 60
        }
      ]
    },
    {
      "cell_type": "code",
      "source": [],
      "metadata": {
        "colab": {
          "base_uri": "https://localhost:8080/",
          "height": 502
        },
        "id": "xT5wLowlarUe",
        "outputId": "7b72f0cd-b806-4eb3-d902-73445d0defee"
      },
      "execution_count": null,
      "outputs": [
        {
          "output_type": "error",
          "ename": "KeyError",
          "evalue": "ignored",
          "traceback": [
            "\u001b[0;31m---------------------------------------------------------------------------\u001b[0m",
            "\u001b[0;31mKeyError\u001b[0m                                  Traceback (most recent call last)",
            "\u001b[0;32m/usr/local/lib/python3.7/dist-packages/pandas/core/indexes/base.py\u001b[0m in \u001b[0;36mget_loc\u001b[0;34m(self, key, method, tolerance)\u001b[0m\n\u001b[1;32m   3360\u001b[0m             \u001b[0;32mtry\u001b[0m\u001b[0;34m:\u001b[0m\u001b[0;34m\u001b[0m\u001b[0;34m\u001b[0m\u001b[0m\n\u001b[0;32m-> 3361\u001b[0;31m                 \u001b[0;32mreturn\u001b[0m \u001b[0mself\u001b[0m\u001b[0;34m.\u001b[0m\u001b[0m_engine\u001b[0m\u001b[0;34m.\u001b[0m\u001b[0mget_loc\u001b[0m\u001b[0;34m(\u001b[0m\u001b[0mcasted_key\u001b[0m\u001b[0;34m)\u001b[0m\u001b[0;34m\u001b[0m\u001b[0;34m\u001b[0m\u001b[0m\n\u001b[0m\u001b[1;32m   3362\u001b[0m             \u001b[0;32mexcept\u001b[0m \u001b[0mKeyError\u001b[0m \u001b[0;32mas\u001b[0m \u001b[0merr\u001b[0m\u001b[0;34m:\u001b[0m\u001b[0;34m\u001b[0m\u001b[0;34m\u001b[0m\u001b[0m\n",
            "\u001b[0;32m/usr/local/lib/python3.7/dist-packages/pandas/_libs/index.pyx\u001b[0m in \u001b[0;36mpandas._libs.index.IndexEngine.get_loc\u001b[0;34m()\u001b[0m\n",
            "\u001b[0;32m/usr/local/lib/python3.7/dist-packages/pandas/_libs/index.pyx\u001b[0m in \u001b[0;36mpandas._libs.index.IndexEngine.get_loc\u001b[0;34m()\u001b[0m\n",
            "\u001b[0;32mpandas/_libs/hashtable_class_helper.pxi\u001b[0m in \u001b[0;36mpandas._libs.hashtable.PyObjectHashTable.get_item\u001b[0;34m()\u001b[0m\n",
            "\u001b[0;32mpandas/_libs/hashtable_class_helper.pxi\u001b[0m in \u001b[0;36mpandas._libs.hashtable.PyObjectHashTable.get_item\u001b[0;34m()\u001b[0m\n",
            "\u001b[0;31mKeyError\u001b[0m: 'MÊS'",
            "\nThe above exception was the direct cause of the following exception:\n",
            "\u001b[0;31mKeyError\u001b[0m                                  Traceback (most recent call last)",
            "\u001b[0;32m<ipython-input-64-a08426eea548>\u001b[0m in \u001b[0;36m<module>\u001b[0;34m\u001b[0m\n\u001b[0;32m----> 1\u001b[0;31m \u001b[0mplt\u001b[0m\u001b[0;34m.\u001b[0m\u001b[0mplot\u001b[0m\u001b[0;34m(\u001b[0m\u001b[0mteste\u001b[0m\u001b[0;34m[\u001b[0m\u001b[0;34m'PREÇO MÉDIO REVENDA'\u001b[0m\u001b[0;34m]\u001b[0m\u001b[0;34m,\u001b[0m \u001b[0mteste\u001b[0m\u001b[0;34m[\u001b[0m\u001b[0;34m'MÊS'\u001b[0m\u001b[0;34m]\u001b[0m\u001b[0;34m,\u001b[0m \u001b[0mmarker\u001b[0m\u001b[0;34m=\u001b[0m\u001b[0;34m'o'\u001b[0m\u001b[0;34m,\u001b[0m\u001b[0mmfc\u001b[0m\u001b[0;34m=\u001b[0m\u001b[0;34m'r'\u001b[0m\u001b[0;34m)\u001b[0m\u001b[0;34m\u001b[0m\u001b[0;34m\u001b[0m\u001b[0m\n\u001b[0m",
            "\u001b[0;32m/usr/local/lib/python3.7/dist-packages/pandas/core/frame.py\u001b[0m in \u001b[0;36m__getitem__\u001b[0;34m(self, key)\u001b[0m\n\u001b[1;32m   3456\u001b[0m             \u001b[0;32mif\u001b[0m \u001b[0mself\u001b[0m\u001b[0;34m.\u001b[0m\u001b[0mcolumns\u001b[0m\u001b[0;34m.\u001b[0m\u001b[0mnlevels\u001b[0m \u001b[0;34m>\u001b[0m \u001b[0;36m1\u001b[0m\u001b[0;34m:\u001b[0m\u001b[0;34m\u001b[0m\u001b[0;34m\u001b[0m\u001b[0m\n\u001b[1;32m   3457\u001b[0m                 \u001b[0;32mreturn\u001b[0m \u001b[0mself\u001b[0m\u001b[0;34m.\u001b[0m\u001b[0m_getitem_multilevel\u001b[0m\u001b[0;34m(\u001b[0m\u001b[0mkey\u001b[0m\u001b[0;34m)\u001b[0m\u001b[0;34m\u001b[0m\u001b[0;34m\u001b[0m\u001b[0m\n\u001b[0;32m-> 3458\u001b[0;31m             \u001b[0mindexer\u001b[0m \u001b[0;34m=\u001b[0m \u001b[0mself\u001b[0m\u001b[0;34m.\u001b[0m\u001b[0mcolumns\u001b[0m\u001b[0;34m.\u001b[0m\u001b[0mget_loc\u001b[0m\u001b[0;34m(\u001b[0m\u001b[0mkey\u001b[0m\u001b[0;34m)\u001b[0m\u001b[0;34m\u001b[0m\u001b[0;34m\u001b[0m\u001b[0m\n\u001b[0m\u001b[1;32m   3459\u001b[0m             \u001b[0;32mif\u001b[0m \u001b[0mis_integer\u001b[0m\u001b[0;34m(\u001b[0m\u001b[0mindexer\u001b[0m\u001b[0;34m)\u001b[0m\u001b[0;34m:\u001b[0m\u001b[0;34m\u001b[0m\u001b[0;34m\u001b[0m\u001b[0m\n\u001b[1;32m   3460\u001b[0m                 \u001b[0mindexer\u001b[0m \u001b[0;34m=\u001b[0m \u001b[0;34m[\u001b[0m\u001b[0mindexer\u001b[0m\u001b[0;34m]\u001b[0m\u001b[0;34m\u001b[0m\u001b[0;34m\u001b[0m\u001b[0m\n",
            "\u001b[0;32m/usr/local/lib/python3.7/dist-packages/pandas/core/indexes/base.py\u001b[0m in \u001b[0;36mget_loc\u001b[0;34m(self, key, method, tolerance)\u001b[0m\n\u001b[1;32m   3361\u001b[0m                 \u001b[0;32mreturn\u001b[0m \u001b[0mself\u001b[0m\u001b[0;34m.\u001b[0m\u001b[0m_engine\u001b[0m\u001b[0;34m.\u001b[0m\u001b[0mget_loc\u001b[0m\u001b[0;34m(\u001b[0m\u001b[0mcasted_key\u001b[0m\u001b[0;34m)\u001b[0m\u001b[0;34m\u001b[0m\u001b[0;34m\u001b[0m\u001b[0m\n\u001b[1;32m   3362\u001b[0m             \u001b[0;32mexcept\u001b[0m \u001b[0mKeyError\u001b[0m \u001b[0;32mas\u001b[0m \u001b[0merr\u001b[0m\u001b[0;34m:\u001b[0m\u001b[0;34m\u001b[0m\u001b[0;34m\u001b[0m\u001b[0m\n\u001b[0;32m-> 3363\u001b[0;31m                 \u001b[0;32mraise\u001b[0m \u001b[0mKeyError\u001b[0m\u001b[0;34m(\u001b[0m\u001b[0mkey\u001b[0m\u001b[0;34m)\u001b[0m \u001b[0;32mfrom\u001b[0m \u001b[0merr\u001b[0m\u001b[0;34m\u001b[0m\u001b[0;34m\u001b[0m\u001b[0m\n\u001b[0m\u001b[1;32m   3364\u001b[0m \u001b[0;34m\u001b[0m\u001b[0m\n\u001b[1;32m   3365\u001b[0m         \u001b[0;32mif\u001b[0m \u001b[0mis_scalar\u001b[0m\u001b[0;34m(\u001b[0m\u001b[0mkey\u001b[0m\u001b[0;34m)\u001b[0m \u001b[0;32mand\u001b[0m \u001b[0misna\u001b[0m\u001b[0;34m(\u001b[0m\u001b[0mkey\u001b[0m\u001b[0;34m)\u001b[0m \u001b[0;32mand\u001b[0m \u001b[0;32mnot\u001b[0m \u001b[0mself\u001b[0m\u001b[0;34m.\u001b[0m\u001b[0mhasnans\u001b[0m\u001b[0;34m:\u001b[0m\u001b[0;34m\u001b[0m\u001b[0;34m\u001b[0m\u001b[0m\n",
            "\u001b[0;31mKeyError\u001b[0m: 'MÊS'"
          ]
        }
      ]
    },
    {
      "cell_type": "code",
      "source": [
        "#Filtrar por regiões - GASOLINA ADITIVADA\n",
        "gasolina_aditivada_micro.groupby(['MÊS', 'REGIÃO'])[['PREÇO MÉDIO REVENDA']].mean().sort_values(['MÊS', 'PREÇO MÉDIO REVENDA'], ascending=False)"
      ],
      "metadata": {
        "id": "smwqENMnTcWz"
      },
      "execution_count": null,
      "outputs": []
    },
    {
      "cell_type": "code",
      "source": [
        "#Filtrar por regiões - ETANOL\n",
        "etanol_micro.groupby(['MÊS', 'REGIÃO'])[['PREÇO MÉDIO REVENDA']].mean().sort_values(['MÊS', 'PREÇO MÉDIO REVENDA'], ascending=False)"
      ],
      "metadata": {
        "id": "THPi6TVtTt0L"
      },
      "execution_count": null,
      "outputs": []
    },
    {
      "cell_type": "code",
      "source": [
        "#Filtrar por estados, GASOLINA COMUM:\n",
        "\n",
        "gasolina_comum_micro.groupby(['MÊS', 'ESTADO'])[['PREÇO MÉDIO REVENDA']].mean().sort_values(['MÊS', 'PREÇO MÉDIO REVENDA'], ascending=False)\n"
      ],
      "metadata": {
        "id": "Wi4_-FtjP8zR"
      },
      "execution_count": null,
      "outputs": []
    },
    {
      "cell_type": "code",
      "source": [
        "#Filtrar por estado, GASOLINA ADITIVADA\n",
        "\n",
        "gasolina_aditivada_micro.groupby(['MÊS', 'ESTADO'])[['PREÇO MÉDIO REVENDA']].mean().sort_values(['MÊS', 'PREÇO MÉDIO REVENDA'], ascending=False)\n"
      ],
      "metadata": {
        "id": "vIyOo_JXUkEf"
      },
      "execution_count": null,
      "outputs": []
    },
    {
      "cell_type": "code",
      "source": [
        "#Filtrar por estado, ETANOL\n",
        "\n",
        "etanol_micro.groupby(['MÊS', 'ESTADO'])[['PREÇO MÉDIO REVENDA']].mean().sort_values(['MÊS', 'PREÇO MÉDIO REVENDA'], ascending=False)"
      ],
      "metadata": {
        "id": "8j7eRdiyV_1t"
      },
      "execution_count": null,
      "outputs": []
    },
    {
      "cell_type": "code",
      "source": [
        "#Filtrar por municípios - GASOLINA COMUM\n",
        "\n",
        "gasolina_comum_micro.groupby(['MÊS', 'MUNICÍPIO', 'ESTADO'])[['PREÇO MÉDIO REVENDA']].mean().sort_values(['MÊS', 'PREÇO MÉDIO REVENDA'], ascending=False)\n",
        "\n"
      ],
      "metadata": {
        "id": "tS7eTXgzP-xp"
      },
      "execution_count": null,
      "outputs": []
    },
    {
      "cell_type": "code",
      "source": [
        "#Filtrar por municípios - GASOLINA ADITIVADA\n",
        "\n",
        "gasolina_aditivada_micro.groupby(['MÊS', 'MUNICÍPIO', 'ESTADO'])[['PREÇO MÉDIO REVENDA']].mean().sort_values(['MÊS', 'PREÇO MÉDIO REVENDA'], ascending=False)"
      ],
      "metadata": {
        "id": "cPJnOhT21euU"
      },
      "execution_count": null,
      "outputs": []
    },
    {
      "cell_type": "code",
      "source": [
        "#Filtrar por municípios - ETANOL\n",
        "\n",
        "etanol_micro.groupby(['MÊS', 'MUNICÍPIO', 'ESTADO'])[['PREÇO MÉDIO REVENDA']].mean().sort_values(['MÊS', 'PREÇO MÉDIO REVENDA'], ascending=False)"
      ],
      "metadata": {
        "id": "YUZaS8uo1sMq"
      },
      "execution_count": null,
      "outputs": []
    },
    {
      "cell_type": "markdown",
      "source": [
        "###**[OK] Pergunta 2: Qual o preço médio da gasolina e do etanol nesses dois meses?**"
      ],
      "metadata": {
        "id": "-_sUrlsFGiRs"
      }
    },
    {
      "cell_type": "code",
      "source": [
        "#Preço médio de julho e agosto para todo o Brasil\n",
        "\n",
        "pMedioGasolina = brasil_macro.loc['GASOLINA COMUM']\n",
        "pMedioGasolinaA = brasil_macro.loc['GASOLINA ADITIVADA']\n",
        "pMedioEtanol = brasil_macro.loc['ETANOL HIDRATADO']\n",
        "print('O valor médio da gasolina nos 2 meses foi de :',pMedioGasolina['PREÇO MÉDIO REVENDA'].mean())\n",
        "print('O valor médio da gasolina aditivada nos 2 meses foi de :',pMedioGasolinaA['PREÇO MÉDIO REVENDA'].mean())\n",
        "print('O valor médio do etanol nos 2 meses foi de :',pMedioEtanol['PREÇO MÉDIO REVENDA'].mean())"
      ],
      "metadata": {
        "id": "WwYWVVgVGQoU",
        "colab": {
          "base_uri": "https://localhost:8080/"
        },
        "outputId": "dcb4514e-83ea-4b78-849e-b941cda7d594"
      },
      "execution_count": null,
      "outputs": [
        {
          "output_type": "stream",
          "name": "stdout",
          "text": [
            "O valor médio da gasolina nos 2 meses foi de : 5.72\n",
            "O valor médio da gasolina aditivada nos 2 meses foi de : 5.87\n",
            "O valor médio do etanol nos 2 meses foi de : 4.155\n"
          ]
        }
      ]
    },
    {
      "cell_type": "code",
      "source": [
        "plt.plot(brasil_micro[''],brasil_micro['PREÇO MÉDIO REVENDA'], marker='o',mfc='r')"
      ],
      "metadata": {
        "colab": {
          "base_uri": "https://localhost:8080/",
          "height": 282
        },
        "id": "hQgHFUvFcTti",
        "outputId": "a29970d7-8386-41b6-830d-bef1c40c4a4e"
      },
      "execution_count": null,
      "outputs": [
        {
          "output_type": "execute_result",
          "data": {
            "text/plain": [
              "[<matplotlib.lines.Line2D at 0x7f5a2e0a06d0>]"
            ]
          },
          "metadata": {},
          "execution_count": 78
        },
        {
          "output_type": "display_data",
          "data": {
            "text/plain": [
              "<Figure size 432x288 with 1 Axes>"
            ],
            "image/png": "[encoded data removed]"
          },
          "metadata": {
            "needs_background": "light"
          }
        }
      ]
    },
    {
      "cell_type": "code",
      "source": [
        "#Preço médio de julho e agosto para todas as regiões, estados e municípios:\n",
        "\n",
        "pMedioGasolina = brasil_micro.loc['GASOLINA COMUM']\n",
        "pMedioGasolinaA = brasil_micro.loc['GASOLINA ADITIVADA']\n",
        "pMedioEtanol = brasil_micro.loc['ETANOL HIDRATADO']\n",
        "print('O valor médio da gasolina nos 2 meses foi de :',pMedioGasolina['PREÇO MÉDIO REVENDA'].mean())\n",
        "print('O valor médio da gasolina aditivada nos 2 meses foi de :',pMedioGasolinaA['PREÇO MÉDIO REVENDA'].mean())\n",
        "print('O valor médio do etanol nos 2 meses foi de :',pMedioEtanol['PREÇO MÉDIO REVENDA'].mean())"
      ],
      "metadata": {
        "id": "nj7_QoZvX0Hs"
      },
      "execution_count": null,
      "outputs": []
    },
    {
      "cell_type": "markdown",
      "source": [
        "###**[OK] Pergunta 3: Quais os 5 estados com o preço médio da gasolina e do etanol mais caros?**\n",
        "\n",
        "\n"
      ],
      "metadata": {
        "id": "FU-dZHpwCHni"
      }
    },
    {
      "cell_type": "code",
      "source": [
        "#Para GASOLINA COMUM\n",
        "\n",
        "gasolina_comum = brasil_micro.loc['GASOLINA COMUM'] \n",
        "gasolina_comum.groupby('ESTADO')[['PREÇO MÉDIO REVENDA']].mean().sort_values(['PREÇO MÉDIO REVENDA'], ascending = False).head()"
      ],
      "metadata": {
        "id": "Libhf010168i"
      },
      "execution_count": null,
      "outputs": []
    },
    {
      "cell_type": "code",
      "source": [
        "#GASOLINA ADITIVADA\n",
        "gasolina_aditivada = brasil_micro.loc['GASOLINA ADITIVADA'] \n",
        "gasolina_aditivada.groupby('ESTADO')[['PREÇO MÉDIO REVENDA']].mean().sort_values(['PREÇO MÉDIO REVENDA'], ascending = False).head()"
      ],
      "metadata": {
        "id": "81Bvn7s3FVJP"
      },
      "execution_count": null,
      "outputs": []
    },
    {
      "cell_type": "code",
      "source": [
        "#ETANOL\n",
        "etanol = brasil_micro.loc['ETANOL HIDRATADO'] \n",
        "etanol.groupby(['ESTADO'])[['PREÇO MÉDIO REVENDA']].mean().sort_values(['PREÇO MÉDIO REVENDA'], ascending = False).head()"
      ],
      "metadata": {
        "id": "cmZxoYHw8RDb"
      },
      "execution_count": null,
      "outputs": []
    },
    {
      "cell_type": "markdown",
      "source": [
        "### **[OK] Pergunta 4: Qual o preço médio da gasolina e do etanol por estado?**\n"
      ],
      "metadata": {
        "id": "GrDIXvQiDKR8"
      }
    },
    {
      "cell_type": "code",
      "source": [
        "#GASOLINA COMUM\n",
        "gasolina_comum.groupby('ESTADO')[['PREÇO MÉDIO REVENDA']].mean().sort_values(['PREÇO MÉDIO REVENDA'], ascending = False)\n",
        "\n"
      ],
      "metadata": {
        "id": "sEeopngs2JFe"
      },
      "execution_count": null,
      "outputs": []
    },
    {
      "cell_type": "code",
      "source": [
        "#GASOLINA ADITIVADA\n",
        "gasolina_aditivada.groupby('ESTADO')[['PREÇO MÉDIO REVENDA']].mean().sort_values(['PREÇO MÉDIO REVENDA'], ascending = False)"
      ],
      "metadata": {
        "id": "H28rhHkub3YJ"
      },
      "execution_count": null,
      "outputs": []
    },
    {
      "cell_type": "code",
      "source": [
        "#ETANOL\n",
        "etanol.groupby(['ESTADO'])[['PREÇO MÉDIO REVENDA']].mean().sort_values(['PREÇO MÉDIO REVENDA'], ascending = False)"
      ],
      "metadata": {
        "id": "BK3aHwKtcLhi"
      },
      "execution_count": null,
      "outputs": []
    },
    {
      "cell_type": "markdown",
      "source": [
        "### **[OK] Pergunta 5: Qual o município que possui o menor preço para a gasolina e para o etanol?**"
      ],
      "metadata": {
        "id": "eoTkMLn2DSib"
      }
    },
    {
      "cell_type": "code",
      "source": [
        "# GASOLINA COMUM\n",
        "gasolina_comum_cid = brasil_micro.loc[\"GASOLINA COMUM\"]\n",
        "gasolina_comum_cid.groupby(['MUNICÍPIO', 'ESTADO'])[['PREÇO MÍNIMO REVENDA']].min().sort_values(['PREÇO MÍNIMO REVENDA'], ascending = True)"
      ],
      "metadata": {
        "id": "XjMDR1whDd2Y"
      },
      "execution_count": null,
      "outputs": []
    },
    {
      "cell_type": "code",
      "source": [
        "# GASOLINA ADITIVADA \n",
        "gasolina_aditivada_cid = brasil_micro.loc[\"GASOLINA ADITIVADA\"]\n",
        "gasolina_aditivada_cid.groupby(['MUNICÍPIO', 'ESTADO'])[['PREÇO MÍNIMO REVENDA']].min().sort_values(['PREÇO MÍNIMO REVENDA'], ascending = True)\n"
      ],
      "metadata": {
        "id": "kw5zrjSSPzAy"
      },
      "execution_count": null,
      "outputs": []
    },
    {
      "cell_type": "code",
      "source": [
        "# ETANOL\n",
        "etanol_cid = brasil_micro.loc[\"ETANOL HIDRATADO\"]\n",
        "etanol_cid.groupby(['MUNICÍPIO', 'ESTADO'])[['PREÇO MÍNIMO REVENDA']].min().sort_values(['PREÇO MÍNIMO REVENDA'], ascending = True)"
      ],
      "metadata": {
        "id": "mJgWw7_sQBZF"
      },
      "execution_count": null,
      "outputs": []
    },
    {
      "cell_type": "markdown",
      "source": [
        "### **[OK] Pergunta 6: Qual o município que possui o maior preço para a gasolina e para o etanol?**"
      ],
      "metadata": {
        "id": "zE8KgoWODePl"
      }
    },
    {
      "cell_type": "code",
      "source": [
        "#GASOLINA COMUM\n",
        "\n",
        "gasolina_comum_cid = brasil_micro.loc[\"GASOLINA COMUM\"]\n",
        "gasolina_comum_cid.groupby(['MUNICÍPIO','ESTADO'])[['PREÇO MÁXIMO REVENDA']].max().sort_values(['PREÇO MÁXIMO REVENDA'], ascending = False)"
      ],
      "metadata": {
        "id": "kDC69z9DDmMd"
      },
      "execution_count": null,
      "outputs": []
    },
    {
      "cell_type": "code",
      "source": [
        "# GASOLINA ADITIVADA\n",
        "\n",
        "gasolina_aditivada_cid = brasil_micro.loc[\"GASOLINA ADITIVADA\"]\n",
        "gasolina_aditivada_cid.groupby(['MUNICÍPIO','ESTADO'])[['PREÇO MÁXIMO REVENDA']].max().sort_values(['PREÇO MÁXIMO REVENDA'], ascending = False)"
      ],
      "metadata": {
        "id": "_YsXPR5gQrSo"
      },
      "execution_count": null,
      "outputs": []
    },
    {
      "cell_type": "code",
      "source": [
        "#ETANOL\n",
        "\n",
        "etanol_cid.groupby(['MUNICÍPIO','ESTADO'])[['PREÇO MÁXIMO REVENDA']].max().sort_values(['PREÇO MÁXIMO REVENDA'], ascending = False)"
      ],
      "metadata": {
        "id": "j_gkb8DFQ8fc"
      },
      "execution_count": null,
      "outputs": []
    },
    {
      "cell_type": "markdown",
      "source": [
        "### **[OK] Pergunta 7: Qual a região que possui o maior valor médio da gasolina?**"
      ],
      "metadata": {
        "id": "t0QZ4rcqDnU4"
      }
    },
    {
      "cell_type": "code",
      "source": [
        "# 7.a) GASOLINA COMUM\n",
        "\n",
        "gasolina_comum = brasil_micro.loc[\"GASOLINA COMUM\"] \n",
        "gasolina_comum.groupby('REGIÃO')[['PREÇO MÉDIO REVENDA']].max().sort_values(['PREÇO MÉDIO REVENDA'], ascending = False)"
      ],
      "metadata": {
        "id": "L-OdCFWPX62p"
      },
      "execution_count": null,
      "outputs": []
    },
    {
      "cell_type": "code",
      "source": [
        "#Gráfico de colunas, testando\n",
        "\n",
        "plt.bar(['Norte'],[7.73],\n",
        "label =\"Norte\", color='blue', width=.5)\n",
        "plt.bar([\"Nordeste\"],[7.49],\n",
        "label =\"Nordeste\", color='red', width=.5)\n",
        "plt.bar([\"Sudeste\"],[6.83],\n",
        "label =\"Sudeste\", color='purple', width=.5)\n",
        "plt.bar([\"Sul\"],[6.65],\n",
        "label =\"Sul\", color='green', width=.5)\n",
        "plt.bar([\"Centro Oeste\"],[6.45],\n",
        "label =\"Centro Oeste\", color='orange', width=.5)\n",
        "plt.xlabel('Regiões')\n",
        "plt.ylabel('Preço em R$')\n",
        "plt.title('Maior preço médio - gasolina comum entre jul-ago/2022')\n",
        "plt.show()"
      ],
      "metadata": {
        "id": "3TCb9tc_c48G"
      },
      "execution_count": null,
      "outputs": []
    },
    {
      "cell_type": "code",
      "source": [
        "# 7.b) GASOLINA ADITIVADA\n",
        "\n",
        "gasolina_aditivada = brasil_micro.loc[\"GASOLINA ADITIVADA\"]\n",
        "gasolina_aditivada.groupby('REGIÃO')[['PREÇO MÉDIO REVENDA']].max().sort_values(['PREÇO MÉDIO REVENDA'], ascending = False)\n",
        "\n"
      ],
      "metadata": {
        "id": "Yc7fPMPuYrru"
      },
      "execution_count": null,
      "outputs": []
    },
    {
      "cell_type": "markdown",
      "source": [
        "### **[OK] Pergunta 8: Qual a região que possui o menor valor médio do etanol?**"
      ],
      "metadata": {
        "id": "5n9jLCMMDvsU"
      }
    },
    {
      "cell_type": "code",
      "source": [
        "\n",
        "# ETANOL\n",
        "\n",
        "etanol = brasil_micro.loc[\"ETANOL HIDRATADO\"]\n",
        "etanol.groupby('REGIÃO')[['PREÇO MÉDIO REVENDA']].min().sort_values(['PREÇO MÉDIO REVENDA'], ascending = True)"
      ],
      "metadata": {
        "id": "At0PFWvowIoQ"
      },
      "execution_count": null,
      "outputs": []
    },
    {
      "cell_type": "markdown",
      "source": [
        "### **[FALTA FINALIZAR] Pergunta 9: Há alguma correlação entre o valor do combustível (gasolina e etanol) e a região onde ele é vendido?**"
      ],
      "metadata": {
        "id": "i9hwqw8LD0V0"
      }
    },
    {
      "cell_type": "code",
      "source": [
        "#1 - Fazer uma cópia dos dataframe originais\n",
        "copia = brasil_micro.copy()\n"
      ],
      "metadata": {
        "id": "Abg9OI8jD8WI"
      },
      "execution_count": null,
      "outputs": []
    },
    {
      "cell_type": "code",
      "source": [
        "# 2 - Valores numéricos para a coluna 'REGIÃO':\n",
        "\n",
        "nova_regiao = {'NORTE': 1, 'NORDESTE': 2, 'CENTRO OESTE': 3, 'SUDESTE': 4, 'SUL': 5}\n",
        "copia['REGIÃO'] = copia['REGIÃO'].map(nova_regiao)\n"
      ],
      "metadata": {
        "id": "x-05w72cVf8m"
      },
      "execution_count": null,
      "outputs": []
    },
    {
      "cell_type": "code",
      "source": [
        "#Valores numéricos para a coluna 'ESTADO':\n",
        "\n",
        "novo_estado = {'ACRE': 1, 'AMAPA': 2, 'AMAZONAS': 3, 'PARA': 4, 'RONDONIA': 5, 'RORAIMA': 6, 'TOCANTINS': 7,\n",
        "               'ALAGOAS': 8, 'BAHIA': 9, 'CEARA': 10, 'MARANHAO': 11, 'PARAIBA': 12, 'PERNAMBUCO': 13, 'PIAUI': 14, 'RIO GRANDE DO NORTE': 15, 'SERGIPE': 16,\n",
        "               'DISTRITO FEDERAL': 17, 'GOIAS': 18, 'MATO GROSSO': 19, 'MATO GROSSO DO SUL': 20, 'ESPIRITO SANTO': 21, 'MINAS GERAIS': 22, 'RIO DE JANEIRO': 23, 'SAO PAULO': 24,\n",
        "                'PARANA': 25, 'SANTA CATARINA': 26, 'RIO GRANDE DO SUL': 27}\n",
        "copia['ESTADO'] = copia['ESTADO'].map(novo_estado)\n"
      ],
      "metadata": {
        "id": "X7h8tYr9fRn8"
      },
      "execution_count": null,
      "outputs": []
    },
    {
      "cell_type": "code",
      "source": [
        "#CORRELAÇÃO REGIÕES COM O PREÇO MÉDIO PARA TODOS OS COMBUSTÍVEIS\n",
        "\n",
        "(copia.corr())"
      ],
      "metadata": {
        "id": "s3-e9rLjfBoe"
      },
      "execution_count": null,
      "outputs": []
    },
    {
      "cell_type": "code",
      "source": [
        "# CORRELAÇÃO REGIÕES COM O PREÇO MÉDIO DO ETANOL \n",
        "\n",
        "copia_etanol = copia.loc[\"ETANOL HIDRATADO\"]\n",
        "(copia_etanol.corr())"
      ],
      "metadata": {
        "id": "46O5kes3kg52"
      },
      "execution_count": null,
      "outputs": []
    },
    {
      "cell_type": "code",
      "source": [
        "# CORRELAÇÃO REGIÕES COM O PREÇO MÉDIO DA GASOLINA COMUM\n",
        "copia_gas_comum = copia.loc[\"GASOLINA COMUM\"]\n",
        "(copia_gas_comum.corr())"
      ],
      "metadata": {
        "id": "eAyaPEJRYBQx"
      },
      "execution_count": null,
      "outputs": []
    },
    {
      "cell_type": "code",
      "source": [
        "# CORRELAÇÃO REGIÕES COM O PREÇO MÉDIO DA GASOLINA ADITIVADA\n",
        "\n",
        "copia_gas_aditivada = copia.loc[\"GASOLINA ADITIVADA\"]\n",
        "(copia_gas_aditivada.corr())"
      ],
      "metadata": {
        "id": "zdB3xBnYiXe7"
      },
      "execution_count": null,
      "outputs": []
    },
    {
      "cell_type": "markdown",
      "source": [
        "### **[FALTA FINALIZAR] Pergunta 10: Há alguma correlação entre o valor do combustível (gasolina e etanol) e a bandeira que vende ele?**"
      ],
      "metadata": {
        "id": "76pyu_FSD8h4"
      }
    },
    {
      "cell_type": "code",
      "source": [
        "copia2 = brasil_micro_postos.copy()"
      ],
      "metadata": {
        "id": "1KCIAZEL36Qr"
      },
      "execution_count": null,
      "outputs": []
    },
    {
      "cell_type": "code",
      "source": [
        "#Valores numéricos para a coluna 'Bandeira'\n",
        "\n",
        "nova_bandeira = {'VIBRA ENERGIA': 1, 'IPIRANGA': 2, 'BRANCA': 3, 'RAIZEN': 4, 'REJAILE': 5,            \n",
        "                'RODOIL': 6, \"ATEM' S\": 7, 'ALESAT':8, 'SP': 9, 'TOTALENERGIES': 10, 'SABBÁ': 11,\n",
        "                'FEDERAL ENERGIA': 12, 'DISLUB': 13, 'TEMAPE': 14, 'ESTRADA': 15, 'IDAZA': 16, 'STANG': 17,\n",
        "                'RAIZEN MIME':18, 'PETROX DISTRIBUIDORA':19, 'PETROBAHIA':20, 'TAURUS':21,\n",
        "                'CIAPETRO':22, 'CHARRUA':23, 'EQUADOR':24, 'SETTA DISTRIBUIDORA':25,\n",
        "                'MASUT DISTRIBUIDORA':26, 'RIO BRANCO':27, 'RZD DISTRIBUIDORA':28,\n",
        "                'SUL COMBUSTÍVEIS':29, 'SIMARELLI':30, 'SMALL':31, 'TDC DISTRIBUIDORA':32,\n",
        "                 'PETROSERRA':33, 'ATLÂNTICA':34, 'FAN':35, 'MAXSUL':36, 'DIBRAPE':37,\n",
        "                 'WALENDOWSKY':38, 'WATT':39, 'POTENCIAL':40,'ROYAL FIC':41, 'UNI':42,\n",
        "                 'MONTEPETRO':43, 'TORRAO':44, 'PELIKANO':45, 'AMERICANOIL':46, 'LARCO':47,\n",
        "                 'RUFF C.J.':48, 'PETRONAC':49}\n",
        "\n"
      ],
      "metadata": {
        "id": "RFaqaSgo4ZG4"
      },
      "execution_count": null,
      "outputs": []
    },
    {
      "cell_type": "code",
      "source": [
        "copia2['Bandeira'] = copia2['Bandeira'].map(nova_bandeira)"
      ],
      "metadata": {
        "id": "jSzg287x4jJZ"
      },
      "execution_count": null,
      "outputs": []
    },
    {
      "cell_type": "code",
      "source": [
        "copia2['Bandeira'].unique()"
      ],
      "metadata": {
        "id": "TGOPhkfRwVhS"
      },
      "execution_count": null,
      "outputs": []
    },
    {
      "cell_type": "code",
      "source": [
        "(copia2.corr())"
      ],
      "metadata": {
        "id": "k_-47j6hfud2"
      },
      "execution_count": null,
      "outputs": []
    },
    {
      "cell_type": "markdown",
      "source": [
        "### **[OK] 2ª PERGUNTA EXTRA:  Através do coeficiente de variação, explique se as bases de dados utilizadas são mais ou menos homogêneas (Para o Brasil, regiões, estados e municípios).**\n",
        "\n",
        "\n",
        "PS: Há algum padrão de C.V para a indústria de combustível?"
      ],
      "metadata": {
        "id": "DHYNmbQmEEcm"
      }
    },
    {
      "cell_type": "code",
      "source": [
        "#Criando uma nova coluna com o coeficiente de variação em porcentagem (%)\n",
        "\n",
        "brasil_micro['COEF DE VARIAÇÃO REVENDA %'] = brasil_micro['COEF DE VARIAÇÃO REVENDA'] * 100\n",
        "brasil_macro[ 'COEF DE VARIAÇÃO REVENDA %'] = brasil_macro['COEF DE VARIAÇÃO REVENDA']*100\n",
        "\n",
        "\n",
        "brasil_micro\n"
      ],
      "metadata": {
        "id": "FarcmPmd6AuT"
      },
      "execution_count": null,
      "outputs": []
    },
    {
      "cell_type": "code",
      "source": [
        "#Considerando todos os combustíveis POR REGIÃO\n",
        "brasil_micro.groupby('REGIÃO')[['COEF DE VARIAÇÃO REVENDA %']].max().sort_values(['COEF DE VARIAÇÃO REVENDA %'], ascending = False)"
      ],
      "metadata": {
        "id": "gDsbeQZ18bJn"
      },
      "execution_count": null,
      "outputs": []
    },
    {
      "cell_type": "code",
      "source": [
        "# Etanol POR REGIÃO\n",
        "etanol_var = brasil_micro.loc[\"ETANOL HIDRATADO\"]\n",
        "etanol_var.groupby('REGIÃO')[['COEF DE VARIAÇÃO REVENDA %']].max().sort_values(['COEF DE VARIAÇÃO REVENDA %'], ascending = False)\n"
      ],
      "metadata": {
        "id": "4_PJlhi8-Eg-"
      },
      "execution_count": null,
      "outputs": []
    },
    {
      "cell_type": "code",
      "source": [
        "# Gasolina comum POR REGIÃO\n",
        "gaso_comum_var = brasil_micro.loc[\"GASOLINA COMUM\"]\n",
        "gaso_comum_var.groupby('REGIÃO')[['COEF DE VARIAÇÃO REVENDA %']].max().sort_values(['COEF DE VARIAÇÃO REVENDA %'], ascending = False)"
      ],
      "metadata": {
        "id": "8FBLNSTo-sk1"
      },
      "execution_count": null,
      "outputs": []
    },
    {
      "cell_type": "code",
      "source": [
        "# Gasolina aditivada POR REGIÃO\n",
        "gaso_adit_var = brasil_micro.loc[\"GASOLINA ADITIVADA\"]\n",
        "gaso_adit_var.groupby('REGIÃO')[['COEF DE VARIAÇÃO REVENDA %']].max().sort_values(['COEF DE VARIAÇÃO REVENDA %'], ascending = False)\n"
      ],
      "metadata": {
        "id": "XeAp4x0L-6rQ"
      },
      "execution_count": null,
      "outputs": []
    },
    {
      "cell_type": "code",
      "source": [
        "#Etanol por município\n",
        "etanol_var.groupby(['MUNICÍPIO', 'ESTADO'])[['COEF DE VARIAÇÃO REVENDA %']].max().sort_values(['COEF DE VARIAÇÃO REVENDA %'], ascending = False)"
      ],
      "metadata": {
        "id": "oaHLIpyg_l3c"
      },
      "execution_count": null,
      "outputs": []
    },
    {
      "cell_type": "code",
      "source": [
        "#Gasolina comum por município\n",
        "gaso_comum_var.groupby(['MUNICÍPIO', 'ESTADO'])[['COEF DE VARIAÇÃO REVENDA %']].max().sort_values(['COEF DE VARIAÇÃO REVENDA %'], ascending = False)\n"
      ],
      "metadata": {
        "id": "gkvZAXjYAaf3"
      },
      "execution_count": null,
      "outputs": []
    },
    {
      "cell_type": "code",
      "source": [
        "#Gasolina aditivada por município\n",
        "gaso_adit_var.groupby(['MUNICÍPIO', 'ESTADO'])[['COEF DE VARIAÇÃO REVENDA %']].max().sort_values(['COEF DE VARIAÇÃO REVENDA %'], ascending = False)"
      ],
      "metadata": {
        "id": "qsabiVypAkzX"
      },
      "execution_count": null,
      "outputs": []
    },
    {
      "cell_type": "markdown",
      "source": [
        "### **[FALTA FINALIZAR] 3ª PERGUNTA EXTRA - Há correlação na quantidade de postos pesquisados e a variação dos dados (coeficinete de variação)**"
      ],
      "metadata": {
        "id": "AeJWzNGHEIjE"
      }
    },
    {
      "cell_type": "markdown",
      "source": [
        "### **[FALTA FINALIZAR] 4ª PERGUNTA EXTRA - Fazer uma comparação entre Brasil e algumas potências mundiais considerando o salário minimo  x preço combustivel**\n",
        "\n",
        "\n",
        "\n",
        "\n"
      ],
      "metadata": {
        "id": "XNMa-ZVcHF9O"
      }
    },
    {
      "cell_type": "markdown",
      "source": [
        "###**[FALTA FINALIZAR] 5ª PERGUNTA EXTRA - Comparar o preço médio dos combustíveis no Brasil e potências mundiais entre julho e agosto**"
      ],
      "metadata": {
        "id": "3tDZYp9g56la"
      }
    }
  ],
  "metadata": {
    "colab": {
      "collapsed_sections": [],
      "provenance": [],
      "include_colab_link": true
    },
    "kernelspec": {
      "display_name": "Python 3",
      "name": "python3"
    },
    "language_info": {
      "name": "python"
    }
  },
  "nbformat": 4,
  "nbformat_minor": 0
}