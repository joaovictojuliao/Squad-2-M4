{
  "nbformat": 4,
  "nbformat_minor": 0,
  "metadata": {
    "colab": {
      "provenance": [],
      "collapsed_sections": [],
      "include_colab_link": true
    },
    "kernelspec": {
      "name": "python3",
      "display_name": "Python 3"
    },
    "language_info": {
      "name": "python"
    }
  },
  "cells": [
    {
      "cell_type": "markdown",
      "metadata": {
        "id": "view-in-github",
        "colab_type": "text"
      },
      "source": [
        "<a href=\"https://colab.research.google.com/github/joaovictojuliao/Squad-2-M4/blob/Dayane/M4_Squad_2_Projeto_Final_an%C3%A1lise_explorat%C3%B3ria_pre%C3%A7os_de_combust%C3%ADveis_no_Brasil.ipynb\" target=\"_parent\"><img src=\"https://colab.research.google.com/assets/colab-badge.svg\" alt=\"Open In Colab\"/></a>"
      ]
    },
    {
      "cell_type": "markdown",
      "source": [
        "# **Análise Exploratória dos Preços de Combustíveis no Brasil**"
      ],
      "metadata": {
        "id": "6wvlMcbGD2Ok"
      }
    },
    {
      "cell_type": "markdown",
      "source": [
        "# **1. Introdução**"
      ],
      "metadata": {
        "id": "tSAGaNl6D4MF"
      }
    },
    {
      "cell_type": "markdown",
      "source": [
        "- Falar do objetivo e contexto da indústria dos combustíveis\n",
        "\n",
        "Explicando como o preço dos combustíveis é formado\n",
        "https://www.gov.br/anp/pt-br/assuntos/precos-e-defesa-da-concorrencia/precos/composicao-e-estruturas-de-formacao-dos-precos"
      ],
      "metadata": {
        "id": "XmFaJZ5hD_u0"
      }
    },
    {
      "cell_type": "markdown",
      "source": [
        "# **2. Apresentando os dados originais**\n",
        "\n"
      ],
      "metadata": {
        "id": "h4m_3SfJEDmN"
      }
    },
    {
      "cell_type": "markdown",
      "source": [
        "### **2.1 - Importação e concatenação**\n",
        " "
      ],
      "metadata": {
        "id": "vRhe0Bt5EIJA"
      }
    },
    {
      "cell_type": "code",
      "execution_count": null,
      "metadata": {
        "colab": {
          "base_uri": "https://localhost:8080/"
        },
        "id": "mh6A_6ctC0JK",
        "outputId": "683d3d7d-382d-4681-a212-367d6a5d51d7"
      },
      "outputs": [
        {
          "output_type": "stream",
          "name": "stdout",
          "text": [
            "Drive already mounted at /content/drive; to attempt to forcibly remount, call drive.mount(\"/content/drive\", force_remount=True).\n"
          ]
        }
      ],
      "source": [
        "from google.colab import drive\n",
        "drive.mount('/content/drive')"
      ]
    },
    {
      "cell_type": "code",
      "source": [
        "# Importando a biblioteca Pandas e Matplotlib:\n",
        "import pandas as pd\n",
        "import matplotlib.pyplot as plt"
      ],
      "metadata": {
        "id": "TW70mpmLERDT"
      },
      "execution_count": null,
      "outputs": []
    },
    {
      "cell_type": "code",
      "source": [
        "# Importando dados do mês de julho:\n",
        "\n",
        "combustiveis_julho = pd.read_csv(\"/content/drive/MyDrive/Resilia - Módulo 4 - Projeto Final /CSV/precos-gasolina-etanol-07.csv\", sep = ';')\n",
        "\n",
        "# Importando dados do mês de agosto:\n",
        "\n",
        "combustiveis_agosto = pd.read_csv(\"/content/drive/MyDrive/Resilia - Módulo 4 - Projeto Final /CSV/precos-gasolina-etanol-08.csv\", sep=';')"
      ],
      "metadata": {
        "id": "IeKAha3PEX3i"
      },
      "execution_count": null,
      "outputs": []
    },
    {
      "cell_type": "code",
      "source": [
        "#Criando um novo dataset com a junção das tabelas anteriores:\n",
        "\n",
        "combustiveis = pd.concat([combustiveis_julho, combustiveis_agosto])"
      ],
      "metadata": {
        "id": "XlQWrBYgG5Ep"
      },
      "execution_count": null,
      "outputs": []
    },
    {
      "cell_type": "markdown",
      "source": [
        "### **2.2 -  Conhencendo a estrutura geral dos dados**"
      ],
      "metadata": {
        "id": "LjcVupeGHLFR"
      }
    },
    {
      "cell_type": "code",
      "source": [
        "# Identificando o formato do dataset original\n",
        "# O output retorna a quantidade de linhas e colunas, respectivamente:\n",
        "combustiveis.shape"
      ],
      "metadata": {
        "colab": {
          "base_uri": "https://localhost:8080/"
        },
        "id": "sp1_a2VBHaSf",
        "outputId": "08f4d282-58e4-4ef2-aa8a-869d045c8e5d"
      },
      "execution_count": null,
      "outputs": [
        {
          "output_type": "execute_result",
          "data": {
            "text/plain": [
              "(127176, 16)"
            ]
          },
          "metadata": {},
          "execution_count": 188
        }
      ]
    },
    {
      "cell_type": "code",
      "source": [
        "# Visualizando o dataset\n",
        "# O output retorna as 5 primeiras e 5 últimas linhas do dataframe.\n",
        "\n",
        "combustiveis"
      ],
      "metadata": {
        "colab": {
          "base_uri": "https://localhost:8080/",
          "height": 711
        },
        "id": "N8eIe8uZHmmv",
        "outputId": "6a5f3021-8f9f-4f9f-92c7-da3f0d0c9283"
      },
      "execution_count": null,
      "outputs": [
        {
          "output_type": "execute_result",
          "data": {
            "text/plain": [
              "      Regiao - Sigla Estado - Sigla Municipio  \\\n",
              "0                 SE             ES  COLATINA   \n",
              "1                 SE             ES  COLATINA   \n",
              "2                 SE             ES  COLATINA   \n",
              "3                 SE             ES  COLATINA   \n",
              "4                 CO             GO   GOIANIA   \n",
              "...              ...            ...       ...   \n",
              "69539             CO             DF  BRASILIA   \n",
              "69540             CO             DF  BRASILIA   \n",
              "69541             CO             DF  BRASILIA   \n",
              "69542             SE             MG   JANAUBA   \n",
              "69543             SE             MG   JANAUBA   \n",
              "\n",
              "                                                 Revenda      CNPJ da Revenda  \\\n",
              "0      SAO FRANCISCO DE ASSIS COMERCIO DE COMBUSTIVEI...   08.519.545/0001-10   \n",
              "1      SAO FRANCISCO DE ASSIS COMERCIO DE COMBUSTIVEI...   08.519.545/0001-10   \n",
              "2                                     POSTO MOTOCAP LTDA   04.814.652/0001-10   \n",
              "3                                     POSTO MOTOCAP LTDA   04.814.652/0001-10   \n",
              "4                           JUSTINIANO & JUSTINIANO LTDA   04.489.287/0001-16   \n",
              "...                                                  ...                  ...   \n",
              "69539  POSTO TOP TAGUATINGA COMERCIO DE COMBUSTIVEIS ...   37.189.518/0001-25   \n",
              "69540  POSTO TOP TAGUATINGA COMERCIO DE COMBUSTIVEIS ...   37.189.518/0001-25   \n",
              "69541  POSTO TOP TAGUATINGA COMERCIO DE COMBUSTIVEIS ...   37.189.518/0001-25   \n",
              "69542         AUTO POSTO COMBUSTIVEIS VERAS SANTANA LTDA   33.063.482/0001-88   \n",
              "69543         AUTO POSTO COMBUSTIVEIS VERAS SANTANA LTDA   33.063.482/0001-88   \n",
              "\n",
              "                        Nome da Rua Numero Rua           Complemento  \\\n",
              "0             PRACA FIDELIS FERRARI         35                   NaN   \n",
              "1             PRACA FIDELIS FERRARI         35                   NaN   \n",
              "2           PRACA ALMIRANTE BARROSO         52               LETRA A   \n",
              "3           PRACA ALMIRANTE BARROSO         52               LETRA A   \n",
              "4      AVENIDA JOSE LEANDRO DA CRUZ       2,36    QUADRA 18, LOTE 01   \n",
              "...                             ...        ...                   ...   \n",
              "69539      QUADRA QI 23 LOTES 40/41         42  POSTO DE GASOLINA 01   \n",
              "69540      QUADRA QI 23 LOTES 40/41         42  POSTO DE GASOLINA 01   \n",
              "69541      QUADRA QI 23 LOTES 40/41         42  POSTO DE GASOLINA 01   \n",
              "69542            AVENIDA DA SAUDADE        656                   NaN   \n",
              "69543            AVENIDA DA SAUDADE        656                   NaN   \n",
              "\n",
              "                              Bairro        Cep             Produto  \\\n",
              "0                               LACE  29703-030  GASOLINA ADITIVADA   \n",
              "1                               LACE  29703-030            GASOLINA   \n",
              "2                               LACE  29703-055              ETANOL   \n",
              "3                               LACE  29703-055            GASOLINA   \n",
              "4                    PARQUE AMAZONIA  74840-390  GASOLINA ADITIVADA   \n",
              "...                              ...        ...                 ...   \n",
              "69539  SETOR INDUSTRIAL (TAGUATINGA)  72135-230              ETANOL   \n",
              "69540  SETOR INDUSTRIAL (TAGUATINGA)  72135-230            GASOLINA   \n",
              "69541  SETOR INDUSTRIAL (TAGUATINGA)  72135-230  GASOLINA ADITIVADA   \n",
              "69542                  SANTO ANTONIO  39447-190            GASOLINA   \n",
              "69543                  SANTO ANTONIO  39447-190              ETANOL   \n",
              "\n",
              "      Data da Coleta Valor de Venda  Valor de Compra Unidade de Medida  \\\n",
              "0         01/07/2022           7,48              NaN        R$ / litro   \n",
              "1         01/07/2022           7,38              NaN        R$ / litro   \n",
              "2         01/07/2022           5,99              NaN        R$ / litro   \n",
              "3         01/07/2022           7,39              NaN        R$ / litro   \n",
              "4         01/07/2022           6,49              NaN        R$ / litro   \n",
              "...              ...            ...              ...               ...   \n",
              "69539     31/08/2022           3,99              NaN        R$ / litro   \n",
              "69540     31/08/2022           5,19              NaN        R$ / litro   \n",
              "69541     31/08/2022           5,19              NaN        R$ / litro   \n",
              "69542     31/08/2022           5,27              NaN        R$ / litro   \n",
              "69543     31/08/2022           3,67              NaN        R$ / litro   \n",
              "\n",
              "            Bandeira  \n",
              "0      VIBRA ENERGIA  \n",
              "1      VIBRA ENERGIA  \n",
              "2      VIBRA ENERGIA  \n",
              "3      VIBRA ENERGIA  \n",
              "4           IPIRANGA  \n",
              "...              ...  \n",
              "69539       IPIRANGA  \n",
              "69540       IPIRANGA  \n",
              "69541       IPIRANGA  \n",
              "69542         BRANCA  \n",
              "69543         BRANCA  \n",
              "\n",
              "[127176 rows x 16 columns]"
            ],
            "text/html": [
              "\n",
              "  <div id=\"df-6eece87f-a0d5-496d-87d0-e408fbc17399\">\n",
              "    <div class=\"colab-df-container\">\n",
              "      <div>\n",
              "<style scoped>\n",
              "    .dataframe tbody tr th:only-of-type {\n",
              "        vertical-align: middle;\n",
              "    }\n",
              "\n",
              "    .dataframe tbody tr th {\n",
              "        vertical-align: top;\n",
              "    }\n",
              "\n",
              "    .dataframe thead th {\n",
              "        text-align: right;\n",
              "    }\n",
              "</style>\n",
              "<table border=\"1\" class=\"dataframe\">\n",
              "  <thead>\n",
              "    <tr style=\"text-align: right;\">\n",
              "      <th></th>\n",
              "      <th>Regiao - Sigla</th>\n",
              "      <th>Estado - Sigla</th>\n",
              "      <th>Municipio</th>\n",
              "      <th>Revenda</th>\n",
              "      <th>CNPJ da Revenda</th>\n",
              "      <th>Nome da Rua</th>\n",
              "      <th>Numero Rua</th>\n",
              "      <th>Complemento</th>\n",
              "      <th>Bairro</th>\n",
              "      <th>Cep</th>\n",
              "      <th>Produto</th>\n",
              "      <th>Data da Coleta</th>\n",
              "      <th>Valor de Venda</th>\n",
              "      <th>Valor de Compra</th>\n",
              "      <th>Unidade de Medida</th>\n",
              "      <th>Bandeira</th>\n",
              "    </tr>\n",
              "  </thead>\n",
              "  <tbody>\n",
              "    <tr>\n",
              "      <th>0</th>\n",
              "      <td>SE</td>\n",
              "      <td>ES</td>\n",
              "      <td>COLATINA</td>\n",
              "      <td>SAO FRANCISCO DE ASSIS COMERCIO DE COMBUSTIVEI...</td>\n",
              "      <td>08.519.545/0001-10</td>\n",
              "      <td>PRACA FIDELIS FERRARI</td>\n",
              "      <td>35</td>\n",
              "      <td>NaN</td>\n",
              "      <td>LACE</td>\n",
              "      <td>29703-030</td>\n",
              "      <td>GASOLINA ADITIVADA</td>\n",
              "      <td>01/07/2022</td>\n",
              "      <td>7,48</td>\n",
              "      <td>NaN</td>\n",
              "      <td>R$ / litro</td>\n",
              "      <td>VIBRA ENERGIA</td>\n",
              "    </tr>\n",
              "    <tr>\n",
              "      <th>1</th>\n",
              "      <td>SE</td>\n",
              "      <td>ES</td>\n",
              "      <td>COLATINA</td>\n",
              "      <td>SAO FRANCISCO DE ASSIS COMERCIO DE COMBUSTIVEI...</td>\n",
              "      <td>08.519.545/0001-10</td>\n",
              "      <td>PRACA FIDELIS FERRARI</td>\n",
              "      <td>35</td>\n",
              "      <td>NaN</td>\n",
              "      <td>LACE</td>\n",
              "      <td>29703-030</td>\n",
              "      <td>GASOLINA</td>\n",
              "      <td>01/07/2022</td>\n",
              "      <td>7,38</td>\n",
              "      <td>NaN</td>\n",
              "      <td>R$ / litro</td>\n",
              "      <td>VIBRA ENERGIA</td>\n",
              "    </tr>\n",
              "    <tr>\n",
              "      <th>2</th>\n",
              "      <td>SE</td>\n",
              "      <td>ES</td>\n",
              "      <td>COLATINA</td>\n",
              "      <td>POSTO MOTOCAP LTDA</td>\n",
              "      <td>04.814.652/0001-10</td>\n",
              "      <td>PRACA ALMIRANTE BARROSO</td>\n",
              "      <td>52</td>\n",
              "      <td>LETRA A</td>\n",
              "      <td>LACE</td>\n",
              "      <td>29703-055</td>\n",
              "      <td>ETANOL</td>\n",
              "      <td>01/07/2022</td>\n",
              "      <td>5,99</td>\n",
              "      <td>NaN</td>\n",
              "      <td>R$ / litro</td>\n",
              "      <td>VIBRA ENERGIA</td>\n",
              "    </tr>\n",
              "    <tr>\n",
              "      <th>3</th>\n",
              "      <td>SE</td>\n",
              "      <td>ES</td>\n",
              "      <td>COLATINA</td>\n",
              "      <td>POSTO MOTOCAP LTDA</td>\n",
              "      <td>04.814.652/0001-10</td>\n",
              "      <td>PRACA ALMIRANTE BARROSO</td>\n",
              "      <td>52</td>\n",
              "      <td>LETRA A</td>\n",
              "      <td>LACE</td>\n",
              "      <td>29703-055</td>\n",
              "      <td>GASOLINA</td>\n",
              "      <td>01/07/2022</td>\n",
              "      <td>7,39</td>\n",
              "      <td>NaN</td>\n",
              "      <td>R$ / litro</td>\n",
              "      <td>VIBRA ENERGIA</td>\n",
              "    </tr>\n",
              "    <tr>\n",
              "      <th>4</th>\n",
              "      <td>CO</td>\n",
              "      <td>GO</td>\n",
              "      <td>GOIANIA</td>\n",
              "      <td>JUSTINIANO &amp; JUSTINIANO LTDA</td>\n",
              "      <td>04.489.287/0001-16</td>\n",
              "      <td>AVENIDA JOSE LEANDRO DA CRUZ</td>\n",
              "      <td>2,36</td>\n",
              "      <td>QUADRA 18, LOTE 01</td>\n",
              "      <td>PARQUE AMAZONIA</td>\n",
              "      <td>74840-390</td>\n",
              "      <td>GASOLINA ADITIVADA</td>\n",
              "      <td>01/07/2022</td>\n",
              "      <td>6,49</td>\n",
              "      <td>NaN</td>\n",
              "      <td>R$ / litro</td>\n",
              "      <td>IPIRANGA</td>\n",
              "    </tr>\n",
              "    <tr>\n",
              "      <th>...</th>\n",
              "      <td>...</td>\n",
              "      <td>...</td>\n",
              "      <td>...</td>\n",
              "      <td>...</td>\n",
              "      <td>...</td>\n",
              "      <td>...</td>\n",
              "      <td>...</td>\n",
              "      <td>...</td>\n",
              "      <td>...</td>\n",
              "      <td>...</td>\n",
              "      <td>...</td>\n",
              "      <td>...</td>\n",
              "      <td>...</td>\n",
              "      <td>...</td>\n",
              "      <td>...</td>\n",
              "      <td>...</td>\n",
              "    </tr>\n",
              "    <tr>\n",
              "      <th>69539</th>\n",
              "      <td>CO</td>\n",
              "      <td>DF</td>\n",
              "      <td>BRASILIA</td>\n",
              "      <td>POSTO TOP TAGUATINGA COMERCIO DE COMBUSTIVEIS ...</td>\n",
              "      <td>37.189.518/0001-25</td>\n",
              "      <td>QUADRA QI 23 LOTES 40/41</td>\n",
              "      <td>42</td>\n",
              "      <td>POSTO DE GASOLINA 01</td>\n",
              "      <td>SETOR INDUSTRIAL (TAGUATINGA)</td>\n",
              "      <td>72135-230</td>\n",
              "      <td>ETANOL</td>\n",
              "      <td>31/08/2022</td>\n",
              "      <td>3,99</td>\n",
              "      <td>NaN</td>\n",
              "      <td>R$ / litro</td>\n",
              "      <td>IPIRANGA</td>\n",
              "    </tr>\n",
              "    <tr>\n",
              "      <th>69540</th>\n",
              "      <td>CO</td>\n",
              "      <td>DF</td>\n",
              "      <td>BRASILIA</td>\n",
              "      <td>POSTO TOP TAGUATINGA COMERCIO DE COMBUSTIVEIS ...</td>\n",
              "      <td>37.189.518/0001-25</td>\n",
              "      <td>QUADRA QI 23 LOTES 40/41</td>\n",
              "      <td>42</td>\n",
              "      <td>POSTO DE GASOLINA 01</td>\n",
              "      <td>SETOR INDUSTRIAL (TAGUATINGA)</td>\n",
              "      <td>72135-230</td>\n",
              "      <td>GASOLINA</td>\n",
              "      <td>31/08/2022</td>\n",
              "      <td>5,19</td>\n",
              "      <td>NaN</td>\n",
              "      <td>R$ / litro</td>\n",
              "      <td>IPIRANGA</td>\n",
              "    </tr>\n",
              "    <tr>\n",
              "      <th>69541</th>\n",
              "      <td>CO</td>\n",
              "      <td>DF</td>\n",
              "      <td>BRASILIA</td>\n",
              "      <td>POSTO TOP TAGUATINGA COMERCIO DE COMBUSTIVEIS ...</td>\n",
              "      <td>37.189.518/0001-25</td>\n",
              "      <td>QUADRA QI 23 LOTES 40/41</td>\n",
              "      <td>42</td>\n",
              "      <td>POSTO DE GASOLINA 01</td>\n",
              "      <td>SETOR INDUSTRIAL (TAGUATINGA)</td>\n",
              "      <td>72135-230</td>\n",
              "      <td>GASOLINA ADITIVADA</td>\n",
              "      <td>31/08/2022</td>\n",
              "      <td>5,19</td>\n",
              "      <td>NaN</td>\n",
              "      <td>R$ / litro</td>\n",
              "      <td>IPIRANGA</td>\n",
              "    </tr>\n",
              "    <tr>\n",
              "      <th>69542</th>\n",
              "      <td>SE</td>\n",
              "      <td>MG</td>\n",
              "      <td>JANAUBA</td>\n",
              "      <td>AUTO POSTO COMBUSTIVEIS VERAS SANTANA LTDA</td>\n",
              "      <td>33.063.482/0001-88</td>\n",
              "      <td>AVENIDA DA SAUDADE</td>\n",
              "      <td>656</td>\n",
              "      <td>NaN</td>\n",
              "      <td>SANTO ANTONIO</td>\n",
              "      <td>39447-190</td>\n",
              "      <td>GASOLINA</td>\n",
              "      <td>31/08/2022</td>\n",
              "      <td>5,27</td>\n",
              "      <td>NaN</td>\n",
              "      <td>R$ / litro</td>\n",
              "      <td>BRANCA</td>\n",
              "    </tr>\n",
              "    <tr>\n",
              "      <th>69543</th>\n",
              "      <td>SE</td>\n",
              "      <td>MG</td>\n",
              "      <td>JANAUBA</td>\n",
              "      <td>AUTO POSTO COMBUSTIVEIS VERAS SANTANA LTDA</td>\n",
              "      <td>33.063.482/0001-88</td>\n",
              "      <td>AVENIDA DA SAUDADE</td>\n",
              "      <td>656</td>\n",
              "      <td>NaN</td>\n",
              "      <td>SANTO ANTONIO</td>\n",
              "      <td>39447-190</td>\n",
              "      <td>ETANOL</td>\n",
              "      <td>31/08/2022</td>\n",
              "      <td>3,67</td>\n",
              "      <td>NaN</td>\n",
              "      <td>R$ / litro</td>\n",
              "      <td>BRANCA</td>\n",
              "    </tr>\n",
              "  </tbody>\n",
              "</table>\n",
              "<p>127176 rows × 16 columns</p>\n",
              "</div>\n",
              "      <button class=\"colab-df-convert\" onclick=\"convertToInteractive('df-6eece87f-a0d5-496d-87d0-e408fbc17399')\"\n",
              "              title=\"Convert this dataframe to an interactive table.\"\n",
              "              style=\"display:none;\">\n",
              "        \n",
              "  <svg xmlns=\"http://www.w3.org/2000/svg\" height=\"24px\"viewBox=\"0 0 24 24\"\n",
              "       width=\"24px\">\n",
              "    <path d=\"M0 0h24v24H0V0z\" fill=\"none\"/>\n",
              "    <path d=\"M18.56 5.44l.94 2.06.94-2.06 2.06-.94-2.06-.94-.94-2.06-.94 2.06-2.06.94zm-11 1L8.5 8.5l.94-2.06 2.06-.94-2.06-.94L8.5 2.5l-.94 2.06-2.06.94zm10 10l.94 2.06.94-2.06 2.06-.94-2.06-.94-.94-2.06-.94 2.06-2.06.94z\"/><path d=\"M17.41 7.96l-1.37-1.37c-.4-.4-.92-.59-1.43-.59-.52 0-1.04.2-1.43.59L10.3 9.45l-7.72 7.72c-.78.78-.78 2.05 0 2.83L4 21.41c.39.39.9.59 1.41.59.51 0 1.02-.2 1.41-.59l7.78-7.78 2.81-2.81c.8-.78.8-2.07 0-2.86zM5.41 20L4 18.59l7.72-7.72 1.47 1.35L5.41 20z\"/>\n",
              "  </svg>\n",
              "      </button>\n",
              "      \n",
              "  <style>\n",
              "    .colab-df-container {\n",
              "      display:flex;\n",
              "      flex-wrap:wrap;\n",
              "      gap: 12px;\n",
              "    }\n",
              "\n",
              "    .colab-df-convert {\n",
              "      background-color: #E8F0FE;\n",
              "      border: none;\n",
              "      border-radius: 50%;\n",
              "      cursor: pointer;\n",
              "      display: none;\n",
              "      fill: #1967D2;\n",
              "      height: 32px;\n",
              "      padding: 0 0 0 0;\n",
              "      width: 32px;\n",
              "    }\n",
              "\n",
              "    .colab-df-convert:hover {\n",
              "      background-color: #E2EBFA;\n",
              "      box-shadow: 0px 1px 2px rgba(60, 64, 67, 0.3), 0px 1px 3px 1px rgba(60, 64, 67, 0.15);\n",
              "      fill: #174EA6;\n",
              "    }\n",
              "\n",
              "    [theme=dark] .colab-df-convert {\n",
              "      background-color: #3B4455;\n",
              "      fill: #D2E3FC;\n",
              "    }\n",
              "\n",
              "    [theme=dark] .colab-df-convert:hover {\n",
              "      background-color: #434B5C;\n",
              "      box-shadow: 0px 1px 3px 1px rgba(0, 0, 0, 0.15);\n",
              "      filter: drop-shadow(0px 1px 2px rgba(0, 0, 0, 0.3));\n",
              "      fill: #FFFFFF;\n",
              "    }\n",
              "  </style>\n",
              "\n",
              "      <script>\n",
              "        const buttonEl =\n",
              "          document.querySelector('#df-6eece87f-a0d5-496d-87d0-e408fbc17399 button.colab-df-convert');\n",
              "        buttonEl.style.display =\n",
              "          google.colab.kernel.accessAllowed ? 'block' : 'none';\n",
              "\n",
              "        async function convertToInteractive(key) {\n",
              "          const element = document.querySelector('#df-6eece87f-a0d5-496d-87d0-e408fbc17399');\n",
              "          const dataTable =\n",
              "            await google.colab.kernel.invokeFunction('convertToInteractive',\n",
              "                                                     [key], {});\n",
              "          if (!dataTable) return;\n",
              "\n",
              "          const docLinkHtml = 'Like what you see? Visit the ' +\n",
              "            '<a target=\"_blank\" href=https://colab.research.google.com/notebooks/data_table.ipynb>data table notebook</a>'\n",
              "            + ' to learn more about interactive tables.';\n",
              "          element.innerHTML = '';\n",
              "          dataTable['output_type'] = 'display_data';\n",
              "          await google.colab.output.renderOutput(dataTable, element);\n",
              "          const docLink = document.createElement('div');\n",
              "          docLink.innerHTML = docLinkHtml;\n",
              "          element.appendChild(docLink);\n",
              "        }\n",
              "      </script>\n",
              "    </div>\n",
              "  </div>\n",
              "  "
            ]
          },
          "metadata": {},
          "execution_count": 189
        }
      ]
    },
    {
      "cell_type": "code",
      "source": [
        "# Conferindo os tipos de dados do dataset:\n",
        "display(combustiveis.dtypes)"
      ],
      "metadata": {
        "colab": {
          "base_uri": "https://localhost:8080/",
          "height": 312
        },
        "id": "17lq6OgPH017",
        "outputId": "c6a0ccd8-0bf1-4568-ac08-25ce061d0e11"
      },
      "execution_count": null,
      "outputs": [
        {
          "output_type": "display_data",
          "data": {
            "text/plain": [
              "Regiao - Sigla        object\n",
              "Estado - Sigla        object\n",
              "Municipio             object\n",
              "Revenda               object\n",
              "CNPJ da Revenda       object\n",
              "Nome da Rua           object\n",
              "Numero Rua            object\n",
              "Complemento           object\n",
              "Bairro                object\n",
              "Cep                   object\n",
              "Produto               object\n",
              "Data da Coleta        object\n",
              "Valor de Venda        object\n",
              "Valor de Compra      float64\n",
              "Unidade de Medida     object\n",
              "Bandeira              object\n",
              "dtype: object"
            ]
          },
          "metadata": {}
        }
      ]
    },
    {
      "cell_type": "markdown",
      "source": [
        "### **2.2 Conclusões**"
      ],
      "metadata": {
        "id": "Gzw4oqZjH9Vo"
      }
    },
    {
      "cell_type": "markdown",
      "source": [
        "# **3. Tratamento inicial dos dados**"
      ],
      "metadata": {
        "id": "WG9FkSFsIGl_"
      }
    },
    {
      "cell_type": "code",
      "source": [
        "# Eliminando as colunas desnecessárias para a análise:\n",
        "combustiveis.drop([\"CNPJ da Revenda\", \"Nome da Rua\", \"Numero Rua\", \"Complemento\", \"Bairro\", \"Cep\", \"Valor de Compra\", \"Unidade de Medida\"], axis=1, inplace=True)"
      ],
      "metadata": {
        "id": "-u36uQS-Ia78"
      },
      "execution_count": null,
      "outputs": []
    },
    {
      "cell_type": "code",
      "source": [
        "# Definindo a coluna 'Produto' como novo índex para o dataset:\n",
        "combustiveis = combustiveis.set_index('Produto')"
      ],
      "metadata": {
        "id": "BmpNfOgSIxEO"
      },
      "execution_count": null,
      "outputs": []
    },
    {
      "cell_type": "code",
      "source": [
        "#Convertendo a coluna 'Valor de Venda' para tipo float e alterando o separador decimal para ponto:\n",
        "combustiveis['Valor de Venda'] = combustiveis['Valor de Venda'].str.replace(',','.').astype(float)"
      ],
      "metadata": {
        "id": "B5jRZ-XjJA8O"
      },
      "execution_count": null,
      "outputs": []
    },
    {
      "cell_type": "code",
      "source": [
        "#Convertendo a coluna 'Data da Coleta' para tipo datetime:\n",
        "combustiveis['Data da Coleta'] = pd.to_datetime( combustiveis['Data da Coleta'], format=\"%d/%m/%Y\")\n",
        "combustiveis\n"
      ],
      "metadata": {
        "id": "OCz1E71gJg_A",
        "colab": {
          "base_uri": "https://localhost:8080/",
          "height": 455
        },
        "outputId": "e51c1266-9784-4a94-8130-4e5443171ae6"
      },
      "execution_count": null,
      "outputs": [
        {
          "output_type": "execute_result",
          "data": {
            "text/plain": [
              "                   Regiao - Sigla Estado - Sigla Municipio  \\\n",
              "Produto                                                      \n",
              "GASOLINA ADITIVADA             SE             ES  COLATINA   \n",
              "GASOLINA                       SE             ES  COLATINA   \n",
              "ETANOL                         SE             ES  COLATINA   \n",
              "GASOLINA                       SE             ES  COLATINA   \n",
              "GASOLINA ADITIVADA             CO             GO   GOIANIA   \n",
              "...                           ...            ...       ...   \n",
              "ETANOL                         CO             DF  BRASILIA   \n",
              "GASOLINA                       CO             DF  BRASILIA   \n",
              "GASOLINA ADITIVADA             CO             DF  BRASILIA   \n",
              "GASOLINA                       SE             MG   JANAUBA   \n",
              "ETANOL                         SE             MG   JANAUBA   \n",
              "\n",
              "                                                              Revenda  \\\n",
              "Produto                                                                 \n",
              "GASOLINA ADITIVADA  SAO FRANCISCO DE ASSIS COMERCIO DE COMBUSTIVEI...   \n",
              "GASOLINA            SAO FRANCISCO DE ASSIS COMERCIO DE COMBUSTIVEI...   \n",
              "ETANOL                                             POSTO MOTOCAP LTDA   \n",
              "GASOLINA                                           POSTO MOTOCAP LTDA   \n",
              "GASOLINA ADITIVADA                       JUSTINIANO & JUSTINIANO LTDA   \n",
              "...                                                               ...   \n",
              "ETANOL              POSTO TOP TAGUATINGA COMERCIO DE COMBUSTIVEIS ...   \n",
              "GASOLINA            POSTO TOP TAGUATINGA COMERCIO DE COMBUSTIVEIS ...   \n",
              "GASOLINA ADITIVADA  POSTO TOP TAGUATINGA COMERCIO DE COMBUSTIVEIS ...   \n",
              "GASOLINA                   AUTO POSTO COMBUSTIVEIS VERAS SANTANA LTDA   \n",
              "ETANOL                     AUTO POSTO COMBUSTIVEIS VERAS SANTANA LTDA   \n",
              "\n",
              "                   Data da Coleta  Valor de Venda       Bandeira  \n",
              "Produto                                                           \n",
              "GASOLINA ADITIVADA     2022-07-01            7.48  VIBRA ENERGIA  \n",
              "GASOLINA               2022-07-01            7.38  VIBRA ENERGIA  \n",
              "ETANOL                 2022-07-01            5.99  VIBRA ENERGIA  \n",
              "GASOLINA               2022-07-01            7.39  VIBRA ENERGIA  \n",
              "GASOLINA ADITIVADA     2022-07-01            6.49       IPIRANGA  \n",
              "...                           ...             ...            ...  \n",
              "ETANOL                 2022-08-31            3.99       IPIRANGA  \n",
              "GASOLINA               2022-08-31            5.19       IPIRANGA  \n",
              "GASOLINA ADITIVADA     2022-08-31            5.19       IPIRANGA  \n",
              "GASOLINA               2022-08-31            5.27         BRANCA  \n",
              "ETANOL                 2022-08-31            3.67         BRANCA  \n",
              "\n",
              "[127176 rows x 7 columns]"
            ],
            "text/html": [
              "\n",
              "  <div id=\"df-5367d7cb-cd0a-4689-b6b1-4fb16851255b\">\n",
              "    <div class=\"colab-df-container\">\n",
              "      <div>\n",
              "<style scoped>\n",
              "    .dataframe tbody tr th:only-of-type {\n",
              "        vertical-align: middle;\n",
              "    }\n",
              "\n",
              "    .dataframe tbody tr th {\n",
              "        vertical-align: top;\n",
              "    }\n",
              "\n",
              "    .dataframe thead th {\n",
              "        text-align: right;\n",
              "    }\n",
              "</style>\n",
              "<table border=\"1\" class=\"dataframe\">\n",
              "  <thead>\n",
              "    <tr style=\"text-align: right;\">\n",
              "      <th></th>\n",
              "      <th>Regiao - Sigla</th>\n",
              "      <th>Estado - Sigla</th>\n",
              "      <th>Municipio</th>\n",
              "      <th>Revenda</th>\n",
              "      <th>Data da Coleta</th>\n",
              "      <th>Valor de Venda</th>\n",
              "      <th>Bandeira</th>\n",
              "    </tr>\n",
              "    <tr>\n",
              "      <th>Produto</th>\n",
              "      <th></th>\n",
              "      <th></th>\n",
              "      <th></th>\n",
              "      <th></th>\n",
              "      <th></th>\n",
              "      <th></th>\n",
              "      <th></th>\n",
              "    </tr>\n",
              "  </thead>\n",
              "  <tbody>\n",
              "    <tr>\n",
              "      <th>GASOLINA ADITIVADA</th>\n",
              "      <td>SE</td>\n",
              "      <td>ES</td>\n",
              "      <td>COLATINA</td>\n",
              "      <td>SAO FRANCISCO DE ASSIS COMERCIO DE COMBUSTIVEI...</td>\n",
              "      <td>2022-07-01</td>\n",
              "      <td>7.48</td>\n",
              "      <td>VIBRA ENERGIA</td>\n",
              "    </tr>\n",
              "    <tr>\n",
              "      <th>GASOLINA</th>\n",
              "      <td>SE</td>\n",
              "      <td>ES</td>\n",
              "      <td>COLATINA</td>\n",
              "      <td>SAO FRANCISCO DE ASSIS COMERCIO DE COMBUSTIVEI...</td>\n",
              "      <td>2022-07-01</td>\n",
              "      <td>7.38</td>\n",
              "      <td>VIBRA ENERGIA</td>\n",
              "    </tr>\n",
              "    <tr>\n",
              "      <th>ETANOL</th>\n",
              "      <td>SE</td>\n",
              "      <td>ES</td>\n",
              "      <td>COLATINA</td>\n",
              "      <td>POSTO MOTOCAP LTDA</td>\n",
              "      <td>2022-07-01</td>\n",
              "      <td>5.99</td>\n",
              "      <td>VIBRA ENERGIA</td>\n",
              "    </tr>\n",
              "    <tr>\n",
              "      <th>GASOLINA</th>\n",
              "      <td>SE</td>\n",
              "      <td>ES</td>\n",
              "      <td>COLATINA</td>\n",
              "      <td>POSTO MOTOCAP LTDA</td>\n",
              "      <td>2022-07-01</td>\n",
              "      <td>7.39</td>\n",
              "      <td>VIBRA ENERGIA</td>\n",
              "    </tr>\n",
              "    <tr>\n",
              "      <th>GASOLINA ADITIVADA</th>\n",
              "      <td>CO</td>\n",
              "      <td>GO</td>\n",
              "      <td>GOIANIA</td>\n",
              "      <td>JUSTINIANO &amp; JUSTINIANO LTDA</td>\n",
              "      <td>2022-07-01</td>\n",
              "      <td>6.49</td>\n",
              "      <td>IPIRANGA</td>\n",
              "    </tr>\n",
              "    <tr>\n",
              "      <th>...</th>\n",
              "      <td>...</td>\n",
              "      <td>...</td>\n",
              "      <td>...</td>\n",
              "      <td>...</td>\n",
              "      <td>...</td>\n",
              "      <td>...</td>\n",
              "      <td>...</td>\n",
              "    </tr>\n",
              "    <tr>\n",
              "      <th>ETANOL</th>\n",
              "      <td>CO</td>\n",
              "      <td>DF</td>\n",
              "      <td>BRASILIA</td>\n",
              "      <td>POSTO TOP TAGUATINGA COMERCIO DE COMBUSTIVEIS ...</td>\n",
              "      <td>2022-08-31</td>\n",
              "      <td>3.99</td>\n",
              "      <td>IPIRANGA</td>\n",
              "    </tr>\n",
              "    <tr>\n",
              "      <th>GASOLINA</th>\n",
              "      <td>CO</td>\n",
              "      <td>DF</td>\n",
              "      <td>BRASILIA</td>\n",
              "      <td>POSTO TOP TAGUATINGA COMERCIO DE COMBUSTIVEIS ...</td>\n",
              "      <td>2022-08-31</td>\n",
              "      <td>5.19</td>\n",
              "      <td>IPIRANGA</td>\n",
              "    </tr>\n",
              "    <tr>\n",
              "      <th>GASOLINA ADITIVADA</th>\n",
              "      <td>CO</td>\n",
              "      <td>DF</td>\n",
              "      <td>BRASILIA</td>\n",
              "      <td>POSTO TOP TAGUATINGA COMERCIO DE COMBUSTIVEIS ...</td>\n",
              "      <td>2022-08-31</td>\n",
              "      <td>5.19</td>\n",
              "      <td>IPIRANGA</td>\n",
              "    </tr>\n",
              "    <tr>\n",
              "      <th>GASOLINA</th>\n",
              "      <td>SE</td>\n",
              "      <td>MG</td>\n",
              "      <td>JANAUBA</td>\n",
              "      <td>AUTO POSTO COMBUSTIVEIS VERAS SANTANA LTDA</td>\n",
              "      <td>2022-08-31</td>\n",
              "      <td>5.27</td>\n",
              "      <td>BRANCA</td>\n",
              "    </tr>\n",
              "    <tr>\n",
              "      <th>ETANOL</th>\n",
              "      <td>SE</td>\n",
              "      <td>MG</td>\n",
              "      <td>JANAUBA</td>\n",
              "      <td>AUTO POSTO COMBUSTIVEIS VERAS SANTANA LTDA</td>\n",
              "      <td>2022-08-31</td>\n",
              "      <td>3.67</td>\n",
              "      <td>BRANCA</td>\n",
              "    </tr>\n",
              "  </tbody>\n",
              "</table>\n",
              "<p>127176 rows × 7 columns</p>\n",
              "</div>\n",
              "      <button class=\"colab-df-convert\" onclick=\"convertToInteractive('df-5367d7cb-cd0a-4689-b6b1-4fb16851255b')\"\n",
              "              title=\"Convert this dataframe to an interactive table.\"\n",
              "              style=\"display:none;\">\n",
              "        \n",
              "  <svg xmlns=\"http://www.w3.org/2000/svg\" height=\"24px\"viewBox=\"0 0 24 24\"\n",
              "       width=\"24px\">\n",
              "    <path d=\"M0 0h24v24H0V0z\" fill=\"none\"/>\n",
              "    <path d=\"M18.56 5.44l.94 2.06.94-2.06 2.06-.94-2.06-.94-.94-2.06-.94 2.06-2.06.94zm-11 1L8.5 8.5l.94-2.06 2.06-.94-2.06-.94L8.5 2.5l-.94 2.06-2.06.94zm10 10l.94 2.06.94-2.06 2.06-.94-2.06-.94-.94-2.06-.94 2.06-2.06.94z\"/><path d=\"M17.41 7.96l-1.37-1.37c-.4-.4-.92-.59-1.43-.59-.52 0-1.04.2-1.43.59L10.3 9.45l-7.72 7.72c-.78.78-.78 2.05 0 2.83L4 21.41c.39.39.9.59 1.41.59.51 0 1.02-.2 1.41-.59l7.78-7.78 2.81-2.81c.8-.78.8-2.07 0-2.86zM5.41 20L4 18.59l7.72-7.72 1.47 1.35L5.41 20z\"/>\n",
              "  </svg>\n",
              "      </button>\n",
              "      \n",
              "  <style>\n",
              "    .colab-df-container {\n",
              "      display:flex;\n",
              "      flex-wrap:wrap;\n",
              "      gap: 12px;\n",
              "    }\n",
              "\n",
              "    .colab-df-convert {\n",
              "      background-color: #E8F0FE;\n",
              "      border: none;\n",
              "      border-radius: 50%;\n",
              "      cursor: pointer;\n",
              "      display: none;\n",
              "      fill: #1967D2;\n",
              "      height: 32px;\n",
              "      padding: 0 0 0 0;\n",
              "      width: 32px;\n",
              "    }\n",
              "\n",
              "    .colab-df-convert:hover {\n",
              "      background-color: #E2EBFA;\n",
              "      box-shadow: 0px 1px 2px rgba(60, 64, 67, 0.3), 0px 1px 3px 1px rgba(60, 64, 67, 0.15);\n",
              "      fill: #174EA6;\n",
              "    }\n",
              "\n",
              "    [theme=dark] .colab-df-convert {\n",
              "      background-color: #3B4455;\n",
              "      fill: #D2E3FC;\n",
              "    }\n",
              "\n",
              "    [theme=dark] .colab-df-convert:hover {\n",
              "      background-color: #434B5C;\n",
              "      box-shadow: 0px 1px 3px 1px rgba(0, 0, 0, 0.15);\n",
              "      filter: drop-shadow(0px 1px 2px rgba(0, 0, 0, 0.3));\n",
              "      fill: #FFFFFF;\n",
              "    }\n",
              "  </style>\n",
              "\n",
              "      <script>\n",
              "        const buttonEl =\n",
              "          document.querySelector('#df-5367d7cb-cd0a-4689-b6b1-4fb16851255b button.colab-df-convert');\n",
              "        buttonEl.style.display =\n",
              "          google.colab.kernel.accessAllowed ? 'block' : 'none';\n",
              "\n",
              "        async function convertToInteractive(key) {\n",
              "          const element = document.querySelector('#df-5367d7cb-cd0a-4689-b6b1-4fb16851255b');\n",
              "          const dataTable =\n",
              "            await google.colab.kernel.invokeFunction('convertToInteractive',\n",
              "                                                     [key], {});\n",
              "          if (!dataTable) return;\n",
              "\n",
              "          const docLinkHtml = 'Like what you see? Visit the ' +\n",
              "            '<a target=\"_blank\" href=https://colab.research.google.com/notebooks/data_table.ipynb>data table notebook</a>'\n",
              "            + ' to learn more about interactive tables.';\n",
              "          element.innerHTML = '';\n",
              "          dataTable['output_type'] = 'display_data';\n",
              "          await google.colab.output.renderOutput(dataTable, element);\n",
              "          const docLink = document.createElement('div');\n",
              "          docLink.innerHTML = docLinkHtml;\n",
              "          element.appendChild(docLink);\n",
              "        }\n",
              "      </script>\n",
              "    </div>\n",
              "  </div>\n",
              "  "
            ]
          },
          "metadata": {},
          "execution_count": 194
        }
      ]
    },
    {
      "cell_type": "markdown",
      "source": [
        "# **4. Verificando a qualidade dos dados**"
      ],
      "metadata": {
        "id": "r-xwLoz3KBwf"
      }
    },
    {
      "cell_type": "markdown",
      "source": [
        "### **4.1 - Identificando dados nulos**"
      ],
      "metadata": {
        "id": "WHKgN__UKYSm"
      }
    },
    {
      "cell_type": "code",
      "source": [
        "combustiveis.info()"
      ],
      "metadata": {
        "colab": {
          "base_uri": "https://localhost:8080/"
        },
        "id": "t6_3NjF5KecM",
        "outputId": "f6452a21-ebdf-45fb-bc13-7c2b1c4663c9"
      },
      "execution_count": null,
      "outputs": [
        {
          "output_type": "stream",
          "name": "stdout",
          "text": [
            "<class 'pandas.core.frame.DataFrame'>\n",
            "Index: 127176 entries, GASOLINA ADITIVADA to ETANOL\n",
            "Data columns (total 7 columns):\n",
            " #   Column          Non-Null Count   Dtype         \n",
            "---  ------          --------------   -----         \n",
            " 0   Regiao - Sigla  127176 non-null  object        \n",
            " 1   Estado - Sigla  127176 non-null  object        \n",
            " 2   Municipio       127176 non-null  object        \n",
            " 3   Revenda         127176 non-null  object        \n",
            " 4   Data da Coleta  127176 non-null  datetime64[ns]\n",
            " 5   Valor de Venda  127176 non-null  float64       \n",
            " 6   Bandeira        127176 non-null  object        \n",
            "dtypes: datetime64[ns](1), float64(1), object(5)\n",
            "memory usage: 7.8+ MB\n"
          ]
        }
      ]
    },
    {
      "cell_type": "markdown",
      "source": [
        "### **4.2 - Identificando dados duplicados:**"
      ],
      "metadata": {
        "id": "s2l3zImtKklH"
      }
    },
    {
      "cell_type": "code",
      "source": [
        "combustiveis.value_counts()"
      ],
      "metadata": {
        "colab": {
          "base_uri": "https://localhost:8080/"
        },
        "id": "pGMWBppsad-v",
        "outputId": "65396fd8-4d84-4ae3-8a41-e88adaed68f7"
      },
      "execution_count": null,
      "outputs": [
        {
          "output_type": "execute_result",
          "data": {
            "text/plain": [
              "Regiao - Sigla  Estado - Sigla  Municipio       Revenda                                               Data da Coleta  Valor de Venda  Bandeira     \n",
              "CO              DF              BRASILIA        CASCOL COMBUSTIVEIS PARA VEICULOS LTDA                2022-07-26      5.93            BRANCA           12\n",
              "N               RO              PORTO VELHO     AUTO POSTO CALAMA LTDA                                2022-08-10      5.29            ATEM' S          10\n",
              "CO              DF              BRASILIA        CASCOL COMBUSTIVEIS PARA VEICULOS LTDA                2022-08-09      5.45            BRANCA            8\n",
              "S               SC              JARAGUA DO SUL  POSTO CIDADE LTDA                                     2022-07-28      5.38            VIBRA ENERGIA     8\n",
              "CO              DF              BRASILIA        CASCOL COMBUSTIVEIS PARA VEICULOS LTDA                2022-08-31      5.23            BRANCA            8\n",
              "                                                                                                                                                       ..\n",
              "S               PR              CAMPO LARGO     V & P COMÉRCIO DE COMBUSTÍVEIS E LUBRIFICANTES LTDA.  2022-08-01      5.69            BRANCA            1\n",
              "                                                                                                                      4.68            BRANCA            1\n",
              "                                                                                                      2022-07-21      5.79            BRANCA            1\n",
              "                                                                                                                      4.88            BRANCA            1\n",
              "SE              SP              VOTUPORANGA     VITORIA COMERCIO DE COMBUSTIVEIS DE VOTUPORANGA LTDA  2022-08-23      5.19            IPIRANGA          1\n",
              "Length: 116348, dtype: int64"
            ]
          },
          "metadata": {},
          "execution_count": 196
        }
      ]
    },
    {
      "cell_type": "code",
      "source": [
        "#Retirando os dados duplicados:\n",
        "combustiveis.drop_duplicates()\n"
      ],
      "metadata": {
        "id": "A0-pcTlShQGJ",
        "colab": {
          "base_uri": "https://localhost:8080/",
          "height": 455
        },
        "outputId": "0024d5c7-64ea-4c34-9f09-4007e7b83f5e"
      },
      "execution_count": null,
      "outputs": [
        {
          "output_type": "execute_result",
          "data": {
            "text/plain": [
              "                   Regiao - Sigla Estado - Sigla Municipio  \\\n",
              "Produto                                                      \n",
              "GASOLINA ADITIVADA             SE             ES  COLATINA   \n",
              "GASOLINA                       SE             ES  COLATINA   \n",
              "ETANOL                         SE             ES  COLATINA   \n",
              "GASOLINA                       SE             ES  COLATINA   \n",
              "GASOLINA ADITIVADA             CO             GO   GOIANIA   \n",
              "...                           ...            ...       ...   \n",
              "ETANOL                         NE             PE    RECIFE   \n",
              "ETANOL                         CO             DF  BRASILIA   \n",
              "GASOLINA                       CO             DF  BRASILIA   \n",
              "GASOLINA                       SE             MG   JANAUBA   \n",
              "ETANOL                         SE             MG   JANAUBA   \n",
              "\n",
              "                                                              Revenda  \\\n",
              "Produto                                                                 \n",
              "GASOLINA ADITIVADA  SAO FRANCISCO DE ASSIS COMERCIO DE COMBUSTIVEI...   \n",
              "GASOLINA            SAO FRANCISCO DE ASSIS COMERCIO DE COMBUSTIVEI...   \n",
              "ETANOL                                             POSTO MOTOCAP LTDA   \n",
              "GASOLINA                                           POSTO MOTOCAP LTDA   \n",
              "GASOLINA ADITIVADA                       JUSTINIANO & JUSTINIANO LTDA   \n",
              "...                                                               ...   \n",
              "ETANOL                                       BRAZ COMBUSTIVEIS EIRELI   \n",
              "ETANOL              POSTO TOP TAGUATINGA COMERCIO DE COMBUSTIVEIS ...   \n",
              "GASOLINA            POSTO TOP TAGUATINGA COMERCIO DE COMBUSTIVEIS ...   \n",
              "GASOLINA                   AUTO POSTO COMBUSTIVEIS VERAS SANTANA LTDA   \n",
              "ETANOL                     AUTO POSTO COMBUSTIVEIS VERAS SANTANA LTDA   \n",
              "\n",
              "                   Data da Coleta  Valor de Venda       Bandeira  \n",
              "Produto                                                           \n",
              "GASOLINA ADITIVADA     2022-07-01            7.48  VIBRA ENERGIA  \n",
              "GASOLINA               2022-07-01            7.38  VIBRA ENERGIA  \n",
              "ETANOL                 2022-07-01            5.99  VIBRA ENERGIA  \n",
              "GASOLINA               2022-07-01            7.39  VIBRA ENERGIA  \n",
              "GASOLINA ADITIVADA     2022-07-01            6.49       IPIRANGA  \n",
              "...                           ...             ...            ...  \n",
              "ETANOL                 2022-08-31            4.29         BRANCA  \n",
              "ETANOL                 2022-08-31            3.99       IPIRANGA  \n",
              "GASOLINA               2022-08-31            5.19       IPIRANGA  \n",
              "GASOLINA               2022-08-31            5.27         BRANCA  \n",
              "ETANOL                 2022-08-31            3.67         BRANCA  \n",
              "\n",
              "[116348 rows x 7 columns]"
            ],
            "text/html": [
              "\n",
              "  <div id=\"df-04b036e2-b231-4290-9ebf-9e05e73e76ba\">\n",
              "    <div class=\"colab-df-container\">\n",
              "      <div>\n",
              "<style scoped>\n",
              "    .dataframe tbody tr th:only-of-type {\n",
              "        vertical-align: middle;\n",
              "    }\n",
              "\n",
              "    .dataframe tbody tr th {\n",
              "        vertical-align: top;\n",
              "    }\n",
              "\n",
              "    .dataframe thead th {\n",
              "        text-align: right;\n",
              "    }\n",
              "</style>\n",
              "<table border=\"1\" class=\"dataframe\">\n",
              "  <thead>\n",
              "    <tr style=\"text-align: right;\">\n",
              "      <th></th>\n",
              "      <th>Regiao - Sigla</th>\n",
              "      <th>Estado - Sigla</th>\n",
              "      <th>Municipio</th>\n",
              "      <th>Revenda</th>\n",
              "      <th>Data da Coleta</th>\n",
              "      <th>Valor de Venda</th>\n",
              "      <th>Bandeira</th>\n",
              "    </tr>\n",
              "    <tr>\n",
              "      <th>Produto</th>\n",
              "      <th></th>\n",
              "      <th></th>\n",
              "      <th></th>\n",
              "      <th></th>\n",
              "      <th></th>\n",
              "      <th></th>\n",
              "      <th></th>\n",
              "    </tr>\n",
              "  </thead>\n",
              "  <tbody>\n",
              "    <tr>\n",
              "      <th>GASOLINA ADITIVADA</th>\n",
              "      <td>SE</td>\n",
              "      <td>ES</td>\n",
              "      <td>COLATINA</td>\n",
              "      <td>SAO FRANCISCO DE ASSIS COMERCIO DE COMBUSTIVEI...</td>\n",
              "      <td>2022-07-01</td>\n",
              "      <td>7.48</td>\n",
              "      <td>VIBRA ENERGIA</td>\n",
              "    </tr>\n",
              "    <tr>\n",
              "      <th>GASOLINA</th>\n",
              "      <td>SE</td>\n",
              "      <td>ES</td>\n",
              "      <td>COLATINA</td>\n",
              "      <td>SAO FRANCISCO DE ASSIS COMERCIO DE COMBUSTIVEI...</td>\n",
              "      <td>2022-07-01</td>\n",
              "      <td>7.38</td>\n",
              "      <td>VIBRA ENERGIA</td>\n",
              "    </tr>\n",
              "    <tr>\n",
              "      <th>ETANOL</th>\n",
              "      <td>SE</td>\n",
              "      <td>ES</td>\n",
              "      <td>COLATINA</td>\n",
              "      <td>POSTO MOTOCAP LTDA</td>\n",
              "      <td>2022-07-01</td>\n",
              "      <td>5.99</td>\n",
              "      <td>VIBRA ENERGIA</td>\n",
              "    </tr>\n",
              "    <tr>\n",
              "      <th>GASOLINA</th>\n",
              "      <td>SE</td>\n",
              "      <td>ES</td>\n",
              "      <td>COLATINA</td>\n",
              "      <td>POSTO MOTOCAP LTDA</td>\n",
              "      <td>2022-07-01</td>\n",
              "      <td>7.39</td>\n",
              "      <td>VIBRA ENERGIA</td>\n",
              "    </tr>\n",
              "    <tr>\n",
              "      <th>GASOLINA ADITIVADA</th>\n",
              "      <td>CO</td>\n",
              "      <td>GO</td>\n",
              "      <td>GOIANIA</td>\n",
              "      <td>JUSTINIANO &amp; JUSTINIANO LTDA</td>\n",
              "      <td>2022-07-01</td>\n",
              "      <td>6.49</td>\n",
              "      <td>IPIRANGA</td>\n",
              "    </tr>\n",
              "    <tr>\n",
              "      <th>...</th>\n",
              "      <td>...</td>\n",
              "      <td>...</td>\n",
              "      <td>...</td>\n",
              "      <td>...</td>\n",
              "      <td>...</td>\n",
              "      <td>...</td>\n",
              "      <td>...</td>\n",
              "    </tr>\n",
              "    <tr>\n",
              "      <th>ETANOL</th>\n",
              "      <td>NE</td>\n",
              "      <td>PE</td>\n",
              "      <td>RECIFE</td>\n",
              "      <td>BRAZ COMBUSTIVEIS EIRELI</td>\n",
              "      <td>2022-08-31</td>\n",
              "      <td>4.29</td>\n",
              "      <td>BRANCA</td>\n",
              "    </tr>\n",
              "    <tr>\n",
              "      <th>ETANOL</th>\n",
              "      <td>CO</td>\n",
              "      <td>DF</td>\n",
              "      <td>BRASILIA</td>\n",
              "      <td>POSTO TOP TAGUATINGA COMERCIO DE COMBUSTIVEIS ...</td>\n",
              "      <td>2022-08-31</td>\n",
              "      <td>3.99</td>\n",
              "      <td>IPIRANGA</td>\n",
              "    </tr>\n",
              "    <tr>\n",
              "      <th>GASOLINA</th>\n",
              "      <td>CO</td>\n",
              "      <td>DF</td>\n",
              "      <td>BRASILIA</td>\n",
              "      <td>POSTO TOP TAGUATINGA COMERCIO DE COMBUSTIVEIS ...</td>\n",
              "      <td>2022-08-31</td>\n",
              "      <td>5.19</td>\n",
              "      <td>IPIRANGA</td>\n",
              "    </tr>\n",
              "    <tr>\n",
              "      <th>GASOLINA</th>\n",
              "      <td>SE</td>\n",
              "      <td>MG</td>\n",
              "      <td>JANAUBA</td>\n",
              "      <td>AUTO POSTO COMBUSTIVEIS VERAS SANTANA LTDA</td>\n",
              "      <td>2022-08-31</td>\n",
              "      <td>5.27</td>\n",
              "      <td>BRANCA</td>\n",
              "    </tr>\n",
              "    <tr>\n",
              "      <th>ETANOL</th>\n",
              "      <td>SE</td>\n",
              "      <td>MG</td>\n",
              "      <td>JANAUBA</td>\n",
              "      <td>AUTO POSTO COMBUSTIVEIS VERAS SANTANA LTDA</td>\n",
              "      <td>2022-08-31</td>\n",
              "      <td>3.67</td>\n",
              "      <td>BRANCA</td>\n",
              "    </tr>\n",
              "  </tbody>\n",
              "</table>\n",
              "<p>116348 rows × 7 columns</p>\n",
              "</div>\n",
              "      <button class=\"colab-df-convert\" onclick=\"convertToInteractive('df-04b036e2-b231-4290-9ebf-9e05e73e76ba')\"\n",
              "              title=\"Convert this dataframe to an interactive table.\"\n",
              "              style=\"display:none;\">\n",
              "        \n",
              "  <svg xmlns=\"http://www.w3.org/2000/svg\" height=\"24px\"viewBox=\"0 0 24 24\"\n",
              "       width=\"24px\">\n",
              "    <path d=\"M0 0h24v24H0V0z\" fill=\"none\"/>\n",
              "    <path d=\"M18.56 5.44l.94 2.06.94-2.06 2.06-.94-2.06-.94-.94-2.06-.94 2.06-2.06.94zm-11 1L8.5 8.5l.94-2.06 2.06-.94-2.06-.94L8.5 2.5l-.94 2.06-2.06.94zm10 10l.94 2.06.94-2.06 2.06-.94-2.06-.94-.94-2.06-.94 2.06-2.06.94z\"/><path d=\"M17.41 7.96l-1.37-1.37c-.4-.4-.92-.59-1.43-.59-.52 0-1.04.2-1.43.59L10.3 9.45l-7.72 7.72c-.78.78-.78 2.05 0 2.83L4 21.41c.39.39.9.59 1.41.59.51 0 1.02-.2 1.41-.59l7.78-7.78 2.81-2.81c.8-.78.8-2.07 0-2.86zM5.41 20L4 18.59l7.72-7.72 1.47 1.35L5.41 20z\"/>\n",
              "  </svg>\n",
              "      </button>\n",
              "      \n",
              "  <style>\n",
              "    .colab-df-container {\n",
              "      display:flex;\n",
              "      flex-wrap:wrap;\n",
              "      gap: 12px;\n",
              "    }\n",
              "\n",
              "    .colab-df-convert {\n",
              "      background-color: #E8F0FE;\n",
              "      border: none;\n",
              "      border-radius: 50%;\n",
              "      cursor: pointer;\n",
              "      display: none;\n",
              "      fill: #1967D2;\n",
              "      height: 32px;\n",
              "      padding: 0 0 0 0;\n",
              "      width: 32px;\n",
              "    }\n",
              "\n",
              "    .colab-df-convert:hover {\n",
              "      background-color: #E2EBFA;\n",
              "      box-shadow: 0px 1px 2px rgba(60, 64, 67, 0.3), 0px 1px 3px 1px rgba(60, 64, 67, 0.15);\n",
              "      fill: #174EA6;\n",
              "    }\n",
              "\n",
              "    [theme=dark] .colab-df-convert {\n",
              "      background-color: #3B4455;\n",
              "      fill: #D2E3FC;\n",
              "    }\n",
              "\n",
              "    [theme=dark] .colab-df-convert:hover {\n",
              "      background-color: #434B5C;\n",
              "      box-shadow: 0px 1px 3px 1px rgba(0, 0, 0, 0.15);\n",
              "      filter: drop-shadow(0px 1px 2px rgba(0, 0, 0, 0.3));\n",
              "      fill: #FFFFFF;\n",
              "    }\n",
              "  </style>\n",
              "\n",
              "      <script>\n",
              "        const buttonEl =\n",
              "          document.querySelector('#df-04b036e2-b231-4290-9ebf-9e05e73e76ba button.colab-df-convert');\n",
              "        buttonEl.style.display =\n",
              "          google.colab.kernel.accessAllowed ? 'block' : 'none';\n",
              "\n",
              "        async function convertToInteractive(key) {\n",
              "          const element = document.querySelector('#df-04b036e2-b231-4290-9ebf-9e05e73e76ba');\n",
              "          const dataTable =\n",
              "            await google.colab.kernel.invokeFunction('convertToInteractive',\n",
              "                                                     [key], {});\n",
              "          if (!dataTable) return;\n",
              "\n",
              "          const docLinkHtml = 'Like what you see? Visit the ' +\n",
              "            '<a target=\"_blank\" href=https://colab.research.google.com/notebooks/data_table.ipynb>data table notebook</a>'\n",
              "            + ' to learn more about interactive tables.';\n",
              "          element.innerHTML = '';\n",
              "          dataTable['output_type'] = 'display_data';\n",
              "          await google.colab.output.renderOutput(dataTable, element);\n",
              "          const docLink = document.createElement('div');\n",
              "          docLink.innerHTML = docLinkHtml;\n",
              "          element.appendChild(docLink);\n",
              "        }\n",
              "      </script>\n",
              "    </div>\n",
              "  </div>\n",
              "  "
            ]
          },
          "metadata": {},
          "execution_count": 197
        }
      ]
    },
    {
      "cell_type": "markdown",
      "source": [
        "### **4.3 - Identificando outliers - Histogramas**"
      ],
      "metadata": {
        "id": "eE0ZJpPrKvUt"
      }
    },
    {
      "cell_type": "code",
      "source": [
        "# Visualizando a distribuição da variável 'Valor de Venda'\n",
        "combustiveis.hist(bins=15, figsize=(20,10));"
      ],
      "metadata": {
        "colab": {
          "base_uri": "https://localhost:8080/",
          "height": 607
        },
        "id": "rzCNFOagLCWJ",
        "outputId": "69f14176-e722-459a-c533-8509f3e15997"
      },
      "execution_count": null,
      "outputs": [
        {
          "output_type": "display_data",
          "data": {
            "text/plain": [
              "<Figure size 1440x720 with 2 Axes>"
            ],
            "image/png": "[encoded data removed]"
          },
          "metadata": {
            "needs_background": "light"
          }
        }
      ]
    },
    {
      "cell_type": "markdown",
      "source": [
        "### **4.4 - Identificando outliers - estatísticas descritivas**"
      ],
      "metadata": {
        "id": "kzF6a381LamI"
      }
    },
    {
      "cell_type": "code",
      "source": [
        "#Principais estatísticas usando a função describe:\n",
        "combustiveis.describe()"
      ],
      "metadata": {
        "colab": {
          "base_uri": "https://localhost:8080/",
          "height": 300
        },
        "id": "NWwoZqJ1LrsD",
        "outputId": "2a99aca9-dd01-4c8c-c5e2-d147bb4b22d1"
      },
      "execution_count": null,
      "outputs": [
        {
          "output_type": "execute_result",
          "data": {
            "text/plain": [
              "       Valor de Venda\n",
              "count   127176.000000\n",
              "mean         5.355503\n",
              "std          0.860449\n",
              "min          2.890000\n",
              "25%          4.880000\n",
              "50%          5.490000\n",
              "75%          5.890000\n",
              "max          9.270000"
            ],
            "text/html": [
              "\n",
              "  <div id=\"df-55fff4d0-6e31-43c3-87ea-d37fce5b0d9e\">\n",
              "    <div class=\"colab-df-container\">\n",
              "      <div>\n",
              "<style scoped>\n",
              "    .dataframe tbody tr th:only-of-type {\n",
              "        vertical-align: middle;\n",
              "    }\n",
              "\n",
              "    .dataframe tbody tr th {\n",
              "        vertical-align: top;\n",
              "    }\n",
              "\n",
              "    .dataframe thead th {\n",
              "        text-align: right;\n",
              "    }\n",
              "</style>\n",
              "<table border=\"1\" class=\"dataframe\">\n",
              "  <thead>\n",
              "    <tr style=\"text-align: right;\">\n",
              "      <th></th>\n",
              "      <th>Valor de Venda</th>\n",
              "    </tr>\n",
              "  </thead>\n",
              "  <tbody>\n",
              "    <tr>\n",
              "      <th>count</th>\n",
              "      <td>127176.000000</td>\n",
              "    </tr>\n",
              "    <tr>\n",
              "      <th>mean</th>\n",
              "      <td>5.355503</td>\n",
              "    </tr>\n",
              "    <tr>\n",
              "      <th>std</th>\n",
              "      <td>0.860449</td>\n",
              "    </tr>\n",
              "    <tr>\n",
              "      <th>min</th>\n",
              "      <td>2.890000</td>\n",
              "    </tr>\n",
              "    <tr>\n",
              "      <th>25%</th>\n",
              "      <td>4.880000</td>\n",
              "    </tr>\n",
              "    <tr>\n",
              "      <th>50%</th>\n",
              "      <td>5.490000</td>\n",
              "    </tr>\n",
              "    <tr>\n",
              "      <th>75%</th>\n",
              "      <td>5.890000</td>\n",
              "    </tr>\n",
              "    <tr>\n",
              "      <th>max</th>\n",
              "      <td>9.270000</td>\n",
              "    </tr>\n",
              "  </tbody>\n",
              "</table>\n",
              "</div>\n",
              "      <button class=\"colab-df-convert\" onclick=\"convertToInteractive('df-55fff4d0-6e31-43c3-87ea-d37fce5b0d9e')\"\n",
              "              title=\"Convert this dataframe to an interactive table.\"\n",
              "              style=\"display:none;\">\n",
              "        \n",
              "  <svg xmlns=\"http://www.w3.org/2000/svg\" height=\"24px\"viewBox=\"0 0 24 24\"\n",
              "       width=\"24px\">\n",
              "    <path d=\"M0 0h24v24H0V0z\" fill=\"none\"/>\n",
              "    <path d=\"M18.56 5.44l.94 2.06.94-2.06 2.06-.94-2.06-.94-.94-2.06-.94 2.06-2.06.94zm-11 1L8.5 8.5l.94-2.06 2.06-.94-2.06-.94L8.5 2.5l-.94 2.06-2.06.94zm10 10l.94 2.06.94-2.06 2.06-.94-2.06-.94-.94-2.06-.94 2.06-2.06.94z\"/><path d=\"M17.41 7.96l-1.37-1.37c-.4-.4-.92-.59-1.43-.59-.52 0-1.04.2-1.43.59L10.3 9.45l-7.72 7.72c-.78.78-.78 2.05 0 2.83L4 21.41c.39.39.9.59 1.41.59.51 0 1.02-.2 1.41-.59l7.78-7.78 2.81-2.81c.8-.78.8-2.07 0-2.86zM5.41 20L4 18.59l7.72-7.72 1.47 1.35L5.41 20z\"/>\n",
              "  </svg>\n",
              "      </button>\n",
              "      \n",
              "  <style>\n",
              "    .colab-df-container {\n",
              "      display:flex;\n",
              "      flex-wrap:wrap;\n",
              "      gap: 12px;\n",
              "    }\n",
              "\n",
              "    .colab-df-convert {\n",
              "      background-color: #E8F0FE;\n",
              "      border: none;\n",
              "      border-radius: 50%;\n",
              "      cursor: pointer;\n",
              "      display: none;\n",
              "      fill: #1967D2;\n",
              "      height: 32px;\n",
              "      padding: 0 0 0 0;\n",
              "      width: 32px;\n",
              "    }\n",
              "\n",
              "    .colab-df-convert:hover {\n",
              "      background-color: #E2EBFA;\n",
              "      box-shadow: 0px 1px 2px rgba(60, 64, 67, 0.3), 0px 1px 3px 1px rgba(60, 64, 67, 0.15);\n",
              "      fill: #174EA6;\n",
              "    }\n",
              "\n",
              "    [theme=dark] .colab-df-convert {\n",
              "      background-color: #3B4455;\n",
              "      fill: #D2E3FC;\n",
              "    }\n",
              "\n",
              "    [theme=dark] .colab-df-convert:hover {\n",
              "      background-color: #434B5C;\n",
              "      box-shadow: 0px 1px 3px 1px rgba(0, 0, 0, 0.15);\n",
              "      filter: drop-shadow(0px 1px 2px rgba(0, 0, 0, 0.3));\n",
              "      fill: #FFFFFF;\n",
              "    }\n",
              "  </style>\n",
              "\n",
              "      <script>\n",
              "        const buttonEl =\n",
              "          document.querySelector('#df-55fff4d0-6e31-43c3-87ea-d37fce5b0d9e button.colab-df-convert');\n",
              "        buttonEl.style.display =\n",
              "          google.colab.kernel.accessAllowed ? 'block' : 'none';\n",
              "\n",
              "        async function convertToInteractive(key) {\n",
              "          const element = document.querySelector('#df-55fff4d0-6e31-43c3-87ea-d37fce5b0d9e');\n",
              "          const dataTable =\n",
              "            await google.colab.kernel.invokeFunction('convertToInteractive',\n",
              "                                                     [key], {});\n",
              "          if (!dataTable) return;\n",
              "\n",
              "          const docLinkHtml = 'Like what you see? Visit the ' +\n",
              "            '<a target=\"_blank\" href=https://colab.research.google.com/notebooks/data_table.ipynb>data table notebook</a>'\n",
              "            + ' to learn more about interactive tables.';\n",
              "          element.innerHTML = '';\n",
              "          dataTable['output_type'] = 'display_data';\n",
              "          await google.colab.output.renderOutput(dataTable, element);\n",
              "          const docLink = document.createElement('div');\n",
              "          docLink.innerHTML = docLinkHtml;\n",
              "          element.appendChild(docLink);\n",
              "        }\n",
              "      </script>\n",
              "    </div>\n",
              "  </div>\n",
              "  "
            ]
          },
          "metadata": {},
          "execution_count": 199
        }
      ]
    },
    {
      "cell_type": "markdown",
      "source": [
        "### **4.5 - Identificando outliers - Boxplots**"
      ],
      "metadata": {
        "id": "7dpKmFnKL0jn"
      }
    },
    {
      "cell_type": "code",
      "source": [
        "gasolina_comum = combustiveis.loc['GASOLINA']\n",
        "gasolina_aditivada = combustiveis.loc['GASOLINA ADITIVADA']\n",
        "etanol = combustiveis.loc['ETANOL']"
      ],
      "metadata": {
        "id": "AHt-bcl4CmSW"
      },
      "execution_count": null,
      "outputs": []
    },
    {
      "cell_type": "code",
      "source": [
        "# Considerando todos os combustíveis: gasolina comum, gasolina aditivada e etanol\n",
        "bp1 = pd.DataFrame(combustiveis, columns=[\"Valor de Venda\"])\n",
        "bp1.plot.box(vert=False);"
      ],
      "metadata": {
        "colab": {
          "base_uri": "https://localhost:8080/",
          "height": 265
        },
        "id": "xWBMPhzJL8_o",
        "outputId": "4d69911e-6fc3-4a40-b384-4080868037a4"
      },
      "execution_count": null,
      "outputs": [
        {
          "output_type": "display_data",
          "data": {
            "text/plain": [
              "<Figure size 432x288 with 1 Axes>"
            ],
            "image/png": "[encoded data removed]"
          },
          "metadata": {
            "needs_background": "light"
          }
        }
      ]
    },
    {
      "cell_type": "code",
      "source": [
        "# Considerando apenas os preços da gasolina comum:\n",
        "\n",
        "bp2 = pd.DataFrame(gasolina_comum, columns=[\"Valor de Venda\"])\n",
        "bp2.plot.box(vert=False);"
      ],
      "metadata": {
        "colab": {
          "base_uri": "https://localhost:8080/",
          "height": 265
        },
        "id": "np_4IBwaMieW",
        "outputId": "39eab062-a46f-41f6-f3ee-cc055be17785"
      },
      "execution_count": null,
      "outputs": [
        {
          "output_type": "display_data",
          "data": {
            "text/plain": [
              "<Figure size 432x288 with 1 Axes>"
            ],
            "image/png": "[encoded data removed]"
          },
          "metadata": {
            "needs_background": "light"
          }
        }
      ]
    },
    {
      "cell_type": "code",
      "source": [
        "# Considerando apenas os preços da gasolina aditivada:\n",
        "gasolina_aditivada = combustiveis.loc['GASOLINA ADITIVADA']\n",
        "bp3 = pd.DataFrame(gasolina_aditivada, columns=[\"Valor de Venda\"])\n",
        "bp3.plot.box(vert=False);"
      ],
      "metadata": {
        "id": "EIPOVQbsNDxK",
        "colab": {
          "base_uri": "https://localhost:8080/",
          "height": 265
        },
        "outputId": "2fa6d3cd-8ef8-45d7-d2f1-da53f3094217"
      },
      "execution_count": null,
      "outputs": [
        {
          "output_type": "display_data",
          "data": {
            "text/plain": [
              "<Figure size 432x288 with 1 Axes>"
            ],
            "image/png": "[encoded data removed]"
          },
          "metadata": {
            "needs_background": "light"
          }
        }
      ]
    },
    {
      "cell_type": "code",
      "source": [
        "# Considerando apenas os preços do etanol:\n",
        "etanol = combustiveis.loc['ETANOL']\n",
        "bp4 = pd.DataFrame(etanol, columns=[\"Valor de Venda\"])\n",
        "bp4.plot.box(vert=False);\n"
      ],
      "metadata": {
        "id": "UfCL-V-qNXs-",
        "colab": {
          "base_uri": "https://localhost:8080/",
          "height": 265
        },
        "outputId": "8bbb3d55-8b90-4c4b-fbb8-efce828199fd"
      },
      "execution_count": null,
      "outputs": [
        {
          "output_type": "display_data",
          "data": {
            "text/plain": [
              "<Figure size 432x288 with 1 Axes>"
            ],
            "image/png": "[encoded data removed]"
          },
          "metadata": {
            "needs_background": "light"
          }
        }
      ]
    },
    {
      "cell_type": "markdown",
      "source": [
        "### **4.6 - Conclusões iniciais sobre outliers no dataset**\n",
        "\n",
        "\n",
        "\n",
        "* Retirar os outliers e calcular novamente dados como média, desvio-padrão, etc para entender o seu impacto.\n",
        "\n",
        "\n",
        "\n",
        "\n",
        "\n"
      ],
      "metadata": {
        "id": "bqGQzrMjNogP"
      }
    },
    {
      "cell_type": "markdown",
      "source": [
        "### **4.7 - Retirando os outliers**"
      ],
      "metadata": {
        "id": "VfrO8l6hOlvf"
      }
    },
    {
      "cell_type": "markdown",
      "source": [
        "### **4.8 - Calculando novamente as medidas descritivas**"
      ],
      "metadata": {
        "id": "B9p9XjmrOqiq"
      }
    },
    {
      "cell_type": "markdown",
      "source": [
        "### **4.9 - Conclusões finais sobre outliers no dataset**"
      ],
      "metadata": {
        "id": "oWkBNMYqOyVL"
      }
    },
    {
      "cell_type": "markdown",
      "source": [
        "# **5. Análise Exploratória**"
      ],
      "metadata": {
        "id": "6bOlEkhJOPc0"
      }
    },
    {
      "cell_type": "markdown",
      "source": [
        "**Pergunta 1: Como se comportaram o preço dos combustíveis durante os dois meses citados? Os valores do etanol e da gasolina tiveram um aumento ou diminuição?**"
      ],
      "metadata": {
        "id": "AE9BopGcQ8Hv"
      }
    },
    {
      "cell_type": "code",
      "source": [
        "#Brasil - GASOLINA COMUM\n",
        "gasolina_comum.groupby('Data da Coleta')[['Valor de Venda']].mean().sort_values(['Data da Coleta', 'Valor de Venda'], ascending=True)\n"
      ],
      "metadata": {
        "id": "mqf7RbuaVONH",
        "colab": {
          "base_uri": "https://localhost:8080/",
          "height": 1000
        },
        "outputId": "4fe46037-675e-464d-ecda-bd4212608b48"
      },
      "execution_count": null,
      "outputs": [
        {
          "output_type": "execute_result",
          "data": {
            "text/plain": [
              "                Valor de Venda\n",
              "Data da Coleta                \n",
              "2022-07-01            7.173200\n",
              "2022-07-04            6.612834\n",
              "2022-07-05            6.611722\n",
              "2022-07-06            6.392098\n",
              "2022-07-07            6.222464\n",
              "2022-07-08            6.152927\n",
              "2022-07-11            6.130474\n",
              "2022-07-12            6.123583\n",
              "2022-07-13            6.016459\n",
              "2022-07-14            6.020875\n",
              "2022-07-15            6.036977\n",
              "2022-07-18            5.948663\n",
              "2022-07-19            5.943135\n",
              "2022-07-20            5.891948\n",
              "2022-07-21            5.810953\n",
              "2022-07-22            5.799412\n",
              "2022-07-25            5.801248\n",
              "2022-07-26            5.752393\n",
              "2022-07-27            5.731504\n",
              "2022-07-28            5.696876\n",
              "2022-07-29            5.732308\n",
              "2022-08-01            5.661995\n",
              "2022-08-02            5.654653\n",
              "2022-08-03            5.620210\n",
              "2022-08-04            5.545147\n",
              "2022-08-05            5.799412\n",
              "2022-08-08            5.596603\n",
              "2022-08-09            5.548641\n",
              "2022-08-10            5.492057\n",
              "2022-08-11            5.465031\n",
              "2022-08-12            5.709540\n",
              "2022-08-15            5.484921\n",
              "2022-08-16            5.449368\n",
              "2022-08-17            5.394043\n",
              "2022-08-18            5.335768\n",
              "2022-08-19            5.289756\n",
              "2022-08-22            5.319446\n",
              "2022-08-23            5.272817\n",
              "2022-08-24            5.270926\n",
              "2022-08-25            5.239075\n",
              "2022-08-26            5.238491\n",
              "2022-08-29            5.224220\n",
              "2022-08-30            5.213140\n",
              "2022-08-31            5.194275"
            ],
            "text/html": [
              "\n",
              "  <div id=\"df-bf22bbb9-f4d3-40ac-8e16-563f576a9f67\">\n",
              "    <div class=\"colab-df-container\">\n",
              "      <div>\n",
              "<style scoped>\n",
              "    .dataframe tbody tr th:only-of-type {\n",
              "        vertical-align: middle;\n",
              "    }\n",
              "\n",
              "    .dataframe tbody tr th {\n",
              "        vertical-align: top;\n",
              "    }\n",
              "\n",
              "    .dataframe thead th {\n",
              "        text-align: right;\n",
              "    }\n",
              "</style>\n",
              "<table border=\"1\" class=\"dataframe\">\n",
              "  <thead>\n",
              "    <tr style=\"text-align: right;\">\n",
              "      <th></th>\n",
              "      <th>Valor de Venda</th>\n",
              "    </tr>\n",
              "    <tr>\n",
              "      <th>Data da Coleta</th>\n",
              "      <th></th>\n",
              "    </tr>\n",
              "  </thead>\n",
              "  <tbody>\n",
              "    <tr>\n",
              "      <th>2022-07-01</th>\n",
              "      <td>7.173200</td>\n",
              "    </tr>\n",
              "    <tr>\n",
              "      <th>2022-07-04</th>\n",
              "      <td>6.612834</td>\n",
              "    </tr>\n",
              "    <tr>\n",
              "      <th>2022-07-05</th>\n",
              "      <td>6.611722</td>\n",
              "    </tr>\n",
              "    <tr>\n",
              "      <th>2022-07-06</th>\n",
              "      <td>6.392098</td>\n",
              "    </tr>\n",
              "    <tr>\n",
              "      <th>2022-07-07</th>\n",
              "      <td>6.222464</td>\n",
              "    </tr>\n",
              "    <tr>\n",
              "      <th>2022-07-08</th>\n",
              "      <td>6.152927</td>\n",
              "    </tr>\n",
              "    <tr>\n",
              "      <th>2022-07-11</th>\n",
              "      <td>6.130474</td>\n",
              "    </tr>\n",
              "    <tr>\n",
              "      <th>2022-07-12</th>\n",
              "      <td>6.123583</td>\n",
              "    </tr>\n",
              "    <tr>\n",
              "      <th>2022-07-13</th>\n",
              "      <td>6.016459</td>\n",
              "    </tr>\n",
              "    <tr>\n",
              "      <th>2022-07-14</th>\n",
              "      <td>6.020875</td>\n",
              "    </tr>\n",
              "    <tr>\n",
              "      <th>2022-07-15</th>\n",
              "      <td>6.036977</td>\n",
              "    </tr>\n",
              "    <tr>\n",
              "      <th>2022-07-18</th>\n",
              "      <td>5.948663</td>\n",
              "    </tr>\n",
              "    <tr>\n",
              "      <th>2022-07-19</th>\n",
              "      <td>5.943135</td>\n",
              "    </tr>\n",
              "    <tr>\n",
              "      <th>2022-07-20</th>\n",
              "      <td>5.891948</td>\n",
              "    </tr>\n",
              "    <tr>\n",
              "      <th>2022-07-21</th>\n",
              "      <td>5.810953</td>\n",
              "    </tr>\n",
              "    <tr>\n",
              "      <th>2022-07-22</th>\n",
              "      <td>5.799412</td>\n",
              "    </tr>\n",
              "    <tr>\n",
              "      <th>2022-07-25</th>\n",
              "      <td>5.801248</td>\n",
              "    </tr>\n",
              "    <tr>\n",
              "      <th>2022-07-26</th>\n",
              "      <td>5.752393</td>\n",
              "    </tr>\n",
              "    <tr>\n",
              "      <th>2022-07-27</th>\n",
              "      <td>5.731504</td>\n",
              "    </tr>\n",
              "    <tr>\n",
              "      <th>2022-07-28</th>\n",
              "      <td>5.696876</td>\n",
              "    </tr>\n",
              "    <tr>\n",
              "      <th>2022-07-29</th>\n",
              "      <td>5.732308</td>\n",
              "    </tr>\n",
              "    <tr>\n",
              "      <th>2022-08-01</th>\n",
              "      <td>5.661995</td>\n",
              "    </tr>\n",
              "    <tr>\n",
              "      <th>2022-08-02</th>\n",
              "      <td>5.654653</td>\n",
              "    </tr>\n",
              "    <tr>\n",
              "      <th>2022-08-03</th>\n",
              "      <td>5.620210</td>\n",
              "    </tr>\n",
              "    <tr>\n",
              "      <th>2022-08-04</th>\n",
              "      <td>5.545147</td>\n",
              "    </tr>\n",
              "    <tr>\n",
              "      <th>2022-08-05</th>\n",
              "      <td>5.799412</td>\n",
              "    </tr>\n",
              "    <tr>\n",
              "      <th>2022-08-08</th>\n",
              "      <td>5.596603</td>\n",
              "    </tr>\n",
              "    <tr>\n",
              "      <th>2022-08-09</th>\n",
              "      <td>5.548641</td>\n",
              "    </tr>\n",
              "    <tr>\n",
              "      <th>2022-08-10</th>\n",
              "      <td>5.492057</td>\n",
              "    </tr>\n",
              "    <tr>\n",
              "      <th>2022-08-11</th>\n",
              "      <td>5.465031</td>\n",
              "    </tr>\n",
              "    <tr>\n",
              "      <th>2022-08-12</th>\n",
              "      <td>5.709540</td>\n",
              "    </tr>\n",
              "    <tr>\n",
              "      <th>2022-08-15</th>\n",
              "      <td>5.484921</td>\n",
              "    </tr>\n",
              "    <tr>\n",
              "      <th>2022-08-16</th>\n",
              "      <td>5.449368</td>\n",
              "    </tr>\n",
              "    <tr>\n",
              "      <th>2022-08-17</th>\n",
              "      <td>5.394043</td>\n",
              "    </tr>\n",
              "    <tr>\n",
              "      <th>2022-08-18</th>\n",
              "      <td>5.335768</td>\n",
              "    </tr>\n",
              "    <tr>\n",
              "      <th>2022-08-19</th>\n",
              "      <td>5.289756</td>\n",
              "    </tr>\n",
              "    <tr>\n",
              "      <th>2022-08-22</th>\n",
              "      <td>5.319446</td>\n",
              "    </tr>\n",
              "    <tr>\n",
              "      <th>2022-08-23</th>\n",
              "      <td>5.272817</td>\n",
              "    </tr>\n",
              "    <tr>\n",
              "      <th>2022-08-24</th>\n",
              "      <td>5.270926</td>\n",
              "    </tr>\n",
              "    <tr>\n",
              "      <th>2022-08-25</th>\n",
              "      <td>5.239075</td>\n",
              "    </tr>\n",
              "    <tr>\n",
              "      <th>2022-08-26</th>\n",
              "      <td>5.238491</td>\n",
              "    </tr>\n",
              "    <tr>\n",
              "      <th>2022-08-29</th>\n",
              "      <td>5.224220</td>\n",
              "    </tr>\n",
              "    <tr>\n",
              "      <th>2022-08-30</th>\n",
              "      <td>5.213140</td>\n",
              "    </tr>\n",
              "    <tr>\n",
              "      <th>2022-08-31</th>\n",
              "      <td>5.194275</td>\n",
              "    </tr>\n",
              "  </tbody>\n",
              "</table>\n",
              "</div>\n",
              "      <button class=\"colab-df-convert\" onclick=\"convertToInteractive('df-bf22bbb9-f4d3-40ac-8e16-563f576a9f67')\"\n",
              "              title=\"Convert this dataframe to an interactive table.\"\n",
              "              style=\"display:none;\">\n",
              "        \n",
              "  <svg xmlns=\"http://www.w3.org/2000/svg\" height=\"24px\"viewBox=\"0 0 24 24\"\n",
              "       width=\"24px\">\n",
              "    <path d=\"M0 0h24v24H0V0z\" fill=\"none\"/>\n",
              "    <path d=\"M18.56 5.44l.94 2.06.94-2.06 2.06-.94-2.06-.94-.94-2.06-.94 2.06-2.06.94zm-11 1L8.5 8.5l.94-2.06 2.06-.94-2.06-.94L8.5 2.5l-.94 2.06-2.06.94zm10 10l.94 2.06.94-2.06 2.06-.94-2.06-.94-.94-2.06-.94 2.06-2.06.94z\"/><path d=\"M17.41 7.96l-1.37-1.37c-.4-.4-.92-.59-1.43-.59-.52 0-1.04.2-1.43.59L10.3 9.45l-7.72 7.72c-.78.78-.78 2.05 0 2.83L4 21.41c.39.39.9.59 1.41.59.51 0 1.02-.2 1.41-.59l7.78-7.78 2.81-2.81c.8-.78.8-2.07 0-2.86zM5.41 20L4 18.59l7.72-7.72 1.47 1.35L5.41 20z\"/>\n",
              "  </svg>\n",
              "      </button>\n",
              "      \n",
              "  <style>\n",
              "    .colab-df-container {\n",
              "      display:flex;\n",
              "      flex-wrap:wrap;\n",
              "      gap: 12px;\n",
              "    }\n",
              "\n",
              "    .colab-df-convert {\n",
              "      background-color: #E8F0FE;\n",
              "      border: none;\n",
              "      border-radius: 50%;\n",
              "      cursor: pointer;\n",
              "      display: none;\n",
              "      fill: #1967D2;\n",
              "      height: 32px;\n",
              "      padding: 0 0 0 0;\n",
              "      width: 32px;\n",
              "    }\n",
              "\n",
              "    .colab-df-convert:hover {\n",
              "      background-color: #E2EBFA;\n",
              "      box-shadow: 0px 1px 2px rgba(60, 64, 67, 0.3), 0px 1px 3px 1px rgba(60, 64, 67, 0.15);\n",
              "      fill: #174EA6;\n",
              "    }\n",
              "\n",
              "    [theme=dark] .colab-df-convert {\n",
              "      background-color: #3B4455;\n",
              "      fill: #D2E3FC;\n",
              "    }\n",
              "\n",
              "    [theme=dark] .colab-df-convert:hover {\n",
              "      background-color: #434B5C;\n",
              "      box-shadow: 0px 1px 3px 1px rgba(0, 0, 0, 0.15);\n",
              "      filter: drop-shadow(0px 1px 2px rgba(0, 0, 0, 0.3));\n",
              "      fill: #FFFFFF;\n",
              "    }\n",
              "  </style>\n",
              "\n",
              "      <script>\n",
              "        const buttonEl =\n",
              "          document.querySelector('#df-bf22bbb9-f4d3-40ac-8e16-563f576a9f67 button.colab-df-convert');\n",
              "        buttonEl.style.display =\n",
              "          google.colab.kernel.accessAllowed ? 'block' : 'none';\n",
              "\n",
              "        async function convertToInteractive(key) {\n",
              "          const element = document.querySelector('#df-bf22bbb9-f4d3-40ac-8e16-563f576a9f67');\n",
              "          const dataTable =\n",
              "            await google.colab.kernel.invokeFunction('convertToInteractive',\n",
              "                                                     [key], {});\n",
              "          if (!dataTable) return;\n",
              "\n",
              "          const docLinkHtml = 'Like what you see? Visit the ' +\n",
              "            '<a target=\"_blank\" href=https://colab.research.google.com/notebooks/data_table.ipynb>data table notebook</a>'\n",
              "            + ' to learn more about interactive tables.';\n",
              "          element.innerHTML = '';\n",
              "          dataTable['output_type'] = 'display_data';\n",
              "          await google.colab.output.renderOutput(dataTable, element);\n",
              "          const docLink = document.createElement('div');\n",
              "          docLink.innerHTML = docLinkHtml;\n",
              "          element.appendChild(docLink);\n",
              "        }\n",
              "      </script>\n",
              "    </div>\n",
              "  </div>\n",
              "  "
            ]
          },
          "metadata": {},
          "execution_count": 205
        }
      ]
    },
    {
      "cell_type": "code",
      "source": [
        "#Brasil - GASOLINA ADITIVADA\n",
        "gasolina_aditivada.groupby('Data da Coleta')[['Valor de Venda']].mean().sort_values(['Data da Coleta', 'Valor de Venda'], ascending=True)\n"
      ],
      "metadata": {
        "id": "LK_mK-1eVkky",
        "colab": {
          "base_uri": "https://localhost:8080/",
          "height": 1000
        },
        "outputId": "07ab3291-49fe-48b5-dd72-13c297ab37f6"
      },
      "execution_count": null,
      "outputs": [
        {
          "output_type": "execute_result",
          "data": {
            "text/plain": [
              "                Valor de Venda\n",
              "Data da Coleta                \n",
              "2022-07-01            7.248261\n",
              "2022-07-04            6.786824\n",
              "2022-07-05            6.795097\n",
              "2022-07-06            6.573684\n",
              "2022-07-07            6.408225\n",
              "2022-07-08            6.290370\n",
              "2022-07-11            6.298553\n",
              "2022-07-12            6.315667\n",
              "2022-07-13            6.208035\n",
              "2022-07-14            6.188118\n",
              "2022-07-15            6.186585\n",
              "2022-07-18            6.118732\n",
              "2022-07-19            6.134556\n",
              "2022-07-20            6.081378\n",
              "2022-07-21            5.961833\n",
              "2022-07-22            5.886154\n",
              "2022-07-25            5.990940\n",
              "2022-07-26            5.931690\n",
              "2022-07-27            5.903921\n",
              "2022-07-28            5.868248\n",
              "2022-07-29            5.843500\n",
              "2022-08-01            5.843992\n",
              "2022-08-02            5.838499\n",
              "2022-08-03            5.808349\n",
              "2022-08-04            5.689228\n",
              "2022-08-05            5.869333\n",
              "2022-08-08            5.758299\n",
              "2022-08-09            5.740010\n",
              "2022-08-10            5.667548\n",
              "2022-08-11            5.620667\n",
              "2022-08-12            5.784444\n",
              "2022-08-15            5.656173\n",
              "2022-08-16            5.624541\n",
              "2022-08-17            5.556716\n",
              "2022-08-18            5.507187\n",
              "2022-08-19            5.431667\n",
              "2022-08-22            5.513581\n",
              "2022-08-23            5.452332\n",
              "2022-08-24            5.433567\n",
              "2022-08-25            5.388535\n",
              "2022-08-26            5.403590\n",
              "2022-08-29            5.389308\n",
              "2022-08-30            5.399597\n",
              "2022-08-31            5.354558"
            ],
            "text/html": [
              "\n",
              "  <div id=\"df-930ddadb-747a-4459-ad79-83a6ffc90fc7\">\n",
              "    <div class=\"colab-df-container\">\n",
              "      <div>\n",
              "<style scoped>\n",
              "    .dataframe tbody tr th:only-of-type {\n",
              "        vertical-align: middle;\n",
              "    }\n",
              "\n",
              "    .dataframe tbody tr th {\n",
              "        vertical-align: top;\n",
              "    }\n",
              "\n",
              "    .dataframe thead th {\n",
              "        text-align: right;\n",
              "    }\n",
              "</style>\n",
              "<table border=\"1\" class=\"dataframe\">\n",
              "  <thead>\n",
              "    <tr style=\"text-align: right;\">\n",
              "      <th></th>\n",
              "      <th>Valor de Venda</th>\n",
              "    </tr>\n",
              "    <tr>\n",
              "      <th>Data da Coleta</th>\n",
              "      <th></th>\n",
              "    </tr>\n",
              "  </thead>\n",
              "  <tbody>\n",
              "    <tr>\n",
              "      <th>2022-07-01</th>\n",
              "      <td>7.248261</td>\n",
              "    </tr>\n",
              "    <tr>\n",
              "      <th>2022-07-04</th>\n",
              "      <td>6.786824</td>\n",
              "    </tr>\n",
              "    <tr>\n",
              "      <th>2022-07-05</th>\n",
              "      <td>6.795097</td>\n",
              "    </tr>\n",
              "    <tr>\n",
              "      <th>2022-07-06</th>\n",
              "      <td>6.573684</td>\n",
              "    </tr>\n",
              "    <tr>\n",
              "      <th>2022-07-07</th>\n",
              "      <td>6.408225</td>\n",
              "    </tr>\n",
              "    <tr>\n",
              "      <th>2022-07-08</th>\n",
              "      <td>6.290370</td>\n",
              "    </tr>\n",
              "    <tr>\n",
              "      <th>2022-07-11</th>\n",
              "      <td>6.298553</td>\n",
              "    </tr>\n",
              "    <tr>\n",
              "      <th>2022-07-12</th>\n",
              "      <td>6.315667</td>\n",
              "    </tr>\n",
              "    <tr>\n",
              "      <th>2022-07-13</th>\n",
              "      <td>6.208035</td>\n",
              "    </tr>\n",
              "    <tr>\n",
              "      <th>2022-07-14</th>\n",
              "      <td>6.188118</td>\n",
              "    </tr>\n",
              "    <tr>\n",
              "      <th>2022-07-15</th>\n",
              "      <td>6.186585</td>\n",
              "    </tr>\n",
              "    <tr>\n",
              "      <th>2022-07-18</th>\n",
              "      <td>6.118732</td>\n",
              "    </tr>\n",
              "    <tr>\n",
              "      <th>2022-07-19</th>\n",
              "      <td>6.134556</td>\n",
              "    </tr>\n",
              "    <tr>\n",
              "      <th>2022-07-20</th>\n",
              "      <td>6.081378</td>\n",
              "    </tr>\n",
              "    <tr>\n",
              "      <th>2022-07-21</th>\n",
              "      <td>5.961833</td>\n",
              "    </tr>\n",
              "    <tr>\n",
              "      <th>2022-07-22</th>\n",
              "      <td>5.886154</td>\n",
              "    </tr>\n",
              "    <tr>\n",
              "      <th>2022-07-25</th>\n",
              "      <td>5.990940</td>\n",
              "    </tr>\n",
              "    <tr>\n",
              "      <th>2022-07-26</th>\n",
              "      <td>5.931690</td>\n",
              "    </tr>\n",
              "    <tr>\n",
              "      <th>2022-07-27</th>\n",
              "      <td>5.903921</td>\n",
              "    </tr>\n",
              "    <tr>\n",
              "      <th>2022-07-28</th>\n",
              "      <td>5.868248</td>\n",
              "    </tr>\n",
              "    <tr>\n",
              "      <th>2022-07-29</th>\n",
              "      <td>5.843500</td>\n",
              "    </tr>\n",
              "    <tr>\n",
              "      <th>2022-08-01</th>\n",
              "      <td>5.843992</td>\n",
              "    </tr>\n",
              "    <tr>\n",
              "      <th>2022-08-02</th>\n",
              "      <td>5.838499</td>\n",
              "    </tr>\n",
              "    <tr>\n",
              "      <th>2022-08-03</th>\n",
              "      <td>5.808349</td>\n",
              "    </tr>\n",
              "    <tr>\n",
              "      <th>2022-08-04</th>\n",
              "      <td>5.689228</td>\n",
              "    </tr>\n",
              "    <tr>\n",
              "      <th>2022-08-05</th>\n",
              "      <td>5.869333</td>\n",
              "    </tr>\n",
              "    <tr>\n",
              "      <th>2022-08-08</th>\n",
              "      <td>5.758299</td>\n",
              "    </tr>\n",
              "    <tr>\n",
              "      <th>2022-08-09</th>\n",
              "      <td>5.740010</td>\n",
              "    </tr>\n",
              "    <tr>\n",
              "      <th>2022-08-10</th>\n",
              "      <td>5.667548</td>\n",
              "    </tr>\n",
              "    <tr>\n",
              "      <th>2022-08-11</th>\n",
              "      <td>5.620667</td>\n",
              "    </tr>\n",
              "    <tr>\n",
              "      <th>2022-08-12</th>\n",
              "      <td>5.784444</td>\n",
              "    </tr>\n",
              "    <tr>\n",
              "      <th>2022-08-15</th>\n",
              "      <td>5.656173</td>\n",
              "    </tr>\n",
              "    <tr>\n",
              "      <th>2022-08-16</th>\n",
              "      <td>5.624541</td>\n",
              "    </tr>\n",
              "    <tr>\n",
              "      <th>2022-08-17</th>\n",
              "      <td>5.556716</td>\n",
              "    </tr>\n",
              "    <tr>\n",
              "      <th>2022-08-18</th>\n",
              "      <td>5.507187</td>\n",
              "    </tr>\n",
              "    <tr>\n",
              "      <th>2022-08-19</th>\n",
              "      <td>5.431667</td>\n",
              "    </tr>\n",
              "    <tr>\n",
              "      <th>2022-08-22</th>\n",
              "      <td>5.513581</td>\n",
              "    </tr>\n",
              "    <tr>\n",
              "      <th>2022-08-23</th>\n",
              "      <td>5.452332</td>\n",
              "    </tr>\n",
              "    <tr>\n",
              "      <th>2022-08-24</th>\n",
              "      <td>5.433567</td>\n",
              "    </tr>\n",
              "    <tr>\n",
              "      <th>2022-08-25</th>\n",
              "      <td>5.388535</td>\n",
              "    </tr>\n",
              "    <tr>\n",
              "      <th>2022-08-26</th>\n",
              "      <td>5.403590</td>\n",
              "    </tr>\n",
              "    <tr>\n",
              "      <th>2022-08-29</th>\n",
              "      <td>5.389308</td>\n",
              "    </tr>\n",
              "    <tr>\n",
              "      <th>2022-08-30</th>\n",
              "      <td>5.399597</td>\n",
              "    </tr>\n",
              "    <tr>\n",
              "      <th>2022-08-31</th>\n",
              "      <td>5.354558</td>\n",
              "    </tr>\n",
              "  </tbody>\n",
              "</table>\n",
              "</div>\n",
              "      <button class=\"colab-df-convert\" onclick=\"convertToInteractive('df-930ddadb-747a-4459-ad79-83a6ffc90fc7')\"\n",
              "              title=\"Convert this dataframe to an interactive table.\"\n",
              "              style=\"display:none;\">\n",
              "        \n",
              "  <svg xmlns=\"http://www.w3.org/2000/svg\" height=\"24px\"viewBox=\"0 0 24 24\"\n",
              "       width=\"24px\">\n",
              "    <path d=\"M0 0h24v24H0V0z\" fill=\"none\"/>\n",
              "    <path d=\"M18.56 5.44l.94 2.06.94-2.06 2.06-.94-2.06-.94-.94-2.06-.94 2.06-2.06.94zm-11 1L8.5 8.5l.94-2.06 2.06-.94-2.06-.94L8.5 2.5l-.94 2.06-2.06.94zm10 10l.94 2.06.94-2.06 2.06-.94-2.06-.94-.94-2.06-.94 2.06-2.06.94z\"/><path d=\"M17.41 7.96l-1.37-1.37c-.4-.4-.92-.59-1.43-.59-.52 0-1.04.2-1.43.59L10.3 9.45l-7.72 7.72c-.78.78-.78 2.05 0 2.83L4 21.41c.39.39.9.59 1.41.59.51 0 1.02-.2 1.41-.59l7.78-7.78 2.81-2.81c.8-.78.8-2.07 0-2.86zM5.41 20L4 18.59l7.72-7.72 1.47 1.35L5.41 20z\"/>\n",
              "  </svg>\n",
              "      </button>\n",
              "      \n",
              "  <style>\n",
              "    .colab-df-container {\n",
              "      display:flex;\n",
              "      flex-wrap:wrap;\n",
              "      gap: 12px;\n",
              "    }\n",
              "\n",
              "    .colab-df-convert {\n",
              "      background-color: #E8F0FE;\n",
              "      border: none;\n",
              "      border-radius: 50%;\n",
              "      cursor: pointer;\n",
              "      display: none;\n",
              "      fill: #1967D2;\n",
              "      height: 32px;\n",
              "      padding: 0 0 0 0;\n",
              "      width: 32px;\n",
              "    }\n",
              "\n",
              "    .colab-df-convert:hover {\n",
              "      background-color: #E2EBFA;\n",
              "      box-shadow: 0px 1px 2px rgba(60, 64, 67, 0.3), 0px 1px 3px 1px rgba(60, 64, 67, 0.15);\n",
              "      fill: #174EA6;\n",
              "    }\n",
              "\n",
              "    [theme=dark] .colab-df-convert {\n",
              "      background-color: #3B4455;\n",
              "      fill: #D2E3FC;\n",
              "    }\n",
              "\n",
              "    [theme=dark] .colab-df-convert:hover {\n",
              "      background-color: #434B5C;\n",
              "      box-shadow: 0px 1px 3px 1px rgba(0, 0, 0, 0.15);\n",
              "      filter: drop-shadow(0px 1px 2px rgba(0, 0, 0, 0.3));\n",
              "      fill: #FFFFFF;\n",
              "    }\n",
              "  </style>\n",
              "\n",
              "      <script>\n",
              "        const buttonEl =\n",
              "          document.querySelector('#df-930ddadb-747a-4459-ad79-83a6ffc90fc7 button.colab-df-convert');\n",
              "        buttonEl.style.display =\n",
              "          google.colab.kernel.accessAllowed ? 'block' : 'none';\n",
              "\n",
              "        async function convertToInteractive(key) {\n",
              "          const element = document.querySelector('#df-930ddadb-747a-4459-ad79-83a6ffc90fc7');\n",
              "          const dataTable =\n",
              "            await google.colab.kernel.invokeFunction('convertToInteractive',\n",
              "                                                     [key], {});\n",
              "          if (!dataTable) return;\n",
              "\n",
              "          const docLinkHtml = 'Like what you see? Visit the ' +\n",
              "            '<a target=\"_blank\" href=https://colab.research.google.com/notebooks/data_table.ipynb>data table notebook</a>'\n",
              "            + ' to learn more about interactive tables.';\n",
              "          element.innerHTML = '';\n",
              "          dataTable['output_type'] = 'display_data';\n",
              "          await google.colab.output.renderOutput(dataTable, element);\n",
              "          const docLink = document.createElement('div');\n",
              "          docLink.innerHTML = docLinkHtml;\n",
              "          element.appendChild(docLink);\n",
              "        }\n",
              "      </script>\n",
              "    </div>\n",
              "  </div>\n",
              "  "
            ]
          },
          "metadata": {},
          "execution_count": 206
        }
      ]
    },
    {
      "cell_type": "code",
      "source": [
        "#Brasil - ETANOL\n",
        "etanol.groupby('Data da Coleta')[['Valor de Venda']].mean().sort_values(['Data da Coleta', 'Valor de Venda'], ascending=True)\n"
      ],
      "metadata": {
        "id": "nWWgtBeLVyIY",
        "colab": {
          "base_uri": "https://localhost:8080/",
          "height": 1000
        },
        "outputId": "807035b7-a96a-4f41-ad12-e6744f89bdd5"
      },
      "execution_count": null,
      "outputs": [
        {
          "output_type": "execute_result",
          "data": {
            "text/plain": [
              "                Valor de Venda\n",
              "Data da Coleta                \n",
              "2022-07-01            5.395652\n",
              "2022-07-04            4.879523\n",
              "2022-07-05            5.158455\n",
              "2022-07-06            4.944885\n",
              "2022-07-07            4.820669\n",
              "2022-07-08            4.753214\n",
              "2022-07-11            4.842278\n",
              "2022-07-12            4.928487\n",
              "2022-07-13            4.659464\n",
              "2022-07-14            4.793058\n",
              "2022-07-15            5.588500\n",
              "2022-07-18            4.633960\n",
              "2022-07-19            4.800308\n",
              "2022-07-20            4.722711\n",
              "2022-07-21            4.637457\n",
              "2022-07-22            4.630714\n",
              "2022-07-25            4.654826\n",
              "2022-07-26            4.585583\n",
              "2022-07-27            4.552368\n",
              "2022-07-28            4.358094\n",
              "2022-07-29            4.713889\n",
              "2022-08-01            4.493064\n",
              "2022-08-02            4.548942\n",
              "2022-08-03            4.454240\n",
              "2022-08-04            4.406395\n",
              "2022-08-05            4.681429\n",
              "2022-08-08            4.552473\n",
              "2022-08-09            4.385134\n",
              "2022-08-10            4.310675\n",
              "2022-08-11            4.292282\n",
              "2022-08-12            4.384328\n",
              "2022-08-15            4.355251\n",
              "2022-08-16            4.393867\n",
              "2022-08-17            4.280382\n",
              "2022-08-18            4.186393\n",
              "2022-08-19            3.961842\n",
              "2022-08-22            4.223172\n",
              "2022-08-23            4.226979\n",
              "2022-08-24            4.107153\n",
              "2022-08-25            4.171381\n",
              "2022-08-26            3.926471\n",
              "2022-08-29            4.134431\n",
              "2022-08-30            4.097958\n",
              "2022-08-31            3.994470"
            ],
            "text/html": [
              "\n",
              "  <div id=\"df-8f8d79c7-eac2-4db1-a52a-aa23aff292be\">\n",
              "    <div class=\"colab-df-container\">\n",
              "      <div>\n",
              "<style scoped>\n",
              "    .dataframe tbody tr th:only-of-type {\n",
              "        vertical-align: middle;\n",
              "    }\n",
              "\n",
              "    .dataframe tbody tr th {\n",
              "        vertical-align: top;\n",
              "    }\n",
              "\n",
              "    .dataframe thead th {\n",
              "        text-align: right;\n",
              "    }\n",
              "</style>\n",
              "<table border=\"1\" class=\"dataframe\">\n",
              "  <thead>\n",
              "    <tr style=\"text-align: right;\">\n",
              "      <th></th>\n",
              "      <th>Valor de Venda</th>\n",
              "    </tr>\n",
              "    <tr>\n",
              "      <th>Data da Coleta</th>\n",
              "      <th></th>\n",
              "    </tr>\n",
              "  </thead>\n",
              "  <tbody>\n",
              "    <tr>\n",
              "      <th>2022-07-01</th>\n",
              "      <td>5.395652</td>\n",
              "    </tr>\n",
              "    <tr>\n",
              "      <th>2022-07-04</th>\n",
              "      <td>4.879523</td>\n",
              "    </tr>\n",
              "    <tr>\n",
              "      <th>2022-07-05</th>\n",
              "      <td>5.158455</td>\n",
              "    </tr>\n",
              "    <tr>\n",
              "      <th>2022-07-06</th>\n",
              "      <td>4.944885</td>\n",
              "    </tr>\n",
              "    <tr>\n",
              "      <th>2022-07-07</th>\n",
              "      <td>4.820669</td>\n",
              "    </tr>\n",
              "    <tr>\n",
              "      <th>2022-07-08</th>\n",
              "      <td>4.753214</td>\n",
              "    </tr>\n",
              "    <tr>\n",
              "      <th>2022-07-11</th>\n",
              "      <td>4.842278</td>\n",
              "    </tr>\n",
              "    <tr>\n",
              "      <th>2022-07-12</th>\n",
              "      <td>4.928487</td>\n",
              "    </tr>\n",
              "    <tr>\n",
              "      <th>2022-07-13</th>\n",
              "      <td>4.659464</td>\n",
              "    </tr>\n",
              "    <tr>\n",
              "      <th>2022-07-14</th>\n",
              "      <td>4.793058</td>\n",
              "    </tr>\n",
              "    <tr>\n",
              "      <th>2022-07-15</th>\n",
              "      <td>5.588500</td>\n",
              "    </tr>\n",
              "    <tr>\n",
              "      <th>2022-07-18</th>\n",
              "      <td>4.633960</td>\n",
              "    </tr>\n",
              "    <tr>\n",
              "      <th>2022-07-19</th>\n",
              "      <td>4.800308</td>\n",
              "    </tr>\n",
              "    <tr>\n",
              "      <th>2022-07-20</th>\n",
              "      <td>4.722711</td>\n",
              "    </tr>\n",
              "    <tr>\n",
              "      <th>2022-07-21</th>\n",
              "      <td>4.637457</td>\n",
              "    </tr>\n",
              "    <tr>\n",
              "      <th>2022-07-22</th>\n",
              "      <td>4.630714</td>\n",
              "    </tr>\n",
              "    <tr>\n",
              "      <th>2022-07-25</th>\n",
              "      <td>4.654826</td>\n",
              "    </tr>\n",
              "    <tr>\n",
              "      <th>2022-07-26</th>\n",
              "      <td>4.585583</td>\n",
              "    </tr>\n",
              "    <tr>\n",
              "      <th>2022-07-27</th>\n",
              "      <td>4.552368</td>\n",
              "    </tr>\n",
              "    <tr>\n",
              "      <th>2022-07-28</th>\n",
              "      <td>4.358094</td>\n",
              "    </tr>\n",
              "    <tr>\n",
              "      <th>2022-07-29</th>\n",
              "      <td>4.713889</td>\n",
              "    </tr>\n",
              "    <tr>\n",
              "      <th>2022-08-01</th>\n",
              "      <td>4.493064</td>\n",
              "    </tr>\n",
              "    <tr>\n",
              "      <th>2022-08-02</th>\n",
              "      <td>4.548942</td>\n",
              "    </tr>\n",
              "    <tr>\n",
              "      <th>2022-08-03</th>\n",
              "      <td>4.454240</td>\n",
              "    </tr>\n",
              "    <tr>\n",
              "      <th>2022-08-04</th>\n",
              "      <td>4.406395</td>\n",
              "    </tr>\n",
              "    <tr>\n",
              "      <th>2022-08-05</th>\n",
              "      <td>4.681429</td>\n",
              "    </tr>\n",
              "    <tr>\n",
              "      <th>2022-08-08</th>\n",
              "      <td>4.552473</td>\n",
              "    </tr>\n",
              "    <tr>\n",
              "      <th>2022-08-09</th>\n",
              "      <td>4.385134</td>\n",
              "    </tr>\n",
              "    <tr>\n",
              "      <th>2022-08-10</th>\n",
              "      <td>4.310675</td>\n",
              "    </tr>\n",
              "    <tr>\n",
              "      <th>2022-08-11</th>\n",
              "      <td>4.292282</td>\n",
              "    </tr>\n",
              "    <tr>\n",
              "      <th>2022-08-12</th>\n",
              "      <td>4.384328</td>\n",
              "    </tr>\n",
              "    <tr>\n",
              "      <th>2022-08-15</th>\n",
              "      <td>4.355251</td>\n",
              "    </tr>\n",
              "    <tr>\n",
              "      <th>2022-08-16</th>\n",
              "      <td>4.393867</td>\n",
              "    </tr>\n",
              "    <tr>\n",
              "      <th>2022-08-17</th>\n",
              "      <td>4.280382</td>\n",
              "    </tr>\n",
              "    <tr>\n",
              "      <th>2022-08-18</th>\n",
              "      <td>4.186393</td>\n",
              "    </tr>\n",
              "    <tr>\n",
              "      <th>2022-08-19</th>\n",
              "      <td>3.961842</td>\n",
              "    </tr>\n",
              "    <tr>\n",
              "      <th>2022-08-22</th>\n",
              "      <td>4.223172</td>\n",
              "    </tr>\n",
              "    <tr>\n",
              "      <th>2022-08-23</th>\n",
              "      <td>4.226979</td>\n",
              "    </tr>\n",
              "    <tr>\n",
              "      <th>2022-08-24</th>\n",
              "      <td>4.107153</td>\n",
              "    </tr>\n",
              "    <tr>\n",
              "      <th>2022-08-25</th>\n",
              "      <td>4.171381</td>\n",
              "    </tr>\n",
              "    <tr>\n",
              "      <th>2022-08-26</th>\n",
              "      <td>3.926471</td>\n",
              "    </tr>\n",
              "    <tr>\n",
              "      <th>2022-08-29</th>\n",
              "      <td>4.134431</td>\n",
              "    </tr>\n",
              "    <tr>\n",
              "      <th>2022-08-30</th>\n",
              "      <td>4.097958</td>\n",
              "    </tr>\n",
              "    <tr>\n",
              "      <th>2022-08-31</th>\n",
              "      <td>3.994470</td>\n",
              "    </tr>\n",
              "  </tbody>\n",
              "</table>\n",
              "</div>\n",
              "      <button class=\"colab-df-convert\" onclick=\"convertToInteractive('df-8f8d79c7-eac2-4db1-a52a-aa23aff292be')\"\n",
              "              title=\"Convert this dataframe to an interactive table.\"\n",
              "              style=\"display:none;\">\n",
              "        \n",
              "  <svg xmlns=\"http://www.w3.org/2000/svg\" height=\"24px\"viewBox=\"0 0 24 24\"\n",
              "       width=\"24px\">\n",
              "    <path d=\"M0 0h24v24H0V0z\" fill=\"none\"/>\n",
              "    <path d=\"M18.56 5.44l.94 2.06.94-2.06 2.06-.94-2.06-.94-.94-2.06-.94 2.06-2.06.94zm-11 1L8.5 8.5l.94-2.06 2.06-.94-2.06-.94L8.5 2.5l-.94 2.06-2.06.94zm10 10l.94 2.06.94-2.06 2.06-.94-2.06-.94-.94-2.06-.94 2.06-2.06.94z\"/><path d=\"M17.41 7.96l-1.37-1.37c-.4-.4-.92-.59-1.43-.59-.52 0-1.04.2-1.43.59L10.3 9.45l-7.72 7.72c-.78.78-.78 2.05 0 2.83L4 21.41c.39.39.9.59 1.41.59.51 0 1.02-.2 1.41-.59l7.78-7.78 2.81-2.81c.8-.78.8-2.07 0-2.86zM5.41 20L4 18.59l7.72-7.72 1.47 1.35L5.41 20z\"/>\n",
              "  </svg>\n",
              "      </button>\n",
              "      \n",
              "  <style>\n",
              "    .colab-df-container {\n",
              "      display:flex;\n",
              "      flex-wrap:wrap;\n",
              "      gap: 12px;\n",
              "    }\n",
              "\n",
              "    .colab-df-convert {\n",
              "      background-color: #E8F0FE;\n",
              "      border: none;\n",
              "      border-radius: 50%;\n",
              "      cursor: pointer;\n",
              "      display: none;\n",
              "      fill: #1967D2;\n",
              "      height: 32px;\n",
              "      padding: 0 0 0 0;\n",
              "      width: 32px;\n",
              "    }\n",
              "\n",
              "    .colab-df-convert:hover {\n",
              "      background-color: #E2EBFA;\n",
              "      box-shadow: 0px 1px 2px rgba(60, 64, 67, 0.3), 0px 1px 3px 1px rgba(60, 64, 67, 0.15);\n",
              "      fill: #174EA6;\n",
              "    }\n",
              "\n",
              "    [theme=dark] .colab-df-convert {\n",
              "      background-color: #3B4455;\n",
              "      fill: #D2E3FC;\n",
              "    }\n",
              "\n",
              "    [theme=dark] .colab-df-convert:hover {\n",
              "      background-color: #434B5C;\n",
              "      box-shadow: 0px 1px 3px 1px rgba(0, 0, 0, 0.15);\n",
              "      filter: drop-shadow(0px 1px 2px rgba(0, 0, 0, 0.3));\n",
              "      fill: #FFFFFF;\n",
              "    }\n",
              "  </style>\n",
              "\n",
              "      <script>\n",
              "        const buttonEl =\n",
              "          document.querySelector('#df-8f8d79c7-eac2-4db1-a52a-aa23aff292be button.colab-df-convert');\n",
              "        buttonEl.style.display =\n",
              "          google.colab.kernel.accessAllowed ? 'block' : 'none';\n",
              "\n",
              "        async function convertToInteractive(key) {\n",
              "          const element = document.querySelector('#df-8f8d79c7-eac2-4db1-a52a-aa23aff292be');\n",
              "          const dataTable =\n",
              "            await google.colab.kernel.invokeFunction('convertToInteractive',\n",
              "                                                     [key], {});\n",
              "          if (!dataTable) return;\n",
              "\n",
              "          const docLinkHtml = 'Like what you see? Visit the ' +\n",
              "            '<a target=\"_blank\" href=https://colab.research.google.com/notebooks/data_table.ipynb>data table notebook</a>'\n",
              "            + ' to learn more about interactive tables.';\n",
              "          element.innerHTML = '';\n",
              "          dataTable['output_type'] = 'display_data';\n",
              "          await google.colab.output.renderOutput(dataTable, element);\n",
              "          const docLink = document.createElement('div');\n",
              "          docLink.innerHTML = docLinkHtml;\n",
              "          element.appendChild(docLink);\n",
              "        }\n",
              "      </script>\n",
              "    </div>\n",
              "  </div>\n",
              "  "
            ]
          },
          "metadata": {},
          "execution_count": 207
        }
      ]
    },
    {
      "cell_type": "markdown",
      "source": [
        "### **Pergunta 2: Qual o preço médio da gasolina e do etanol nesses dois meses?**"
      ],
      "metadata": {
        "id": "YRZTJvd0V7LA"
      }
    },
    {
      "cell_type": "code",
      "source": [
        "data2 = pd.DataFrame(dataComb, columns=['Combustivel', 'Média'])\n"
      ],
      "metadata": {
        "id": "RCf6LsxrAuhT"
      },
      "execution_count": null,
      "outputs": []
    },
    {
      "cell_type": "code",
      "source": [
        "dataComb=[['Gasolina comum',gasolina_comum.mean()],['Gasolina Aditivada',gasolina_aditivada.mean()],['Etanol',etanol.mean()]]\n",
        "plt.plot(data2['Combustivel'],data2['Média'], marker='o', mfc='g', mec='b', linestyle='--', ms=15)\n",
        "plt.xticks(rotation=45);"
      ],
      "metadata": {
        "id": "6UW6PMXDWLT_",
        "colab": {
          "base_uri": "https://localhost:8080/",
          "height": 418
        },
        "outputId": "a1b44f45-15b2-4ea8-b434-77578a262767"
      },
      "execution_count": null,
      "outputs": [
        {
          "output_type": "stream",
          "name": "stderr",
          "text": [
            "/usr/local/lib/python3.7/dist-packages/ipykernel_launcher.py:1: FutureWarning: DataFrame.mean and DataFrame.median with numeric_only=None will include datetime64 and datetime64tz columns in a future version.\n",
            "  \"\"\"Entry point for launching an IPython kernel.\n",
            "/usr/local/lib/python3.7/dist-packages/ipykernel_launcher.py:1: FutureWarning: Dropping of nuisance columns in DataFrame reductions (with 'numeric_only=None') is deprecated; in a future version this will raise TypeError.  Select only valid columns before calling the reduction.\n",
            "  \"\"\"Entry point for launching an IPython kernel.\n"
          ]
        },
        {
          "output_type": "display_data",
          "data": {
            "text/plain": [
              "<Figure size 432x288 with 1 Axes>"
            ],
            "image/png": "[encoded data removed]"
          },
          "metadata": {
            "needs_background": "light"
          }
        }
      ]
    },
    {
      "cell_type": "markdown",
      "source": [
        "### **Pergunta 3: Quais os 5 estados com o preço médio da gasolina e do etanol mais caros?**"
      ],
      "metadata": {
        "id": "s6J7PMdWWMer"
      }
    },
    {
      "cell_type": "code",
      "source": [
        "#Para GASOLINA COMUM\n",
        "\n",
        "gasolina_comum = combustiveis.loc['GASOLINA'] \n",
        "plt.ylabel('Valor de Venda')\n",
        "plt.xlabel('Estado')\n",
        "plt.plot(gasolina_comum.groupby('Estado - Sigla')[['Valor de Venda']].mean().sort_values(['Valor de Venda'], ascending = False).head(), 'ro--')\n"
      ],
      "metadata": {
        "id": "vGR_z6OVWdmj",
        "colab": {
          "base_uri": "https://localhost:8080/",
          "height": 296
        },
        "outputId": "ff7eebc8-7d50-4667-8c74-2ecd41194ddf"
      },
      "execution_count": 99,
      "outputs": [
        {
          "output_type": "execute_result",
          "data": {
            "text/plain": [
              "[<matplotlib.lines.Line2D at 0x7f2b21026490>]"
            ]
          },
          "metadata": {},
          "execution_count": 99
        },
        {
          "output_type": "display_data",
          "data": {
            "text/plain": [
              "<Figure size 432x288 with 1 Axes>"
            ],
            "image/png": "[encoded data removed]"
          },
          "metadata": {
            "needs_background": "light"
          }
        }
      ]
    },
    {
      "cell_type": "code",
      "source": [
        "#Para GASOLINA ADITIVADA\n",
        "\n",
        "gasolina_aditivada = combustiveis.loc['GASOLINA ADITIVADA'] \n",
        "plt.ylabel('Valor de Venda')\n",
        "plt.xlabel('Estado')\n",
        "plt.plot(gasolina_comum.groupby('Estado - Sigla')[['Valor de Venda']].mean().sort_values(['Valor de Venda'], ascending = False).head(), 'ro--')"
      ],
      "metadata": {
        "colab": {
          "base_uri": "https://localhost:8080/",
          "height": 296
        },
        "id": "k6S7lZiPG6wd",
        "outputId": "7f01c853-ca42-4280-bba5-40d03accc304"
      },
      "execution_count": 100,
      "outputs": [
        {
          "output_type": "execute_result",
          "data": {
            "text/plain": [
              "[<matplotlib.lines.Line2D at 0x7f2b2109ad50>]"
            ]
          },
          "metadata": {},
          "execution_count": 100
        },
        {
          "output_type": "display_data",
          "data": {
            "text/plain": [
              "<Figure size 432x288 with 1 Axes>"
            ],
            "image/png": "[encoded data removed]"
          },
          "metadata": {
            "needs_background": "light"
          }
        }
      ]
    },
    {
      "cell_type": "code",
      "source": [
        "#Para ETANOL\n",
        "\n",
        "gasolina_comum = combustiveis.loc['ETANOL'] \n",
        "plt.ylabel('Valor de Venda')\n",
        "plt.xlabel('Estado')\n",
        "plt.plot(gasolina_comum.groupby('Estado - Sigla')[['Valor de Venda']].mean().sort_values(['Valor de Venda'], ascending = False).head(), 'ro--')"
      ],
      "metadata": {
        "colab": {
          "base_uri": "https://localhost:8080/",
          "height": 296
        },
        "id": "DsZ2cED4HCS3",
        "outputId": "7ca43db2-f4af-40a1-ecbf-d59f79f9effb"
      },
      "execution_count": 101,
      "outputs": [
        {
          "output_type": "execute_result",
          "data": {
            "text/plain": [
              "[<matplotlib.lines.Line2D at 0x7f2b21026c10>]"
            ]
          },
          "metadata": {},
          "execution_count": 101
        },
        {
          "output_type": "display_data",
          "data": {
            "text/plain": [
              "<Figure size 432x288 with 1 Axes>"
            ],
            "image/png": "[encoded data removed]"
          },
          "metadata": {
            "needs_background": "light"
          }
        }
      ]
    },
    {
      "cell_type": "markdown",
      "source": [
        "### **Pergunta 4: Qual o preço médio da gasolina e do etanol por estado?**"
      ],
      "metadata": {
        "id": "fy-1ArzzW43E"
      }
    },
    {
      "cell_type": "code",
      "source": [
        "#GASOLINA COMUM\n",
        "plt.xticks(rotation=90)\n",
        "plt.ylabel('Valor Médio de Venda')\n",
        "plt.xlabel('Estado')\n",
        "plt.plot(gasolina_comum.groupby('Estado - Sigla')[['Valor de Venda']].mean().sort_values(['Valor de Venda'], ascending = False), 'o-', ms=3)"
      ],
      "metadata": {
        "id": "KxnPMeb4W8dK",
        "colab": {
          "base_uri": "https://localhost:8080/",
          "height": 307
        },
        "outputId": "3bfdbcf0-a87b-49ba-ea59-ba30f9809851"
      },
      "execution_count": 115,
      "outputs": [
        {
          "output_type": "execute_result",
          "data": {
            "text/plain": [
              "[<matplotlib.lines.Line2D at 0x7f2b1d48a390>]"
            ]
          },
          "metadata": {},
          "execution_count": 115
        },
        {
          "output_type": "display_data",
          "data": {
            "text/plain": [
              "<Figure size 432x288 with 1 Axes>"
            ],
            "image/png": "[encoded data removed]"
          },
          "metadata": {
            "needs_background": "light"
          }
        }
      ]
    },
    {
      "cell_type": "markdown",
      "source": [
        "### **Pergunta 5: Qual o município que possui o menor preço para a gasolina e para o etanol?**"
      ],
      "metadata": {
        "id": "exfZt-s8XAFr"
      }
    },
    {
      "cell_type": "code",
      "source": [],
      "metadata": {
        "id": "eoPDgneeXE7T"
      },
      "execution_count": null,
      "outputs": []
    },
    {
      "cell_type": "markdown",
      "source": [
        "### **Pergunta 6: Qual o município que possui o maior preço para a gasolina e para o etanol?**"
      ],
      "metadata": {
        "id": "6wfJk5MEXIch"
      }
    },
    {
      "cell_type": "code",
      "source": [],
      "metadata": {
        "id": "r9VokCCqXKmT"
      },
      "execution_count": null,
      "outputs": []
    },
    {
      "cell_type": "markdown",
      "source": [
        "### **Pergunta 7: Qual a região que possui o maior valor médio da gasolina?**"
      ],
      "metadata": {
        "id": "4uuIxiDbXOlm"
      }
    },
    {
      "cell_type": "code",
      "source": [],
      "metadata": {
        "id": "G3tfHn6xXhMM"
      },
      "execution_count": null,
      "outputs": []
    },
    {
      "cell_type": "markdown",
      "source": [
        "### **Pergunta 8: Qual a região que possui o menor valor médio do etanol?**"
      ],
      "metadata": {
        "id": "h5-zHLEiXRYR"
      }
    },
    {
      "cell_type": "code",
      "source": [],
      "metadata": {
        "id": "LZ3VHFLrXYxX"
      },
      "execution_count": null,
      "outputs": []
    },
    {
      "cell_type": "markdown",
      "source": [
        "### **Pergunta 9: Há alguma correlação entre o valor do combustível (gasolina e etanol) e a região onde ele é vendido?**"
      ],
      "metadata": {
        "id": "YGDn2QJzXidB"
      }
    },
    {
      "cell_type": "code",
      "source": [],
      "metadata": {
        "id": "MyAr4-R1Xr-n"
      },
      "execution_count": null,
      "outputs": []
    },
    {
      "cell_type": "markdown",
      "source": [
        "### **Pergunta 10: Há alguma correlação entre o valor do combustível (gasolina e etanol) e a bandeira que vende ele?**"
      ],
      "metadata": {
        "id": "5Y4nsXhkXsUS"
      }
    },
    {
      "cell_type": "code",
      "source": [],
      "metadata": {
        "id": "GxIy8cHUXvP6"
      },
      "execution_count": null,
      "outputs": []
    },
    {
      "cell_type": "markdown",
      "source": [
        "### **2ª Pergunta Extra: Através do coeficiente de variação, explique se as bases de dados utilizadas são mais ou menos homogêneas (Para o Brasil, regiões, estados e municípios).**\n",
        "\n",
        "\n",
        "PS: Há algum padrão de C.V para a indústria de combustível?"
      ],
      "metadata": {
        "id": "4mGn1gyTX3z9"
      }
    },
    {
      "cell_type": "markdown",
      "source": [
        "### **3ª PERGUNTA EXTRA - Há correlação na quantidade de postos pesquisados e a variação nos dados (coeficiente de variação)?**"
      ],
      "metadata": {
        "id": "WMpSANA5YF2i"
      }
    }
  ]
}